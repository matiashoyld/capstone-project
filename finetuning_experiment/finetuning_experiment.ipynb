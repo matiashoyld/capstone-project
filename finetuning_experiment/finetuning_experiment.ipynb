{
 "cells": [
  {
   "cell_type": "code",
   "execution_count": 2,
   "metadata": {},
   "outputs": [
    {
     "name": "stdout",
     "output_type": "stream",
     "text": [
      "Setup complete. Environment variables loaded and libraries imported.\n"
     ]
    }
   ],
   "source": [
    "from dotenv import load_dotenv\n",
    "\n",
    "import pandas as pd\n",
    "import matplotlib.pyplot as plt\n",
    "\n",
    "# Load environment variables\n",
    "load_dotenv()\n",
    "\n",
    "print(\"Setup complete. Environment variables loaded and libraries imported.\")"
   ]
  },
  {
   "cell_type": "code",
   "execution_count": 3,
   "metadata": {},
   "outputs": [
    {
     "name": "stdout",
     "output_type": "stream",
     "text": [
      "Loaded master dataset with 302,442 rows.\n"
     ]
    }
   ],
   "source": [
    "# Load the master dataset with all statistics\n",
    "df_original = pd.read_csv('../data/new/master_translated.csv')\n",
    "print(f\"Loaded master dataset with {len(df_original):,} rows.\")"
   ]
  },
  {
   "cell_type": "code",
   "execution_count": 4,
   "metadata": {},
   "outputs": [
    {
     "name": "stdout",
     "output_type": "stream",
     "text": [
      "Before dropping duplicates, dataset has 302,442 rows.\n",
      "After dropping duplicates, dataset has 269,424 rows.\n"
     ]
    }
   ],
   "source": [
    "# Drop duplicate answer_ids to ensure each answer is only counted once\n",
    "print(f\"Before dropping duplicates, dataset has {len(df_original):,} rows.\")\n",
    "df_original = df_original.drop_duplicates(subset=['answer_id'])\n",
    "print(f\"After dropping duplicates, dataset has {len(df_original):,} rows.\")\n",
    "\n"
   ]
  },
  {
   "cell_type": "code",
   "execution_count": 5,
   "metadata": {},
   "outputs": [],
   "source": [
    "import os\n",
    "import pandas as pd\n",
    "from sklearn.model_selection import train_test_split\n",
    "\n",
    "from datasets import Dataset, DatasetDict\n",
    "from transformers import (\n",
    "    AutoTokenizer,\n",
    "    AutoModelForSequenceClassification,\n",
    "    Trainer,\n",
    "    TrainingArguments,\n",
    ")\n",
    "from transformers.trainer_utils import get_last_checkpoint\n",
    "import numpy as np\n",
    "from sklearn.metrics import accuracy_score, f1_score\n"
   ]
  },
  {
   "cell_type": "code",
   "execution_count": 6,
   "metadata": {},
   "outputs": [
    {
     "name": "stdout",
     "output_type": "stream",
     "text": [
      "Top 50 users by number of answers:\n",
      "User 22606: 501 answers\n",
      "User 32329: 509 answers\n",
      "User 22853: 510 answers\n",
      "User 51978: 522 answers\n",
      "User 16297: 525 answers\n",
      "User 52981: 533 answers\n",
      "User 52584: 535 answers\n",
      "User 22601: 536 answers\n",
      "User 50149: 538 answers\n",
      "User 53005: 540 answers\n",
      "User 52977: 544 answers\n",
      "User 51618: 546 answers\n",
      "User 52913: 546 answers\n",
      "User 16289: 552 answers\n",
      "User 52995: 554 answers\n",
      "User 51184: 570 answers\n",
      "User 52979: 577 answers\n",
      "User 52171: 579 answers\n",
      "User 53024: 596 answers\n",
      "User 52989: 597 answers\n",
      "User 52912: 602 answers\n",
      "User 52991: 616 answers\n",
      "User 30844: 635 answers\n",
      "User 52174: 646 answers\n",
      "User 52295: 647 answers\n",
      "User 52423: 650 answers\n",
      "User 52937: 653 answers\n",
      "User 52311: 680 answers\n",
      "User 23076: 685 answers\n",
      "User 52167: 695 answers\n",
      "User 52914: 698 answers\n",
      "User 52645: 703 answers\n",
      "User 52209: 723 answers\n",
      "User 52173: 743 answers\n",
      "User 52407: 751 answers\n",
      "User 51986: 761 answers\n",
      "User 53007: 807 answers\n",
      "User 52170: 817 answers\n",
      "User 52933: 897 answers\n",
      "User 50061: 899 answers\n",
      "User 52164: 925 answers\n",
      "User 53003: 948 answers\n",
      "User 52172: 1,038 answers\n",
      "User 51962: 1,101 answers\n",
      "User 52992: 1,138 answers\n",
      "User 36903: 1,355 answers\n",
      "User 50494: 1,732 answers\n",
      "User 51959: 1,766 answers\n",
      "User 52922: 1,966 answers\n",
      "User 52253: 2,445 answers\n"
     ]
    }
   ],
   "source": [
    "# Example: get top 50 users by answer count\n",
    "user_answer_counts = df_original['user_id'].value_counts()\n",
    "top_50_users = user_answer_counts.head(50)\n",
    "\n",
    "# Reverse the order of the top 50 users\n",
    "top_50_users = top_50_users.iloc[::-1]\n",
    "\n",
    "print(\"Top 50 users by number of answers:\")\n",
    "for user_id, count in top_50_users.items():\n",
    "    print(f\"User {user_id}: {count:,} answers\")\n"
   ]
  },
  {
   "cell_type": "code",
   "execution_count": 7,
   "metadata": {},
   "outputs": [],
   "source": [
    "def train_user_model(\n",
    "    df: pd.DataFrame,\n",
    "    user_id: int,\n",
    "    model_name: str = \"answerdotai/ModernBERT-base\",\n",
    "    output_dir_base: str = \"user_models\",\n",
    "    push_to_hub: bool = False,\n",
    "    hub_repo_org: str = None,\n",
    "    hub_token: str = None,\n",
    "    num_train_epochs: int = 5,\n",
    "    batch_size: int = 4\n",
    "):\n",
    "    \"\"\"\n",
    "    Trains a ModernBERT model to predict correctness for a single user.\n",
    "\n",
    "    Args:\n",
    "        df (pd.DataFrame): Original DataFrame with user data.\n",
    "        user_id (int): Which user's data to train on.\n",
    "        model_name (str): Hugging Face model ID for ModernBERT.\n",
    "        output_dir_base (str): Base directory where user-specific checkpoints are stored.\n",
    "        push_to_hub (bool): Whether to push final model to Hugging Face Hub.\n",
    "        hub_repo_org (str): Org or username for HF Hub repositories.\n",
    "        hub_token (str): Personal access token if required for private repos.\n",
    "        num_train_epochs (int): Number of training epochs.\n",
    "        batch_size (int): Training batch size.\n",
    "    \"\"\"\n",
    "\n",
    "    # --------------------------\n",
    "    # 1) Filter user data\n",
    "    # --------------------------\n",
    "    df_user = df[df[\"user_id\"] == user_id].copy()\n",
    "    if df_user.empty:\n",
    "        print(f\"[User {user_id}] No data. Skipping.\")\n",
    "        return\n",
    "\n",
    "    # Convert is_correct to an integer label\n",
    "    df_user[\"label\"] = df_user[\"is_correct\"].astype(int)\n",
    "\n",
    "    # --------------------------\n",
    "    # 2) Combine text: question + choices + topics\n",
    "    # --------------------------\n",
    "    def combine_text(row):\n",
    "        q = str(row.get(\"question_title\", \"\"))\n",
    "        a = str(row.get(\"option_a\", \"\"))\n",
    "        b = str(row.get(\"option_b\", \"\"))\n",
    "        c = str(row.get(\"option_c\", \"\"))\n",
    "        d = str(row.get(\"option_d\", \"\"))\n",
    "        e = str(row.get(\"option_e\", \"\"))\n",
    "        topic = str(row.get(\"topic_name\", \"\"))\n",
    "        subj = str(row.get(\"subject_name\", \"\"))\n",
    "        axis = str(row.get(\"axis_name\", \"\"))\n",
    "\n",
    "        return (\n",
    "            f\"Topic: {topic}\\n\"\n",
    "            f\"Subject: {subj}\\n\"\n",
    "            f\"Axis: {axis}\\n\\n\"\n",
    "            f\"Question: {q}\\n\"\n",
    "            f\"A) {a}\\n\"\n",
    "            f\"B) {b}\\n\"\n",
    "            f\"C) {c}\\n\"\n",
    "            f\"D) {d}\\n\"\n",
    "            f\"E) {e}\"\n",
    "        )\n",
    "    \n",
    "    df_user[\"text\"] = df_user.apply(combine_text, axis=1)\n",
    "\n",
    "    # --------------------------\n",
    "    # 3) Train/Test Split\n",
    "    # --------------------------\n",
    "    train_df, test_df = train_test_split(\n",
    "        df_user, \n",
    "        test_size=0.2, \n",
    "        shuffle=True, \n",
    "        random_state=42\n",
    "    )\n",
    "\n",
    "    if train_df.empty or test_df.empty:\n",
    "        print(f\"[User {user_id}] Not enough data to split. Skipping.\")\n",
    "        return\n",
    "\n",
    "    # Build HF Datasets\n",
    "    train_dataset_hf = Dataset.from_pandas(train_df[[\"text\",\"label\"]].reset_index(drop=True))\n",
    "    test_dataset_hf = Dataset.from_pandas(test_df[[\"text\",\"label\"]].reset_index(drop=True))\n",
    "\n",
    "    ds_dict = DatasetDict({\n",
    "        \"train\": train_dataset_hf,\n",
    "        \"test\": test_dataset_hf\n",
    "    })\n",
    "\n",
    "    # --------------------------\n",
    "    # 4) Tokenize\n",
    "    # --------------------------\n",
    "    tokenizer = AutoTokenizer.from_pretrained(model_name)\n",
    "    \n",
    "    def tokenize_fn(batch):\n",
    "        return tokenizer(\n",
    "            batch[\"text\"],\n",
    "            padding=\"max_length\",\n",
    "            truncation=True,\n",
    "            max_length=512\n",
    "        )\n",
    "    \n",
    "    ds_dict = ds_dict.map(tokenize_fn, batched=True)\n",
    "\n",
    "    # --------------------------\n",
    "    # 5) Load Model\n",
    "    # --------------------------\n",
    "    model = AutoModelForSequenceClassification.from_pretrained(\n",
    "        model_name,\n",
    "        num_labels=2\n",
    "    )\n",
    "    model.config.problem_type = \"single_label_classification\"\n",
    "\n",
    "    # --------------------------\n",
    "    # 6) Training Arguments\n",
    "    # --------------------------\n",
    "    user_output_dir = os.path.join(output_dir_base, f\"user_{user_id}\")\n",
    "    os.makedirs(user_output_dir, exist_ok=True)\n",
    "\n",
    "    # Optional: define the Hub repo ID if pushing\n",
    "    if push_to_hub:\n",
    "        if hub_repo_org:\n",
    "            hub_repo_id = f\"{hub_repo_org}/modernbert-user-{user_id}\"\n",
    "        else:\n",
    "            # If no org specified, the model will be pushed to your personal account\n",
    "            hub_repo_id = f\"modernbert-user-{user_id}\"\n",
    "    else:\n",
    "        hub_repo_id = None\n",
    "\n",
    "    training_args = TrainingArguments(\n",
    "        output_dir=user_output_dir,\n",
    "        evaluation_strategy=\"epoch\",\n",
    "        save_strategy=\"epoch\",\n",
    "        learning_rate=5e-5,\n",
    "        per_device_train_batch_size=batch_size,\n",
    "        per_device_eval_batch_size=batch_size,\n",
    "        num_train_epochs=num_train_epochs,\n",
    "        use_mps_device=True,              # Apple Silicon\n",
    "        bf16=True,                        # optional, can cause issues on some M2 setups\n",
    "        optim=\"adamw_torch_fused\",        # fused optimizer for speed\n",
    "        logging_steps=50,\n",
    "        load_best_model_at_end=True,\n",
    "        metric_for_best_model=\"f1\",       # or \"accuracy\"\n",
    "        save_total_limit=2,              # keep only last 2 checkpoints\n",
    "        push_to_hub=push_to_hub,         # to decide if we push\n",
    "        hub_model_id=hub_repo_id,        # if we push\n",
    "        hub_token=hub_token,             # if needed\n",
    "        hub_strategy=\"end\",              # push only at end or each save\n",
    "    )\n",
    "\n",
    "    # Define metrics\n",
    "    def compute_metrics(eval_pred):\n",
    "        logits, labels = eval_pred\n",
    "        preds = np.argmax(logits, axis=-1)\n",
    "        acc = accuracy_score(labels, preds)\n",
    "        f1 = f1_score(labels, preds, average=\"weighted\")\n",
    "        return {\"accuracy\": acc, \"f1\": f1}\n",
    "\n",
    "    trainer = Trainer(\n",
    "        model=model,\n",
    "        args=training_args,\n",
    "        train_dataset=ds_dict[\"train\"],\n",
    "        eval_dataset=ds_dict[\"test\"],\n",
    "        tokenizer=tokenizer,\n",
    "        compute_metrics=compute_metrics,\n",
    "    )\n",
    "\n",
    "    # --------------------------\n",
    "    # 7) Resume Check\n",
    "    # --------------------------\n",
    "    last_checkpoint = None\n",
    "    if os.path.isdir(user_output_dir):\n",
    "        last_checkpoint = get_last_checkpoint(user_output_dir)\n",
    "    if last_checkpoint is not None:\n",
    "        print(f\"[User {user_id}] Resuming from {last_checkpoint}\")\n",
    "    else:\n",
    "        print(f\"[User {user_id}] Starting from scratch...\")\n",
    "\n",
    "    # --------------------------\n",
    "    # 8) Train\n",
    "    # --------------------------\n",
    "    trainer.train(resume_from_checkpoint=last_checkpoint)\n",
    "\n",
    "    # The best checkpoint is already loaded at end (load_best_model_at_end=True)\n",
    "    # Evaluate final\n",
    "    eval_metrics = trainer.evaluate()\n",
    "    print(f\"[User {user_id}] Final eval metrics:\", eval_metrics)\n",
    "\n",
    "    # --------------------------\n",
    "    # 9) Save final model\n",
    "    # --------------------------\n",
    "    # This ensures we save *just* the best\n",
    "    trainer.save_model(user_output_dir)\n",
    "\n",
    "    # If pushing to hub, trainer will push after the final save (hub_strategy=\"end\").\n",
    "    # Alternatively, you can manually call:\n",
    "    # if push_to_hub:\n",
    "    #     trainer.push_to_hub()\n",
    "\n",
    "    print(f\"[User {user_id}] Done! Best model saved at: {user_output_dir}\")\n"
   ]
  },
  {
   "cell_type": "code",
   "execution_count": null,
   "metadata": {},
   "outputs": [
    {
     "name": "stdout",
     "output_type": "stream",
     "text": [
      "\n",
      "=== Training model for User 22606 (Answers=501) ===\n"
     ]
    },
    {
     "data": {
      "application/vnd.jupyter.widget-view+json": {
       "model_id": "570e87135b7c4c3eb960b7300d7cd24a",
       "version_major": 2,
       "version_minor": 0
      },
      "text/plain": [
       "Map:   0%|          | 0/400 [00:00<?, ? examples/s]"
      ]
     },
     "metadata": {},
     "output_type": "display_data"
    },
    {
     "data": {
      "application/vnd.jupyter.widget-view+json": {
       "model_id": "063bdbe466784c03bc760b5ab719088e",
       "version_major": 2,
       "version_minor": 0
      },
      "text/plain": [
       "Map:   0%|          | 0/101 [00:00<?, ? examples/s]"
      ]
     },
     "metadata": {},
     "output_type": "display_data"
    },
    {
     "name": "stderr",
     "output_type": "stream",
     "text": [
      "Some weights of ModernBertForSequenceClassification were not initialized from the model checkpoint at answerdotai/ModernBERT-base and are newly initialized: ['classifier.bias', 'classifier.weight']\n",
      "You should probably TRAIN this model on a down-stream task to be able to use it for predictions and inference.\n",
      "/opt/homebrew/anaconda3/lib/python3.12/site-packages/transformers/training_args.py:1573: FutureWarning: `evaluation_strategy` is deprecated and will be removed in version 4.46 of 🤗 Transformers. Use `eval_strategy` instead\n",
      "  warnings.warn(\n",
      "/opt/homebrew/anaconda3/lib/python3.12/site-packages/transformers/training_args.py:2241: UserWarning: `use_mps_device` is deprecated and will be removed in version 5.0 of 🤗 Transformers. `mps` device will be used by default if available similar to the way `cuda` device is used.Therefore, no action from user is required. \n",
      "  warnings.warn(\n",
      "/var/folders/58/5cdkrpys1rv_tbq6wq1x69vc0000gq/T/ipykernel_13394/2454030636.py:158: FutureWarning: `tokenizer` is deprecated and will be removed in version 5.0.0 for `Trainer.__init__`. Use `processing_class` instead.\n",
      "  trainer = Trainer(\n"
     ]
    },
    {
     "name": "stdout",
     "output_type": "stream",
     "text": [
      "[User 22606] Resuming from user_models/user_22606/checkpoint-1000\n"
     ]
    },
    {
     "data": {
      "application/vnd.jupyter.widget-view+json": {
       "model_id": "089fb542bf4d4f84a8378204d9c3c996",
       "version_major": 2,
       "version_minor": 0
      },
      "text/plain": [
       "  0%|          | 0/1000 [00:00<?, ?it/s]"
      ]
     },
     "metadata": {},
     "output_type": "display_data"
    },
    {
     "name": "stdout",
     "output_type": "stream",
     "text": [
      "{'train_runtime': 0.536, 'train_samples_per_second': 7462.799, 'train_steps_per_second': 1865.7, 'train_loss': 0.0, 'epoch': 10.0}\n"
     ]
    },
    {
     "data": {
      "application/vnd.jupyter.widget-view+json": {
       "model_id": "c9a4dc1eeb3c4a3aa68f9af9ee51fd5e",
       "version_major": 2,
       "version_minor": 0
      },
      "text/plain": [
       "  0%|          | 0/26 [00:00<?, ?it/s]"
      ]
     },
     "metadata": {},
     "output_type": "display_data"
    },
    {
     "name": "stdout",
     "output_type": "stream",
     "text": [
      "[User 22606] Final eval metrics: {'eval_loss': 0.6155869364738464, 'eval_accuracy': 0.6831683168316832, 'eval_f1': 0.6725498636820204, 'eval_runtime': 4.2999, 'eval_samples_per_second': 23.489, 'eval_steps_per_second': 6.047, 'epoch': 10.0}\n"
     ]
    },
    {
     "data": {
      "application/vnd.jupyter.widget-view+json": {
       "model_id": "67ef21e5222f4fd693732f1f5f5dc087",
       "version_major": 2,
       "version_minor": 0
      },
      "text/plain": [
       "training_args.bin:   0%|          | 0.00/5.43k [00:00<?, ?B/s]"
      ]
     },
     "metadata": {},
     "output_type": "display_data"
    },
    {
     "data": {
      "application/vnd.jupyter.widget-view+json": {
       "model_id": "228332f0abdc48e5bdef097951984218",
       "version_major": 2,
       "version_minor": 0
      },
      "text/plain": [
       "events.out.tfevents.1740086126.DN0a1e6b6f.SUNet.13394.31:   0%|          | 0.00/6.12k [00:00<?, ?B/s]"
      ]
     },
     "metadata": {},
     "output_type": "display_data"
    },
    {
     "data": {
      "application/vnd.jupyter.widget-view+json": {
       "model_id": "f35c9c8e91ac451c8f91c8c66848336e",
       "version_major": 2,
       "version_minor": 0
      },
      "text/plain": [
       "events.out.tfevents.1740086131.DN0a1e6b6f.SUNet.13394.32:   0%|          | 0.00/457 [00:00<?, ?B/s]"
      ]
     },
     "metadata": {},
     "output_type": "display_data"
    },
    {
     "data": {
      "application/vnd.jupyter.widget-view+json": {
       "model_id": "740a5020cf6e4a96a09a78734eae5e70",
       "version_major": 2,
       "version_minor": 0
      },
      "text/plain": [
       "Upload 3 LFS files:   0%|          | 0/3 [00:00<?, ?it/s]"
      ]
     },
     "metadata": {},
     "output_type": "display_data"
    },
    {
     "name": "stdout",
     "output_type": "stream",
     "text": [
      "[User 22606] Done! Best model saved at: user_models/user_22606\n",
      "\n",
      "=== Training model for User 32329 (Answers=509) ===\n"
     ]
    },
    {
     "data": {
      "application/vnd.jupyter.widget-view+json": {
       "model_id": "6ea782506d7949509d767b8c0f4a7377",
       "version_major": 2,
       "version_minor": 0
      },
      "text/plain": [
       "Map:   0%|          | 0/407 [00:00<?, ? examples/s]"
      ]
     },
     "metadata": {},
     "output_type": "display_data"
    },
    {
     "data": {
      "application/vnd.jupyter.widget-view+json": {
       "model_id": "4f985b44250d44d7b9239aecdd3d7bdb",
       "version_major": 2,
       "version_minor": 0
      },
      "text/plain": [
       "Map:   0%|          | 0/102 [00:00<?, ? examples/s]"
      ]
     },
     "metadata": {},
     "output_type": "display_data"
    },
    {
     "name": "stderr",
     "output_type": "stream",
     "text": [
      "Some weights of ModernBertForSequenceClassification were not initialized from the model checkpoint at answerdotai/ModernBERT-base and are newly initialized: ['classifier.bias', 'classifier.weight']\n",
      "You should probably TRAIN this model on a down-stream task to be able to use it for predictions and inference.\n",
      "/opt/homebrew/anaconda3/lib/python3.12/site-packages/transformers/training_args.py:1573: FutureWarning: `evaluation_strategy` is deprecated and will be removed in version 4.46 of 🤗 Transformers. Use `eval_strategy` instead\n",
      "  warnings.warn(\n",
      "/opt/homebrew/anaconda3/lib/python3.12/site-packages/transformers/training_args.py:2241: UserWarning: `use_mps_device` is deprecated and will be removed in version 5.0 of 🤗 Transformers. `mps` device will be used by default if available similar to the way `cuda` device is used.Therefore, no action from user is required. \n",
      "  warnings.warn(\n",
      "/var/folders/58/5cdkrpys1rv_tbq6wq1x69vc0000gq/T/ipykernel_13394/2454030636.py:158: FutureWarning: `tokenizer` is deprecated and will be removed in version 5.0.0 for `Trainer.__init__`. Use `processing_class` instead.\n",
      "  trainer = Trainer(\n"
     ]
    },
    {
     "name": "stdout",
     "output_type": "stream",
     "text": [
      "[User 32329] Resuming from user_models/user_32329/checkpoint-1020\n"
     ]
    },
    {
     "data": {
      "application/vnd.jupyter.widget-view+json": {
       "model_id": "abc7e104b6984889ab97f9686f6f20b1",
       "version_major": 2,
       "version_minor": 0
      },
      "text/plain": [
       "  0%|          | 0/1020 [00:00<?, ?it/s]"
      ]
     },
     "metadata": {},
     "output_type": "display_data"
    },
    {
     "name": "stdout",
     "output_type": "stream",
     "text": [
      "{'train_runtime': 0.4802, 'train_samples_per_second': 8475.209, 'train_steps_per_second': 2124.008, 'train_loss': 0.0, 'epoch': 10.0}\n"
     ]
    },
    {
     "data": {
      "application/vnd.jupyter.widget-view+json": {
       "model_id": "697b7baf12bc44519535a6080f60e248",
       "version_major": 2,
       "version_minor": 0
      },
      "text/plain": [
       "  0%|          | 0/26 [00:00<?, ?it/s]"
      ]
     },
     "metadata": {},
     "output_type": "display_data"
    },
    {
     "name": "stdout",
     "output_type": "stream",
     "text": [
      "[User 32329] Final eval metrics: {'eval_loss': 0.5452166795730591, 'eval_accuracy': 0.7549019607843137, 'eval_f1': 0.763047667169946, 'eval_runtime': 4.4332, 'eval_samples_per_second': 23.008, 'eval_steps_per_second': 5.865, 'epoch': 10.0}\n"
     ]
    },
    {
     "data": {
      "application/vnd.jupyter.widget-view+json": {
       "model_id": "2f698e7069dd4646ad5ae69523e6a61b",
       "version_major": 2,
       "version_minor": 0
      },
      "text/plain": [
       "events.out.tfevents.1740086136.DN0a1e6b6f.SUNet.13394.33:   0%|          | 0.00/6.12k [00:00<?, ?B/s]"
      ]
     },
     "metadata": {},
     "output_type": "display_data"
    },
    {
     "data": {
      "application/vnd.jupyter.widget-view+json": {
       "model_id": "d480f71414a2410591ed03ba384f3eca",
       "version_major": 2,
       "version_minor": 0
      },
      "text/plain": [
       "Upload 3 LFS files:   0%|          | 0/3 [00:00<?, ?it/s]"
      ]
     },
     "metadata": {},
     "output_type": "display_data"
    },
    {
     "data": {
      "application/vnd.jupyter.widget-view+json": {
       "model_id": "4309387489d149df9b1cc0b0b94e9929",
       "version_major": 2,
       "version_minor": 0
      },
      "text/plain": [
       "training_args.bin:   0%|          | 0.00/5.43k [00:00<?, ?B/s]"
      ]
     },
     "metadata": {},
     "output_type": "display_data"
    },
    {
     "data": {
      "application/vnd.jupyter.widget-view+json": {
       "model_id": "954278ab7f654d288e8d364020b53467",
       "version_major": 2,
       "version_minor": 0
      },
      "text/plain": [
       "events.out.tfevents.1740086141.DN0a1e6b6f.SUNet.13394.34:   0%|          | 0.00/457 [00:00<?, ?B/s]"
      ]
     },
     "metadata": {},
     "output_type": "display_data"
    },
    {
     "name": "stdout",
     "output_type": "stream",
     "text": [
      "[User 32329] Done! Best model saved at: user_models/user_32329\n",
      "\n",
      "=== Training model for User 22853 (Answers=510) ===\n"
     ]
    },
    {
     "data": {
      "application/vnd.jupyter.widget-view+json": {
       "model_id": "0c1ba6df062a48d0addb5c0cec92a498",
       "version_major": 2,
       "version_minor": 0
      },
      "text/plain": [
       "Map:   0%|          | 0/408 [00:00<?, ? examples/s]"
      ]
     },
     "metadata": {},
     "output_type": "display_data"
    },
    {
     "data": {
      "application/vnd.jupyter.widget-view+json": {
       "model_id": "3305c668d03f491eaf74dacea423d5eb",
       "version_major": 2,
       "version_minor": 0
      },
      "text/plain": [
       "Map:   0%|          | 0/102 [00:00<?, ? examples/s]"
      ]
     },
     "metadata": {},
     "output_type": "display_data"
    },
    {
     "name": "stderr",
     "output_type": "stream",
     "text": [
      "Some weights of ModernBertForSequenceClassification were not initialized from the model checkpoint at answerdotai/ModernBERT-base and are newly initialized: ['classifier.bias', 'classifier.weight']\n",
      "You should probably TRAIN this model on a down-stream task to be able to use it for predictions and inference.\n",
      "/opt/homebrew/anaconda3/lib/python3.12/site-packages/transformers/training_args.py:1573: FutureWarning: `evaluation_strategy` is deprecated and will be removed in version 4.46 of 🤗 Transformers. Use `eval_strategy` instead\n",
      "  warnings.warn(\n",
      "/opt/homebrew/anaconda3/lib/python3.12/site-packages/transformers/training_args.py:2241: UserWarning: `use_mps_device` is deprecated and will be removed in version 5.0 of 🤗 Transformers. `mps` device will be used by default if available similar to the way `cuda` device is used.Therefore, no action from user is required. \n",
      "  warnings.warn(\n",
      "/var/folders/58/5cdkrpys1rv_tbq6wq1x69vc0000gq/T/ipykernel_13394/2454030636.py:158: FutureWarning: `tokenizer` is deprecated and will be removed in version 5.0.0 for `Trainer.__init__`. Use `processing_class` instead.\n",
      "  trainer = Trainer(\n"
     ]
    },
    {
     "name": "stdout",
     "output_type": "stream",
     "text": [
      "[User 22853] Resuming from user_models/user_22853/checkpoint-1020\n"
     ]
    },
    {
     "data": {
      "application/vnd.jupyter.widget-view+json": {
       "model_id": "18c7d50a0f7b498d9545a659dab0fafd",
       "version_major": 2,
       "version_minor": 0
      },
      "text/plain": [
       "  0%|          | 0/1020 [00:00<?, ?it/s]"
      ]
     },
     "metadata": {},
     "output_type": "display_data"
    },
    {
     "name": "stdout",
     "output_type": "stream",
     "text": [
      "{'train_runtime': 0.5211, 'train_samples_per_second': 7829.125, 'train_steps_per_second': 1957.281, 'train_loss': 0.0, 'epoch': 10.0}\n"
     ]
    },
    {
     "data": {
      "application/vnd.jupyter.widget-view+json": {
       "model_id": "94567aab2a384a7c8a0d6377db11141e",
       "version_major": 2,
       "version_minor": 0
      },
      "text/plain": [
       "  0%|          | 0/26 [00:00<?, ?it/s]"
      ]
     },
     "metadata": {},
     "output_type": "display_data"
    },
    {
     "name": "stdout",
     "output_type": "stream",
     "text": [
      "[User 22853] Final eval metrics: {'eval_loss': 0.6393024325370789, 'eval_accuracy': 0.7647058823529411, 'eval_f1': 0.7617931505290705, 'eval_runtime': 4.3709, 'eval_samples_per_second': 23.336, 'eval_steps_per_second': 5.948, 'epoch': 10.0}\n"
     ]
    },
    {
     "data": {
      "application/vnd.jupyter.widget-view+json": {
       "model_id": "d6d35560162b46bd85742972566a38b5",
       "version_major": 2,
       "version_minor": 0
      },
      "text/plain": [
       "events.out.tfevents.1740086152.DN0a1e6b6f.SUNet.13394.36:   0%|          | 0.00/457 [00:00<?, ?B/s]"
      ]
     },
     "metadata": {},
     "output_type": "display_data"
    },
    {
     "data": {
      "application/vnd.jupyter.widget-view+json": {
       "model_id": "c39b61cf3f454408b70ffada0722cf96",
       "version_major": 2,
       "version_minor": 0
      },
      "text/plain": [
       "Upload 3 LFS files:   0%|          | 0/3 [00:00<?, ?it/s]"
      ]
     },
     "metadata": {},
     "output_type": "display_data"
    },
    {
     "data": {
      "application/vnd.jupyter.widget-view+json": {
       "model_id": "412353b9bcdd49e1b6358596c042a973",
       "version_major": 2,
       "version_minor": 0
      },
      "text/plain": [
       "training_args.bin:   0%|          | 0.00/5.43k [00:00<?, ?B/s]"
      ]
     },
     "metadata": {},
     "output_type": "display_data"
    },
    {
     "data": {
      "application/vnd.jupyter.widget-view+json": {
       "model_id": "e5916b244d7d44c98c7b18ea24c0be6b",
       "version_major": 2,
       "version_minor": 0
      },
      "text/plain": [
       "events.out.tfevents.1740086147.DN0a1e6b6f.SUNet.13394.35:   0%|          | 0.00/6.12k [00:00<?, ?B/s]"
      ]
     },
     "metadata": {},
     "output_type": "display_data"
    },
    {
     "name": "stdout",
     "output_type": "stream",
     "text": [
      "[User 22853] Done! Best model saved at: user_models/user_22853\n",
      "\n",
      "=== Training model for User 51978 (Answers=522) ===\n"
     ]
    },
    {
     "data": {
      "application/vnd.jupyter.widget-view+json": {
       "model_id": "ad30feab477744d8ad71bca6b34fcd9a",
       "version_major": 2,
       "version_minor": 0
      },
      "text/plain": [
       "Map:   0%|          | 0/417 [00:00<?, ? examples/s]"
      ]
     },
     "metadata": {},
     "output_type": "display_data"
    },
    {
     "data": {
      "application/vnd.jupyter.widget-view+json": {
       "model_id": "feeb7fd94827468db207b2716a3d41bd",
       "version_major": 2,
       "version_minor": 0
      },
      "text/plain": [
       "Map:   0%|          | 0/105 [00:00<?, ? examples/s]"
      ]
     },
     "metadata": {},
     "output_type": "display_data"
    },
    {
     "name": "stderr",
     "output_type": "stream",
     "text": [
      "Some weights of ModernBertForSequenceClassification were not initialized from the model checkpoint at answerdotai/ModernBERT-base and are newly initialized: ['classifier.bias', 'classifier.weight']\n",
      "You should probably TRAIN this model on a down-stream task to be able to use it for predictions and inference.\n",
      "/opt/homebrew/anaconda3/lib/python3.12/site-packages/transformers/training_args.py:1573: FutureWarning: `evaluation_strategy` is deprecated and will be removed in version 4.46 of 🤗 Transformers. Use `eval_strategy` instead\n",
      "  warnings.warn(\n",
      "/opt/homebrew/anaconda3/lib/python3.12/site-packages/transformers/training_args.py:2241: UserWarning: `use_mps_device` is deprecated and will be removed in version 5.0 of 🤗 Transformers. `mps` device will be used by default if available similar to the way `cuda` device is used.Therefore, no action from user is required. \n",
      "  warnings.warn(\n",
      "/var/folders/58/5cdkrpys1rv_tbq6wq1x69vc0000gq/T/ipykernel_13394/2454030636.py:158: FutureWarning: `tokenizer` is deprecated and will be removed in version 5.0.0 for `Trainer.__init__`. Use `processing_class` instead.\n",
      "  trainer = Trainer(\n"
     ]
    },
    {
     "name": "stdout",
     "output_type": "stream",
     "text": [
      "[User 51978] Resuming from user_models/user_51978/checkpoint-1050\n"
     ]
    },
    {
     "data": {
      "application/vnd.jupyter.widget-view+json": {
       "model_id": "1824af0ebcae41a3b1c04539664df476",
       "version_major": 2,
       "version_minor": 0
      },
      "text/plain": [
       "  0%|          | 0/1050 [00:00<?, ?it/s]"
      ]
     },
     "metadata": {},
     "output_type": "display_data"
    },
    {
     "name": "stdout",
     "output_type": "stream",
     "text": [
      "{'train_runtime': 0.4667, 'train_samples_per_second': 8935.243, 'train_steps_per_second': 2249.881, 'train_loss': 0.0, 'epoch': 10.0}\n"
     ]
    },
    {
     "data": {
      "application/vnd.jupyter.widget-view+json": {
       "model_id": "afd2bcb0f5d542c9813a8cb5950cd36f",
       "version_major": 2,
       "version_minor": 0
      },
      "text/plain": [
       "  0%|          | 0/27 [00:00<?, ?it/s]"
      ]
     },
     "metadata": {},
     "output_type": "display_data"
    },
    {
     "name": "stdout",
     "output_type": "stream",
     "text": [
      "[User 51978] Final eval metrics: {'eval_loss': 0.6610203385353088, 'eval_accuracy': 0.9047619047619048, 'eval_f1': 0.877454590083456, 'eval_runtime': 4.4321, 'eval_samples_per_second': 23.691, 'eval_steps_per_second': 6.092, 'epoch': 10.0}\n"
     ]
    },
    {
     "data": {
      "application/vnd.jupyter.widget-view+json": {
       "model_id": "697de86e082242e4b21d25ee77361eb0",
       "version_major": 2,
       "version_minor": 0
      },
      "text/plain": [
       "events.out.tfevents.1740086157.DN0a1e6b6f.SUNet.13394.37:   0%|          | 0.00/6.12k [00:00<?, ?B/s]"
      ]
     },
     "metadata": {},
     "output_type": "display_data"
    },
    {
     "data": {
      "application/vnd.jupyter.widget-view+json": {
       "model_id": "161be512ff664bf0930ab97b7c7e7cb0",
       "version_major": 2,
       "version_minor": 0
      },
      "text/plain": [
       "Upload 3 LFS files:   0%|          | 0/3 [00:00<?, ?it/s]"
      ]
     },
     "metadata": {},
     "output_type": "display_data"
    },
    {
     "data": {
      "application/vnd.jupyter.widget-view+json": {
       "model_id": "72e0a4e5fc24460a8df6af3374cc75bc",
       "version_major": 2,
       "version_minor": 0
      },
      "text/plain": [
       "events.out.tfevents.1740086162.DN0a1e6b6f.SUNet.13394.38:   0%|          | 0.00/457 [00:00<?, ?B/s]"
      ]
     },
     "metadata": {},
     "output_type": "display_data"
    },
    {
     "data": {
      "application/vnd.jupyter.widget-view+json": {
       "model_id": "5b62ea5bb78b48f2abaeeee1a2bf2503",
       "version_major": 2,
       "version_minor": 0
      },
      "text/plain": [
       "training_args.bin:   0%|          | 0.00/5.43k [00:00<?, ?B/s]"
      ]
     },
     "metadata": {},
     "output_type": "display_data"
    },
    {
     "name": "stdout",
     "output_type": "stream",
     "text": [
      "[User 51978] Done! Best model saved at: user_models/user_51978\n",
      "\n",
      "=== Training model for User 16297 (Answers=525) ===\n"
     ]
    },
    {
     "data": {
      "application/vnd.jupyter.widget-view+json": {
       "model_id": "2d8958317b804a4191a22df374af14c5",
       "version_major": 2,
       "version_minor": 0
      },
      "text/plain": [
       "Map:   0%|          | 0/420 [00:00<?, ? examples/s]"
      ]
     },
     "metadata": {},
     "output_type": "display_data"
    },
    {
     "data": {
      "application/vnd.jupyter.widget-view+json": {
       "model_id": "8f70636231b54a6b82a66604ca5ce6d9",
       "version_major": 2,
       "version_minor": 0
      },
      "text/plain": [
       "Map:   0%|          | 0/105 [00:00<?, ? examples/s]"
      ]
     },
     "metadata": {},
     "output_type": "display_data"
    },
    {
     "name": "stderr",
     "output_type": "stream",
     "text": [
      "Some weights of ModernBertForSequenceClassification were not initialized from the model checkpoint at answerdotai/ModernBERT-base and are newly initialized: ['classifier.bias', 'classifier.weight']\n",
      "You should probably TRAIN this model on a down-stream task to be able to use it for predictions and inference.\n",
      "/opt/homebrew/anaconda3/lib/python3.12/site-packages/transformers/training_args.py:1573: FutureWarning: `evaluation_strategy` is deprecated and will be removed in version 4.46 of 🤗 Transformers. Use `eval_strategy` instead\n",
      "  warnings.warn(\n",
      "/opt/homebrew/anaconda3/lib/python3.12/site-packages/transformers/training_args.py:2241: UserWarning: `use_mps_device` is deprecated and will be removed in version 5.0 of 🤗 Transformers. `mps` device will be used by default if available similar to the way `cuda` device is used.Therefore, no action from user is required. \n",
      "  warnings.warn(\n",
      "/var/folders/58/5cdkrpys1rv_tbq6wq1x69vc0000gq/T/ipykernel_13394/2454030636.py:158: FutureWarning: `tokenizer` is deprecated and will be removed in version 5.0.0 for `Trainer.__init__`. Use `processing_class` instead.\n",
      "  trainer = Trainer(\n"
     ]
    },
    {
     "name": "stdout",
     "output_type": "stream",
     "text": [
      "[User 16297] Resuming from user_models/user_16297/checkpoint-1050\n"
     ]
    },
    {
     "data": {
      "application/vnd.jupyter.widget-view+json": {
       "model_id": "ac7e4efa5e19424ba797a2bb5b1cba07",
       "version_major": 2,
       "version_minor": 0
      },
      "text/plain": [
       "  0%|          | 0/1050 [00:00<?, ?it/s]"
      ]
     },
     "metadata": {},
     "output_type": "display_data"
    },
    {
     "name": "stdout",
     "output_type": "stream",
     "text": [
      "{'train_runtime': 0.454, 'train_samples_per_second': 9251.038, 'train_steps_per_second': 2312.76, 'train_loss': 0.0, 'epoch': 10.0}\n"
     ]
    },
    {
     "data": {
      "application/vnd.jupyter.widget-view+json": {
       "model_id": "ceaa4d8bf9fa4d6c83ee036980b12860",
       "version_major": 2,
       "version_minor": 0
      },
      "text/plain": [
       "  0%|          | 0/27 [00:00<?, ?it/s]"
      ]
     },
     "metadata": {},
     "output_type": "display_data"
    },
    {
     "name": "stdout",
     "output_type": "stream",
     "text": [
      "[User 16297] Final eval metrics: {'eval_loss': 0.4734443724155426, 'eval_accuracy': 0.8571428571428571, 'eval_f1': 0.8413565790614972, 'eval_runtime': 4.4172, 'eval_samples_per_second': 23.771, 'eval_steps_per_second': 6.112, 'epoch': 10.0}\n"
     ]
    },
    {
     "data": {
      "application/vnd.jupyter.widget-view+json": {
       "model_id": "557a6a73104b49da8178e6dad6ac9cb1",
       "version_major": 2,
       "version_minor": 0
      },
      "text/plain": [
       "training_args.bin:   0%|          | 0.00/5.43k [00:00<?, ?B/s]"
      ]
     },
     "metadata": {},
     "output_type": "display_data"
    },
    {
     "data": {
      "application/vnd.jupyter.widget-view+json": {
       "model_id": "5750166e584d4e59a3e7791eb3fb7bc0",
       "version_major": 2,
       "version_minor": 0
      },
      "text/plain": [
       "Upload 3 LFS files:   0%|          | 0/3 [00:00<?, ?it/s]"
      ]
     },
     "metadata": {},
     "output_type": "display_data"
    },
    {
     "data": {
      "application/vnd.jupyter.widget-view+json": {
       "model_id": "f86fc710b2194173be8941f44493ef77",
       "version_major": 2,
       "version_minor": 0
      },
      "text/plain": [
       "events.out.tfevents.1740086167.DN0a1e6b6f.SUNet.13394.39:   0%|          | 0.00/6.12k [00:00<?, ?B/s]"
      ]
     },
     "metadata": {},
     "output_type": "display_data"
    },
    {
     "data": {
      "application/vnd.jupyter.widget-view+json": {
       "model_id": "85d7c1e8b1e943fab3ede94fc9b95cca",
       "version_major": 2,
       "version_minor": 0
      },
      "text/plain": [
       "events.out.tfevents.1740086172.DN0a1e6b6f.SUNet.13394.40:   0%|          | 0.00/457 [00:00<?, ?B/s]"
      ]
     },
     "metadata": {},
     "output_type": "display_data"
    },
    {
     "name": "stdout",
     "output_type": "stream",
     "text": [
      "[User 16297] Done! Best model saved at: user_models/user_16297\n",
      "\n",
      "=== Training model for User 52981 (Answers=533) ===\n"
     ]
    },
    {
     "data": {
      "application/vnd.jupyter.widget-view+json": {
       "model_id": "86bddf799b454aba8dcf5d17ba2d2d23",
       "version_major": 2,
       "version_minor": 0
      },
      "text/plain": [
       "Map:   0%|          | 0/426 [00:00<?, ? examples/s]"
      ]
     },
     "metadata": {},
     "output_type": "display_data"
    },
    {
     "data": {
      "application/vnd.jupyter.widget-view+json": {
       "model_id": "9c35ce4274bd43f2b66be95c5c5b9f09",
       "version_major": 2,
       "version_minor": 0
      },
      "text/plain": [
       "Map:   0%|          | 0/107 [00:00<?, ? examples/s]"
      ]
     },
     "metadata": {},
     "output_type": "display_data"
    },
    {
     "name": "stderr",
     "output_type": "stream",
     "text": [
      "Some weights of ModernBertForSequenceClassification were not initialized from the model checkpoint at answerdotai/ModernBERT-base and are newly initialized: ['classifier.bias', 'classifier.weight']\n",
      "You should probably TRAIN this model on a down-stream task to be able to use it for predictions and inference.\n",
      "/opt/homebrew/anaconda3/lib/python3.12/site-packages/transformers/training_args.py:1573: FutureWarning: `evaluation_strategy` is deprecated and will be removed in version 4.46 of 🤗 Transformers. Use `eval_strategy` instead\n",
      "  warnings.warn(\n",
      "/opt/homebrew/anaconda3/lib/python3.12/site-packages/transformers/training_args.py:2241: UserWarning: `use_mps_device` is deprecated and will be removed in version 5.0 of 🤗 Transformers. `mps` device will be used by default if available similar to the way `cuda` device is used.Therefore, no action from user is required. \n",
      "  warnings.warn(\n",
      "/var/folders/58/5cdkrpys1rv_tbq6wq1x69vc0000gq/T/ipykernel_13394/2454030636.py:158: FutureWarning: `tokenizer` is deprecated and will be removed in version 5.0.0 for `Trainer.__init__`. Use `processing_class` instead.\n",
      "  trainer = Trainer(\n"
     ]
    },
    {
     "name": "stdout",
     "output_type": "stream",
     "text": [
      "[User 52981] Resuming from user_models/user_52981/checkpoint-1070\n"
     ]
    },
    {
     "data": {
      "application/vnd.jupyter.widget-view+json": {
       "model_id": "8de4a202529642318abdb7f0fe40761e",
       "version_major": 2,
       "version_minor": 0
      },
      "text/plain": [
       "  0%|          | 0/1070 [00:00<?, ?it/s]"
      ]
     },
     "metadata": {},
     "output_type": "display_data"
    },
    {
     "name": "stdout",
     "output_type": "stream",
     "text": [
      "{'train_runtime': 0.4551, 'train_samples_per_second': 9359.716, 'train_steps_per_second': 2350.915, 'train_loss': 0.0, 'epoch': 10.0}\n"
     ]
    },
    {
     "data": {
      "application/vnd.jupyter.widget-view+json": {
       "model_id": "c52b96785fde41a58fa3f6efe0345bec",
       "version_major": 2,
       "version_minor": 0
      },
      "text/plain": [
       "  0%|          | 0/27 [00:00<?, ?it/s]"
      ]
     },
     "metadata": {},
     "output_type": "display_data"
    },
    {
     "name": "stdout",
     "output_type": "stream",
     "text": [
      "[User 52981] Final eval metrics: {'eval_loss': 0.826038122177124, 'eval_accuracy': 0.8691588785046729, 'eval_f1': 0.8398207919838135, 'eval_runtime': 4.4814, 'eval_samples_per_second': 23.877, 'eval_steps_per_second': 6.025, 'epoch': 10.0}\n"
     ]
    },
    {
     "data": {
      "application/vnd.jupyter.widget-view+json": {
       "model_id": "36cc8031e41f482e838ff189f7324749",
       "version_major": 2,
       "version_minor": 0
      },
      "text/plain": [
       "events.out.tfevents.1740086177.DN0a1e6b6f.SUNet.13394.41:   0%|          | 0.00/6.12k [00:00<?, ?B/s]"
      ]
     },
     "metadata": {},
     "output_type": "display_data"
    },
    {
     "data": {
      "application/vnd.jupyter.widget-view+json": {
       "model_id": "9192f6665ead49df890ac8eccc58df04",
       "version_major": 2,
       "version_minor": 0
      },
      "text/plain": [
       "Upload 3 LFS files:   0%|          | 0/3 [00:00<?, ?it/s]"
      ]
     },
     "metadata": {},
     "output_type": "display_data"
    },
    {
     "data": {
      "application/vnd.jupyter.widget-view+json": {
       "model_id": "06f9af1ed777422481f658cb77d8ad29",
       "version_major": 2,
       "version_minor": 0
      },
      "text/plain": [
       "events.out.tfevents.1740086182.DN0a1e6b6f.SUNet.13394.42:   0%|          | 0.00/457 [00:00<?, ?B/s]"
      ]
     },
     "metadata": {},
     "output_type": "display_data"
    },
    {
     "data": {
      "application/vnd.jupyter.widget-view+json": {
       "model_id": "5ead03d6eb614907b67a50bcc90149db",
       "version_major": 2,
       "version_minor": 0
      },
      "text/plain": [
       "training_args.bin:   0%|          | 0.00/5.43k [00:00<?, ?B/s]"
      ]
     },
     "metadata": {},
     "output_type": "display_data"
    },
    {
     "name": "stdout",
     "output_type": "stream",
     "text": [
      "[User 52981] Done! Best model saved at: user_models/user_52981\n",
      "\n",
      "=== Training model for User 52584 (Answers=535) ===\n"
     ]
    },
    {
     "data": {
      "application/vnd.jupyter.widget-view+json": {
       "model_id": "ea08f43757184d24998e0fc4ca2d9d75",
       "version_major": 2,
       "version_minor": 0
      },
      "text/plain": [
       "Map:   0%|          | 0/428 [00:00<?, ? examples/s]"
      ]
     },
     "metadata": {},
     "output_type": "display_data"
    },
    {
     "data": {
      "application/vnd.jupyter.widget-view+json": {
       "model_id": "01604f1dfcb84fc1bfca89471f3c437d",
       "version_major": 2,
       "version_minor": 0
      },
      "text/plain": [
       "Map:   0%|          | 0/107 [00:00<?, ? examples/s]"
      ]
     },
     "metadata": {},
     "output_type": "display_data"
    },
    {
     "name": "stderr",
     "output_type": "stream",
     "text": [
      "Some weights of ModernBertForSequenceClassification were not initialized from the model checkpoint at answerdotai/ModernBERT-base and are newly initialized: ['classifier.bias', 'classifier.weight']\n",
      "You should probably TRAIN this model on a down-stream task to be able to use it for predictions and inference.\n",
      "/opt/homebrew/anaconda3/lib/python3.12/site-packages/transformers/training_args.py:1573: FutureWarning: `evaluation_strategy` is deprecated and will be removed in version 4.46 of 🤗 Transformers. Use `eval_strategy` instead\n",
      "  warnings.warn(\n",
      "/opt/homebrew/anaconda3/lib/python3.12/site-packages/transformers/training_args.py:2241: UserWarning: `use_mps_device` is deprecated and will be removed in version 5.0 of 🤗 Transformers. `mps` device will be used by default if available similar to the way `cuda` device is used.Therefore, no action from user is required. \n",
      "  warnings.warn(\n",
      "/var/folders/58/5cdkrpys1rv_tbq6wq1x69vc0000gq/T/ipykernel_13394/2454030636.py:158: FutureWarning: `tokenizer` is deprecated and will be removed in version 5.0.0 for `Trainer.__init__`. Use `processing_class` instead.\n",
      "  trainer = Trainer(\n"
     ]
    },
    {
     "name": "stdout",
     "output_type": "stream",
     "text": [
      "[User 52584] Resuming from user_models/user_52584/checkpoint-1070\n"
     ]
    },
    {
     "data": {
      "application/vnd.jupyter.widget-view+json": {
       "model_id": "b8252cd2ec214cbfa2c9d8250bcf7f38",
       "version_major": 2,
       "version_minor": 0
      },
      "text/plain": [
       "  0%|          | 0/1070 [00:00<?, ?it/s]"
      ]
     },
     "metadata": {},
     "output_type": "display_data"
    },
    {
     "name": "stdout",
     "output_type": "stream",
     "text": [
      "{'train_runtime': 0.4548, 'train_samples_per_second': 9409.775, 'train_steps_per_second': 2352.444, 'train_loss': 0.0, 'epoch': 10.0}\n"
     ]
    },
    {
     "data": {
      "application/vnd.jupyter.widget-view+json": {
       "model_id": "f779d7e4b0594e53ae05fa8f5673dda8",
       "version_major": 2,
       "version_minor": 0
      },
      "text/plain": [
       "  0%|          | 0/27 [00:00<?, ?it/s]"
      ]
     },
     "metadata": {},
     "output_type": "display_data"
    },
    {
     "name": "stdout",
     "output_type": "stream",
     "text": [
      "[User 52584] Final eval metrics: {'eval_loss': 0.3813420534133911, 'eval_accuracy': 0.9252336448598131, 'eval_f1': 0.9039032435404069, 'eval_runtime': 4.5292, 'eval_samples_per_second': 23.624, 'eval_steps_per_second': 5.961, 'epoch': 10.0}\n"
     ]
    },
    {
     "data": {
      "application/vnd.jupyter.widget-view+json": {
       "model_id": "d7b62b604f0d4ecdac37822cc5b577c2",
       "version_major": 2,
       "version_minor": 0
      },
      "text/plain": [
       "Upload 3 LFS files:   0%|          | 0/3 [00:00<?, ?it/s]"
      ]
     },
     "metadata": {},
     "output_type": "display_data"
    },
    {
     "data": {
      "application/vnd.jupyter.widget-view+json": {
       "model_id": "cddb8dc9f29348279ad86e0b310a6f6a",
       "version_major": 2,
       "version_minor": 0
      },
      "text/plain": [
       "events.out.tfevents.1740086188.DN0a1e6b6f.SUNet.13394.43:   0%|          | 0.00/6.12k [00:00<?, ?B/s]"
      ]
     },
     "metadata": {},
     "output_type": "display_data"
    },
    {
     "data": {
      "application/vnd.jupyter.widget-view+json": {
       "model_id": "7fef85d9a20545b39910ea258b46fb27",
       "version_major": 2,
       "version_minor": 0
      },
      "text/plain": [
       "training_args.bin:   0%|          | 0.00/5.43k [00:00<?, ?B/s]"
      ]
     },
     "metadata": {},
     "output_type": "display_data"
    },
    {
     "data": {
      "application/vnd.jupyter.widget-view+json": {
       "model_id": "ed05f074a7b44d7e874c03b24ab487ae",
       "version_major": 2,
       "version_minor": 0
      },
      "text/plain": [
       "events.out.tfevents.1740086193.DN0a1e6b6f.SUNet.13394.44:   0%|          | 0.00/457 [00:00<?, ?B/s]"
      ]
     },
     "metadata": {},
     "output_type": "display_data"
    },
    {
     "name": "stdout",
     "output_type": "stream",
     "text": [
      "[User 52584] Done! Best model saved at: user_models/user_52584\n",
      "\n",
      "=== Training model for User 22601 (Answers=536) ===\n"
     ]
    },
    {
     "data": {
      "application/vnd.jupyter.widget-view+json": {
       "model_id": "0095f7d5a9b9449f9b9208ccffeb41a6",
       "version_major": 2,
       "version_minor": 0
      },
      "text/plain": [
       "Map:   0%|          | 0/428 [00:00<?, ? examples/s]"
      ]
     },
     "metadata": {},
     "output_type": "display_data"
    },
    {
     "data": {
      "application/vnd.jupyter.widget-view+json": {
       "model_id": "70f592d0f5394ead9fc737fd8ba0767f",
       "version_major": 2,
       "version_minor": 0
      },
      "text/plain": [
       "Map:   0%|          | 0/108 [00:00<?, ? examples/s]"
      ]
     },
     "metadata": {},
     "output_type": "display_data"
    },
    {
     "name": "stderr",
     "output_type": "stream",
     "text": [
      "Some weights of ModernBertForSequenceClassification were not initialized from the model checkpoint at answerdotai/ModernBERT-base and are newly initialized: ['classifier.bias', 'classifier.weight']\n",
      "You should probably TRAIN this model on a down-stream task to be able to use it for predictions and inference.\n",
      "/opt/homebrew/anaconda3/lib/python3.12/site-packages/transformers/training_args.py:1573: FutureWarning: `evaluation_strategy` is deprecated and will be removed in version 4.46 of 🤗 Transformers. Use `eval_strategy` instead\n",
      "  warnings.warn(\n",
      "/opt/homebrew/anaconda3/lib/python3.12/site-packages/transformers/training_args.py:2241: UserWarning: `use_mps_device` is deprecated and will be removed in version 5.0 of 🤗 Transformers. `mps` device will be used by default if available similar to the way `cuda` device is used.Therefore, no action from user is required. \n",
      "  warnings.warn(\n",
      "/var/folders/58/5cdkrpys1rv_tbq6wq1x69vc0000gq/T/ipykernel_13394/2454030636.py:158: FutureWarning: `tokenizer` is deprecated and will be removed in version 5.0.0 for `Trainer.__init__`. Use `processing_class` instead.\n",
      "  trainer = Trainer(\n"
     ]
    },
    {
     "name": "stdout",
     "output_type": "stream",
     "text": [
      "[User 22601] Resuming from user_models/user_22601/checkpoint-1070\n"
     ]
    },
    {
     "data": {
      "application/vnd.jupyter.widget-view+json": {
       "model_id": "e30ddfe6f0a444088904fdb0ad67858b",
       "version_major": 2,
       "version_minor": 0
      },
      "text/plain": [
       "  0%|          | 0/1070 [00:00<?, ?it/s]"
      ]
     },
     "metadata": {},
     "output_type": "display_data"
    },
    {
     "name": "stdout",
     "output_type": "stream",
     "text": [
      "{'train_runtime': 0.4559, 'train_samples_per_second': 9387.98, 'train_steps_per_second': 2346.995, 'train_loss': 0.0, 'epoch': 10.0}\n"
     ]
    },
    {
     "data": {
      "application/vnd.jupyter.widget-view+json": {
       "model_id": "24390d7486d94b3390fcccb587b42635",
       "version_major": 2,
       "version_minor": 0
      },
      "text/plain": [
       "  0%|          | 0/27 [00:00<?, ?it/s]"
      ]
     },
     "metadata": {},
     "output_type": "display_data"
    },
    {
     "name": "stdout",
     "output_type": "stream",
     "text": [
      "[User 22601] Final eval metrics: {'eval_loss': 0.7486973404884338, 'eval_accuracy': 0.6388888888888888, 'eval_f1': 0.6358538047912551, 'eval_runtime': 4.5943, 'eval_samples_per_second': 23.507, 'eval_steps_per_second': 5.877, 'epoch': 10.0}\n"
     ]
    },
    {
     "data": {
      "application/vnd.jupyter.widget-view+json": {
       "model_id": "7982f642116542759bd943bd8debbc57",
       "version_major": 2,
       "version_minor": 0
      },
      "text/plain": [
       "training_args.bin:   0%|          | 0.00/5.43k [00:00<?, ?B/s]"
      ]
     },
     "metadata": {},
     "output_type": "display_data"
    },
    {
     "data": {
      "application/vnd.jupyter.widget-view+json": {
       "model_id": "b8de6515f8e1400fb94cc18020189620",
       "version_major": 2,
       "version_minor": 0
      },
      "text/plain": [
       "events.out.tfevents.1740086204.DN0a1e6b6f.SUNet.13394.46:   0%|          | 0.00/457 [00:00<?, ?B/s]"
      ]
     },
     "metadata": {},
     "output_type": "display_data"
    },
    {
     "data": {
      "application/vnd.jupyter.widget-view+json": {
       "model_id": "daa1dbb667394b0d8e21c6b6cb60c56b",
       "version_major": 2,
       "version_minor": 0
      },
      "text/plain": [
       "Upload 3 LFS files:   0%|          | 0/3 [00:00<?, ?it/s]"
      ]
     },
     "metadata": {},
     "output_type": "display_data"
    },
    {
     "data": {
      "application/vnd.jupyter.widget-view+json": {
       "model_id": "c6f8717372594bedbba9d2b465942057",
       "version_major": 2,
       "version_minor": 0
      },
      "text/plain": [
       "events.out.tfevents.1740086199.DN0a1e6b6f.SUNet.13394.45:   0%|          | 0.00/6.12k [00:00<?, ?B/s]"
      ]
     },
     "metadata": {},
     "output_type": "display_data"
    },
    {
     "name": "stdout",
     "output_type": "stream",
     "text": [
      "[User 22601] Done! Best model saved at: user_models/user_22601\n",
      "\n",
      "=== Training model for User 50149 (Answers=538) ===\n"
     ]
    },
    {
     "data": {
      "application/vnd.jupyter.widget-view+json": {
       "model_id": "d77ba78a924140d3a928183cb9505d24",
       "version_major": 2,
       "version_minor": 0
      },
      "text/plain": [
       "Map:   0%|          | 0/430 [00:00<?, ? examples/s]"
      ]
     },
     "metadata": {},
     "output_type": "display_data"
    },
    {
     "data": {
      "application/vnd.jupyter.widget-view+json": {
       "model_id": "d549469a297f4b02ac52a114507a70dd",
       "version_major": 2,
       "version_minor": 0
      },
      "text/plain": [
       "Map:   0%|          | 0/108 [00:00<?, ? examples/s]"
      ]
     },
     "metadata": {},
     "output_type": "display_data"
    },
    {
     "name": "stderr",
     "output_type": "stream",
     "text": [
      "Some weights of ModernBertForSequenceClassification were not initialized from the model checkpoint at answerdotai/ModernBERT-base and are newly initialized: ['classifier.bias', 'classifier.weight']\n",
      "You should probably TRAIN this model on a down-stream task to be able to use it for predictions and inference.\n",
      "/opt/homebrew/anaconda3/lib/python3.12/site-packages/transformers/training_args.py:1573: FutureWarning: `evaluation_strategy` is deprecated and will be removed in version 4.46 of 🤗 Transformers. Use `eval_strategy` instead\n",
      "  warnings.warn(\n",
      "/opt/homebrew/anaconda3/lib/python3.12/site-packages/transformers/training_args.py:2241: UserWarning: `use_mps_device` is deprecated and will be removed in version 5.0 of 🤗 Transformers. `mps` device will be used by default if available similar to the way `cuda` device is used.Therefore, no action from user is required. \n",
      "  warnings.warn(\n",
      "/var/folders/58/5cdkrpys1rv_tbq6wq1x69vc0000gq/T/ipykernel_13394/2454030636.py:158: FutureWarning: `tokenizer` is deprecated and will be removed in version 5.0.0 for `Trainer.__init__`. Use `processing_class` instead.\n",
      "  trainer = Trainer(\n"
     ]
    },
    {
     "name": "stdout",
     "output_type": "stream",
     "text": [
      "[User 50149] Resuming from user_models/user_50149/checkpoint-1080\n"
     ]
    },
    {
     "data": {
      "application/vnd.jupyter.widget-view+json": {
       "model_id": "4343877e3cb942f4aca6de8f40c23851",
       "version_major": 2,
       "version_minor": 0
      },
      "text/plain": [
       "  0%|          | 0/1080 [00:00<?, ?it/s]"
      ]
     },
     "metadata": {},
     "output_type": "display_data"
    },
    {
     "name": "stdout",
     "output_type": "stream",
     "text": [
      "{'train_runtime': 0.4802, 'train_samples_per_second': 8953.841, 'train_steps_per_second': 2248.872, 'train_loss': 0.0, 'epoch': 10.0}\n"
     ]
    },
    {
     "data": {
      "application/vnd.jupyter.widget-view+json": {
       "model_id": "6c9bf72ffce54989b39af4b9bf9a0c95",
       "version_major": 2,
       "version_minor": 0
      },
      "text/plain": [
       "  0%|          | 0/27 [00:00<?, ?it/s]"
      ]
     },
     "metadata": {},
     "output_type": "display_data"
    },
    {
     "name": "stdout",
     "output_type": "stream",
     "text": [
      "[User 50149] Final eval metrics: {'eval_loss': 0.6018584966659546, 'eval_accuracy': 0.7777777777777778, 'eval_f1': 0.7768582375478927, 'eval_runtime': 4.565, 'eval_samples_per_second': 23.658, 'eval_steps_per_second': 5.915, 'epoch': 10.0}\n"
     ]
    },
    {
     "data": {
      "application/vnd.jupyter.widget-view+json": {
       "model_id": "4dc586a0fda34aeba2ef427fc227bbdd",
       "version_major": 2,
       "version_minor": 0
      },
      "text/plain": [
       "events.out.tfevents.1740086209.DN0a1e6b6f.SUNet.13394.47:   0%|          | 0.00/6.12k [00:00<?, ?B/s]"
      ]
     },
     "metadata": {},
     "output_type": "display_data"
    },
    {
     "data": {
      "application/vnd.jupyter.widget-view+json": {
       "model_id": "358e0f598a964300887e6f93a2ef44b9",
       "version_major": 2,
       "version_minor": 0
      },
      "text/plain": [
       "Upload 3 LFS files:   0%|          | 0/3 [00:00<?, ?it/s]"
      ]
     },
     "metadata": {},
     "output_type": "display_data"
    },
    {
     "data": {
      "application/vnd.jupyter.widget-view+json": {
       "model_id": "f3eafa8a4fcf46568d8c56522b4d9ef8",
       "version_major": 2,
       "version_minor": 0
      },
      "text/plain": [
       "events.out.tfevents.1740086214.DN0a1e6b6f.SUNet.13394.48:   0%|          | 0.00/457 [00:00<?, ?B/s]"
      ]
     },
     "metadata": {},
     "output_type": "display_data"
    },
    {
     "data": {
      "application/vnd.jupyter.widget-view+json": {
       "model_id": "6256fb283b054f3c940bf9a1cc01f1e7",
       "version_major": 2,
       "version_minor": 0
      },
      "text/plain": [
       "training_args.bin:   0%|          | 0.00/5.43k [00:00<?, ?B/s]"
      ]
     },
     "metadata": {},
     "output_type": "display_data"
    },
    {
     "name": "stdout",
     "output_type": "stream",
     "text": [
      "[User 50149] Done! Best model saved at: user_models/user_50149\n",
      "\n",
      "=== Training model for User 53005 (Answers=540) ===\n"
     ]
    },
    {
     "data": {
      "application/vnd.jupyter.widget-view+json": {
       "model_id": "368bea3487684c878d3e7fe530101b72",
       "version_major": 2,
       "version_minor": 0
      },
      "text/plain": [
       "Map:   0%|          | 0/432 [00:00<?, ? examples/s]"
      ]
     },
     "metadata": {},
     "output_type": "display_data"
    },
    {
     "data": {
      "application/vnd.jupyter.widget-view+json": {
       "model_id": "1099196e600744a8a0598635567d849a",
       "version_major": 2,
       "version_minor": 0
      },
      "text/plain": [
       "Map:   0%|          | 0/108 [00:00<?, ? examples/s]"
      ]
     },
     "metadata": {},
     "output_type": "display_data"
    },
    {
     "name": "stderr",
     "output_type": "stream",
     "text": [
      "Some weights of ModernBertForSequenceClassification were not initialized from the model checkpoint at answerdotai/ModernBERT-base and are newly initialized: ['classifier.bias', 'classifier.weight']\n",
      "You should probably TRAIN this model on a down-stream task to be able to use it for predictions and inference.\n",
      "/opt/homebrew/anaconda3/lib/python3.12/site-packages/transformers/training_args.py:1573: FutureWarning: `evaluation_strategy` is deprecated and will be removed in version 4.46 of 🤗 Transformers. Use `eval_strategy` instead\n",
      "  warnings.warn(\n",
      "/opt/homebrew/anaconda3/lib/python3.12/site-packages/transformers/training_args.py:2241: UserWarning: `use_mps_device` is deprecated and will be removed in version 5.0 of 🤗 Transformers. `mps` device will be used by default if available similar to the way `cuda` device is used.Therefore, no action from user is required. \n",
      "  warnings.warn(\n",
      "/var/folders/58/5cdkrpys1rv_tbq6wq1x69vc0000gq/T/ipykernel_13394/2454030636.py:158: FutureWarning: `tokenizer` is deprecated and will be removed in version 5.0.0 for `Trainer.__init__`. Use `processing_class` instead.\n",
      "  trainer = Trainer(\n"
     ]
    },
    {
     "name": "stdout",
     "output_type": "stream",
     "text": [
      "[User 53005] Resuming from user_models/user_53005/checkpoint-1080\n"
     ]
    },
    {
     "data": {
      "application/vnd.jupyter.widget-view+json": {
       "model_id": "63f9a87de3c247eb8ecd7b8a2e3bf4de",
       "version_major": 2,
       "version_minor": 0
      },
      "text/plain": [
       "  0%|          | 0/1080 [00:00<?, ?it/s]"
      ]
     },
     "metadata": {},
     "output_type": "display_data"
    },
    {
     "name": "stdout",
     "output_type": "stream",
     "text": [
      "{'train_runtime': 0.4678, 'train_samples_per_second': 9234.463, 'train_steps_per_second': 2308.616, 'train_loss': 0.0, 'epoch': 10.0}\n"
     ]
    },
    {
     "data": {
      "application/vnd.jupyter.widget-view+json": {
       "model_id": "b7e9516e61d14c558fe5170b074efd59",
       "version_major": 2,
       "version_minor": 0
      },
      "text/plain": [
       "  0%|          | 0/27 [00:00<?, ?it/s]"
      ]
     },
     "metadata": {},
     "output_type": "display_data"
    },
    {
     "name": "stdout",
     "output_type": "stream",
     "text": [
      "[User 53005] Final eval metrics: {'eval_loss': 1.0922365188598633, 'eval_accuracy': 0.8518518518518519, 'eval_f1': 0.8203309692671396, 'eval_runtime': 4.5322, 'eval_samples_per_second': 23.83, 'eval_steps_per_second': 5.957, 'epoch': 10.0}\n"
     ]
    },
    {
     "data": {
      "application/vnd.jupyter.widget-view+json": {
       "model_id": "23d5584623574430be70a6fdf5a2d5c8",
       "version_major": 2,
       "version_minor": 0
      },
      "text/plain": [
       "Upload 3 LFS files:   0%|          | 0/3 [00:00<?, ?it/s]"
      ]
     },
     "metadata": {},
     "output_type": "display_data"
    },
    {
     "data": {
      "application/vnd.jupyter.widget-view+json": {
       "model_id": "8461fd8014d04b49b6d3af4140f53c81",
       "version_major": 2,
       "version_minor": 0
      },
      "text/plain": [
       "training_args.bin:   0%|          | 0.00/5.43k [00:00<?, ?B/s]"
      ]
     },
     "metadata": {},
     "output_type": "display_data"
    },
    {
     "data": {
      "application/vnd.jupyter.widget-view+json": {
       "model_id": "62f5104ca9af478da0fd5bfcf59f0e59",
       "version_major": 2,
       "version_minor": 0
      },
      "text/plain": [
       "events.out.tfevents.1740086225.DN0a1e6b6f.SUNet.13394.50:   0%|          | 0.00/457 [00:00<?, ?B/s]"
      ]
     },
     "metadata": {},
     "output_type": "display_data"
    },
    {
     "data": {
      "application/vnd.jupyter.widget-view+json": {
       "model_id": "e7dc7fc8b10c4ea69a232bf461305f92",
       "version_major": 2,
       "version_minor": 0
      },
      "text/plain": [
       "events.out.tfevents.1740086220.DN0a1e6b6f.SUNet.13394.49:   0%|          | 0.00/6.12k [00:00<?, ?B/s]"
      ]
     },
     "metadata": {},
     "output_type": "display_data"
    },
    {
     "name": "stdout",
     "output_type": "stream",
     "text": [
      "[User 53005] Done! Best model saved at: user_models/user_53005\n",
      "\n",
      "=== Training model for User 52977 (Answers=544) ===\n"
     ]
    },
    {
     "data": {
      "application/vnd.jupyter.widget-view+json": {
       "model_id": "6c60237b34c546e7989280e9bb87efb3",
       "version_major": 2,
       "version_minor": 0
      },
      "text/plain": [
       "Map:   0%|          | 0/435 [00:00<?, ? examples/s]"
      ]
     },
     "metadata": {},
     "output_type": "display_data"
    },
    {
     "data": {
      "application/vnd.jupyter.widget-view+json": {
       "model_id": "b4d141c9a5fc4c6bb98a3f50d905ef7d",
       "version_major": 2,
       "version_minor": 0
      },
      "text/plain": [
       "Map:   0%|          | 0/109 [00:00<?, ? examples/s]"
      ]
     },
     "metadata": {},
     "output_type": "display_data"
    },
    {
     "name": "stderr",
     "output_type": "stream",
     "text": [
      "Some weights of ModernBertForSequenceClassification were not initialized from the model checkpoint at answerdotai/ModernBERT-base and are newly initialized: ['classifier.bias', 'classifier.weight']\n",
      "You should probably TRAIN this model on a down-stream task to be able to use it for predictions and inference.\n",
      "/opt/homebrew/anaconda3/lib/python3.12/site-packages/transformers/training_args.py:1573: FutureWarning: `evaluation_strategy` is deprecated and will be removed in version 4.46 of 🤗 Transformers. Use `eval_strategy` instead\n",
      "  warnings.warn(\n",
      "/opt/homebrew/anaconda3/lib/python3.12/site-packages/transformers/training_args.py:2241: UserWarning: `use_mps_device` is deprecated and will be removed in version 5.0 of 🤗 Transformers. `mps` device will be used by default if available similar to the way `cuda` device is used.Therefore, no action from user is required. \n",
      "  warnings.warn(\n",
      "/var/folders/58/5cdkrpys1rv_tbq6wq1x69vc0000gq/T/ipykernel_13394/2454030636.py:158: FutureWarning: `tokenizer` is deprecated and will be removed in version 5.0.0 for `Trainer.__init__`. Use `processing_class` instead.\n",
      "  trainer = Trainer(\n"
     ]
    },
    {
     "name": "stdout",
     "output_type": "stream",
     "text": [
      "[User 52977] Resuming from user_models/user_52977/checkpoint-1090\n"
     ]
    },
    {
     "data": {
      "application/vnd.jupyter.widget-view+json": {
       "model_id": "ae1d05ad5a1141608c57655baa8e28e1",
       "version_major": 2,
       "version_minor": 0
      },
      "text/plain": [
       "  0%|          | 0/1090 [00:00<?, ?it/s]"
      ]
     },
     "metadata": {},
     "output_type": "display_data"
    },
    {
     "name": "stdout",
     "output_type": "stream",
     "text": [
      "{'train_runtime': 0.4684, 'train_samples_per_second': 9286.324, 'train_steps_per_second': 2326.918, 'train_loss': 0.0, 'epoch': 10.0}\n"
     ]
    },
    {
     "data": {
      "application/vnd.jupyter.widget-view+json": {
       "model_id": "4a77053153504334a49d0f9190aa3388",
       "version_major": 2,
       "version_minor": 0
      },
      "text/plain": [
       "  0%|          | 0/28 [00:00<?, ?it/s]"
      ]
     },
     "metadata": {},
     "output_type": "display_data"
    },
    {
     "name": "stdout",
     "output_type": "stream",
     "text": [
      "[User 52977] Final eval metrics: {'eval_loss': 0.6718893051147461, 'eval_accuracy': 0.8623853211009175, 'eval_f1': 0.7986622678175983, 'eval_runtime': 4.6933, 'eval_samples_per_second': 23.224, 'eval_steps_per_second': 5.966, 'epoch': 10.0}\n"
     ]
    },
    {
     "data": {
      "application/vnd.jupyter.widget-view+json": {
       "model_id": "d8715b2e00794c6abaca8c9a35b3cb85",
       "version_major": 2,
       "version_minor": 0
      },
      "text/plain": [
       "Upload 3 LFS files:   0%|          | 0/3 [00:00<?, ?it/s]"
      ]
     },
     "metadata": {},
     "output_type": "display_data"
    },
    {
     "data": {
      "application/vnd.jupyter.widget-view+json": {
       "model_id": "1014465186484eb39b52decc33cc923d",
       "version_major": 2,
       "version_minor": 0
      },
      "text/plain": [
       "training_args.bin:   0%|          | 0.00/5.43k [00:00<?, ?B/s]"
      ]
     },
     "metadata": {},
     "output_type": "display_data"
    },
    {
     "data": {
      "application/vnd.jupyter.widget-view+json": {
       "model_id": "5e6b1682a889469795e1d286a323a145",
       "version_major": 2,
       "version_minor": 0
      },
      "text/plain": [
       "events.out.tfevents.1740086231.DN0a1e6b6f.SUNet.13394.51:   0%|          | 0.00/6.12k [00:00<?, ?B/s]"
      ]
     },
     "metadata": {},
     "output_type": "display_data"
    },
    {
     "data": {
      "application/vnd.jupyter.widget-view+json": {
       "model_id": "749c1428bcff4fe38b27a3594f2ab141",
       "version_major": 2,
       "version_minor": 0
      },
      "text/plain": [
       "events.out.tfevents.1740086236.DN0a1e6b6f.SUNet.13394.52:   0%|          | 0.00/457 [00:00<?, ?B/s]"
      ]
     },
     "metadata": {},
     "output_type": "display_data"
    },
    {
     "name": "stdout",
     "output_type": "stream",
     "text": [
      "[User 52977] Done! Best model saved at: user_models/user_52977\n",
      "\n",
      "=== Training model for User 51618 (Answers=546) ===\n"
     ]
    },
    {
     "data": {
      "application/vnd.jupyter.widget-view+json": {
       "model_id": "3f4470a75e4e4702badda4a0d56e14d8",
       "version_major": 2,
       "version_minor": 0
      },
      "text/plain": [
       "Map:   0%|          | 0/436 [00:00<?, ? examples/s]"
      ]
     },
     "metadata": {},
     "output_type": "display_data"
    },
    {
     "data": {
      "application/vnd.jupyter.widget-view+json": {
       "model_id": "b9c7b7c18d5c49418c3ce65518d0c69f",
       "version_major": 2,
       "version_minor": 0
      },
      "text/plain": [
       "Map:   0%|          | 0/110 [00:00<?, ? examples/s]"
      ]
     },
     "metadata": {},
     "output_type": "display_data"
    },
    {
     "name": "stderr",
     "output_type": "stream",
     "text": [
      "Some weights of ModernBertForSequenceClassification were not initialized from the model checkpoint at answerdotai/ModernBERT-base and are newly initialized: ['classifier.bias', 'classifier.weight']\n",
      "You should probably TRAIN this model on a down-stream task to be able to use it for predictions and inference.\n",
      "/opt/homebrew/anaconda3/lib/python3.12/site-packages/transformers/training_args.py:1573: FutureWarning: `evaluation_strategy` is deprecated and will be removed in version 4.46 of 🤗 Transformers. Use `eval_strategy` instead\n",
      "  warnings.warn(\n",
      "/opt/homebrew/anaconda3/lib/python3.12/site-packages/transformers/training_args.py:2241: UserWarning: `use_mps_device` is deprecated and will be removed in version 5.0 of 🤗 Transformers. `mps` device will be used by default if available similar to the way `cuda` device is used.Therefore, no action from user is required. \n",
      "  warnings.warn(\n",
      "/var/folders/58/5cdkrpys1rv_tbq6wq1x69vc0000gq/T/ipykernel_13394/2454030636.py:158: FutureWarning: `tokenizer` is deprecated and will be removed in version 5.0.0 for `Trainer.__init__`. Use `processing_class` instead.\n",
      "  trainer = Trainer(\n"
     ]
    },
    {
     "name": "stdout",
     "output_type": "stream",
     "text": [
      "[User 51618] Resuming from user_models/user_51618/checkpoint-1090\n"
     ]
    },
    {
     "data": {
      "application/vnd.jupyter.widget-view+json": {
       "model_id": "476db016202a412fbc98f7aed99566d8",
       "version_major": 2,
       "version_minor": 0
      },
      "text/plain": [
       "  0%|          | 0/1090 [00:00<?, ?it/s]"
      ]
     },
     "metadata": {},
     "output_type": "display_data"
    },
    {
     "name": "stdout",
     "output_type": "stream",
     "text": [
      "{'train_runtime': 0.4594, 'train_samples_per_second': 9491.346, 'train_steps_per_second': 2372.836, 'train_loss': 0.0, 'epoch': 10.0}\n"
     ]
    },
    {
     "data": {
      "application/vnd.jupyter.widget-view+json": {
       "model_id": "6718347c6f9547c4ad9aa75b33a41e30",
       "version_major": 2,
       "version_minor": 0
      },
      "text/plain": [
       "  0%|          | 0/28 [00:00<?, ?it/s]"
      ]
     },
     "metadata": {},
     "output_type": "display_data"
    },
    {
     "name": "stdout",
     "output_type": "stream",
     "text": [
      "[User 51618] Final eval metrics: {'eval_loss': 0.5607085824012756, 'eval_accuracy': 0.7090909090909091, 'eval_f1': 0.7104150751209575, 'eval_runtime': 4.6714, 'eval_samples_per_second': 23.547, 'eval_steps_per_second': 5.994, 'epoch': 10.0}\n"
     ]
    },
    {
     "data": {
      "application/vnd.jupyter.widget-view+json": {
       "model_id": "6a377de6fc944683b6847a8f65be7f1b",
       "version_major": 2,
       "version_minor": 0
      },
      "text/plain": [
       "Upload 3 LFS files:   0%|          | 0/3 [00:00<?, ?it/s]"
      ]
     },
     "metadata": {},
     "output_type": "display_data"
    },
    {
     "data": {
      "application/vnd.jupyter.widget-view+json": {
       "model_id": "06b835e492d34f2e93de5ec404e39f28",
       "version_major": 2,
       "version_minor": 0
      },
      "text/plain": [
       "training_args.bin:   0%|          | 0.00/5.43k [00:00<?, ?B/s]"
      ]
     },
     "metadata": {},
     "output_type": "display_data"
    },
    {
     "data": {
      "application/vnd.jupyter.widget-view+json": {
       "model_id": "b6f003c5456c4914a1ced49248958b7e",
       "version_major": 2,
       "version_minor": 0
      },
      "text/plain": [
       "events.out.tfevents.1740086244.DN0a1e6b6f.SUNet.13394.53:   0%|          | 0.00/6.12k [00:00<?, ?B/s]"
      ]
     },
     "metadata": {},
     "output_type": "display_data"
    },
    {
     "data": {
      "application/vnd.jupyter.widget-view+json": {
       "model_id": "043c4bbed8fd47cd957c030ed1a387ef",
       "version_major": 2,
       "version_minor": 0
      },
      "text/plain": [
       "events.out.tfevents.1740086249.DN0a1e6b6f.SUNet.13394.54:   0%|          | 0.00/457 [00:00<?, ?B/s]"
      ]
     },
     "metadata": {},
     "output_type": "display_data"
    },
    {
     "name": "stdout",
     "output_type": "stream",
     "text": [
      "[User 51618] Done! Best model saved at: user_models/user_51618\n",
      "\n",
      "=== Training model for User 52913 (Answers=546) ===\n"
     ]
    },
    {
     "data": {
      "application/vnd.jupyter.widget-view+json": {
       "model_id": "09748271dab749ae92662f2e19491832",
       "version_major": 2,
       "version_minor": 0
      },
      "text/plain": [
       "Map:   0%|          | 0/436 [00:00<?, ? examples/s]"
      ]
     },
     "metadata": {},
     "output_type": "display_data"
    },
    {
     "data": {
      "application/vnd.jupyter.widget-view+json": {
       "model_id": "e80fb70144224267b663bb812d8e7c28",
       "version_major": 2,
       "version_minor": 0
      },
      "text/plain": [
       "Map:   0%|          | 0/110 [00:00<?, ? examples/s]"
      ]
     },
     "metadata": {},
     "output_type": "display_data"
    },
    {
     "name": "stderr",
     "output_type": "stream",
     "text": [
      "Some weights of ModernBertForSequenceClassification were not initialized from the model checkpoint at answerdotai/ModernBERT-base and are newly initialized: ['classifier.bias', 'classifier.weight']\n",
      "You should probably TRAIN this model on a down-stream task to be able to use it for predictions and inference.\n",
      "/opt/homebrew/anaconda3/lib/python3.12/site-packages/transformers/training_args.py:1573: FutureWarning: `evaluation_strategy` is deprecated and will be removed in version 4.46 of 🤗 Transformers. Use `eval_strategy` instead\n",
      "  warnings.warn(\n",
      "/opt/homebrew/anaconda3/lib/python3.12/site-packages/transformers/training_args.py:2241: UserWarning: `use_mps_device` is deprecated and will be removed in version 5.0 of 🤗 Transformers. `mps` device will be used by default if available similar to the way `cuda` device is used.Therefore, no action from user is required. \n",
      "  warnings.warn(\n",
      "/var/folders/58/5cdkrpys1rv_tbq6wq1x69vc0000gq/T/ipykernel_13394/2454030636.py:158: FutureWarning: `tokenizer` is deprecated and will be removed in version 5.0.0 for `Trainer.__init__`. Use `processing_class` instead.\n",
      "  trainer = Trainer(\n"
     ]
    },
    {
     "name": "stdout",
     "output_type": "stream",
     "text": [
      "[User 52913] Resuming from user_models/user_52913/checkpoint-1090\n"
     ]
    },
    {
     "data": {
      "application/vnd.jupyter.widget-view+json": {
       "model_id": "ba4e10dcdbd54f148c50b5e20a2625f7",
       "version_major": 2,
       "version_minor": 0
      },
      "text/plain": [
       "  0%|          | 0/1090 [00:00<?, ?it/s]"
      ]
     },
     "metadata": {},
     "output_type": "display_data"
    },
    {
     "name": "stdout",
     "output_type": "stream",
     "text": [
      "{'train_runtime': 0.4494, 'train_samples_per_second': 9701.177, 'train_steps_per_second': 2425.294, 'train_loss': 0.0, 'epoch': 10.0}\n"
     ]
    },
    {
     "data": {
      "application/vnd.jupyter.widget-view+json": {
       "model_id": "10f3c6c24e72410ab189b4eeaef67c32",
       "version_major": 2,
       "version_minor": 0
      },
      "text/plain": [
       "  0%|          | 0/28 [00:00<?, ?it/s]"
      ]
     },
     "metadata": {},
     "output_type": "display_data"
    },
    {
     "name": "stdout",
     "output_type": "stream",
     "text": [
      "[User 52913] Final eval metrics: {'eval_loss': 0.6106128096580505, 'eval_accuracy': 0.8090909090909091, 'eval_f1': 0.7727978466739976, 'eval_runtime': 4.6963, 'eval_samples_per_second': 23.423, 'eval_steps_per_second': 5.962, 'epoch': 10.0}\n"
     ]
    },
    {
     "data": {
      "application/vnd.jupyter.widget-view+json": {
       "model_id": "37927174859a4ce5999b963b73ca8fde",
       "version_major": 2,
       "version_minor": 0
      },
      "text/plain": [
       "events.out.tfevents.1740086260.DN0a1e6b6f.SUNet.13394.56:   0%|          | 0.00/457 [00:00<?, ?B/s]"
      ]
     },
     "metadata": {},
     "output_type": "display_data"
    },
    {
     "data": {
      "application/vnd.jupyter.widget-view+json": {
       "model_id": "fc8f47a75506434e8d497209ffe1de9f",
       "version_major": 2,
       "version_minor": 0
      },
      "text/plain": [
       "events.out.tfevents.1740086255.DN0a1e6b6f.SUNet.13394.55:   0%|          | 0.00/6.12k [00:00<?, ?B/s]"
      ]
     },
     "metadata": {},
     "output_type": "display_data"
    },
    {
     "data": {
      "application/vnd.jupyter.widget-view+json": {
       "model_id": "9fd4d074493b4d79bbe0631fc519749f",
       "version_major": 2,
       "version_minor": 0
      },
      "text/plain": [
       "training_args.bin:   0%|          | 0.00/5.43k [00:00<?, ?B/s]"
      ]
     },
     "metadata": {},
     "output_type": "display_data"
    },
    {
     "data": {
      "application/vnd.jupyter.widget-view+json": {
       "model_id": "8eff227a305f4dc2b91bdd724fd46946",
       "version_major": 2,
       "version_minor": 0
      },
      "text/plain": [
       "Upload 3 LFS files:   0%|          | 0/3 [00:00<?, ?it/s]"
      ]
     },
     "metadata": {},
     "output_type": "display_data"
    },
    {
     "name": "stdout",
     "output_type": "stream",
     "text": [
      "[User 52913] Done! Best model saved at: user_models/user_52913\n",
      "\n",
      "=== Training model for User 16289 (Answers=552) ===\n"
     ]
    },
    {
     "data": {
      "application/vnd.jupyter.widget-view+json": {
       "model_id": "55e958d9dc604cf1acbd48271507dbbb",
       "version_major": 2,
       "version_minor": 0
      },
      "text/plain": [
       "Map:   0%|          | 0/441 [00:00<?, ? examples/s]"
      ]
     },
     "metadata": {},
     "output_type": "display_data"
    },
    {
     "data": {
      "application/vnd.jupyter.widget-view+json": {
       "model_id": "fee6f7acd6ce4328a7a067af96fe4380",
       "version_major": 2,
       "version_minor": 0
      },
      "text/plain": [
       "Map:   0%|          | 0/111 [00:00<?, ? examples/s]"
      ]
     },
     "metadata": {},
     "output_type": "display_data"
    },
    {
     "name": "stderr",
     "output_type": "stream",
     "text": [
      "Some weights of ModernBertForSequenceClassification were not initialized from the model checkpoint at answerdotai/ModernBERT-base and are newly initialized: ['classifier.bias', 'classifier.weight']\n",
      "You should probably TRAIN this model on a down-stream task to be able to use it for predictions and inference.\n",
      "/opt/homebrew/anaconda3/lib/python3.12/site-packages/transformers/training_args.py:1573: FutureWarning: `evaluation_strategy` is deprecated and will be removed in version 4.46 of 🤗 Transformers. Use `eval_strategy` instead\n",
      "  warnings.warn(\n",
      "/opt/homebrew/anaconda3/lib/python3.12/site-packages/transformers/training_args.py:2241: UserWarning: `use_mps_device` is deprecated and will be removed in version 5.0 of 🤗 Transformers. `mps` device will be used by default if available similar to the way `cuda` device is used.Therefore, no action from user is required. \n",
      "  warnings.warn(\n",
      "/var/folders/58/5cdkrpys1rv_tbq6wq1x69vc0000gq/T/ipykernel_13394/2454030636.py:158: FutureWarning: `tokenizer` is deprecated and will be removed in version 5.0.0 for `Trainer.__init__`. Use `processing_class` instead.\n",
      "  trainer = Trainer(\n"
     ]
    },
    {
     "name": "stdout",
     "output_type": "stream",
     "text": [
      "[User 16289] Resuming from user_models/user_16289/checkpoint-1110\n"
     ]
    },
    {
     "data": {
      "application/vnd.jupyter.widget-view+json": {
       "model_id": "d3766b63c6aa44398c888b780dc4ff93",
       "version_major": 2,
       "version_minor": 0
      },
      "text/plain": [
       "  0%|          | 0/1110 [00:00<?, ?it/s]"
      ]
     },
     "metadata": {},
     "output_type": "display_data"
    },
    {
     "name": "stdout",
     "output_type": "stream",
     "text": [
      "{'train_runtime': 0.4552, 'train_samples_per_second': 9687.259, 'train_steps_per_second': 2438.29, 'train_loss': 0.0, 'epoch': 10.0}\n"
     ]
    },
    {
     "data": {
      "application/vnd.jupyter.widget-view+json": {
       "model_id": "3bf62381a57b44519936841cf6daa98d",
       "version_major": 2,
       "version_minor": 0
      },
      "text/plain": [
       "  0%|          | 0/28 [00:00<?, ?it/s]"
      ]
     },
     "metadata": {},
     "output_type": "display_data"
    },
    {
     "name": "stdout",
     "output_type": "stream",
     "text": [
      "[User 16289] Final eval metrics: {'eval_loss': 0.6319292187690735, 'eval_accuracy': 0.7567567567567568, 'eval_f1': 0.7224919835089326, 'eval_runtime': 4.6872, 'eval_samples_per_second': 23.682, 'eval_steps_per_second': 5.974, 'epoch': 10.0}\n"
     ]
    },
    {
     "data": {
      "application/vnd.jupyter.widget-view+json": {
       "model_id": "3c03204778834ae982c24ed5cd23b4de",
       "version_major": 2,
       "version_minor": 0
      },
      "text/plain": [
       "events.out.tfevents.1740086265.DN0a1e6b6f.SUNet.13394.57:   0%|          | 0.00/6.12k [00:00<?, ?B/s]"
      ]
     },
     "metadata": {},
     "output_type": "display_data"
    },
    {
     "data": {
      "application/vnd.jupyter.widget-view+json": {
       "model_id": "14a85dbebc60423d8ecce78c2c7a6c57",
       "version_major": 2,
       "version_minor": 0
      },
      "text/plain": [
       "Upload 3 LFS files:   0%|          | 0/3 [00:00<?, ?it/s]"
      ]
     },
     "metadata": {},
     "output_type": "display_data"
    },
    {
     "data": {
      "application/vnd.jupyter.widget-view+json": {
       "model_id": "98baaa13a18b420faa43cd549e68f989",
       "version_major": 2,
       "version_minor": 0
      },
      "text/plain": [
       "training_args.bin:   0%|          | 0.00/5.43k [00:00<?, ?B/s]"
      ]
     },
     "metadata": {},
     "output_type": "display_data"
    },
    {
     "data": {
      "application/vnd.jupyter.widget-view+json": {
       "model_id": "71aba51a9946437ab302f17aab5b0881",
       "version_major": 2,
       "version_minor": 0
      },
      "text/plain": [
       "events.out.tfevents.1740086270.DN0a1e6b6f.SUNet.13394.58:   0%|          | 0.00/457 [00:00<?, ?B/s]"
      ]
     },
     "metadata": {},
     "output_type": "display_data"
    },
    {
     "name": "stdout",
     "output_type": "stream",
     "text": [
      "[User 16289] Done! Best model saved at: user_models/user_16289\n",
      "\n",
      "=== Training model for User 52995 (Answers=554) ===\n"
     ]
    },
    {
     "data": {
      "application/vnd.jupyter.widget-view+json": {
       "model_id": "53058d0d180748b98211a16520f14fe9",
       "version_major": 2,
       "version_minor": 0
      },
      "text/plain": [
       "Map:   0%|          | 0/443 [00:00<?, ? examples/s]"
      ]
     },
     "metadata": {},
     "output_type": "display_data"
    },
    {
     "data": {
      "application/vnd.jupyter.widget-view+json": {
       "model_id": "ef85bd07d5b4479faabe018cddd8a5ee",
       "version_major": 2,
       "version_minor": 0
      },
      "text/plain": [
       "Map:   0%|          | 0/111 [00:00<?, ? examples/s]"
      ]
     },
     "metadata": {},
     "output_type": "display_data"
    },
    {
     "name": "stderr",
     "output_type": "stream",
     "text": [
      "Some weights of ModernBertForSequenceClassification were not initialized from the model checkpoint at answerdotai/ModernBERT-base and are newly initialized: ['classifier.bias', 'classifier.weight']\n",
      "You should probably TRAIN this model on a down-stream task to be able to use it for predictions and inference.\n",
      "/opt/homebrew/anaconda3/lib/python3.12/site-packages/transformers/training_args.py:1573: FutureWarning: `evaluation_strategy` is deprecated and will be removed in version 4.46 of 🤗 Transformers. Use `eval_strategy` instead\n",
      "  warnings.warn(\n",
      "/opt/homebrew/anaconda3/lib/python3.12/site-packages/transformers/training_args.py:2241: UserWarning: `use_mps_device` is deprecated and will be removed in version 5.0 of 🤗 Transformers. `mps` device will be used by default if available similar to the way `cuda` device is used.Therefore, no action from user is required. \n",
      "  warnings.warn(\n",
      "/var/folders/58/5cdkrpys1rv_tbq6wq1x69vc0000gq/T/ipykernel_13394/2454030636.py:158: FutureWarning: `tokenizer` is deprecated and will be removed in version 5.0.0 for `Trainer.__init__`. Use `processing_class` instead.\n",
      "  trainer = Trainer(\n"
     ]
    },
    {
     "name": "stdout",
     "output_type": "stream",
     "text": [
      "[User 52995] Resuming from user_models/user_52995/checkpoint-1110\n"
     ]
    },
    {
     "data": {
      "application/vnd.jupyter.widget-view+json": {
       "model_id": "9b4e7c0c41094f5c8778266f93ed8931",
       "version_major": 2,
       "version_minor": 0
      },
      "text/plain": [
       "  0%|          | 0/1110 [00:00<?, ?it/s]"
      ]
     },
     "metadata": {},
     "output_type": "display_data"
    },
    {
     "name": "stdout",
     "output_type": "stream",
     "text": [
      "{'train_runtime': 0.4817, 'train_samples_per_second': 9196.901, 'train_steps_per_second': 2304.415, 'train_loss': 0.0, 'epoch': 10.0}\n"
     ]
    },
    {
     "data": {
      "application/vnd.jupyter.widget-view+json": {
       "model_id": "f8b7b6388dbc461a844315a81a098ed1",
       "version_major": 2,
       "version_minor": 0
      },
      "text/plain": [
       "  0%|          | 0/28 [00:00<?, ?it/s]"
      ]
     },
     "metadata": {},
     "output_type": "display_data"
    },
    {
     "name": "stdout",
     "output_type": "stream",
     "text": [
      "[User 52995] Final eval metrics: {'eval_loss': 0.6443758606910706, 'eval_accuracy': 0.8738738738738738, 'eval_f1': 0.8150554400554402, 'eval_runtime': 4.6675, 'eval_samples_per_second': 23.782, 'eval_steps_per_second': 5.999, 'epoch': 10.0}\n"
     ]
    },
    {
     "data": {
      "application/vnd.jupyter.widget-view+json": {
       "model_id": "bd31af043bf14296b6cb0d598eb47373",
       "version_major": 2,
       "version_minor": 0
      },
      "text/plain": [
       "Upload 3 LFS files:   0%|          | 0/3 [00:00<?, ?it/s]"
      ]
     },
     "metadata": {},
     "output_type": "display_data"
    },
    {
     "data": {
      "application/vnd.jupyter.widget-view+json": {
       "model_id": "23e1e08a3f324670b4102fe4f6c94fe8",
       "version_major": 2,
       "version_minor": 0
      },
      "text/plain": [
       "events.out.tfevents.1740086276.DN0a1e6b6f.SUNet.13394.59:   0%|          | 0.00/6.12k [00:00<?, ?B/s]"
      ]
     },
     "metadata": {},
     "output_type": "display_data"
    },
    {
     "data": {
      "application/vnd.jupyter.widget-view+json": {
       "model_id": "103b6905646f4c198af8b21e20e72df5",
       "version_major": 2,
       "version_minor": 0
      },
      "text/plain": [
       "events.out.tfevents.1740086281.DN0a1e6b6f.SUNet.13394.60:   0%|          | 0.00/457 [00:00<?, ?B/s]"
      ]
     },
     "metadata": {},
     "output_type": "display_data"
    },
    {
     "data": {
      "application/vnd.jupyter.widget-view+json": {
       "model_id": "1151ffaae8d04227bb783f53d89c2a2d",
       "version_major": 2,
       "version_minor": 0
      },
      "text/plain": [
       "training_args.bin:   0%|          | 0.00/5.43k [00:00<?, ?B/s]"
      ]
     },
     "metadata": {},
     "output_type": "display_data"
    },
    {
     "name": "stdout",
     "output_type": "stream",
     "text": [
      "[User 52995] Done! Best model saved at: user_models/user_52995\n",
      "\n",
      "=== Training model for User 51184 (Answers=570) ===\n"
     ]
    },
    {
     "data": {
      "application/vnd.jupyter.widget-view+json": {
       "model_id": "d00e9a21808943c2b516244eb7ddaaeb",
       "version_major": 2,
       "version_minor": 0
      },
      "text/plain": [
       "Map:   0%|          | 0/456 [00:00<?, ? examples/s]"
      ]
     },
     "metadata": {},
     "output_type": "display_data"
    },
    {
     "data": {
      "application/vnd.jupyter.widget-view+json": {
       "model_id": "9056e21724a04751a62d9b5072922752",
       "version_major": 2,
       "version_minor": 0
      },
      "text/plain": [
       "Map:   0%|          | 0/114 [00:00<?, ? examples/s]"
      ]
     },
     "metadata": {},
     "output_type": "display_data"
    },
    {
     "name": "stderr",
     "output_type": "stream",
     "text": [
      "Some weights of ModernBertForSequenceClassification were not initialized from the model checkpoint at answerdotai/ModernBERT-base and are newly initialized: ['classifier.bias', 'classifier.weight']\n",
      "You should probably TRAIN this model on a down-stream task to be able to use it for predictions and inference.\n",
      "/opt/homebrew/anaconda3/lib/python3.12/site-packages/transformers/training_args.py:1573: FutureWarning: `evaluation_strategy` is deprecated and will be removed in version 4.46 of 🤗 Transformers. Use `eval_strategy` instead\n",
      "  warnings.warn(\n",
      "/opt/homebrew/anaconda3/lib/python3.12/site-packages/transformers/training_args.py:2241: UserWarning: `use_mps_device` is deprecated and will be removed in version 5.0 of 🤗 Transformers. `mps` device will be used by default if available similar to the way `cuda` device is used.Therefore, no action from user is required. \n",
      "  warnings.warn(\n",
      "/var/folders/58/5cdkrpys1rv_tbq6wq1x69vc0000gq/T/ipykernel_13394/2454030636.py:158: FutureWarning: `tokenizer` is deprecated and will be removed in version 5.0.0 for `Trainer.__init__`. Use `processing_class` instead.\n",
      "  trainer = Trainer(\n"
     ]
    },
    {
     "name": "stdout",
     "output_type": "stream",
     "text": [
      "[User 51184] Resuming from user_models/user_51184/checkpoint-912\n"
     ]
    },
    {
     "data": {
      "application/vnd.jupyter.widget-view+json": {
       "model_id": "3f2e4d32da0940ffb6f165dfa3f635d3",
       "version_major": 2,
       "version_minor": 0
      },
      "text/plain": [
       "  0%|          | 0/1140 [00:00<?, ?it/s]"
      ]
     },
     "metadata": {},
     "output_type": "display_data"
    },
    {
     "name": "stdout",
     "output_type": "stream",
     "text": [
      "{'loss': 0.1635, 'grad_norm': 0.9840195178985596, 'learning_rate': 8.333333333333334e-06, 'epoch': 8.33}\n",
      "{'loss': 0.1338, 'grad_norm': 0.004239968489855528, 'learning_rate': 6.140350877192982e-06, 'epoch': 8.77}\n"
     ]
    },
    {
     "data": {
      "application/vnd.jupyter.widget-view+json": {
       "model_id": "7560e7052f564278a36370ddd7c70b81",
       "version_major": 2,
       "version_minor": 0
      },
      "text/plain": [
       "  0%|          | 0/29 [00:00<?, ?it/s]"
      ]
     },
     "metadata": {},
     "output_type": "display_data"
    },
    {
     "name": "stdout",
     "output_type": "stream",
     "text": [
      "{'eval_loss': 0.6967489123344421, 'eval_accuracy': 0.9298245614035088, 'eval_f1': 0.9044657097288676, 'eval_runtime': 4.8201, 'eval_samples_per_second': 23.651, 'eval_steps_per_second': 6.016, 'epoch': 9.0}\n",
      "{'loss': 0.1355, 'grad_norm': 0.517867922782898, 'learning_rate': 3.9473684210526315e-06, 'epoch': 9.21}\n",
      "{'loss': 0.1357, 'grad_norm': 0.7190349102020264, 'learning_rate': 1.7543859649122807e-06, 'epoch': 9.65}\n"
     ]
    },
    {
     "data": {
      "application/vnd.jupyter.widget-view+json": {
       "model_id": "4797524b75164aef848c0581bf0bce2e",
       "version_major": 2,
       "version_minor": 0
      },
      "text/plain": [
       "  0%|          | 0/29 [00:00<?, ?it/s]"
      ]
     },
     "metadata": {},
     "output_type": "display_data"
    },
    {
     "name": "stdout",
     "output_type": "stream",
     "text": [
      "{'eval_loss': 0.7403576374053955, 'eval_accuracy': 0.9298245614035088, 'eval_f1': 0.9044657097288676, 'eval_runtime': 4.8617, 'eval_samples_per_second': 23.449, 'eval_steps_per_second': 5.965, 'epoch': 10.0}\n",
      "{'train_runtime': 149.2293, 'train_samples_per_second': 30.557, 'train_steps_per_second': 7.639, 'train_loss': 0.02584436525378311, 'epoch': 10.0}\n"
     ]
    },
    {
     "data": {
      "application/vnd.jupyter.widget-view+json": {
       "model_id": "e8297883a7724cb688b68caa8bc29f14",
       "version_major": 2,
       "version_minor": 0
      },
      "text/plain": [
       "  0%|          | 0/29 [00:00<?, ?it/s]"
      ]
     },
     "metadata": {},
     "output_type": "display_data"
    },
    {
     "name": "stdout",
     "output_type": "stream",
     "text": [
      "[User 51184] Final eval metrics: {'eval_loss': 0.2327311635017395, 'eval_accuracy': 0.9385964912280702, 'eval_f1': 0.9088671906009367, 'eval_runtime': 4.8189, 'eval_samples_per_second': 23.657, 'eval_steps_per_second': 6.018, 'epoch': 10.0}\n"
     ]
    },
    {
     "data": {
      "application/vnd.jupyter.widget-view+json": {
       "model_id": "976165bbde9e4b80b2c4011a8b0526e1",
       "version_major": 2,
       "version_minor": 0
      },
      "text/plain": [
       "model.safetensors:   0%|          | 0.00/598M [00:00<?, ?B/s]"
      ]
     },
     "metadata": {},
     "output_type": "display_data"
    },
    {
     "data": {
      "application/vnd.jupyter.widget-view+json": {
       "model_id": "09b535f4e443405abd82194cf5550bcd",
       "version_major": 2,
       "version_minor": 0
      },
      "text/plain": [
       "events.out.tfevents.1740086286.DN0a1e6b6f.SUNet.13394.61:   0%|          | 0.00/7.70k [00:00<?, ?B/s]"
      ]
     },
     "metadata": {},
     "output_type": "display_data"
    },
    {
     "data": {
      "application/vnd.jupyter.widget-view+json": {
       "model_id": "36bc6a1a797247ce9013d8b0d82d7744",
       "version_major": 2,
       "version_minor": 0
      },
      "text/plain": [
       "events.out.tfevents.1740085462.DN0a1e6b6f.SUNet.13394.30:   0%|          | 0.00/12.9k [00:00<?, ?B/s]"
      ]
     },
     "metadata": {},
     "output_type": "display_data"
    },
    {
     "data": {
      "application/vnd.jupyter.widget-view+json": {
       "model_id": "908c9cf6599045249d79a577859f6cec",
       "version_major": 2,
       "version_minor": 0
      },
      "text/plain": [
       "Upload 5 LFS files:   0%|          | 0/5 [00:00<?, ?it/s]"
      ]
     },
     "metadata": {},
     "output_type": "display_data"
    },
    {
     "data": {
      "application/vnd.jupyter.widget-view+json": {
       "model_id": "336d12436bb04737a6bb66ec2cbb0902",
       "version_major": 2,
       "version_minor": 0
      },
      "text/plain": [
       "events.out.tfevents.1740086440.DN0a1e6b6f.SUNet.13394.62:   0%|          | 0.00/457 [00:00<?, ?B/s]"
      ]
     },
     "metadata": {},
     "output_type": "display_data"
    },
    {
     "data": {
      "application/vnd.jupyter.widget-view+json": {
       "model_id": "6403b9b55a9a47ceb2a8236a3f6a76ac",
       "version_major": 2,
       "version_minor": 0
      },
      "text/plain": [
       "training_args.bin:   0%|          | 0.00/5.43k [00:00<?, ?B/s]"
      ]
     },
     "metadata": {},
     "output_type": "display_data"
    },
    {
     "name": "stdout",
     "output_type": "stream",
     "text": [
      "[User 51184] Done! Best model saved at: user_models/user_51184\n",
      "\n",
      "=== Training model for User 52979 (Answers=577) ===\n"
     ]
    },
    {
     "data": {
      "application/vnd.jupyter.widget-view+json": {
       "model_id": "753afe043090437c95e9a4a99140c7e4",
       "version_major": 2,
       "version_minor": 0
      },
      "text/plain": [
       "Map:   0%|          | 0/461 [00:00<?, ? examples/s]"
      ]
     },
     "metadata": {},
     "output_type": "display_data"
    },
    {
     "data": {
      "application/vnd.jupyter.widget-view+json": {
       "model_id": "8c68ca021fd748689df69b8fba446584",
       "version_major": 2,
       "version_minor": 0
      },
      "text/plain": [
       "Map:   0%|          | 0/116 [00:00<?, ? examples/s]"
      ]
     },
     "metadata": {},
     "output_type": "display_data"
    },
    {
     "name": "stderr",
     "output_type": "stream",
     "text": [
      "Some weights of ModernBertForSequenceClassification were not initialized from the model checkpoint at answerdotai/ModernBERT-base and are newly initialized: ['classifier.bias', 'classifier.weight']\n",
      "You should probably TRAIN this model on a down-stream task to be able to use it for predictions and inference.\n",
      "/opt/homebrew/anaconda3/lib/python3.12/site-packages/transformers/training_args.py:1573: FutureWarning: `evaluation_strategy` is deprecated and will be removed in version 4.46 of 🤗 Transformers. Use `eval_strategy` instead\n",
      "  warnings.warn(\n",
      "/opt/homebrew/anaconda3/lib/python3.12/site-packages/transformers/training_args.py:2241: UserWarning: `use_mps_device` is deprecated and will be removed in version 5.0 of 🤗 Transformers. `mps` device will be used by default if available similar to the way `cuda` device is used.Therefore, no action from user is required. \n",
      "  warnings.warn(\n",
      "/var/folders/58/5cdkrpys1rv_tbq6wq1x69vc0000gq/T/ipykernel_13394/2454030636.py:158: FutureWarning: `tokenizer` is deprecated and will be removed in version 5.0.0 for `Trainer.__init__`. Use `processing_class` instead.\n",
      "  trainer = Trainer(\n"
     ]
    },
    {
     "name": "stdout",
     "output_type": "stream",
     "text": [
      "[User 52979] Starting from scratch...\n"
     ]
    },
    {
     "data": {
      "application/vnd.jupyter.widget-view+json": {
       "model_id": "52a7d5dae26445bd9d47b41fef114a5c",
       "version_major": 2,
       "version_minor": 0
      },
      "text/plain": [
       "  0%|          | 0/1160 [00:00<?, ?it/s]"
      ]
     },
     "metadata": {},
     "output_type": "display_data"
    },
    {
     "name": "stdout",
     "output_type": "stream",
     "text": [
      "{'loss': 0.7187, 'grad_norm': 7.754086017608643, 'learning_rate': 4.78448275862069e-05, 'epoch': 0.43}\n",
      "{'loss': 0.6112, 'grad_norm': 1.5520775318145752, 'learning_rate': 4.5689655172413794e-05, 'epoch': 0.86}\n"
     ]
    },
    {
     "data": {
      "application/vnd.jupyter.widget-view+json": {
       "model_id": "22c3e1000f864602b084e6097c871e91",
       "version_major": 2,
       "version_minor": 0
      },
      "text/plain": [
       "  0%|          | 0/29 [00:00<?, ?it/s]"
      ]
     },
     "metadata": {},
     "output_type": "display_data"
    },
    {
     "name": "stdout",
     "output_type": "stream",
     "text": [
      "{'eval_loss': 0.6812432408332825, 'eval_accuracy': 0.6982758620689655, 'eval_f1': 0.5742166987572204, 'eval_runtime': 4.9073, 'eval_samples_per_second': 23.638, 'eval_steps_per_second': 5.91, 'epoch': 1.0}\n",
      "{'loss': 0.5581, 'grad_norm': 3.7784132957458496, 'learning_rate': 4.353448275862069e-05, 'epoch': 1.29}\n",
      "{'loss': 0.585, 'grad_norm': 1.4393309354782104, 'learning_rate': 4.1379310344827587e-05, 'epoch': 1.72}\n"
     ]
    },
    {
     "data": {
      "application/vnd.jupyter.widget-view+json": {
       "model_id": "80ab56ad4d054d11b9b08ebac6383a09",
       "version_major": 2,
       "version_minor": 0
      },
      "text/plain": [
       "  0%|          | 0/29 [00:00<?, ?it/s]"
      ]
     },
     "metadata": {},
     "output_type": "display_data"
    },
    {
     "name": "stdout",
     "output_type": "stream",
     "text": [
      "{'eval_loss': 0.5826264023780823, 'eval_accuracy': 0.6982758620689655, 'eval_f1': 0.5742166987572204, 'eval_runtime': 4.8941, 'eval_samples_per_second': 23.702, 'eval_steps_per_second': 5.925, 'epoch': 2.0}\n",
      "{'loss': 0.6328, 'grad_norm': 7.173276424407959, 'learning_rate': 3.922413793103448e-05, 'epoch': 2.16}\n",
      "{'loss': 0.5624, 'grad_norm': 2.4226584434509277, 'learning_rate': 3.7068965517241385e-05, 'epoch': 2.59}\n"
     ]
    },
    {
     "data": {
      "application/vnd.jupyter.widget-view+json": {
       "model_id": "1eb5efef17aa411591d03e02d069d4ba",
       "version_major": 2,
       "version_minor": 0
      },
      "text/plain": [
       "  0%|          | 0/29 [00:00<?, ?it/s]"
      ]
     },
     "metadata": {},
     "output_type": "display_data"
    },
    {
     "name": "stdout",
     "output_type": "stream",
     "text": [
      "{'eval_loss': 0.5530815720558167, 'eval_accuracy': 0.6982758620689655, 'eval_f1': 0.5742166987572204, 'eval_runtime': 4.8833, 'eval_samples_per_second': 23.754, 'eval_steps_per_second': 5.939, 'epoch': 3.0}\n",
      "{'loss': 0.7096, 'grad_norm': 1.4513814449310303, 'learning_rate': 3.4913793103448275e-05, 'epoch': 3.02}\n",
      "{'loss': 0.5088, 'grad_norm': 6.544799327850342, 'learning_rate': 3.275862068965517e-05, 'epoch': 3.45}\n",
      "{'loss': 0.5303, 'grad_norm': 5.145565032958984, 'learning_rate': 3.060344827586207e-05, 'epoch': 3.88}\n"
     ]
    },
    {
     "data": {
      "application/vnd.jupyter.widget-view+json": {
       "model_id": "c27e9eb5e24c4aacbf5f312c61ab66a9",
       "version_major": 2,
       "version_minor": 0
      },
      "text/plain": [
       "  0%|          | 0/29 [00:00<?, ?it/s]"
      ]
     },
     "metadata": {},
     "output_type": "display_data"
    },
    {
     "name": "stdout",
     "output_type": "stream",
     "text": [
      "{'eval_loss': 0.5112521648406982, 'eval_accuracy': 0.7327586206896551, 'eval_f1': 0.6970048449938177, 'eval_runtime': 4.8828, 'eval_samples_per_second': 23.757, 'eval_steps_per_second': 5.939, 'epoch': 4.0}\n",
      "{'loss': 0.4377, 'grad_norm': 4.151411533355713, 'learning_rate': 2.844827586206897e-05, 'epoch': 4.31}\n",
      "{'loss': 0.4561, 'grad_norm': 14.526500701904297, 'learning_rate': 2.6293103448275862e-05, 'epoch': 4.74}\n"
     ]
    },
    {
     "data": {
      "application/vnd.jupyter.widget-view+json": {
       "model_id": "e9fe8ba556e2487db4d45a4c7c72a201",
       "version_major": 2,
       "version_minor": 0
      },
      "text/plain": [
       "  0%|          | 0/29 [00:00<?, ?it/s]"
      ]
     },
     "metadata": {},
     "output_type": "display_data"
    },
    {
     "name": "stdout",
     "output_type": "stream",
     "text": [
      "{'eval_loss': 0.6625968813896179, 'eval_accuracy': 0.6896551724137931, 'eval_f1': 0.6988430127041743, 'eval_runtime': 4.8869, 'eval_samples_per_second': 23.737, 'eval_steps_per_second': 5.934, 'epoch': 5.0}\n",
      "{'loss': 0.4223, 'grad_norm': 5.1327738761901855, 'learning_rate': 2.413793103448276e-05, 'epoch': 5.17}\n",
      "{'loss': 0.4441, 'grad_norm': 7.062114715576172, 'learning_rate': 2.1982758620689654e-05, 'epoch': 5.6}\n"
     ]
    },
    {
     "data": {
      "application/vnd.jupyter.widget-view+json": {
       "model_id": "b2a69fafafc34771a954f9cbf63b2bfc",
       "version_major": 2,
       "version_minor": 0
      },
      "text/plain": [
       "  0%|          | 0/29 [00:00<?, ?it/s]"
      ]
     },
     "metadata": {},
     "output_type": "display_data"
    },
    {
     "name": "stdout",
     "output_type": "stream",
     "text": [
      "{'eval_loss': 0.8968421816825867, 'eval_accuracy': 0.7327586206896551, 'eval_f1': 0.6763886327780851, 'eval_runtime': 4.9119, 'eval_samples_per_second': 23.616, 'eval_steps_per_second': 5.904, 'epoch': 6.0}\n",
      "{'loss': 0.4002, 'grad_norm': 0.7256134748458862, 'learning_rate': 1.9827586206896554e-05, 'epoch': 6.03}\n",
      "{'loss': 0.382, 'grad_norm': 4.336787700653076, 'learning_rate': 1.767241379310345e-05, 'epoch': 6.47}\n",
      "{'loss': 0.3491, 'grad_norm': 1.2170711755752563, 'learning_rate': 1.5517241379310346e-05, 'epoch': 6.9}\n"
     ]
    },
    {
     "data": {
      "application/vnd.jupyter.widget-view+json": {
       "model_id": "17eb533a027e46e29b0061ac2d11b974",
       "version_major": 2,
       "version_minor": 0
      },
      "text/plain": [
       "  0%|          | 0/29 [00:00<?, ?it/s]"
      ]
     },
     "metadata": {},
     "output_type": "display_data"
    },
    {
     "name": "stdout",
     "output_type": "stream",
     "text": [
      "{'eval_loss': 3.184399127960205, 'eval_accuracy': 0.6810344827586207, 'eval_f1': 0.5798825378064256, 'eval_runtime': 4.9004, 'eval_samples_per_second': 23.671, 'eval_steps_per_second': 5.918, 'epoch': 7.0}\n",
      "{'loss': 0.3689, 'grad_norm': 1.1690820455551147, 'learning_rate': 1.336206896551724e-05, 'epoch': 7.33}\n",
      "{'loss': 0.375, 'grad_norm': 34.43851089477539, 'learning_rate': 1.1206896551724138e-05, 'epoch': 7.76}\n"
     ]
    },
    {
     "data": {
      "application/vnd.jupyter.widget-view+json": {
       "model_id": "9f7ed65683214294b43834d3b999daf3",
       "version_major": 2,
       "version_minor": 0
      },
      "text/plain": [
       "  0%|          | 0/29 [00:00<?, ?it/s]"
      ]
     },
     "metadata": {},
     "output_type": "display_data"
    },
    {
     "name": "stdout",
     "output_type": "stream",
     "text": [
      "{'eval_loss': 1.9807525873184204, 'eval_accuracy': 0.7068965517241379, 'eval_f1': 0.6708222811671087, 'eval_runtime': 4.9003, 'eval_samples_per_second': 23.672, 'eval_steps_per_second': 5.918, 'epoch': 8.0}\n",
      "{'loss': 0.2613, 'grad_norm': 6.4222941398620605, 'learning_rate': 9.051724137931036e-06, 'epoch': 8.19}\n",
      "{'loss': 0.3126, 'grad_norm': 2.971757411956787, 'learning_rate': 6.896551724137932e-06, 'epoch': 8.62}\n"
     ]
    },
    {
     "data": {
      "application/vnd.jupyter.widget-view+json": {
       "model_id": "dea52db6f8844680906e86e738d5c118",
       "version_major": 2,
       "version_minor": 0
      },
      "text/plain": [
       "  0%|          | 0/29 [00:00<?, ?it/s]"
      ]
     },
     "metadata": {},
     "output_type": "display_data"
    },
    {
     "name": "stdout",
     "output_type": "stream",
     "text": [
      "{'eval_loss': 2.0510575771331787, 'eval_accuracy': 0.6982758620689655, 'eval_f1': 0.669916582540779, 'eval_runtime': 4.8839, 'eval_samples_per_second': 23.752, 'eval_steps_per_second': 5.938, 'epoch': 9.0}\n",
      "{'loss': 0.2889, 'grad_norm': 3.1501693725585938, 'learning_rate': 4.741379310344828e-06, 'epoch': 9.05}\n",
      "{'loss': 0.2823, 'grad_norm': 0.9688918590545654, 'learning_rate': 2.586206896551724e-06, 'epoch': 9.48}\n",
      "{'loss': 0.2865, 'grad_norm': 2.2677109241485596, 'learning_rate': 4.3103448275862073e-07, 'epoch': 9.91}\n"
     ]
    },
    {
     "data": {
      "application/vnd.jupyter.widget-view+json": {
       "model_id": "6cb5ff9436204eaa852a760d05a5a914",
       "version_major": 2,
       "version_minor": 0
      },
      "text/plain": [
       "  0%|          | 0/29 [00:00<?, ?it/s]"
      ]
     },
     "metadata": {},
     "output_type": "display_data"
    },
    {
     "name": "stdout",
     "output_type": "stream",
     "text": [
      "{'eval_loss': 2.442965507507324, 'eval_accuracy': 0.6637931034482759, 'eval_f1': 0.61103932811112, 'eval_runtime': 4.916, 'eval_samples_per_second': 23.596, 'eval_steps_per_second': 5.899, 'epoch': 10.0}\n",
      "{'train_runtime': 749.089, 'train_samples_per_second': 6.154, 'train_steps_per_second': 1.549, 'train_loss': 0.45369186709667075, 'epoch': 10.0}\n"
     ]
    },
    {
     "data": {
      "application/vnd.jupyter.widget-view+json": {
       "model_id": "d32cadf3dccf41b2ae997ff5a07b457a",
       "version_major": 2,
       "version_minor": 0
      },
      "text/plain": [
       "  0%|          | 0/29 [00:00<?, ?it/s]"
      ]
     },
     "metadata": {},
     "output_type": "display_data"
    },
    {
     "name": "stdout",
     "output_type": "stream",
     "text": [
      "[User 52979] Final eval metrics: {'eval_loss': 0.6625968813896179, 'eval_accuracy': 0.6896551724137931, 'eval_f1': 0.6988430127041743, 'eval_runtime': 4.9147, 'eval_samples_per_second': 23.603, 'eval_steps_per_second': 5.901, 'epoch': 10.0}\n"
     ]
    },
    {
     "data": {
      "application/vnd.jupyter.widget-view+json": {
       "model_id": "2efbf33a93a84691bd43f92de808d449",
       "version_major": 2,
       "version_minor": 0
      },
      "text/plain": [
       "events.out.tfevents.1740087228.DN0a1e6b6f.SUNet.13394.64:   0%|          | 0.00/457 [00:00<?, ?B/s]"
      ]
     },
     "metadata": {},
     "output_type": "display_data"
    },
    {
     "data": {
      "application/vnd.jupyter.widget-view+json": {
       "model_id": "2ef3fd8a6fc14a0ab4242dbdd6e52633",
       "version_major": 2,
       "version_minor": 0
      },
      "text/plain": [
       "model.safetensors:   0%|          | 0.00/598M [00:00<?, ?B/s]"
      ]
     },
     "metadata": {},
     "output_type": "display_data"
    },
    {
     "data": {
      "application/vnd.jupyter.widget-view+json": {
       "model_id": "e9bfebeaedd64f7ab26d1af3010fbc86",
       "version_major": 2,
       "version_minor": 0
      },
      "text/plain": [
       "Upload 4 LFS files:   0%|          | 0/4 [00:00<?, ?it/s]"
      ]
     },
     "metadata": {},
     "output_type": "display_data"
    },
    {
     "data": {
      "application/vnd.jupyter.widget-view+json": {
       "model_id": "b9dd606c7f16473690b1aa6210568087",
       "version_major": 2,
       "version_minor": 0
      },
      "text/plain": [
       "training_args.bin:   0%|          | 0.00/5.43k [00:00<?, ?B/s]"
      ]
     },
     "metadata": {},
     "output_type": "display_data"
    },
    {
     "data": {
      "application/vnd.jupyter.widget-view+json": {
       "model_id": "add629d75c4041ef99236bb10b791919",
       "version_major": 2,
       "version_minor": 0
      },
      "text/plain": [
       "events.out.tfevents.1740086474.DN0a1e6b6f.SUNet.13394.63:   0%|          | 0.00/14.6k [00:00<?, ?B/s]"
      ]
     },
     "metadata": {},
     "output_type": "display_data"
    },
    {
     "name": "stdout",
     "output_type": "stream",
     "text": [
      "[User 52979] Done! Best model saved at: user_models/user_52979\n",
      "\n",
      "=== Training model for User 52171 (Answers=579) ===\n"
     ]
    },
    {
     "data": {
      "application/vnd.jupyter.widget-view+json": {
       "model_id": "3a898fc5b1c04ea5b69fa5d0f2fe9694",
       "version_major": 2,
       "version_minor": 0
      },
      "text/plain": [
       "Map:   0%|          | 0/463 [00:00<?, ? examples/s]"
      ]
     },
     "metadata": {},
     "output_type": "display_data"
    },
    {
     "data": {
      "application/vnd.jupyter.widget-view+json": {
       "model_id": "913380cd8f3b428d9adb535381f4c876",
       "version_major": 2,
       "version_minor": 0
      },
      "text/plain": [
       "Map:   0%|          | 0/116 [00:00<?, ? examples/s]"
      ]
     },
     "metadata": {},
     "output_type": "display_data"
    },
    {
     "name": "stderr",
     "output_type": "stream",
     "text": [
      "Some weights of ModernBertForSequenceClassification were not initialized from the model checkpoint at answerdotai/ModernBERT-base and are newly initialized: ['classifier.bias', 'classifier.weight']\n",
      "You should probably TRAIN this model on a down-stream task to be able to use it for predictions and inference.\n",
      "/opt/homebrew/anaconda3/lib/python3.12/site-packages/transformers/training_args.py:1573: FutureWarning: `evaluation_strategy` is deprecated and will be removed in version 4.46 of 🤗 Transformers. Use `eval_strategy` instead\n",
      "  warnings.warn(\n",
      "/opt/homebrew/anaconda3/lib/python3.12/site-packages/transformers/training_args.py:2241: UserWarning: `use_mps_device` is deprecated and will be removed in version 5.0 of 🤗 Transformers. `mps` device will be used by default if available similar to the way `cuda` device is used.Therefore, no action from user is required. \n",
      "  warnings.warn(\n",
      "/var/folders/58/5cdkrpys1rv_tbq6wq1x69vc0000gq/T/ipykernel_13394/2454030636.py:158: FutureWarning: `tokenizer` is deprecated and will be removed in version 5.0.0 for `Trainer.__init__`. Use `processing_class` instead.\n",
      "  trainer = Trainer(\n"
     ]
    },
    {
     "name": "stdout",
     "output_type": "stream",
     "text": [
      "[User 52171] Starting from scratch...\n"
     ]
    },
    {
     "data": {
      "application/vnd.jupyter.widget-view+json": {
       "model_id": "1ee81c6d6f4f476eab127b2c64391621",
       "version_major": 2,
       "version_minor": 0
      },
      "text/plain": [
       "  0%|          | 0/1160 [00:00<?, ?it/s]"
      ]
     },
     "metadata": {},
     "output_type": "display_data"
    },
    {
     "name": "stdout",
     "output_type": "stream",
     "text": [
      "{'loss': 0.5661, 'grad_norm': 0.21722523868083954, 'learning_rate': 4.78448275862069e-05, 'epoch': 0.43}\n",
      "{'loss': 0.6017, 'grad_norm': 3.620434522628784, 'learning_rate': 4.5689655172413794e-05, 'epoch': 0.86}\n"
     ]
    },
    {
     "data": {
      "application/vnd.jupyter.widget-view+json": {
       "model_id": "049394a860974b0a843c6f466d17b346",
       "version_major": 2,
       "version_minor": 0
      },
      "text/plain": [
       "  0%|          | 0/29 [00:00<?, ?it/s]"
      ]
     },
     "metadata": {},
     "output_type": "display_data"
    },
    {
     "name": "stdout",
     "output_type": "stream",
     "text": [
      "{'eval_loss': 0.6944404244422913, 'eval_accuracy': 0.853448275862069, 'eval_f1': 0.7859663191659984, 'eval_runtime': 4.9493, 'eval_samples_per_second': 23.438, 'eval_steps_per_second': 5.859, 'epoch': 1.0}\n",
      "{'loss': 0.3906, 'grad_norm': 0.6139665246009827, 'learning_rate': 4.353448275862069e-05, 'epoch': 1.29}\n",
      "{'loss': 0.4647, 'grad_norm': 0.35983359813690186, 'learning_rate': 4.1379310344827587e-05, 'epoch': 1.72}\n"
     ]
    },
    {
     "data": {
      "application/vnd.jupyter.widget-view+json": {
       "model_id": "7285ed38ab8544fdb7c106fb92fb16f7",
       "version_major": 2,
       "version_minor": 0
      },
      "text/plain": [
       "  0%|          | 0/29 [00:00<?, ?it/s]"
      ]
     },
     "metadata": {},
     "output_type": "display_data"
    },
    {
     "name": "stdout",
     "output_type": "stream",
     "text": [
      "{'eval_loss': 0.42003947496414185, 'eval_accuracy': 0.853448275862069, 'eval_f1': 0.7859663191659984, 'eval_runtime': 4.8524, 'eval_samples_per_second': 23.906, 'eval_steps_per_second': 5.976, 'epoch': 2.0}\n",
      "{'loss': 0.514, 'grad_norm': 2.7646923065185547, 'learning_rate': 3.922413793103448e-05, 'epoch': 2.16}\n",
      "{'loss': 0.3449, 'grad_norm': 3.4657626152038574, 'learning_rate': 3.7068965517241385e-05, 'epoch': 2.59}\n"
     ]
    },
    {
     "data": {
      "application/vnd.jupyter.widget-view+json": {
       "model_id": "791ba04a2f7946259ca00d32fc21f757",
       "version_major": 2,
       "version_minor": 0
      },
      "text/plain": [
       "  0%|          | 0/29 [00:00<?, ?it/s]"
      ]
     },
     "metadata": {},
     "output_type": "display_data"
    },
    {
     "name": "stdout",
     "output_type": "stream",
     "text": [
      "{'eval_loss': 0.4265924096107483, 'eval_accuracy': 0.853448275862069, 'eval_f1': 0.7859663191659984, 'eval_runtime': 4.8605, 'eval_samples_per_second': 23.866, 'eval_steps_per_second': 5.966, 'epoch': 3.0}\n",
      "{'loss': 0.4643, 'grad_norm': 2.6680757999420166, 'learning_rate': 3.4913793103448275e-05, 'epoch': 3.02}\n",
      "{'loss': 0.3628, 'grad_norm': 0.4472881555557251, 'learning_rate': 3.275862068965517e-05, 'epoch': 3.45}\n",
      "{'loss': 0.4472, 'grad_norm': 1.568207859992981, 'learning_rate': 3.060344827586207e-05, 'epoch': 3.88}\n"
     ]
    },
    {
     "data": {
      "application/vnd.jupyter.widget-view+json": {
       "model_id": "018d6dd0b75c4d9b8a838c057fd9224e",
       "version_major": 2,
       "version_minor": 0
      },
      "text/plain": [
       "  0%|          | 0/29 [00:00<?, ?it/s]"
      ]
     },
     "metadata": {},
     "output_type": "display_data"
    },
    {
     "name": "stdout",
     "output_type": "stream",
     "text": [
      "{'eval_loss': 0.7192618250846863, 'eval_accuracy': 0.853448275862069, 'eval_f1': 0.7859663191659984, 'eval_runtime': 4.8771, 'eval_samples_per_second': 23.784, 'eval_steps_per_second': 5.946, 'epoch': 4.0}\n",
      "{'loss': 0.4525, 'grad_norm': 0.7211773991584778, 'learning_rate': 2.844827586206897e-05, 'epoch': 4.31}\n",
      "{'loss': 0.3653, 'grad_norm': 0.30269891023635864, 'learning_rate': 2.6293103448275862e-05, 'epoch': 4.74}\n"
     ]
    },
    {
     "data": {
      "application/vnd.jupyter.widget-view+json": {
       "model_id": "e3bd4e164add47949ab41538bc458142",
       "version_major": 2,
       "version_minor": 0
      },
      "text/plain": [
       "  0%|          | 0/29 [00:00<?, ?it/s]"
      ]
     },
     "metadata": {},
     "output_type": "display_data"
    },
    {
     "name": "stdout",
     "output_type": "stream",
     "text": [
      "{'eval_loss': 0.5816306471824646, 'eval_accuracy': 0.853448275862069, 'eval_f1': 0.7859663191659984, 'eval_runtime': 4.8549, 'eval_samples_per_second': 23.893, 'eval_steps_per_second': 5.973, 'epoch': 5.0}\n",
      "{'loss': 0.4595, 'grad_norm': 0.6073949337005615, 'learning_rate': 2.413793103448276e-05, 'epoch': 5.17}\n",
      "{'loss': 0.325, 'grad_norm': 0.20305407047271729, 'learning_rate': 2.1982758620689654e-05, 'epoch': 5.6}\n"
     ]
    },
    {
     "data": {
      "application/vnd.jupyter.widget-view+json": {
       "model_id": "d295a93b219c453da06cd5ebd2c00ba8",
       "version_major": 2,
       "version_minor": 0
      },
      "text/plain": [
       "  0%|          | 0/29 [00:00<?, ?it/s]"
      ]
     },
     "metadata": {},
     "output_type": "display_data"
    },
    {
     "name": "stdout",
     "output_type": "stream",
     "text": [
      "{'eval_loss': 0.43665608763694763, 'eval_accuracy': 0.8706896551724138, 'eval_f1': 0.8346485186655149, 'eval_runtime': 4.8617, 'eval_samples_per_second': 23.86, 'eval_steps_per_second': 5.965, 'epoch': 6.0}\n",
      "{'loss': 0.3942, 'grad_norm': 0.6542053818702698, 'learning_rate': 1.9827586206896554e-05, 'epoch': 6.03}\n",
      "{'loss': 0.3345, 'grad_norm': 35.637569427490234, 'learning_rate': 1.767241379310345e-05, 'epoch': 6.47}\n",
      "{'loss': 0.2957, 'grad_norm': 9.415839195251465, 'learning_rate': 1.5517241379310346e-05, 'epoch': 6.9}\n"
     ]
    },
    {
     "data": {
      "application/vnd.jupyter.widget-view+json": {
       "model_id": "a75949367b3a40e98e6adfea5d00dd36",
       "version_major": 2,
       "version_minor": 0
      },
      "text/plain": [
       "  0%|          | 0/29 [00:00<?, ?it/s]"
      ]
     },
     "metadata": {},
     "output_type": "display_data"
    },
    {
     "name": "stdout",
     "output_type": "stream",
     "text": [
      "{'eval_loss': 0.5658952593803406, 'eval_accuracy': 0.8706896551724138, 'eval_f1': 0.8346485186655149, 'eval_runtime': 4.878, 'eval_samples_per_second': 23.78, 'eval_steps_per_second': 5.945, 'epoch': 7.0}\n",
      "{'loss': 0.2399, 'grad_norm': 0.26714515686035156, 'learning_rate': 1.336206896551724e-05, 'epoch': 7.33}\n",
      "{'loss': 0.2999, 'grad_norm': 0.3731180429458618, 'learning_rate': 1.1206896551724138e-05, 'epoch': 7.76}\n"
     ]
    },
    {
     "data": {
      "application/vnd.jupyter.widget-view+json": {
       "model_id": "9136b6d021ff421bb7227e927dfc0b26",
       "version_major": 2,
       "version_minor": 0
      },
      "text/plain": [
       "  0%|          | 0/29 [00:00<?, ?it/s]"
      ]
     },
     "metadata": {},
     "output_type": "display_data"
    },
    {
     "name": "stdout",
     "output_type": "stream",
     "text": [
      "{'eval_loss': 0.7242525219917297, 'eval_accuracy': 0.8706896551724138, 'eval_f1': 0.8346485186655149, 'eval_runtime': 4.8591, 'eval_samples_per_second': 23.873, 'eval_steps_per_second': 5.968, 'epoch': 8.0}\n",
      "{'loss': 0.2446, 'grad_norm': 0.5044949054718018, 'learning_rate': 9.051724137931036e-06, 'epoch': 8.19}\n",
      "{'loss': 0.2601, 'grad_norm': 0.298328697681427, 'learning_rate': 6.896551724137932e-06, 'epoch': 8.62}\n"
     ]
    },
    {
     "data": {
      "application/vnd.jupyter.widget-view+json": {
       "model_id": "ae440032c62e46058283fbf41fe4c2e4",
       "version_major": 2,
       "version_minor": 0
      },
      "text/plain": [
       "  0%|          | 0/29 [00:00<?, ?it/s]"
      ]
     },
     "metadata": {},
     "output_type": "display_data"
    },
    {
     "name": "stdout",
     "output_type": "stream",
     "text": [
      "{'eval_loss': 1.014742136001587, 'eval_accuracy': 0.8706896551724138, 'eval_f1': 0.8346485186655149, 'eval_runtime': 4.856, 'eval_samples_per_second': 23.888, 'eval_steps_per_second': 5.972, 'epoch': 9.0}\n",
      "{'loss': 0.1183, 'grad_norm': 0.06588847190141678, 'learning_rate': 4.741379310344828e-06, 'epoch': 9.05}\n",
      "{'loss': 0.2691, 'grad_norm': 0.20073652267456055, 'learning_rate': 2.586206896551724e-06, 'epoch': 9.48}\n",
      "{'loss': 0.1696, 'grad_norm': 0.5768171548843384, 'learning_rate': 4.3103448275862073e-07, 'epoch': 9.91}\n"
     ]
    },
    {
     "data": {
      "application/vnd.jupyter.widget-view+json": {
       "model_id": "9a999c3293a049b3858f616a85f0d3bb",
       "version_major": 2,
       "version_minor": 0
      },
      "text/plain": [
       "  0%|          | 0/29 [00:00<?, ?it/s]"
      ]
     },
     "metadata": {},
     "output_type": "display_data"
    },
    {
     "name": "stdout",
     "output_type": "stream",
     "text": [
      "{'eval_loss': 0.971697211265564, 'eval_accuracy': 0.8706896551724138, 'eval_f1': 0.8346485186655149, 'eval_runtime': 4.8722, 'eval_samples_per_second': 23.809, 'eval_steps_per_second': 5.952, 'epoch': 10.0}\n",
      "{'train_runtime': 746.5941, 'train_samples_per_second': 6.201, 'train_steps_per_second': 1.554, 'train_loss': 0.3631989271476351, 'epoch': 10.0}\n"
     ]
    },
    {
     "data": {
      "application/vnd.jupyter.widget-view+json": {
       "model_id": "27e7d5aa955149568ac4c273a1132eb3",
       "version_major": 2,
       "version_minor": 0
      },
      "text/plain": [
       "  0%|          | 0/29 [00:00<?, ?it/s]"
      ]
     },
     "metadata": {},
     "output_type": "display_data"
    },
    {
     "name": "stdout",
     "output_type": "stream",
     "text": [
      "[User 52171] Final eval metrics: {'eval_loss': 0.43665608763694763, 'eval_accuracy': 0.8706896551724138, 'eval_f1': 0.8346485186655149, 'eval_runtime': 4.8615, 'eval_samples_per_second': 23.861, 'eval_steps_per_second': 5.965, 'epoch': 10.0}\n"
     ]
    },
    {
     "data": {
      "application/vnd.jupyter.widget-view+json": {
       "model_id": "0c8c7d8e1fea40b1b733aec4560c1a78",
       "version_major": 2,
       "version_minor": 0
      },
      "text/plain": [
       "training_args.bin:   0%|          | 0.00/5.43k [00:00<?, ?B/s]"
      ]
     },
     "metadata": {},
     "output_type": "display_data"
    },
    {
     "data": {
      "application/vnd.jupyter.widget-view+json": {
       "model_id": "ad3eedebd077467fa014a73c8979ecea",
       "version_major": 2,
       "version_minor": 0
      },
      "text/plain": [
       "model.safetensors:   0%|          | 0.00/598M [00:00<?, ?B/s]"
      ]
     },
     "metadata": {},
     "output_type": "display_data"
    },
    {
     "data": {
      "application/vnd.jupyter.widget-view+json": {
       "model_id": "2746ff36f81446048276db228dfcfe38",
       "version_major": 2,
       "version_minor": 0
      },
      "text/plain": [
       "Upload 4 LFS files:   0%|          | 0/4 [00:00<?, ?it/s]"
      ]
     },
     "metadata": {},
     "output_type": "display_data"
    },
    {
     "data": {
      "application/vnd.jupyter.widget-view+json": {
       "model_id": "37fa94aace2842f7ac85bd59889fbb83",
       "version_major": 2,
       "version_minor": 0
      },
      "text/plain": [
       "events.out.tfevents.1740087261.DN0a1e6b6f.SUNet.13394.65:   0%|          | 0.00/14.6k [00:00<?, ?B/s]"
      ]
     },
     "metadata": {},
     "output_type": "display_data"
    },
    {
     "data": {
      "application/vnd.jupyter.widget-view+json": {
       "model_id": "1837d3ef652748f8989293c323cc56fd",
       "version_major": 2,
       "version_minor": 0
      },
      "text/plain": [
       "events.out.tfevents.1740088013.DN0a1e6b6f.SUNet.13394.66:   0%|          | 0.00/457 [00:00<?, ?B/s]"
      ]
     },
     "metadata": {},
     "output_type": "display_data"
    },
    {
     "name": "stdout",
     "output_type": "stream",
     "text": [
      "[User 52171] Done! Best model saved at: user_models/user_52171\n",
      "\n",
      "=== Training model for User 53024 (Answers=596) ===\n"
     ]
    },
    {
     "data": {
      "application/vnd.jupyter.widget-view+json": {
       "model_id": "90ee61db24be4f67844923164c2a1757",
       "version_major": 2,
       "version_minor": 0
      },
      "text/plain": [
       "Map:   0%|          | 0/476 [00:00<?, ? examples/s]"
      ]
     },
     "metadata": {},
     "output_type": "display_data"
    },
    {
     "data": {
      "application/vnd.jupyter.widget-view+json": {
       "model_id": "052fd432b4c24328a0c781e3803d0254",
       "version_major": 2,
       "version_minor": 0
      },
      "text/plain": [
       "Map:   0%|          | 0/120 [00:00<?, ? examples/s]"
      ]
     },
     "metadata": {},
     "output_type": "display_data"
    },
    {
     "name": "stderr",
     "output_type": "stream",
     "text": [
      "Some weights of ModernBertForSequenceClassification were not initialized from the model checkpoint at answerdotai/ModernBERT-base and are newly initialized: ['classifier.bias', 'classifier.weight']\n",
      "You should probably TRAIN this model on a down-stream task to be able to use it for predictions and inference.\n",
      "/opt/homebrew/anaconda3/lib/python3.12/site-packages/transformers/training_args.py:1573: FutureWarning: `evaluation_strategy` is deprecated and will be removed in version 4.46 of 🤗 Transformers. Use `eval_strategy` instead\n",
      "  warnings.warn(\n",
      "/opt/homebrew/anaconda3/lib/python3.12/site-packages/transformers/training_args.py:2241: UserWarning: `use_mps_device` is deprecated and will be removed in version 5.0 of 🤗 Transformers. `mps` device will be used by default if available similar to the way `cuda` device is used.Therefore, no action from user is required. \n",
      "  warnings.warn(\n",
      "/var/folders/58/5cdkrpys1rv_tbq6wq1x69vc0000gq/T/ipykernel_13394/2454030636.py:158: FutureWarning: `tokenizer` is deprecated and will be removed in version 5.0.0 for `Trainer.__init__`. Use `processing_class` instead.\n",
      "  trainer = Trainer(\n"
     ]
    },
    {
     "name": "stdout",
     "output_type": "stream",
     "text": [
      "[User 53024] Starting from scratch...\n"
     ]
    },
    {
     "data": {
      "application/vnd.jupyter.widget-view+json": {
       "model_id": "d1fdbcbb309a4c99859127284195661d",
       "version_major": 2,
       "version_minor": 0
      },
      "text/plain": [
       "  0%|          | 0/1190 [00:00<?, ?it/s]"
      ]
     },
     "metadata": {},
     "output_type": "display_data"
    },
    {
     "name": "stdout",
     "output_type": "stream",
     "text": [
      "{'loss': 0.8828, 'grad_norm': 7.452171802520752, 'learning_rate': 4.7899159663865554e-05, 'epoch': 0.42}\n",
      "{'loss': 0.6879, 'grad_norm': 4.814461708068848, 'learning_rate': 4.579831932773109e-05, 'epoch': 0.84}\n"
     ]
    },
    {
     "data": {
      "application/vnd.jupyter.widget-view+json": {
       "model_id": "d050f2704d5f4f568a313741c5d7f48d",
       "version_major": 2,
       "version_minor": 0
      },
      "text/plain": [
       "  0%|          | 0/30 [00:00<?, ?it/s]"
      ]
     },
     "metadata": {},
     "output_type": "display_data"
    },
    {
     "name": "stdout",
     "output_type": "stream",
     "text": [
      "{'eval_loss': 0.7603553533554077, 'eval_accuracy': 0.5833333333333334, 'eval_f1': 0.4298245614035087, 'eval_runtime': 5.0616, 'eval_samples_per_second': 23.708, 'eval_steps_per_second': 5.927, 'epoch': 1.0}\n",
      "{'loss': 0.6734, 'grad_norm': 3.785757541656494, 'learning_rate': 4.369747899159664e-05, 'epoch': 1.26}\n",
      "{'loss': 0.7698, 'grad_norm': 2.3328115940093994, 'learning_rate': 4.159663865546219e-05, 'epoch': 1.68}\n"
     ]
    },
    {
     "data": {
      "application/vnd.jupyter.widget-view+json": {
       "model_id": "79b65f0a768a4eb5b2e340326481c17f",
       "version_major": 2,
       "version_minor": 0
      },
      "text/plain": [
       "  0%|          | 0/30 [00:00<?, ?it/s]"
      ]
     },
     "metadata": {},
     "output_type": "display_data"
    },
    {
     "name": "stdout",
     "output_type": "stream",
     "text": [
      "{'eval_loss': 0.6613768339157104, 'eval_accuracy': 0.5916666666666667, 'eval_f1': 0.5433091646526099, 'eval_runtime': 5.0549, 'eval_samples_per_second': 23.739, 'eval_steps_per_second': 5.935, 'epoch': 2.0}\n",
      "{'loss': 0.6702, 'grad_norm': 5.849123954772949, 'learning_rate': 3.949579831932773e-05, 'epoch': 2.1}\n",
      "{'loss': 0.6543, 'grad_norm': 2.9164631366729736, 'learning_rate': 3.739495798319328e-05, 'epoch': 2.52}\n",
      "{'loss': 0.6787, 'grad_norm': 4.397680282592773, 'learning_rate': 3.529411764705883e-05, 'epoch': 2.94}\n"
     ]
    },
    {
     "data": {
      "application/vnd.jupyter.widget-view+json": {
       "model_id": "94417826a0114de2a9d97194663e9db5",
       "version_major": 2,
       "version_minor": 0
      },
      "text/plain": [
       "  0%|          | 0/30 [00:00<?, ?it/s]"
      ]
     },
     "metadata": {},
     "output_type": "display_data"
    },
    {
     "name": "stdout",
     "output_type": "stream",
     "text": [
      "{'eval_loss': 0.6741365790367126, 'eval_accuracy': 0.5833333333333334, 'eval_f1': 0.4298245614035087, 'eval_runtime': 5.0557, 'eval_samples_per_second': 23.736, 'eval_steps_per_second': 5.934, 'epoch': 3.0}\n",
      "{'loss': 0.6164, 'grad_norm': 1.8681111335754395, 'learning_rate': 3.319327731092437e-05, 'epoch': 3.36}\n",
      "{'loss': 0.6924, 'grad_norm': 1.5994086265563965, 'learning_rate': 3.1092436974789916e-05, 'epoch': 3.78}\n"
     ]
    },
    {
     "data": {
      "application/vnd.jupyter.widget-view+json": {
       "model_id": "691d7be4dec0405dadac46ae2c18a714",
       "version_major": 2,
       "version_minor": 0
      },
      "text/plain": [
       "  0%|          | 0/30 [00:00<?, ?it/s]"
      ]
     },
     "metadata": {},
     "output_type": "display_data"
    },
    {
     "name": "stdout",
     "output_type": "stream",
     "text": [
      "{'eval_loss': 0.6491380929946899, 'eval_accuracy': 0.65, 'eval_f1': 0.6442420681551116, 'eval_runtime': 5.0451, 'eval_samples_per_second': 23.786, 'eval_steps_per_second': 5.946, 'epoch': 4.0}\n",
      "{'loss': 0.6526, 'grad_norm': 1.7433885335922241, 'learning_rate': 2.8991596638655467e-05, 'epoch': 4.2}\n",
      "{'loss': 0.6026, 'grad_norm': 5.737093925476074, 'learning_rate': 2.689075630252101e-05, 'epoch': 4.62}\n"
     ]
    },
    {
     "data": {
      "application/vnd.jupyter.widget-view+json": {
       "model_id": "962469c108b0456d934e1ed8de1e8081",
       "version_major": 2,
       "version_minor": 0
      },
      "text/plain": [
       "  0%|          | 0/30 [00:00<?, ?it/s]"
      ]
     },
     "metadata": {},
     "output_type": "display_data"
    },
    {
     "name": "stdout",
     "output_type": "stream",
     "text": [
      "{'eval_loss': 0.709734320640564, 'eval_accuracy': 0.5833333333333334, 'eval_f1': 0.586123511904762, 'eval_runtime': 5.0591, 'eval_samples_per_second': 23.719, 'eval_steps_per_second': 5.93, 'epoch': 5.0}\n",
      "{'loss': 0.6296, 'grad_norm': 6.263751983642578, 'learning_rate': 2.4789915966386556e-05, 'epoch': 5.04}\n",
      "{'loss': 0.5697, 'grad_norm': 1.4917885065078735, 'learning_rate': 2.26890756302521e-05, 'epoch': 5.46}\n",
      "{'loss': 0.5982, 'grad_norm': 4.141619682312012, 'learning_rate': 2.058823529411765e-05, 'epoch': 5.88}\n"
     ]
    },
    {
     "data": {
      "application/vnd.jupyter.widget-view+json": {
       "model_id": "295006b8b2af4d4483d74561450a17e6",
       "version_major": 2,
       "version_minor": 0
      },
      "text/plain": [
       "  0%|          | 0/30 [00:00<?, ?it/s]"
      ]
     },
     "metadata": {},
     "output_type": "display_data"
    },
    {
     "name": "stdout",
     "output_type": "stream",
     "text": [
      "{'eval_loss': 0.8315696716308594, 'eval_accuracy': 0.6, 'eval_f1': 0.5201159840521928, 'eval_runtime': 5.1732, 'eval_samples_per_second': 23.197, 'eval_steps_per_second': 5.799, 'epoch': 6.0}\n",
      "{'loss': 0.6184, 'grad_norm': 18.486391067504883, 'learning_rate': 1.8487394957983196e-05, 'epoch': 6.3}\n",
      "{'loss': 0.547, 'grad_norm': 5.931907653808594, 'learning_rate': 1.638655462184874e-05, 'epoch': 6.72}\n"
     ]
    },
    {
     "data": {
      "application/vnd.jupyter.widget-view+json": {
       "model_id": "7577a96321254c2683c5a2ae0341a640",
       "version_major": 2,
       "version_minor": 0
      },
      "text/plain": [
       "  0%|          | 0/30 [00:00<?, ?it/s]"
      ]
     },
     "metadata": {},
     "output_type": "display_data"
    },
    {
     "name": "stdout",
     "output_type": "stream",
     "text": [
      "{'eval_loss': 0.8988639712333679, 'eval_accuracy': 0.625, 'eval_f1': 0.6068989333128694, 'eval_runtime': 5.0599, 'eval_samples_per_second': 23.716, 'eval_steps_per_second': 5.929, 'epoch': 7.0}\n",
      "{'loss': 0.5518, 'grad_norm': 4.1270222663879395, 'learning_rate': 1.4285714285714285e-05, 'epoch': 7.14}\n",
      "{'loss': 0.5409, 'grad_norm': 2.6953299045562744, 'learning_rate': 1.2184873949579832e-05, 'epoch': 7.56}\n",
      "{'loss': 0.4963, 'grad_norm': 1.6217085123062134, 'learning_rate': 1.008403361344538e-05, 'epoch': 7.98}\n"
     ]
    },
    {
     "data": {
      "application/vnd.jupyter.widget-view+json": {
       "model_id": "0505ee8ada6349698a2104295ddb448a",
       "version_major": 2,
       "version_minor": 0
      },
      "text/plain": [
       "  0%|          | 0/30 [00:00<?, ?it/s]"
      ]
     },
     "metadata": {},
     "output_type": "display_data"
    },
    {
     "name": "stdout",
     "output_type": "stream",
     "text": [
      "{'eval_loss': 0.9226388931274414, 'eval_accuracy': 0.6166666666666667, 'eval_f1': 0.6081481481481481, 'eval_runtime': 5.0733, 'eval_samples_per_second': 23.653, 'eval_steps_per_second': 5.913, 'epoch': 8.0}\n",
      "{'loss': 0.4777, 'grad_norm': 2.020547389984131, 'learning_rate': 7.983193277310924e-06, 'epoch': 8.4}\n",
      "{'loss': 0.5702, 'grad_norm': 8.358563423156738, 'learning_rate': 5.882352941176471e-06, 'epoch': 8.82}\n"
     ]
    },
    {
     "data": {
      "application/vnd.jupyter.widget-view+json": {
       "model_id": "f33941f11ab741d6a1c04baeda02670e",
       "version_major": 2,
       "version_minor": 0
      },
      "text/plain": [
       "  0%|          | 0/30 [00:00<?, ?it/s]"
      ]
     },
     "metadata": {},
     "output_type": "display_data"
    },
    {
     "name": "stdout",
     "output_type": "stream",
     "text": [
      "{'eval_loss': 1.0809396505355835, 'eval_accuracy': 0.625, 'eval_f1': 0.6068989333128694, 'eval_runtime': 5.0716, 'eval_samples_per_second': 23.661, 'eval_steps_per_second': 5.915, 'epoch': 9.0}\n",
      "{'loss': 0.4343, 'grad_norm': 3.0617306232452393, 'learning_rate': 3.7815126050420167e-06, 'epoch': 9.24}\n",
      "{'loss': 0.4701, 'grad_norm': 5.63592529296875, 'learning_rate': 1.680672268907563e-06, 'epoch': 9.66}\n"
     ]
    },
    {
     "data": {
      "application/vnd.jupyter.widget-view+json": {
       "model_id": "e1c319459e9443bfb9663cfe0b9c085b",
       "version_major": 2,
       "version_minor": 0
      },
      "text/plain": [
       "  0%|          | 0/30 [00:00<?, ?it/s]"
      ]
     },
     "metadata": {},
     "output_type": "display_data"
    },
    {
     "name": "stdout",
     "output_type": "stream",
     "text": [
      "{'eval_loss': 1.1174461841583252, 'eval_accuracy': 0.6166666666666667, 'eval_f1': 0.5998168498168499, 'eval_runtime': 5.1184, 'eval_samples_per_second': 23.445, 'eval_steps_per_second': 5.861, 'epoch': 10.0}\n",
      "{'train_runtime': 768.4239, 'train_samples_per_second': 6.194, 'train_steps_per_second': 1.549, 'train_loss': 0.6095558214588326, 'epoch': 10.0}\n"
     ]
    },
    {
     "data": {
      "application/vnd.jupyter.widget-view+json": {
       "model_id": "14df582188fc456682559ab43e4bdd83",
       "version_major": 2,
       "version_minor": 0
      },
      "text/plain": [
       "  0%|          | 0/30 [00:00<?, ?it/s]"
      ]
     },
     "metadata": {},
     "output_type": "display_data"
    },
    {
     "name": "stdout",
     "output_type": "stream",
     "text": [
      "[User 53024] Final eval metrics: {'eval_loss': 0.6491380929946899, 'eval_accuracy': 0.65, 'eval_f1': 0.6442420681551116, 'eval_runtime': 5.1385, 'eval_samples_per_second': 23.353, 'eval_steps_per_second': 5.838, 'epoch': 10.0}\n"
     ]
    },
    {
     "data": {
      "application/vnd.jupyter.widget-view+json": {
       "model_id": "b853cce4227346bca81f173427ce864a",
       "version_major": 2,
       "version_minor": 0
      },
      "text/plain": [
       "events.out.tfevents.1740088046.DN0a1e6b6f.SUNet.13394.67:   0%|          | 0.00/14.6k [00:00<?, ?B/s]"
      ]
     },
     "metadata": {},
     "output_type": "display_data"
    },
    {
     "data": {
      "application/vnd.jupyter.widget-view+json": {
       "model_id": "087824be5df44249920427bc518a090c",
       "version_major": 2,
       "version_minor": 0
      },
      "text/plain": [
       "model.safetensors:   0%|          | 0.00/598M [00:00<?, ?B/s]"
      ]
     },
     "metadata": {},
     "output_type": "display_data"
    },
    {
     "data": {
      "application/vnd.jupyter.widget-view+json": {
       "model_id": "f1b85c6a46ab4d5d985b792cc2d1a0ab",
       "version_major": 2,
       "version_minor": 0
      },
      "text/plain": [
       "training_args.bin:   0%|          | 0.00/5.43k [00:00<?, ?B/s]"
      ]
     },
     "metadata": {},
     "output_type": "display_data"
    },
    {
     "data": {
      "application/vnd.jupyter.widget-view+json": {
       "model_id": "c7aa0dd5cc85453cb8df5cbd49a3eca2",
       "version_major": 2,
       "version_minor": 0
      },
      "text/plain": [
       "Upload 4 LFS files:   0%|          | 0/4 [00:00<?, ?it/s]"
      ]
     },
     "metadata": {},
     "output_type": "display_data"
    },
    {
     "data": {
      "application/vnd.jupyter.widget-view+json": {
       "model_id": "9fc51fa799834e1c8f058a348363fe82",
       "version_major": 2,
       "version_minor": 0
      },
      "text/plain": [
       "events.out.tfevents.1740088819.DN0a1e6b6f.SUNet.13394.68:   0%|          | 0.00/457 [00:00<?, ?B/s]"
      ]
     },
     "metadata": {},
     "output_type": "display_data"
    },
    {
     "name": "stdout",
     "output_type": "stream",
     "text": [
      "[User 53024] Done! Best model saved at: user_models/user_53024\n",
      "\n",
      "=== Training model for User 52989 (Answers=597) ===\n"
     ]
    },
    {
     "data": {
      "application/vnd.jupyter.widget-view+json": {
       "model_id": "f41048de19df4474b5c2a85d71cd4e4c",
       "version_major": 2,
       "version_minor": 0
      },
      "text/plain": [
       "Map:   0%|          | 0/477 [00:00<?, ? examples/s]"
      ]
     },
     "metadata": {},
     "output_type": "display_data"
    },
    {
     "data": {
      "application/vnd.jupyter.widget-view+json": {
       "model_id": "5665d4b65ba6413db80a19d6c67ce67e",
       "version_major": 2,
       "version_minor": 0
      },
      "text/plain": [
       "Map:   0%|          | 0/120 [00:00<?, ? examples/s]"
      ]
     },
     "metadata": {},
     "output_type": "display_data"
    },
    {
     "name": "stderr",
     "output_type": "stream",
     "text": [
      "Some weights of ModernBertForSequenceClassification were not initialized from the model checkpoint at answerdotai/ModernBERT-base and are newly initialized: ['classifier.bias', 'classifier.weight']\n",
      "You should probably TRAIN this model on a down-stream task to be able to use it for predictions and inference.\n",
      "/opt/homebrew/anaconda3/lib/python3.12/site-packages/transformers/training_args.py:1573: FutureWarning: `evaluation_strategy` is deprecated and will be removed in version 4.46 of 🤗 Transformers. Use `eval_strategy` instead\n",
      "  warnings.warn(\n",
      "/opt/homebrew/anaconda3/lib/python3.12/site-packages/transformers/training_args.py:2241: UserWarning: `use_mps_device` is deprecated and will be removed in version 5.0 of 🤗 Transformers. `mps` device will be used by default if available similar to the way `cuda` device is used.Therefore, no action from user is required. \n",
      "  warnings.warn(\n",
      "/var/folders/58/5cdkrpys1rv_tbq6wq1x69vc0000gq/T/ipykernel_13394/2454030636.py:158: FutureWarning: `tokenizer` is deprecated and will be removed in version 5.0.0 for `Trainer.__init__`. Use `processing_class` instead.\n",
      "  trainer = Trainer(\n"
     ]
    },
    {
     "name": "stdout",
     "output_type": "stream",
     "text": [
      "[User 52989] Starting from scratch...\n"
     ]
    },
    {
     "data": {
      "application/vnd.jupyter.widget-view+json": {
       "model_id": "be3f8aa14be445e2b11e65c2535fb8ac",
       "version_major": 2,
       "version_minor": 0
      },
      "text/plain": [
       "  0%|          | 0/1200 [00:00<?, ?it/s]"
      ]
     },
     "metadata": {},
     "output_type": "display_data"
    },
    {
     "name": "stdout",
     "output_type": "stream",
     "text": [
      "{'loss': 0.8602, 'grad_norm': 8.630634307861328, 'learning_rate': 4.791666666666667e-05, 'epoch': 0.42}\n",
      "{'loss': 0.5949, 'grad_norm': 13.008700370788574, 'learning_rate': 4.5833333333333334e-05, 'epoch': 0.83}\n"
     ]
    },
    {
     "data": {
      "application/vnd.jupyter.widget-view+json": {
       "model_id": "8ee9e3781c2642799561aa788fae3f4e",
       "version_major": 2,
       "version_minor": 0
      },
      "text/plain": [
       "  0%|          | 0/30 [00:00<?, ?it/s]"
      ]
     },
     "metadata": {},
     "output_type": "display_data"
    },
    {
     "name": "stdout",
     "output_type": "stream",
     "text": [
      "{'eval_loss': 0.5777505040168762, 'eval_accuracy': 0.7583333333333333, 'eval_f1': 0.6541074249605056, 'eval_runtime': 5.0686, 'eval_samples_per_second': 23.675, 'eval_steps_per_second': 5.919, 'epoch': 1.0}\n",
      "{'loss': 0.7408, 'grad_norm': 7.796112060546875, 'learning_rate': 4.375e-05, 'epoch': 1.25}\n",
      "{'loss': 0.5667, 'grad_norm': 2.4560654163360596, 'learning_rate': 4.166666666666667e-05, 'epoch': 1.67}\n"
     ]
    },
    {
     "data": {
      "application/vnd.jupyter.widget-view+json": {
       "model_id": "68549abf374c467fb062c907f9f83810",
       "version_major": 2,
       "version_minor": 0
      },
      "text/plain": [
       "  0%|          | 0/30 [00:00<?, ?it/s]"
      ]
     },
     "metadata": {},
     "output_type": "display_data"
    },
    {
     "name": "stdout",
     "output_type": "stream",
     "text": [
      "{'eval_loss': 0.5868874788284302, 'eval_accuracy': 0.7583333333333333, 'eval_f1': 0.6541074249605056, 'eval_runtime': 5.0912, 'eval_samples_per_second': 23.57, 'eval_steps_per_second': 5.893, 'epoch': 2.0}\n",
      "{'loss': 0.6168, 'grad_norm': 5.061364650726318, 'learning_rate': 3.958333333333333e-05, 'epoch': 2.08}\n",
      "{'loss': 0.5861, 'grad_norm': 1.5025814771652222, 'learning_rate': 3.7500000000000003e-05, 'epoch': 2.5}\n",
      "{'loss': 0.583, 'grad_norm': 1.9211422204971313, 'learning_rate': 3.541666666666667e-05, 'epoch': 2.92}\n"
     ]
    },
    {
     "data": {
      "application/vnd.jupyter.widget-view+json": {
       "model_id": "9bf994b075be4bed984d6ce1ea7ded21",
       "version_major": 2,
       "version_minor": 0
      },
      "text/plain": [
       "  0%|          | 0/30 [00:00<?, ?it/s]"
      ]
     },
     "metadata": {},
     "output_type": "display_data"
    },
    {
     "name": "stdout",
     "output_type": "stream",
     "text": [
      "{'eval_loss': 0.5279809832572937, 'eval_accuracy': 0.775, 'eval_f1': 0.7136933797909408, 'eval_runtime': 5.0739, 'eval_samples_per_second': 23.65, 'eval_steps_per_second': 5.913, 'epoch': 3.0}\n",
      "{'loss': 0.5406, 'grad_norm': 2.9999606609344482, 'learning_rate': 3.3333333333333335e-05, 'epoch': 3.33}\n",
      "{'loss': 0.5453, 'grad_norm': 4.639827728271484, 'learning_rate': 3.125e-05, 'epoch': 3.75}\n"
     ]
    },
    {
     "data": {
      "application/vnd.jupyter.widget-view+json": {
       "model_id": "cdc2894dd6af48ffbdb3944470a22b91",
       "version_major": 2,
       "version_minor": 0
      },
      "text/plain": [
       "  0%|          | 0/30 [00:00<?, ?it/s]"
      ]
     },
     "metadata": {},
     "output_type": "display_data"
    },
    {
     "name": "stdout",
     "output_type": "stream",
     "text": [
      "{'eval_loss': 0.531540036201477, 'eval_accuracy': 0.7583333333333333, 'eval_f1': 0.7314814814814815, 'eval_runtime': 5.0533, 'eval_samples_per_second': 23.747, 'eval_steps_per_second': 5.937, 'epoch': 4.0}\n",
      "{'loss': 0.6444, 'grad_norm': 1.5316095352172852, 'learning_rate': 2.916666666666667e-05, 'epoch': 4.17}\n",
      "{'loss': 0.5219, 'grad_norm': 5.579716205596924, 'learning_rate': 2.7083333333333332e-05, 'epoch': 4.58}\n",
      "{'loss': 0.5984, 'grad_norm': 8.292757987976074, 'learning_rate': 2.5e-05, 'epoch': 5.0}\n"
     ]
    },
    {
     "data": {
      "application/vnd.jupyter.widget-view+json": {
       "model_id": "9ec51d4e03d24b48829b8ce9475b606f",
       "version_major": 2,
       "version_minor": 0
      },
      "text/plain": [
       "  0%|          | 0/30 [00:00<?, ?it/s]"
      ]
     },
     "metadata": {},
     "output_type": "display_data"
    },
    {
     "name": "stdout",
     "output_type": "stream",
     "text": [
      "{'eval_loss': 0.6141159534454346, 'eval_accuracy': 0.725, 'eval_f1': 0.6875044268681384, 'eval_runtime': 5.0267, 'eval_samples_per_second': 23.873, 'eval_steps_per_second': 5.968, 'epoch': 5.0}\n",
      "{'loss': 0.4082, 'grad_norm': 0.41211292147636414, 'learning_rate': 2.2916666666666667e-05, 'epoch': 5.42}\n",
      "{'loss': 0.7011, 'grad_norm': 4.033714294433594, 'learning_rate': 2.0833333333333336e-05, 'epoch': 5.83}\n"
     ]
    },
    {
     "data": {
      "application/vnd.jupyter.widget-view+json": {
       "model_id": "63c6829627654900addc8bbd6a0ef3a8",
       "version_major": 2,
       "version_minor": 0
      },
      "text/plain": [
       "  0%|          | 0/30 [00:00<?, ?it/s]"
      ]
     },
     "metadata": {},
     "output_type": "display_data"
    },
    {
     "name": "stdout",
     "output_type": "stream",
     "text": [
      "{'eval_loss': 0.5704391598701477, 'eval_accuracy': 0.7583333333333333, 'eval_f1': 0.6924854819976771, 'eval_runtime': 5.057, 'eval_samples_per_second': 23.729, 'eval_steps_per_second': 5.932, 'epoch': 6.0}\n",
      "{'loss': 0.4311, 'grad_norm': 0.5008652210235596, 'learning_rate': 1.8750000000000002e-05, 'epoch': 6.25}\n",
      "{'loss': 0.4868, 'grad_norm': 2.4662160873413086, 'learning_rate': 1.6666666666666667e-05, 'epoch': 6.67}\n"
     ]
    },
    {
     "data": {
      "application/vnd.jupyter.widget-view+json": {
       "model_id": "de1394512d6b43959325c86741dba23d",
       "version_major": 2,
       "version_minor": 0
      },
      "text/plain": [
       "  0%|          | 0/30 [00:00<?, ?it/s]"
      ]
     },
     "metadata": {},
     "output_type": "display_data"
    },
    {
     "name": "stdout",
     "output_type": "stream",
     "text": [
      "{'eval_loss': 0.745458722114563, 'eval_accuracy': 0.725, 'eval_f1': 0.6875044268681384, 'eval_runtime': 5.0615, 'eval_samples_per_second': 23.708, 'eval_steps_per_second': 5.927, 'epoch': 7.0}\n",
      "{'loss': 0.5115, 'grad_norm': 0.6501550078392029, 'learning_rate': 1.4583333333333335e-05, 'epoch': 7.08}\n",
      "{'loss': 0.4245, 'grad_norm': 4.758299827575684, 'learning_rate': 1.25e-05, 'epoch': 7.5}\n",
      "{'loss': 0.4696, 'grad_norm': 4.277594566345215, 'learning_rate': 1.0416666666666668e-05, 'epoch': 7.92}\n"
     ]
    },
    {
     "data": {
      "application/vnd.jupyter.widget-view+json": {
       "model_id": "dc95a59154044c659732d130e2d2e9ab",
       "version_major": 2,
       "version_minor": 0
      },
      "text/plain": [
       "  0%|          | 0/30 [00:00<?, ?it/s]"
      ]
     },
     "metadata": {},
     "output_type": "display_data"
    },
    {
     "name": "stdout",
     "output_type": "stream",
     "text": [
      "{'eval_loss': 0.7030568718910217, 'eval_accuracy': 0.725, 'eval_f1': 0.6797340360338276, 'eval_runtime': 5.0552, 'eval_samples_per_second': 23.738, 'eval_steps_per_second': 5.934, 'epoch': 8.0}\n",
      "{'loss': 0.401, 'grad_norm': 3.054361581802368, 'learning_rate': 8.333333333333334e-06, 'epoch': 8.33}\n",
      "{'loss': 0.4697, 'grad_norm': 2.5863826274871826, 'learning_rate': 6.25e-06, 'epoch': 8.75}\n"
     ]
    },
    {
     "data": {
      "application/vnd.jupyter.widget-view+json": {
       "model_id": "b954f6c950604db2ba1c9770e6038ebe",
       "version_major": 2,
       "version_minor": 0
      },
      "text/plain": [
       "  0%|          | 0/30 [00:00<?, ?it/s]"
      ]
     },
     "metadata": {},
     "output_type": "display_data"
    },
    {
     "name": "stdout",
     "output_type": "stream",
     "text": [
      "{'eval_loss': 0.8112096190452576, 'eval_accuracy': 0.7333333333333333, 'eval_f1': 0.6763592148688553, 'eval_runtime': 5.0657, 'eval_samples_per_second': 23.689, 'eval_steps_per_second': 5.922, 'epoch': 9.0}\n",
      "{'loss': 0.4455, 'grad_norm': 9.950785636901855, 'learning_rate': 4.166666666666667e-06, 'epoch': 9.17}\n",
      "{'loss': 0.3896, 'grad_norm': 0.6737775802612305, 'learning_rate': 2.0833333333333334e-06, 'epoch': 9.58}\n",
      "{'loss': 0.4771, 'grad_norm': 1.022727370262146, 'learning_rate': 0.0, 'epoch': 10.0}\n"
     ]
    },
    {
     "data": {
      "application/vnd.jupyter.widget-view+json": {
       "model_id": "dea7f0f9aaf74cda91b1a13c2f0cd2d7",
       "version_major": 2,
       "version_minor": 0
      },
      "text/plain": [
       "  0%|          | 0/30 [00:00<?, ?it/s]"
      ]
     },
     "metadata": {},
     "output_type": "display_data"
    },
    {
     "name": "stdout",
     "output_type": "stream",
     "text": [
      "{'eval_loss': 0.9093745350837708, 'eval_accuracy': 0.7333333333333333, 'eval_f1': 0.6763592148688553, 'eval_runtime': 5.0647, 'eval_samples_per_second': 23.693, 'eval_steps_per_second': 5.923, 'epoch': 10.0}\n",
      "{'train_runtime': 771.4893, 'train_samples_per_second': 6.183, 'train_steps_per_second': 1.555, 'train_loss': 0.5422897291183472, 'epoch': 10.0}\n"
     ]
    },
    {
     "data": {
      "application/vnd.jupyter.widget-view+json": {
       "model_id": "7270cfedaaa14bc6b93bf31286d42772",
       "version_major": 2,
       "version_minor": 0
      },
      "text/plain": [
       "  0%|          | 0/30 [00:00<?, ?it/s]"
      ]
     },
     "metadata": {},
     "output_type": "display_data"
    },
    {
     "name": "stdout",
     "output_type": "stream",
     "text": [
      "[User 52989] Final eval metrics: {'eval_loss': 0.531540036201477, 'eval_accuracy': 0.7583333333333333, 'eval_f1': 0.7314814814814815, 'eval_runtime': 5.0555, 'eval_samples_per_second': 23.737, 'eval_steps_per_second': 5.934, 'epoch': 10.0}\n"
     ]
    },
    {
     "data": {
      "application/vnd.jupyter.widget-view+json": {
       "model_id": "36bc5a19bbde424a96c14e792a912a23",
       "version_major": 2,
       "version_minor": 0
      },
      "text/plain": [
       "events.out.tfevents.1740089629.DN0a1e6b6f.SUNet.13394.70:   0%|          | 0.00/457 [00:00<?, ?B/s]"
      ]
     },
     "metadata": {},
     "output_type": "display_data"
    },
    {
     "data": {
      "application/vnd.jupyter.widget-view+json": {
       "model_id": "b30966056f0645cabeeecf7d7c09fa8e",
       "version_major": 2,
       "version_minor": 0
      },
      "text/plain": [
       "training_args.bin:   0%|          | 0.00/5.43k [00:00<?, ?B/s]"
      ]
     },
     "metadata": {},
     "output_type": "display_data"
    },
    {
     "data": {
      "application/vnd.jupyter.widget-view+json": {
       "model_id": "a4193ed76129409da01e85e2e0d059e7",
       "version_major": 2,
       "version_minor": 0
      },
      "text/plain": [
       "events.out.tfevents.1740088853.DN0a1e6b6f.SUNet.13394.69:   0%|          | 0.00/14.9k [00:00<?, ?B/s]"
      ]
     },
     "metadata": {},
     "output_type": "display_data"
    },
    {
     "data": {
      "application/vnd.jupyter.widget-view+json": {
       "model_id": "ec72869cff1a4b9dbaac307164cec089",
       "version_major": 2,
       "version_minor": 0
      },
      "text/plain": [
       "model.safetensors:   0%|          | 0.00/598M [00:00<?, ?B/s]"
      ]
     },
     "metadata": {},
     "output_type": "display_data"
    },
    {
     "data": {
      "application/vnd.jupyter.widget-view+json": {
       "model_id": "7b87ae3abb5e40b990b1f88fb4f80fc9",
       "version_major": 2,
       "version_minor": 0
      },
      "text/plain": [
       "Upload 4 LFS files:   0%|          | 0/4 [00:00<?, ?it/s]"
      ]
     },
     "metadata": {},
     "output_type": "display_data"
    },
    {
     "name": "stdout",
     "output_type": "stream",
     "text": [
      "[User 52989] Done! Best model saved at: user_models/user_52989\n",
      "\n",
      "=== Training model for User 52912 (Answers=602) ===\n"
     ]
    },
    {
     "data": {
      "application/vnd.jupyter.widget-view+json": {
       "model_id": "43f40690bc694483880f157162373569",
       "version_major": 2,
       "version_minor": 0
      },
      "text/plain": [
       "Map:   0%|          | 0/481 [00:00<?, ? examples/s]"
      ]
     },
     "metadata": {},
     "output_type": "display_data"
    },
    {
     "data": {
      "application/vnd.jupyter.widget-view+json": {
       "model_id": "0301fa1f7b674df7bd8ab41e02ab4acd",
       "version_major": 2,
       "version_minor": 0
      },
      "text/plain": [
       "Map:   0%|          | 0/121 [00:00<?, ? examples/s]"
      ]
     },
     "metadata": {},
     "output_type": "display_data"
    },
    {
     "name": "stderr",
     "output_type": "stream",
     "text": [
      "Some weights of ModernBertForSequenceClassification were not initialized from the model checkpoint at answerdotai/ModernBERT-base and are newly initialized: ['classifier.bias', 'classifier.weight']\n",
      "You should probably TRAIN this model on a down-stream task to be able to use it for predictions and inference.\n",
      "/opt/homebrew/anaconda3/lib/python3.12/site-packages/transformers/training_args.py:1573: FutureWarning: `evaluation_strategy` is deprecated and will be removed in version 4.46 of 🤗 Transformers. Use `eval_strategy` instead\n",
      "  warnings.warn(\n",
      "/opt/homebrew/anaconda3/lib/python3.12/site-packages/transformers/training_args.py:2241: UserWarning: `use_mps_device` is deprecated and will be removed in version 5.0 of 🤗 Transformers. `mps` device will be used by default if available similar to the way `cuda` device is used.Therefore, no action from user is required. \n",
      "  warnings.warn(\n",
      "/var/folders/58/5cdkrpys1rv_tbq6wq1x69vc0000gq/T/ipykernel_13394/2454030636.py:158: FutureWarning: `tokenizer` is deprecated and will be removed in version 5.0.0 for `Trainer.__init__`. Use `processing_class` instead.\n",
      "  trainer = Trainer(\n"
     ]
    },
    {
     "name": "stdout",
     "output_type": "stream",
     "text": [
      "[User 52912] Starting from scratch...\n"
     ]
    },
    {
     "data": {
      "application/vnd.jupyter.widget-view+json": {
       "model_id": "e84fef80c98c41ff8436487faa72d686",
       "version_major": 2,
       "version_minor": 0
      },
      "text/plain": [
       "  0%|          | 0/1210 [00:00<?, ?it/s]"
      ]
     },
     "metadata": {},
     "output_type": "display_data"
    },
    {
     "name": "stdout",
     "output_type": "stream",
     "text": [
      "{'loss': 0.9676, 'grad_norm': 27.799015045166016, 'learning_rate': 4.793388429752066e-05, 'epoch': 0.41}\n",
      "{'loss': 0.9183, 'grad_norm': 7.1295928955078125, 'learning_rate': 4.586776859504133e-05, 'epoch': 0.83}\n"
     ]
    },
    {
     "data": {
      "application/vnd.jupyter.widget-view+json": {
       "model_id": "678f555b97214dab9b9749735dbf22a5",
       "version_major": 2,
       "version_minor": 0
      },
      "text/plain": [
       "  0%|          | 0/31 [00:00<?, ?it/s]"
      ]
     },
     "metadata": {},
     "output_type": "display_data"
    },
    {
     "name": "stdout",
     "output_type": "stream",
     "text": [
      "{'eval_loss': 0.6630536317825317, 'eval_accuracy': 0.7355371900826446, 'eval_f1': 0.6449266091821679, 'eval_runtime': 5.1295, 'eval_samples_per_second': 23.589, 'eval_steps_per_second': 6.043, 'epoch': 1.0}\n",
      "{'loss': 0.5681, 'grad_norm': 2.273611068725586, 'learning_rate': 4.3801652892561984e-05, 'epoch': 1.24}\n",
      "{'loss': 0.686, 'grad_norm': 1.8391352891921997, 'learning_rate': 4.1735537190082645e-05, 'epoch': 1.65}\n"
     ]
    },
    {
     "data": {
      "application/vnd.jupyter.widget-view+json": {
       "model_id": "d32316a9f0fd4236aa8427841bc0f512",
       "version_major": 2,
       "version_minor": 0
      },
      "text/plain": [
       "  0%|          | 0/31 [00:00<?, ?it/s]"
      ]
     },
     "metadata": {},
     "output_type": "display_data"
    },
    {
     "name": "stdout",
     "output_type": "stream",
     "text": [
      "{'eval_loss': 0.7324346303939819, 'eval_accuracy': 0.7107438016528925, 'eval_f1': 0.5905697289096499, 'eval_runtime': 5.1266, 'eval_samples_per_second': 23.602, 'eval_steps_per_second': 6.047, 'epoch': 2.0}\n",
      "{'loss': 0.5246, 'grad_norm': 2.4367523193359375, 'learning_rate': 3.9669421487603306e-05, 'epoch': 2.07}\n",
      "{'loss': 0.5731, 'grad_norm': 1.0966717004776, 'learning_rate': 3.760330578512397e-05, 'epoch': 2.48}\n",
      "{'loss': 0.5257, 'grad_norm': 1.4551324844360352, 'learning_rate': 3.553719008264463e-05, 'epoch': 2.89}\n"
     ]
    },
    {
     "data": {
      "application/vnd.jupyter.widget-view+json": {
       "model_id": "af09c3c8e6a34f2ab22d39af6706f55e",
       "version_major": 2,
       "version_minor": 0
      },
      "text/plain": [
       "  0%|          | 0/31 [00:00<?, ?it/s]"
      ]
     },
     "metadata": {},
     "output_type": "display_data"
    },
    {
     "name": "stdout",
     "output_type": "stream",
     "text": [
      "{'eval_loss': 0.633296549320221, 'eval_accuracy': 0.6776859504132231, 'eval_f1': 0.626153874387506, 'eval_runtime': 5.1358, 'eval_samples_per_second': 23.56, 'eval_steps_per_second': 6.036, 'epoch': 3.0}\n",
      "{'loss': 0.5936, 'grad_norm': 1.6217870712280273, 'learning_rate': 3.347107438016529e-05, 'epoch': 3.31}\n",
      "{'loss': 0.6187, 'grad_norm': 1.3563333749771118, 'learning_rate': 3.1404958677685955e-05, 'epoch': 3.72}\n"
     ]
    },
    {
     "data": {
      "application/vnd.jupyter.widget-view+json": {
       "model_id": "3cc7fb1718cd4fc6a83aa25d971bdcc7",
       "version_major": 2,
       "version_minor": 0
      },
      "text/plain": [
       "  0%|          | 0/31 [00:00<?, ?it/s]"
      ]
     },
     "metadata": {},
     "output_type": "display_data"
    },
    {
     "name": "stdout",
     "output_type": "stream",
     "text": [
      "{'eval_loss': 0.5985391139984131, 'eval_accuracy': 0.7107438016528925, 'eval_f1': 0.5905697289096499, 'eval_runtime': 5.1493, 'eval_samples_per_second': 23.498, 'eval_steps_per_second': 6.02, 'epoch': 4.0}\n",
      "{'loss': 0.5549, 'grad_norm': 1.8407971858978271, 'learning_rate': 2.9338842975206616e-05, 'epoch': 4.13}\n",
      "{'loss': 0.5625, 'grad_norm': 1.2623966932296753, 'learning_rate': 2.7272727272727273e-05, 'epoch': 4.55}\n",
      "{'loss': 0.5858, 'grad_norm': 2.4956252574920654, 'learning_rate': 2.5206611570247934e-05, 'epoch': 4.96}\n"
     ]
    },
    {
     "data": {
      "application/vnd.jupyter.widget-view+json": {
       "model_id": "a46bbc1d96fa474b993ded2640a1668d",
       "version_major": 2,
       "version_minor": 0
      },
      "text/plain": [
       "  0%|          | 0/31 [00:00<?, ?it/s]"
      ]
     },
     "metadata": {},
     "output_type": "display_data"
    },
    {
     "name": "stdout",
     "output_type": "stream",
     "text": [
      "{'eval_loss': 0.5971818566322327, 'eval_accuracy': 0.6859504132231405, 'eval_f1': 0.5783503484038244, 'eval_runtime': 5.1328, 'eval_samples_per_second': 23.574, 'eval_steps_per_second': 6.04, 'epoch': 5.0}\n",
      "{'loss': 0.4879, 'grad_norm': 3.381999969482422, 'learning_rate': 2.3140495867768598e-05, 'epoch': 5.37}\n",
      "{'loss': 0.5963, 'grad_norm': 2.9258294105529785, 'learning_rate': 2.1074380165289255e-05, 'epoch': 5.79}\n"
     ]
    },
    {
     "data": {
      "application/vnd.jupyter.widget-view+json": {
       "model_id": "f9f81211445b4047ae9d6c4b05beb6b0",
       "version_major": 2,
       "version_minor": 0
      },
      "text/plain": [
       "  0%|          | 0/31 [00:00<?, ?it/s]"
      ]
     },
     "metadata": {},
     "output_type": "display_data"
    },
    {
     "name": "stdout",
     "output_type": "stream",
     "text": [
      "{'eval_loss': 0.7665849924087524, 'eval_accuracy': 0.71900826446281, 'eval_f1': 0.6095063610509329, 'eval_runtime': 5.1599, 'eval_samples_per_second': 23.45, 'eval_steps_per_second': 6.008, 'epoch': 6.0}\n",
      "{'loss': 0.5645, 'grad_norm': 1.4010648727416992, 'learning_rate': 1.900826446280992e-05, 'epoch': 6.2}\n",
      "{'loss': 0.4543, 'grad_norm': 0.5545366406440735, 'learning_rate': 1.694214876033058e-05, 'epoch': 6.61}\n"
     ]
    },
    {
     "data": {
      "application/vnd.jupyter.widget-view+json": {
       "model_id": "ece8032da3904b319679523366687273",
       "version_major": 2,
       "version_minor": 0
      },
      "text/plain": [
       "  0%|          | 0/31 [00:00<?, ?it/s]"
      ]
     },
     "metadata": {},
     "output_type": "display_data"
    },
    {
     "name": "stdout",
     "output_type": "stream",
     "text": [
      "{'eval_loss': 0.8971520066261292, 'eval_accuracy': 0.6363636363636364, 'eval_f1': 0.604594330400782, 'eval_runtime': 5.1208, 'eval_samples_per_second': 23.629, 'eval_steps_per_second': 6.054, 'epoch': 7.0}\n",
      "{'loss': 0.4319, 'grad_norm': 4.506198406219482, 'learning_rate': 1.487603305785124e-05, 'epoch': 7.02}\n",
      "{'loss': 0.4426, 'grad_norm': 1.2599655389785767, 'learning_rate': 1.2809917355371901e-05, 'epoch': 7.44}\n",
      "{'loss': 0.5685, 'grad_norm': 2.227383613586426, 'learning_rate': 1.0743801652892564e-05, 'epoch': 7.85}\n"
     ]
    },
    {
     "data": {
      "application/vnd.jupyter.widget-view+json": {
       "model_id": "2f380c4bbb024434a836014facf3014f",
       "version_major": 2,
       "version_minor": 0
      },
      "text/plain": [
       "  0%|          | 0/31 [00:00<?, ?it/s]"
      ]
     },
     "metadata": {},
     "output_type": "display_data"
    },
    {
     "name": "stdout",
     "output_type": "stream",
     "text": [
      "{'eval_loss': 0.8760265111923218, 'eval_accuracy': 0.7024793388429752, 'eval_f1': 0.6341096919609317, 'eval_runtime': 5.1541, 'eval_samples_per_second': 23.476, 'eval_steps_per_second': 6.015, 'epoch': 8.0}\n",
      "{'loss': 0.4361, 'grad_norm': 5.771166801452637, 'learning_rate': 8.677685950413224e-06, 'epoch': 8.26}\n",
      "{'loss': 0.4627, 'grad_norm': 4.15530252456665, 'learning_rate': 6.611570247933885e-06, 'epoch': 8.68}\n"
     ]
    },
    {
     "data": {
      "application/vnd.jupyter.widget-view+json": {
       "model_id": "4c5abd9bfc754f4688c17d668eaa86a9",
       "version_major": 2,
       "version_minor": 0
      },
      "text/plain": [
       "  0%|          | 0/31 [00:00<?, ?it/s]"
      ]
     },
     "metadata": {},
     "output_type": "display_data"
    },
    {
     "name": "stdout",
     "output_type": "stream",
     "text": [
      "{'eval_loss': 0.8976389765739441, 'eval_accuracy': 0.6694214876033058, 'eval_f1': 0.6278649580084987, 'eval_runtime': 5.1304, 'eval_samples_per_second': 23.585, 'eval_steps_per_second': 6.042, 'epoch': 9.0}\n",
      "{'loss': 0.4004, 'grad_norm': 0.8380221724510193, 'learning_rate': 4.5454545454545455e-06, 'epoch': 9.09}\n",
      "{'loss': 0.4342, 'grad_norm': 2.080738067626953, 'learning_rate': 2.4793388429752066e-06, 'epoch': 9.5}\n",
      "{'loss': 0.3526, 'grad_norm': 3.6189234256744385, 'learning_rate': 4.132231404958678e-07, 'epoch': 9.92}\n"
     ]
    },
    {
     "data": {
      "application/vnd.jupyter.widget-view+json": {
       "model_id": "ba65d053f7ed4880a357ae70d4ded7c1",
       "version_major": 2,
       "version_minor": 0
      },
      "text/plain": [
       "  0%|          | 0/31 [00:00<?, ?it/s]"
      ]
     },
     "metadata": {},
     "output_type": "display_data"
    },
    {
     "name": "stdout",
     "output_type": "stream",
     "text": [
      "{'eval_loss': 0.9439116716384888, 'eval_accuracy': 0.6776859504132231, 'eval_f1': 0.6404896799407949, 'eval_runtime': 5.1277, 'eval_samples_per_second': 23.597, 'eval_steps_per_second': 6.046, 'epoch': 10.0}\n",
      "{'train_runtime': 775.9672, 'train_samples_per_second': 6.199, 'train_steps_per_second': 1.559, 'train_loss': 0.5522258017673966, 'epoch': 10.0}\n"
     ]
    },
    {
     "data": {
      "application/vnd.jupyter.widget-view+json": {
       "model_id": "6eac6812785e4adfbf06dfb19f7ca268",
       "version_major": 2,
       "version_minor": 0
      },
      "text/plain": [
       "  0%|          | 0/31 [00:00<?, ?it/s]"
      ]
     },
     "metadata": {},
     "output_type": "display_data"
    },
    {
     "name": "stdout",
     "output_type": "stream",
     "text": [
      "[User 52912] Final eval metrics: {'eval_loss': 0.6630536317825317, 'eval_accuracy': 0.7355371900826446, 'eval_f1': 0.6449266091821679, 'eval_runtime': 5.1462, 'eval_samples_per_second': 23.513, 'eval_steps_per_second': 6.024, 'epoch': 10.0}\n"
     ]
    },
    {
     "data": {
      "application/vnd.jupyter.widget-view+json": {
       "model_id": "9b2600d499de40f68c21e7d7308f74a1",
       "version_major": 2,
       "version_minor": 0
      },
      "text/plain": [
       "events.out.tfevents.1740089663.DN0a1e6b6f.SUNet.13394.71:   0%|          | 0.00/14.9k [00:00<?, ?B/s]"
      ]
     },
     "metadata": {},
     "output_type": "display_data"
    },
    {
     "data": {
      "application/vnd.jupyter.widget-view+json": {
       "model_id": "18183a8de22143fc9555cc093a40fedc",
       "version_major": 2,
       "version_minor": 0
      },
      "text/plain": [
       "model.safetensors:   0%|          | 0.00/598M [00:00<?, ?B/s]"
      ]
     },
     "metadata": {},
     "output_type": "display_data"
    },
    {
     "data": {
      "application/vnd.jupyter.widget-view+json": {
       "model_id": "4cf0fa5b621d4b98941288151988f6dd",
       "version_major": 2,
       "version_minor": 0
      },
      "text/plain": [
       "Upload 4 LFS files:   0%|          | 0/4 [00:00<?, ?it/s]"
      ]
     },
     "metadata": {},
     "output_type": "display_data"
    },
    {
     "data": {
      "application/vnd.jupyter.widget-view+json": {
       "model_id": "77acc9f42f7542d2b7d5f58c93f0467c",
       "version_major": 2,
       "version_minor": 0
      },
      "text/plain": [
       "events.out.tfevents.1740090444.DN0a1e6b6f.SUNet.13394.72:   0%|          | 0.00/457 [00:00<?, ?B/s]"
      ]
     },
     "metadata": {},
     "output_type": "display_data"
    },
    {
     "data": {
      "application/vnd.jupyter.widget-view+json": {
       "model_id": "447f2531affd4428bebb7dcb49f8c094",
       "version_major": 2,
       "version_minor": 0
      },
      "text/plain": [
       "training_args.bin:   0%|          | 0.00/5.43k [00:00<?, ?B/s]"
      ]
     },
     "metadata": {},
     "output_type": "display_data"
    },
    {
     "name": "stdout",
     "output_type": "stream",
     "text": [
      "[User 52912] Done! Best model saved at: user_models/user_52912\n",
      "\n",
      "=== Training model for User 52991 (Answers=616) ===\n"
     ]
    },
    {
     "data": {
      "application/vnd.jupyter.widget-view+json": {
       "model_id": "80e0f368e75a487eb307145f2f93c589",
       "version_major": 2,
       "version_minor": 0
      },
      "text/plain": [
       "Map:   0%|          | 0/492 [00:00<?, ? examples/s]"
      ]
     },
     "metadata": {},
     "output_type": "display_data"
    },
    {
     "data": {
      "application/vnd.jupyter.widget-view+json": {
       "model_id": "49c396c6e83442c79f3424d2f3ef619c",
       "version_major": 2,
       "version_minor": 0
      },
      "text/plain": [
       "Map:   0%|          | 0/124 [00:00<?, ? examples/s]"
      ]
     },
     "metadata": {},
     "output_type": "display_data"
    },
    {
     "name": "stderr",
     "output_type": "stream",
     "text": [
      "Some weights of ModernBertForSequenceClassification were not initialized from the model checkpoint at answerdotai/ModernBERT-base and are newly initialized: ['classifier.bias', 'classifier.weight']\n",
      "You should probably TRAIN this model on a down-stream task to be able to use it for predictions and inference.\n",
      "/opt/homebrew/anaconda3/lib/python3.12/site-packages/transformers/training_args.py:1573: FutureWarning: `evaluation_strategy` is deprecated and will be removed in version 4.46 of 🤗 Transformers. Use `eval_strategy` instead\n",
      "  warnings.warn(\n",
      "/opt/homebrew/anaconda3/lib/python3.12/site-packages/transformers/training_args.py:2241: UserWarning: `use_mps_device` is deprecated and will be removed in version 5.0 of 🤗 Transformers. `mps` device will be used by default if available similar to the way `cuda` device is used.Therefore, no action from user is required. \n",
      "  warnings.warn(\n",
      "/var/folders/58/5cdkrpys1rv_tbq6wq1x69vc0000gq/T/ipykernel_13394/2454030636.py:158: FutureWarning: `tokenizer` is deprecated and will be removed in version 5.0.0 for `Trainer.__init__`. Use `processing_class` instead.\n",
      "  trainer = Trainer(\n"
     ]
    },
    {
     "name": "stdout",
     "output_type": "stream",
     "text": [
      "[User 52991] Starting from scratch...\n"
     ]
    },
    {
     "data": {
      "application/vnd.jupyter.widget-view+json": {
       "model_id": "aa70e8847e1f4a91b79f6b6a45bb16ef",
       "version_major": 2,
       "version_minor": 0
      },
      "text/plain": [
       "  0%|          | 0/1230 [00:00<?, ?it/s]"
      ]
     },
     "metadata": {},
     "output_type": "display_data"
    },
    {
     "name": "stdout",
     "output_type": "stream",
     "text": [
      "{'loss': 0.5668, 'grad_norm': 0.4901951849460602, 'learning_rate': 4.796747967479675e-05, 'epoch': 0.41}\n",
      "{'loss': 0.5076, 'grad_norm': 1.2764301300048828, 'learning_rate': 4.59349593495935e-05, 'epoch': 0.81}\n"
     ]
    },
    {
     "data": {
      "application/vnd.jupyter.widget-view+json": {
       "model_id": "6400b86c50e84779a48dacccfd71a0b8",
       "version_major": 2,
       "version_minor": 0
      },
      "text/plain": [
       "  0%|          | 0/31 [00:00<?, ?it/s]"
      ]
     },
     "metadata": {},
     "output_type": "display_data"
    },
    {
     "name": "stdout",
     "output_type": "stream",
     "text": [
      "{'eval_loss': 0.482997328042984, 'eval_accuracy': 0.8790322580645161, 'eval_f1': 0.8224421985324658, 'eval_runtime': 5.2289, 'eval_samples_per_second': 23.715, 'eval_steps_per_second': 5.929, 'epoch': 1.0}\n",
      "{'loss': 0.4347, 'grad_norm': 0.13889920711517334, 'learning_rate': 4.390243902439025e-05, 'epoch': 1.22}\n",
      "{'loss': 0.4526, 'grad_norm': 0.16600972414016724, 'learning_rate': 4.186991869918699e-05, 'epoch': 1.63}\n"
     ]
    },
    {
     "data": {
      "application/vnd.jupyter.widget-view+json": {
       "model_id": "78915caddc3e476b8a88978af2e67e60",
       "version_major": 2,
       "version_minor": 0
      },
      "text/plain": [
       "  0%|          | 0/31 [00:00<?, ?it/s]"
      ]
     },
     "metadata": {},
     "output_type": "display_data"
    },
    {
     "name": "stdout",
     "output_type": "stream",
     "text": [
      "{'eval_loss': 0.4928465485572815, 'eval_accuracy': 0.8790322580645161, 'eval_f1': 0.8224421985324658, 'eval_runtime': 5.2511, 'eval_samples_per_second': 23.614, 'eval_steps_per_second': 5.904, 'epoch': 2.0}\n",
      "{'loss': 0.3294, 'grad_norm': 0.2907229959964752, 'learning_rate': 3.983739837398374e-05, 'epoch': 2.03}\n",
      "{'loss': 0.4205, 'grad_norm': 4.962575435638428, 'learning_rate': 3.780487804878049e-05, 'epoch': 2.44}\n",
      "{'loss': 0.2756, 'grad_norm': 0.18938970565795898, 'learning_rate': 3.577235772357724e-05, 'epoch': 2.85}\n"
     ]
    },
    {
     "data": {
      "application/vnd.jupyter.widget-view+json": {
       "model_id": "d697fa9d86d842119b397c1517256e90",
       "version_major": 2,
       "version_minor": 0
      },
      "text/plain": [
       "  0%|          | 0/31 [00:00<?, ?it/s]"
      ]
     },
     "metadata": {},
     "output_type": "display_data"
    },
    {
     "name": "stdout",
     "output_type": "stream",
     "text": [
      "{'eval_loss': 0.4606013000011444, 'eval_accuracy': 0.8790322580645161, 'eval_f1': 0.8224421985324658, 'eval_runtime': 5.2367, 'eval_samples_per_second': 23.679, 'eval_steps_per_second': 5.92, 'epoch': 3.0}\n",
      "{'loss': 0.2404, 'grad_norm': 0.19231177866458893, 'learning_rate': 3.373983739837399e-05, 'epoch': 3.25}\n",
      "{'loss': 0.38, 'grad_norm': 9.687187194824219, 'learning_rate': 3.170731707317073e-05, 'epoch': 3.66}\n"
     ]
    },
    {
     "data": {
      "application/vnd.jupyter.widget-view+json": {
       "model_id": "3b85367aef8441a6a985017b9189eeb4",
       "version_major": 2,
       "version_minor": 0
      },
      "text/plain": [
       "  0%|          | 0/31 [00:00<?, ?it/s]"
      ]
     },
     "metadata": {},
     "output_type": "display_data"
    },
    {
     "name": "stdout",
     "output_type": "stream",
     "text": [
      "{'eval_loss': 0.4357147216796875, 'eval_accuracy': 0.8790322580645161, 'eval_f1': 0.8224421985324658, 'eval_runtime': 5.23, 'eval_samples_per_second': 23.71, 'eval_steps_per_second': 5.927, 'epoch': 4.0}\n",
      "{'loss': 0.3263, 'grad_norm': 0.22143788635730743, 'learning_rate': 2.9674796747967482e-05, 'epoch': 4.07}\n",
      "{'loss': 0.2769, 'grad_norm': 0.09173323214054108, 'learning_rate': 2.764227642276423e-05, 'epoch': 4.47}\n",
      "{'loss': 0.3232, 'grad_norm': 0.21085265278816223, 'learning_rate': 2.5609756097560977e-05, 'epoch': 4.88}\n"
     ]
    },
    {
     "data": {
      "application/vnd.jupyter.widget-view+json": {
       "model_id": "333af7c37f7148e59a2f4e9fe683a669",
       "version_major": 2,
       "version_minor": 0
      },
      "text/plain": [
       "  0%|          | 0/31 [00:00<?, ?it/s]"
      ]
     },
     "metadata": {},
     "output_type": "display_data"
    },
    {
     "name": "stdout",
     "output_type": "stream",
     "text": [
      "{'eval_loss': 0.51115882396698, 'eval_accuracy': 0.8870967741935484, 'eval_f1': 0.8411081757508343, 'eval_runtime': 6.2189, 'eval_samples_per_second': 19.939, 'eval_steps_per_second': 4.985, 'epoch': 5.0}\n",
      "{'loss': 0.2659, 'grad_norm': 3.0059568881988525, 'learning_rate': 2.3577235772357724e-05, 'epoch': 5.28}\n",
      "{'loss': 0.2722, 'grad_norm': 0.7431789636611938, 'learning_rate': 2.1544715447154475e-05, 'epoch': 5.69}\n"
     ]
    },
    {
     "data": {
      "application/vnd.jupyter.widget-view+json": {
       "model_id": "6b51bcfd3b2346a98739ebcd8703a55a",
       "version_major": 2,
       "version_minor": 0
      },
      "text/plain": [
       "  0%|          | 0/31 [00:00<?, ?it/s]"
      ]
     },
     "metadata": {},
     "output_type": "display_data"
    },
    {
     "name": "stdout",
     "output_type": "stream",
     "text": [
      "{'eval_loss': 0.5154097080230713, 'eval_accuracy': 0.8790322580645161, 'eval_f1': 0.8224421985324658, 'eval_runtime': 6.1841, 'eval_samples_per_second': 20.052, 'eval_steps_per_second': 5.013, 'epoch': 6.0}\n",
      "{'loss': 0.2107, 'grad_norm': 4.669829845428467, 'learning_rate': 1.9512195121951222e-05, 'epoch': 6.1}\n",
      "{'loss': 0.2287, 'grad_norm': 0.20341315865516663, 'learning_rate': 1.747967479674797e-05, 'epoch': 6.5}\n",
      "{'loss': 0.2302, 'grad_norm': 0.22016245126724243, 'learning_rate': 1.5447154471544717e-05, 'epoch': 6.91}\n"
     ]
    },
    {
     "data": {
      "application/vnd.jupyter.widget-view+json": {
       "model_id": "c6764c2a34b64468b3246c225448cfed",
       "version_major": 2,
       "version_minor": 0
      },
      "text/plain": [
       "  0%|          | 0/31 [00:00<?, ?it/s]"
      ]
     },
     "metadata": {},
     "output_type": "display_data"
    },
    {
     "name": "stdout",
     "output_type": "stream",
     "text": [
      "{'eval_loss': 0.5740196108818054, 'eval_accuracy': 0.8790322580645161, 'eval_f1': 0.8224421985324658, 'eval_runtime': 6.1829, 'eval_samples_per_second': 20.055, 'eval_steps_per_second': 5.014, 'epoch': 7.0}\n",
      "{'loss': 0.1827, 'grad_norm': 0.03740270808339119, 'learning_rate': 1.3414634146341466e-05, 'epoch': 7.32}\n",
      "{'loss': 0.2432, 'grad_norm': 0.23656319081783295, 'learning_rate': 1.1382113821138211e-05, 'epoch': 7.72}\n"
     ]
    },
    {
     "data": {
      "application/vnd.jupyter.widget-view+json": {
       "model_id": "adc72aef5ce04f50b58fd7e4289fb489",
       "version_major": 2,
       "version_minor": 0
      },
      "text/plain": [
       "  0%|          | 0/31 [00:00<?, ?it/s]"
      ]
     },
     "metadata": {},
     "output_type": "display_data"
    },
    {
     "name": "stdout",
     "output_type": "stream",
     "text": [
      "{'eval_loss': 0.7198987007141113, 'eval_accuracy': 0.8870967741935484, 'eval_f1': 0.8411081757508343, 'eval_runtime': 6.1601, 'eval_samples_per_second': 20.13, 'eval_steps_per_second': 5.032, 'epoch': 8.0}\n",
      "{'loss': 0.1199, 'grad_norm': 0.4932897984981537, 'learning_rate': 9.34959349593496e-06, 'epoch': 8.13}\n",
      "{'loss': 0.1739, 'grad_norm': 0.023669864982366562, 'learning_rate': 7.317073170731707e-06, 'epoch': 8.54}\n",
      "{'loss': 0.186, 'grad_norm': 3.7607533931732178, 'learning_rate': 5.2845528455284555e-06, 'epoch': 8.94}\n"
     ]
    },
    {
     "data": {
      "application/vnd.jupyter.widget-view+json": {
       "model_id": "4d23f3a7faf2404e99bd467b5333bee9",
       "version_major": 2,
       "version_minor": 0
      },
      "text/plain": [
       "  0%|          | 0/31 [00:00<?, ?it/s]"
      ]
     },
     "metadata": {},
     "output_type": "display_data"
    },
    {
     "name": "stdout",
     "output_type": "stream",
     "text": [
      "{'eval_loss': 0.7503798604011536, 'eval_accuracy': 0.8790322580645161, 'eval_f1': 0.8361837403583133, 'eval_runtime': 6.0544, 'eval_samples_per_second': 20.481, 'eval_steps_per_second': 5.12, 'epoch': 9.0}\n",
      "{'loss': 0.1787, 'grad_norm': 0.5876972079277039, 'learning_rate': 3.2520325203252037e-06, 'epoch': 9.35}\n",
      "{'loss': 0.1441, 'grad_norm': 0.1225999966263771, 'learning_rate': 1.2195121951219514e-06, 'epoch': 9.76}\n"
     ]
    },
    {
     "data": {
      "application/vnd.jupyter.widget-view+json": {
       "model_id": "8f960898e01d4fd781a11eaa65953da6",
       "version_major": 2,
       "version_minor": 0
      },
      "text/plain": [
       "  0%|          | 0/31 [00:00<?, ?it/s]"
      ]
     },
     "metadata": {},
     "output_type": "display_data"
    },
    {
     "name": "stdout",
     "output_type": "stream",
     "text": [
      "{'eval_loss': 0.8547011613845825, 'eval_accuracy': 0.8790322580645161, 'eval_f1': 0.8361837403583133, 'eval_runtime': 6.0903, 'eval_samples_per_second': 20.36, 'eval_steps_per_second': 5.09, 'epoch': 10.0}\n",
      "{'train_runtime': 862.1013, 'train_samples_per_second': 5.707, 'train_steps_per_second': 1.427, 'train_loss': 0.2862761319168215, 'epoch': 10.0}\n"
     ]
    },
    {
     "data": {
      "application/vnd.jupyter.widget-view+json": {
       "model_id": "595c0d5b59bf4c9e8442a83e524ff00f",
       "version_major": 2,
       "version_minor": 0
      },
      "text/plain": [
       "  0%|          | 0/31 [00:00<?, ?it/s]"
      ]
     },
     "metadata": {},
     "output_type": "display_data"
    },
    {
     "name": "stdout",
     "output_type": "stream",
     "text": [
      "[User 52991] Final eval metrics: {'eval_loss': 0.51115882396698, 'eval_accuracy': 0.8870967741935484, 'eval_f1': 0.8411081757508343, 'eval_runtime': 6.1075, 'eval_samples_per_second': 20.303, 'eval_steps_per_second': 5.076, 'epoch': 10.0}\n"
     ]
    },
    {
     "data": {
      "application/vnd.jupyter.widget-view+json": {
       "model_id": "06cef5ded1df4b93b60b69a48f3a39de",
       "version_major": 2,
       "version_minor": 0
      },
      "text/plain": [
       "training_args.bin:   0%|          | 0.00/5.43k [00:00<?, ?B/s]"
      ]
     },
     "metadata": {},
     "output_type": "display_data"
    },
    {
     "data": {
      "application/vnd.jupyter.widget-view+json": {
       "model_id": "98b72ca8ae5c4a9e8bb0a5270fd5fc0f",
       "version_major": 2,
       "version_minor": 0
      },
      "text/plain": [
       "Upload 4 LFS files:   0%|          | 0/4 [00:00<?, ?it/s]"
      ]
     },
     "metadata": {},
     "output_type": "display_data"
    },
    {
     "data": {
      "application/vnd.jupyter.widget-view+json": {
       "model_id": "5fd85b0e01af4b5fa8476748f103c4ab",
       "version_major": 2,
       "version_minor": 0
      },
      "text/plain": [
       "events.out.tfevents.1740090477.DN0a1e6b6f.SUNet.13394.73:   0%|          | 0.00/14.9k [00:00<?, ?B/s]"
      ]
     },
     "metadata": {},
     "output_type": "display_data"
    },
    {
     "data": {
      "application/vnd.jupyter.widget-view+json": {
       "model_id": "f9c0a6bcdcdd4439a70ca8d68f986e06",
       "version_major": 2,
       "version_minor": 0
      },
      "text/plain": [
       "events.out.tfevents.1740091345.DN0a1e6b6f.SUNet.13394.74:   0%|          | 0.00/457 [00:00<?, ?B/s]"
      ]
     },
     "metadata": {},
     "output_type": "display_data"
    },
    {
     "data": {
      "application/vnd.jupyter.widget-view+json": {
       "model_id": "3556681e7e76448fac444aa6a0dcaba2",
       "version_major": 2,
       "version_minor": 0
      },
      "text/plain": [
       "model.safetensors:   0%|          | 0.00/598M [00:00<?, ?B/s]"
      ]
     },
     "metadata": {},
     "output_type": "display_data"
    },
    {
     "name": "stdout",
     "output_type": "stream",
     "text": [
      "[User 52991] Done! Best model saved at: user_models/user_52991\n",
      "\n",
      "=== Training model for User 30844 (Answers=635) ===\n"
     ]
    },
    {
     "data": {
      "application/vnd.jupyter.widget-view+json": {
       "model_id": "28fa42c18a894631933b4e6f4cd5ec62",
       "version_major": 2,
       "version_minor": 0
      },
      "text/plain": [
       "Map:   0%|          | 0/508 [00:00<?, ? examples/s]"
      ]
     },
     "metadata": {},
     "output_type": "display_data"
    },
    {
     "data": {
      "application/vnd.jupyter.widget-view+json": {
       "model_id": "9d865dd0481c4751bb2961c77c1c50f9",
       "version_major": 2,
       "version_minor": 0
      },
      "text/plain": [
       "Map:   0%|          | 0/127 [00:00<?, ? examples/s]"
      ]
     },
     "metadata": {},
     "output_type": "display_data"
    },
    {
     "name": "stderr",
     "output_type": "stream",
     "text": [
      "Some weights of ModernBertForSequenceClassification were not initialized from the model checkpoint at answerdotai/ModernBERT-base and are newly initialized: ['classifier.bias', 'classifier.weight']\n",
      "You should probably TRAIN this model on a down-stream task to be able to use it for predictions and inference.\n",
      "/opt/homebrew/anaconda3/lib/python3.12/site-packages/transformers/training_args.py:1573: FutureWarning: `evaluation_strategy` is deprecated and will be removed in version 4.46 of 🤗 Transformers. Use `eval_strategy` instead\n",
      "  warnings.warn(\n",
      "/opt/homebrew/anaconda3/lib/python3.12/site-packages/transformers/training_args.py:2241: UserWarning: `use_mps_device` is deprecated and will be removed in version 5.0 of 🤗 Transformers. `mps` device will be used by default if available similar to the way `cuda` device is used.Therefore, no action from user is required. \n",
      "  warnings.warn(\n",
      "/var/folders/58/5cdkrpys1rv_tbq6wq1x69vc0000gq/T/ipykernel_13394/2454030636.py:158: FutureWarning: `tokenizer` is deprecated and will be removed in version 5.0.0 for `Trainer.__init__`. Use `processing_class` instead.\n",
      "  trainer = Trainer(\n"
     ]
    },
    {
     "name": "stdout",
     "output_type": "stream",
     "text": [
      "[User 30844] Starting from scratch...\n"
     ]
    },
    {
     "data": {
      "application/vnd.jupyter.widget-view+json": {
       "model_id": "0adf603493374be497062f9d526c17ba",
       "version_major": 2,
       "version_minor": 0
      },
      "text/plain": [
       "  0%|          | 0/1270 [00:00<?, ?it/s]"
      ]
     },
     "metadata": {},
     "output_type": "display_data"
    },
    {
     "name": "stdout",
     "output_type": "stream",
     "text": [
      "{'loss': 0.4845, 'grad_norm': 0.5062860250473022, 'learning_rate': 4.8031496062992124e-05, 'epoch': 0.39}\n",
      "{'loss': 0.4435, 'grad_norm': 4.17603063583374, 'learning_rate': 4.606299212598425e-05, 'epoch': 0.79}\n"
     ]
    },
    {
     "data": {
      "application/vnd.jupyter.widget-view+json": {
       "model_id": "e17aa65ea9654a0cbdd9b6e4115eb8cd",
       "version_major": 2,
       "version_minor": 0
      },
      "text/plain": [
       "  0%|          | 0/32 [00:00<?, ?it/s]"
      ]
     },
     "metadata": {},
     "output_type": "display_data"
    },
    {
     "name": "stdout",
     "output_type": "stream",
     "text": [
      "{'eval_loss': 0.30602675676345825, 'eval_accuracy': 0.9291338582677166, 'eval_f1': 0.8950024104129841, 'eval_runtime': 6.2567, 'eval_samples_per_second': 20.298, 'eval_steps_per_second': 5.115, 'epoch': 1.0}\n",
      "{'loss': 0.3976, 'grad_norm': 0.5468829870223999, 'learning_rate': 4.409448818897638e-05, 'epoch': 1.18}\n",
      "{'loss': 0.3124, 'grad_norm': 0.20963113009929657, 'learning_rate': 4.21259842519685e-05, 'epoch': 1.57}\n",
      "{'loss': 0.4365, 'grad_norm': 3.075038433074951, 'learning_rate': 4.015748031496063e-05, 'epoch': 1.97}\n"
     ]
    },
    {
     "data": {
      "application/vnd.jupyter.widget-view+json": {
       "model_id": "7d64dee242bb4dc1b53c375e1b541ffa",
       "version_major": 2,
       "version_minor": 0
      },
      "text/plain": [
       "  0%|          | 0/32 [00:00<?, ?it/s]"
      ]
     },
     "metadata": {},
     "output_type": "display_data"
    },
    {
     "name": "stdout",
     "output_type": "stream",
     "text": [
      "{'eval_loss': 0.2606280744075775, 'eval_accuracy': 0.9291338582677166, 'eval_f1': 0.8950024104129841, 'eval_runtime': 6.3164, 'eval_samples_per_second': 20.106, 'eval_steps_per_second': 5.066, 'epoch': 2.0}\n",
      "{'loss': 0.3369, 'grad_norm': 0.25327402353286743, 'learning_rate': 3.818897637795276e-05, 'epoch': 2.36}\n",
      "{'loss': 0.4183, 'grad_norm': 0.5543381571769714, 'learning_rate': 3.622047244094489e-05, 'epoch': 2.76}\n"
     ]
    },
    {
     "data": {
      "application/vnd.jupyter.widget-view+json": {
       "model_id": "bd8b29c42d17438f9bbe1aa406efb8ce",
       "version_major": 2,
       "version_minor": 0
      },
      "text/plain": [
       "  0%|          | 0/32 [00:00<?, ?it/s]"
      ]
     },
     "metadata": {},
     "output_type": "display_data"
    },
    {
     "name": "stdout",
     "output_type": "stream",
     "text": [
      "{'eval_loss': 0.34263139963150024, 'eval_accuracy': 0.9291338582677166, 'eval_f1': 0.8950024104129841, 'eval_runtime': 6.3494, 'eval_samples_per_second': 20.002, 'eval_steps_per_second': 5.04, 'epoch': 3.0}\n",
      "{'loss': 0.293, 'grad_norm': 0.09615466743707657, 'learning_rate': 3.425196850393701e-05, 'epoch': 3.15}\n",
      "{'loss': 0.3759, 'grad_norm': 4.894548416137695, 'learning_rate': 3.228346456692913e-05, 'epoch': 3.54}\n",
      "{'loss': 0.3738, 'grad_norm': 23.126298904418945, 'learning_rate': 3.0314960629921263e-05, 'epoch': 3.94}\n"
     ]
    },
    {
     "data": {
      "application/vnd.jupyter.widget-view+json": {
       "model_id": "8106ea306125463daa578317ec061f4e",
       "version_major": 2,
       "version_minor": 0
      },
      "text/plain": [
       "  0%|          | 0/32 [00:00<?, ?it/s]"
      ]
     },
     "metadata": {},
     "output_type": "display_data"
    },
    {
     "name": "stdout",
     "output_type": "stream",
     "text": [
      "{'eval_loss': 0.2754558324813843, 'eval_accuracy': 0.9291338582677166, 'eval_f1': 0.8950024104129841, 'eval_runtime': 6.296, 'eval_samples_per_second': 20.172, 'eval_steps_per_second': 5.083, 'epoch': 4.0}\n",
      "{'loss': 0.3784, 'grad_norm': 0.2950327396392822, 'learning_rate': 2.8346456692913388e-05, 'epoch': 4.33}\n",
      "{'loss': 0.3665, 'grad_norm': 5.1982293128967285, 'learning_rate': 2.637795275590551e-05, 'epoch': 4.72}\n"
     ]
    },
    {
     "data": {
      "application/vnd.jupyter.widget-view+json": {
       "model_id": "5e5a33e94d224138a18ecdf6cb2dce27",
       "version_major": 2,
       "version_minor": 0
      },
      "text/plain": [
       "  0%|          | 0/32 [00:00<?, ?it/s]"
      ]
     },
     "metadata": {},
     "output_type": "display_data"
    },
    {
     "name": "stdout",
     "output_type": "stream",
     "text": [
      "{'eval_loss': 0.3120919167995453, 'eval_accuracy': 0.9291338582677166, 'eval_f1': 0.8950024104129841, 'eval_runtime': 6.3264, 'eval_samples_per_second': 20.075, 'eval_steps_per_second': 5.058, 'epoch': 5.0}\n",
      "{'loss': 0.234, 'grad_norm': 0.1373729407787323, 'learning_rate': 2.440944881889764e-05, 'epoch': 5.12}\n",
      "{'loss': 0.3821, 'grad_norm': 0.3650893568992615, 'learning_rate': 2.2440944881889763e-05, 'epoch': 5.51}\n",
      "{'loss': 0.2703, 'grad_norm': 0.19874192774295807, 'learning_rate': 2.0472440944881892e-05, 'epoch': 5.91}\n"
     ]
    },
    {
     "data": {
      "application/vnd.jupyter.widget-view+json": {
       "model_id": "75fd3f4ea4294d0f99200c8e708a6c8c",
       "version_major": 2,
       "version_minor": 0
      },
      "text/plain": [
       "  0%|          | 0/32 [00:00<?, ?it/s]"
      ]
     },
     "metadata": {},
     "output_type": "display_data"
    },
    {
     "name": "stdout",
     "output_type": "stream",
     "text": [
      "{'eval_loss': 0.32579952478408813, 'eval_accuracy': 0.9212598425196851, 'eval_f1': 0.8910546017813347, 'eval_runtime': 6.344, 'eval_samples_per_second': 20.019, 'eval_steps_per_second': 5.044, 'epoch': 6.0}\n",
      "{'loss': 0.416, 'grad_norm': 0.5192802548408508, 'learning_rate': 1.8503937007874017e-05, 'epoch': 6.3}\n",
      "{'loss': 0.2084, 'grad_norm': 0.03886600583791733, 'learning_rate': 1.6535433070866142e-05, 'epoch': 6.69}\n"
     ]
    },
    {
     "data": {
      "application/vnd.jupyter.widget-view+json": {
       "model_id": "736a0ed72a7344bba10cfe8e2a22e585",
       "version_major": 2,
       "version_minor": 0
      },
      "text/plain": [
       "  0%|          | 0/32 [00:00<?, ?it/s]"
      ]
     },
     "metadata": {},
     "output_type": "display_data"
    },
    {
     "name": "stdout",
     "output_type": "stream",
     "text": [
      "{'eval_loss': 0.40465831756591797, 'eval_accuracy': 0.9133858267716536, 'eval_f1': 0.8870743008975729, 'eval_runtime': 6.3239, 'eval_samples_per_second': 20.083, 'eval_steps_per_second': 5.06, 'epoch': 7.0}\n",
      "{'loss': 0.2228, 'grad_norm': 0.38913843035697937, 'learning_rate': 1.4566929133858267e-05, 'epoch': 7.09}\n",
      "{'loss': 0.2811, 'grad_norm': 0.23647604882717133, 'learning_rate': 1.2598425196850394e-05, 'epoch': 7.48}\n",
      "{'loss': 0.1048, 'grad_norm': 0.1569388061761856, 'learning_rate': 1.062992125984252e-05, 'epoch': 7.87}\n"
     ]
    },
    {
     "data": {
      "application/vnd.jupyter.widget-view+json": {
       "model_id": "8d12bbb383644f579ea272f777c1c3c5",
       "version_major": 2,
       "version_minor": 0
      },
      "text/plain": [
       "  0%|          | 0/32 [00:00<?, ?it/s]"
      ]
     },
     "metadata": {},
     "output_type": "display_data"
    },
    {
     "name": "stdout",
     "output_type": "stream",
     "text": [
      "{'eval_loss': 0.5937107801437378, 'eval_accuracy': 0.9212598425196851, 'eval_f1': 0.902550920804321, 'eval_runtime': 6.3057, 'eval_samples_per_second': 20.141, 'eval_steps_per_second': 5.075, 'epoch': 8.0}\n",
      "{'loss': 0.2332, 'grad_norm': 0.4931308329105377, 'learning_rate': 8.661417322834646e-06, 'epoch': 8.27}\n",
      "{'loss': 0.1436, 'grad_norm': 0.1287035048007965, 'learning_rate': 6.692913385826772e-06, 'epoch': 8.66}\n"
     ]
    },
    {
     "data": {
      "application/vnd.jupyter.widget-view+json": {
       "model_id": "183d272f6e0d479e974fef36aa6878e2",
       "version_major": 2,
       "version_minor": 0
      },
      "text/plain": [
       "  0%|          | 0/32 [00:00<?, ?it/s]"
      ]
     },
     "metadata": {},
     "output_type": "display_data"
    },
    {
     "name": "stdout",
     "output_type": "stream",
     "text": [
      "{'eval_loss': 0.5503928661346436, 'eval_accuracy': 0.9212598425196851, 'eval_f1': 0.902550920804321, 'eval_runtime': 6.294, 'eval_samples_per_second': 20.178, 'eval_steps_per_second': 5.084, 'epoch': 9.0}\n",
      "{'loss': 0.2253, 'grad_norm': 4.9874372482299805, 'learning_rate': 4.7244094488188975e-06, 'epoch': 9.06}\n",
      "{'loss': 0.1103, 'grad_norm': 0.043202582746744156, 'learning_rate': 2.755905511811024e-06, 'epoch': 9.45}\n",
      "{'loss': 0.1614, 'grad_norm': 1.008959174156189, 'learning_rate': 7.874015748031496e-07, 'epoch': 9.84}\n"
     ]
    },
    {
     "data": {
      "application/vnd.jupyter.widget-view+json": {
       "model_id": "07f158b1cc154b368b45fb4a3d275892",
       "version_major": 2,
       "version_minor": 0
      },
      "text/plain": [
       "  0%|          | 0/32 [00:00<?, ?it/s]"
      ]
     },
     "metadata": {},
     "output_type": "display_data"
    },
    {
     "name": "stdout",
     "output_type": "stream",
     "text": [
      "{'eval_loss': 0.5883382558822632, 'eval_accuracy': 0.9212598425196851, 'eval_f1': 0.902550920804321, 'eval_runtime': 6.2972, 'eval_samples_per_second': 20.168, 'eval_steps_per_second': 5.082, 'epoch': 10.0}\n",
      "{'train_runtime': 947.6092, 'train_samples_per_second': 5.361, 'train_steps_per_second': 1.34, 'train_loss': 0.3030680712752455, 'epoch': 10.0}\n"
     ]
    },
    {
     "data": {
      "application/vnd.jupyter.widget-view+json": {
       "model_id": "5df0036bacea46b993c65903b6bf0cf6",
       "version_major": 2,
       "version_minor": 0
      },
      "text/plain": [
       "  0%|          | 0/32 [00:00<?, ?it/s]"
      ]
     },
     "metadata": {},
     "output_type": "display_data"
    },
    {
     "name": "stdout",
     "output_type": "stream",
     "text": [
      "[User 30844] Final eval metrics: {'eval_loss': 0.5937107801437378, 'eval_accuracy': 0.9212598425196851, 'eval_f1': 0.902550920804321, 'eval_runtime': 6.3053, 'eval_samples_per_second': 20.142, 'eval_steps_per_second': 5.075, 'epoch': 10.0}\n"
     ]
    },
    {
     "data": {
      "application/vnd.jupyter.widget-view+json": {
       "model_id": "d706eeb1bffc430eaa0b8fcc2720e7be",
       "version_major": 2,
       "version_minor": 0
      },
      "text/plain": [
       "model.safetensors:   0%|          | 0.00/598M [00:00<?, ?B/s]"
      ]
     },
     "metadata": {},
     "output_type": "display_data"
    },
    {
     "data": {
      "application/vnd.jupyter.widget-view+json": {
       "model_id": "d12d066fee63402fa1b4afe4cc270d42",
       "version_major": 2,
       "version_minor": 0
      },
      "text/plain": [
       "events.out.tfevents.1740091377.DN0a1e6b6f.SUNet.13394.75:   0%|          | 0.00/15.1k [00:00<?, ?B/s]"
      ]
     },
     "metadata": {},
     "output_type": "display_data"
    },
    {
     "data": {
      "application/vnd.jupyter.widget-view+json": {
       "model_id": "b8feb2da27d446b8b1b02b344e03b54c",
       "version_major": 2,
       "version_minor": 0
      },
      "text/plain": [
       "Upload 4 LFS files:   0%|          | 0/4 [00:00<?, ?it/s]"
      ]
     },
     "metadata": {},
     "output_type": "display_data"
    },
    {
     "data": {
      "application/vnd.jupyter.widget-view+json": {
       "model_id": "c887f1b499da4fcb97317a3dc7a84282",
       "version_major": 2,
       "version_minor": 0
      },
      "text/plain": [
       "training_args.bin:   0%|          | 0.00/5.43k [00:00<?, ?B/s]"
      ]
     },
     "metadata": {},
     "output_type": "display_data"
    },
    {
     "data": {
      "application/vnd.jupyter.widget-view+json": {
       "model_id": "3d5be16fb25d487893f70e9c62f8bc41",
       "version_major": 2,
       "version_minor": 0
      },
      "text/plain": [
       "events.out.tfevents.1740092331.DN0a1e6b6f.SUNet.13394.76:   0%|          | 0.00/457 [00:00<?, ?B/s]"
      ]
     },
     "metadata": {},
     "output_type": "display_data"
    },
    {
     "name": "stdout",
     "output_type": "stream",
     "text": [
      "[User 30844] Done! Best model saved at: user_models/user_30844\n",
      "\n",
      "=== Training model for User 52174 (Answers=646) ===\n"
     ]
    },
    {
     "data": {
      "application/vnd.jupyter.widget-view+json": {
       "model_id": "8e2cb15c53194f028098307d4a2d1b1f",
       "version_major": 2,
       "version_minor": 0
      },
      "text/plain": [
       "Map:   0%|          | 0/516 [00:00<?, ? examples/s]"
      ]
     },
     "metadata": {},
     "output_type": "display_data"
    },
    {
     "data": {
      "application/vnd.jupyter.widget-view+json": {
       "model_id": "f41f5ee11d4748039b4ffab333ea5c51",
       "version_major": 2,
       "version_minor": 0
      },
      "text/plain": [
       "Map:   0%|          | 0/130 [00:00<?, ? examples/s]"
      ]
     },
     "metadata": {},
     "output_type": "display_data"
    },
    {
     "name": "stderr",
     "output_type": "stream",
     "text": [
      "Some weights of ModernBertForSequenceClassification were not initialized from the model checkpoint at answerdotai/ModernBERT-base and are newly initialized: ['classifier.bias', 'classifier.weight']\n",
      "You should probably TRAIN this model on a down-stream task to be able to use it for predictions and inference.\n",
      "/opt/homebrew/anaconda3/lib/python3.12/site-packages/transformers/training_args.py:1573: FutureWarning: `evaluation_strategy` is deprecated and will be removed in version 4.46 of 🤗 Transformers. Use `eval_strategy` instead\n",
      "  warnings.warn(\n",
      "/opt/homebrew/anaconda3/lib/python3.12/site-packages/transformers/training_args.py:2241: UserWarning: `use_mps_device` is deprecated and will be removed in version 5.0 of 🤗 Transformers. `mps` device will be used by default if available similar to the way `cuda` device is used.Therefore, no action from user is required. \n",
      "  warnings.warn(\n",
      "/var/folders/58/5cdkrpys1rv_tbq6wq1x69vc0000gq/T/ipykernel_13394/2454030636.py:158: FutureWarning: `tokenizer` is deprecated and will be removed in version 5.0.0 for `Trainer.__init__`. Use `processing_class` instead.\n",
      "  trainer = Trainer(\n"
     ]
    },
    {
     "name": "stdout",
     "output_type": "stream",
     "text": [
      "[User 52174] Starting from scratch...\n"
     ]
    },
    {
     "data": {
      "application/vnd.jupyter.widget-view+json": {
       "model_id": "856fe21df26447f6bf4895db1991a82d",
       "version_major": 2,
       "version_minor": 0
      },
      "text/plain": [
       "  0%|          | 0/1290 [00:00<?, ?it/s]"
      ]
     },
     "metadata": {},
     "output_type": "display_data"
    },
    {
     "name": "stdout",
     "output_type": "stream",
     "text": [
      "{'loss': 0.8784, 'grad_norm': 3.485852003097534, 'learning_rate': 4.8062015503875976e-05, 'epoch': 0.39}\n",
      "{'loss': 0.7015, 'grad_norm': 8.442926406860352, 'learning_rate': 4.6124031007751936e-05, 'epoch': 0.78}\n"
     ]
    },
    {
     "data": {
      "application/vnd.jupyter.widget-view+json": {
       "model_id": "927cbfee934e432bb124634ea7315090",
       "version_major": 2,
       "version_minor": 0
      },
      "text/plain": [
       "  0%|          | 0/33 [00:00<?, ?it/s]"
      ]
     },
     "metadata": {},
     "output_type": "display_data"
    },
    {
     "name": "stdout",
     "output_type": "stream",
     "text": [
      "{'eval_loss': 0.7320469617843628, 'eval_accuracy': 0.6384615384615384, 'eval_f1': 0.4975803539183821, 'eval_runtime': 5.4588, 'eval_samples_per_second': 23.815, 'eval_steps_per_second': 6.045, 'epoch': 1.0}\n",
      "{'loss': 0.669, 'grad_norm': 4.5944976806640625, 'learning_rate': 4.418604651162791e-05, 'epoch': 1.16}\n",
      "{'loss': 0.6395, 'grad_norm': 3.814293384552002, 'learning_rate': 4.2248062015503877e-05, 'epoch': 1.55}\n",
      "{'loss': 0.6333, 'grad_norm': 4.437618255615234, 'learning_rate': 4.0310077519379843e-05, 'epoch': 1.94}\n"
     ]
    },
    {
     "data": {
      "application/vnd.jupyter.widget-view+json": {
       "model_id": "dad77c39fe564d00a354b2abf8939772",
       "version_major": 2,
       "version_minor": 0
      },
      "text/plain": [
       "  0%|          | 0/33 [00:00<?, ?it/s]"
      ]
     },
     "metadata": {},
     "output_type": "display_data"
    }
   ],
   "source": [
    "# Directory where you store user-specific models locally\n",
    "OUTPUT_DIR_BASE = \"user_models\"\n",
    "\n",
    "for user_id, count in top_50_users.items():\n",
    "    print(f\"\\n=== Training model for User {user_id} (Answers={count}) ===\")\n",
    "    train_user_model(\n",
    "        df=df_original,\n",
    "        user_id=user_id,\n",
    "        model_name=\"answerdotai/ModernBERT-base\",\n",
    "        output_dir_base=OUTPUT_DIR_BASE,\n",
    "        push_to_hub=True,               # Set to False if you don't want to push\n",
    "        hub_token=os.getenv(\"HUGGINGFACE_ACCESS_TOKEN\"),\n",
    "        num_train_epochs=10,            # Adjust as needed\n",
    "        batch_size=4                   # Adjust for your M2 memory constraints\n",
    "    )\n"
   ]
  }
 ],
 "metadata": {
  "kernelspec": {
   "display_name": "base",
   "language": "python",
   "name": "python3"
  },
  "language_info": {
   "codemirror_mode": {
    "name": "ipython",
    "version": 3
   },
   "file_extension": ".py",
   "mimetype": "text/x-python",
   "name": "python",
   "nbconvert_exporter": "python",
   "pygments_lexer": "ipython3",
   "version": "3.12.2"
  }
 },
 "nbformat": 4,
 "nbformat_minor": 2
}
