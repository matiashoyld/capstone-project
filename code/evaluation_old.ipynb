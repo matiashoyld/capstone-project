{
  "cells": [
    {
      "cell_type": "markdown",
      "metadata": {},
      "source": [
        "# Synthetic vs. Real Data Efficiency for IRT Difficulty Estimation\n",
        "\n",
        "This notebook evaluates the efficiency of synthetic student data for Item Response Theory (IRT) difficulty estimation. It addresses the question: **How much real student data can be replaced by our neural model's synthetic predictions?**\n",
        "\n",
        "## What This Notebook Does\n",
        "\n",
        "1. **Compares accuracy**: Measures the accuracy of IRT difficulty parameters derived from model predictions against those calculated using varying amounts of real student data\n",
        "2. **Quantifies efficiency**: Determines how many real student responses are equivalent to synthetic predictions\n",
        "3. **Visualizes results**: Generates plots showing Error (1 - Pearson Correlation) vs. Number of Real Answers, with the synthetic model's performance highlighted\n",
        "\n",
        "The analysis helps quantify the potential data collection savings of using a neural model to augment or replace traditional IRT approaches."
      ]
    },
    {
      "cell_type": "markdown",
      "metadata": {},
      "source": [
        "## 1. Setup\n",
        "\n",
        "### 1.1 Import Libraries"
      ]
    },
    {
      "cell_type": "code",
      "execution_count": 15,
      "metadata": {},
      "outputs": [],
      "source": [
        "import os\n",
        "import pickle\n",
        "import numpy as np\n",
        "import pandas as pd\n",
        "import matplotlib.pyplot as plt\n",
        "from scipy.stats import pearsonr  # For correlation calculation\n",
        "from collections import defaultdict\n",
        "import tensorflow as tf  # Required for loading the Keras model\n",
        "\n",
        "# Configure TensorFlow to hide unnecessary warnings\n",
        "os.environ['TF_CPP_MIN_LOG_LEVEL'] = '2'\n",
        "tf.get_logger().setLevel('ERROR')"
      ]
    },
    {
      "cell_type": "markdown",
      "metadata": {},
      "source": [
        "### 1.2 Import Local Modules\n",
        "\n",
        "These modules are part of the Zapien pipeline and handle IRT modeling, evaluation, and neural network operations."
      ]
    },
    {
      "cell_type": "code",
      "execution_count": 16,
      "metadata": {},
      "outputs": [],
      "source": [
        "# --- Local Modules ---\n",
        "from modules.irt import estimate_irt_2pl_params\n",
        "from modules.evaluation import prediction_matrix, difficulty_from_predictions\n",
        "from modules.modeling_data import load_preprocessors\n",
        "from modules.neural_net import create_nn_model  # Needed to load weights"
      ]
    },
    {
      "cell_type": "markdown",
      "metadata": {},
      "source": [
        "### 1.3 Define Constants and Parameters\n",
        "\n",
        "These constants define column names in our datasets and simulation parameters for the efficiency evaluation."
      ]
    },
    {
      "cell_type": "code",
      "execution_count": 17,
      "metadata": {},
      "outputs": [],
      "source": [
        "# --- Column Names ---\n",
        "USER_ID_COL = \"user_id\"              # Identifier for students/users\n",
        "QUESTION_ID_COL = \"question_id\"      # Identifier for questions\n",
        "CORRECTNESS_COL = \"is_correct\"       # Binary indicator of response correctness\n",
        "IRT_DIFFICULTY_COL = \"difficulty\"    # IRT difficulty parameter column name\n",
        "\n",
        "# --- Simulation Parameters ---\n",
        "# Number of repetitions for each data size (for statistical stability)\n",
        "NUM_REPETITIONS = 10\n",
        "\n",
        "# Percentages of holdout data to sample for the efficiency curve\n",
        "SAMPLE_SIZES_PCT = [0.01, 0.05, 0.1, 0.2, 0.3, 0.4, 0.5, 0.6, 0.7, 0.8, 0.9, 1.0]"
      ]
    },
    {
      "cell_type": "markdown",
      "metadata": {},
      "source": [
        "## 2. Define Utility Functions\n",
        "\n",
        "### 2.1 Calculate Error Metric\n",
        "\n",
        "This function computes the error between true and estimated difficulty parameters using 1 minus the Pearson correlation coefficient. \n",
        "\n",
        "A perfect correlation of 1.0 would result in an error of 0, while complete decorrelation (correlation = 0) would give an error of 1.0."
      ]
    },
    {
      "cell_type": "code",
      "execution_count": 18,
      "metadata": {},
      "outputs": [],
      "source": [
        "def calculate_error(true_difficulty_df, estimated_difficulty_df, question_col, irt_col):\n",
        "    \"\"\"Calculates error (1 - Pearson Correlation) between true and estimated difficulties.\n",
        "    \n",
        "    Args:\n",
        "        true_difficulty_df: DataFrame containing ground truth difficulty parameters\n",
        "        estimated_difficulty_df: DataFrame containing estimated difficulty parameters\n",
        "        question_col: Column name for question identifiers\n",
        "        irt_col: Column name for difficulty parameters\n",
        "        \n",
        "    Returns:\n",
        "        float: Error value (1 - Pearson correlation), or np.nan if correlation cannot be calculated\n",
        "    \"\"\"\n",
        "    # Merge the true and estimated difficulty parameters on question ID\n",
        "    merged = pd.merge(\n",
        "        true_difficulty_df,\n",
        "        estimated_difficulty_df,\n",
        "        on=question_col,\n",
        "        suffixes=(\"_true\", \"_est\")\n",
        "    )\n",
        "    \n",
        "    # Check if we have enough data points for correlation\n",
        "    if merged.empty or len(merged) < 2:\n",
        "        print(\"\\nWarning: Not enough matching questions (<2) found for correlation calculation.\")\n",
        "        return np.nan\n",
        "\n",
        "    # Define column names for true and estimated difficulties\n",
        "    true_col = f\"{irt_col}_true\"\n",
        "    est_col = f\"{irt_col}_est\"\n",
        "    \n",
        "    # Verify columns exist in the merged dataframe\n",
        "    if true_col not in merged.columns or est_col not in merged.columns:\n",
        "        raise ValueError(f\"Required columns for error calculation not found in merged df: {merged.columns}\")\n",
        "\n",
        "    # Remove any NaN values before correlation calculation\n",
        "    merged = merged[[true_col, est_col]].dropna()\n",
        "    if len(merged) < 2:\n",
        "        print(\"\\nWarning: Not enough non-NaN pairs (<2) for correlation calculation.\")\n",
        "        return np.nan\n",
        "\n",
        "    # Check for constant series which would lead to undefined correlation\n",
        "    if merged[true_col].nunique() <= 1 or merged[est_col].nunique() <= 1:\n",
        "        print(\"\\nWarning: One or both difficulty series are constant. Correlation is undefined.\")\n",
        "        return np.nan\n",
        "\n",
        "    # Calculate Pearson correlation coefficient\n",
        "    corr, _ = pearsonr(merged[true_col], merged[est_col])\n",
        "\n",
        "    if pd.isna(corr):\n",
        "        print(\"\\nWarning: Pearson correlation resulted in NaN.\")\n",
        "        return np.nan\n",
        "\n",
        "    # Convert correlation to error metric (1 - correlation)\n",
        "    error = 1.0 - corr\n",
        "    return error"
      ]
    },
    {
      "cell_type": "markdown",
      "metadata": {},
      "source": [
        "### 2.2 Setup Paths and Parameters\n",
        "\n",
        "This function sets up all necessary file paths based on the run directory."
      ]
    },
    {
      "cell_type": "code",
      "execution_count": 19,
      "metadata": {},
      "outputs": [],
      "source": [
        "def setup_paths(run_dir):\n",
        "    \"\"\"Set up all file paths needed for the evaluation.\n",
        "    \n",
        "    Args:\n",
        "        run_dir: Path to the directory containing run artifacts\n",
        "        \n",
        "    Returns:\n",
        "        dict: Dictionary of path strings\n",
        "    \"\"\"\n",
        "    # Determine root directory (assumes results/<run_id> structure)\n",
        "    root_dir = os.path.abspath(os.path.dirname(os.getcwd()))\n",
        "    \n",
        "    paths = {\n",
        "        # Input data paths\n",
        "        'data_dir': os.path.join(root_dir, \"data\", \"zapien\"),\n",
        "        'run_dir': run_dir,\n",
        "        \n",
        "        # Output path for the plot\n",
        "        'plot_save_path': os.path.join(run_dir, \"efficiency_evaluation_correlation.png\")\n",
        "    }\n",
        "    \n",
        "    # Derived paths\n",
        "    paths['answers_file'] = os.path.join(paths['data_dir'], \"answers.csv\")\n",
        "    paths['questions_file'] = os.path.join(paths['data_dir'], \"questions.csv\")\n",
        "    paths['embeddings_path'] = os.path.join(run_dir, \"03_embeddings.pkl\")\n",
        "    paths['holdout_ids_path'] = os.path.join(run_dir, \"holdout_ids.csv\")\n",
        "    paths['original_irt_path'] = os.path.join(run_dir, \"01_irt_2pl_params.csv\")\n",
        "    paths['model_weights_path'] = os.path.join(run_dir, \"models\", \"final_nn_model.keras\")\n",
        "    paths['qfeat_path'] = os.path.join(run_dir, \"02_question_features.csv\")\n",
        "    \n",
        "    return paths"
      ]
    },
    {
      "cell_type": "markdown",
      "metadata": {},
      "source": [
        "## 3. Load Data and Model\n",
        "\n",
        "This section loads all necessary data and model artifacts required for the evaluation."
      ]
    },
    {
      "cell_type": "code",
      "execution_count": 20,
      "metadata": {},
      "outputs": [
        {
          "name": "stdout",
          "output_type": "stream",
          "text": [
            "🚀 Starting Efficiency Evaluation for run: ../results/20250429_122648\n"
          ]
        }
      ],
      "source": [
        "# Set the run directory path (replace with your actual run directory)\n",
        "# This should be a directory containing model artifacts from a previous run\n",
        "RUN_DIR = \"../results/20250429_122648\"  # Example - change this to your actual path\n",
        "\n",
        "# Setup paths based on the run directory\n",
        "paths = setup_paths(RUN_DIR)\n",
        "print(f\"🚀 Starting Efficiency Evaluation for run: {RUN_DIR}\")"
      ]
    },
    {
      "cell_type": "code",
      "execution_count": 21,
      "metadata": {},
      "outputs": [
        {
          "name": "stdout",
          "output_type": "stream",
          "text": [
            "🔄 Loading artifacts...\n",
            "✅ Loaded preprocessors from ../results/20250429_122648/nn_preprocessors.pkl\n",
            "Embedding dimension: 768\n"
          ]
        }
      ],
      "source": [
        "# Load preprocessors, embeddings, and holdout IDs\n",
        "print(\"🔄 Loading artifacts...\")\n",
        "\n",
        "# Load preprocessors (scalers, encoders, etc.)\n",
        "preprocessors = load_preprocessors(paths['run_dir'])\n",
        "\n",
        "# Load text embeddings\n",
        "with open(paths['embeddings_path'], \"rb\") as f:\n",
        "    combined_emb = pickle.load(f)\n",
        "    \n",
        "# Load holdout question IDs\n",
        "holdout_ids = pd.read_csv(paths['holdout_ids_path'])[QUESTION_ID_COL].tolist()\n",
        "\n",
        "# Load original difficulty estimates (from training)\n",
        "original_difficulty_df = pd.read_csv(paths['original_irt_path'])\n",
        "\n",
        "# Determine embedding dimension dynamically\n",
        "embed_dim = next(iter(combined_emb[\"formatted_embeddings\"].values())).shape[0]\n",
        "print(f\"Embedding dimension: {embed_dim}\")"
      ]
    },
    {
      "cell_type": "code",
      "execution_count": 22,
      "metadata": {},
      "outputs": [
        {
          "name": "stdout",
          "output_type": "stream",
          "text": [
            "✅ Model loaded successfully.\n"
          ]
        },
        {
          "name": "stderr",
          "output_type": "stream",
          "text": [
            "/opt/homebrew/anaconda3/lib/python3.12/site-packages/keras/src/saving/saving_lib.py:757: UserWarning: Skipping variable loading for optimizer 'adam', because it has 2 variables whereas the saved optimizer has 24 variables. \n",
            "  saveable.load_own_variables(weights_store.get(inner_path))\n"
          ]
        },
        {
          "data": {
            "text/html": [
              "<pre style=\"white-space:pre;overflow-x:auto;line-height:normal;font-family:Menlo,'DejaVu Sans Mono',consolas,'Courier New',monospace\"><span style=\"font-weight: bold\">Model: \"functional_1\"</span>\n",
              "</pre>\n"
            ],
            "text/plain": [
              "\u001b[1mModel: \"functional_1\"\u001b[0m\n"
            ]
          },
          "metadata": {},
          "output_type": "display_data"
        },
        {
          "data": {
            "text/html": [
              "<pre style=\"white-space:pre;overflow-x:auto;line-height:normal;font-family:Menlo,'DejaVu Sans Mono',consolas,'Courier New',monospace\">┏━━━━━━━━━━━━━━━━━━━━━┳━━━━━━━━━━━━━━━━━━━┳━━━━━━━━━━━━┳━━━━━━━━━━━━━━━━━━━┓\n",
              "┃<span style=\"font-weight: bold\"> Layer (type)        </span>┃<span style=\"font-weight: bold\"> Output Shape      </span>┃<span style=\"font-weight: bold\">    Param # </span>┃<span style=\"font-weight: bold\"> Connected to      </span>┃\n",
              "┡━━━━━━━━━━━━━━━━━━━━━╇━━━━━━━━━━━━━━━━━━━╇━━━━━━━━━━━━╇━━━━━━━━━━━━━━━━━━━┩\n",
              "│ user_input          │ (<span style=\"color: #00d7ff; text-decoration-color: #00d7ff\">None</span>, <span style=\"color: #00af00; text-decoration-color: #00af00\">1</span>)         │          <span style=\"color: #00af00; text-decoration-color: #00af00\">0</span> │ -                 │\n",
              "│ (<span style=\"color: #0087ff; text-decoration-color: #0087ff\">InputLayer</span>)        │                   │            │                   │\n",
              "├─────────────────────┼───────────────────┼────────────┼───────────────────┤\n",
              "│ embedding_1         │ (<span style=\"color: #00d7ff; text-decoration-color: #00d7ff\">None</span>, <span style=\"color: #00af00; text-decoration-color: #00af00\">1</span>, <span style=\"color: #00af00; text-decoration-color: #00af00\">8</span>)      │     <span style=\"color: #00af00; text-decoration-color: #00af00\">14,888</span> │ user_input[<span style=\"color: #00af00; text-decoration-color: #00af00\">0</span>][<span style=\"color: #00af00; text-decoration-color: #00af00\">0</span>]  │\n",
              "│ (<span style=\"color: #0087ff; text-decoration-color: #0087ff\">Embedding</span>)         │                   │            │                   │\n",
              "├─────────────────────┼───────────────────┼────────────┼───────────────────┤\n",
              "│ numerical_input     │ (<span style=\"color: #00d7ff; text-decoration-color: #00d7ff\">None</span>, <span style=\"color: #00af00; text-decoration-color: #00af00\">15</span>)        │          <span style=\"color: #00af00; text-decoration-color: #00af00\">0</span> │ -                 │\n",
              "│ (<span style=\"color: #0087ff; text-decoration-color: #0087ff\">InputLayer</span>)        │                   │            │                   │\n",
              "├─────────────────────┼───────────────────┼────────────┼───────────────────┤\n",
              "│ embedding_input     │ (<span style=\"color: #00d7ff; text-decoration-color: #00d7ff\">None</span>, <span style=\"color: #00af00; text-decoration-color: #00af00\">768</span>)       │          <span style=\"color: #00af00; text-decoration-color: #00af00\">0</span> │ -                 │\n",
              "│ (<span style=\"color: #0087ff; text-decoration-color: #0087ff\">InputLayer</span>)        │                   │            │                   │\n",
              "├─────────────────────┼───────────────────┼────────────┼───────────────────┤\n",
              "│ flatten_1 (<span style=\"color: #0087ff; text-decoration-color: #0087ff\">Flatten</span>) │ (<span style=\"color: #00d7ff; text-decoration-color: #00d7ff\">None</span>, <span style=\"color: #00af00; text-decoration-color: #00af00\">8</span>)         │          <span style=\"color: #00af00; text-decoration-color: #00af00\">0</span> │ embedding_1[<span style=\"color: #00af00; text-decoration-color: #00af00\">0</span>][<span style=\"color: #00af00; text-decoration-color: #00af00\">0</span>] │\n",
              "├─────────────────────┼───────────────────┼────────────┼───────────────────┤\n",
              "│ dense_5 (<span style=\"color: #0087ff; text-decoration-color: #0087ff\">Dense</span>)     │ (<span style=\"color: #00d7ff; text-decoration-color: #00d7ff\">None</span>, <span style=\"color: #00af00; text-decoration-color: #00af00\">32</span>)        │        <span style=\"color: #00af00; text-decoration-color: #00af00\">512</span> │ numerical_input[<span style=\"color: #00af00; text-decoration-color: #00af00\">…</span> │\n",
              "├─────────────────────┼───────────────────┼────────────┼───────────────────┤\n",
              "│ dense_6 (<span style=\"color: #0087ff; text-decoration-color: #0087ff\">Dense</span>)     │ (<span style=\"color: #00d7ff; text-decoration-color: #00d7ff\">None</span>, <span style=\"color: #00af00; text-decoration-color: #00af00\">32</span>)        │     <span style=\"color: #00af00; text-decoration-color: #00af00\">24,608</span> │ embedding_input[<span style=\"color: #00af00; text-decoration-color: #00af00\">…</span> │\n",
              "├─────────────────────┼───────────────────┼────────────┼───────────────────┤\n",
              "│ concatenate_1       │ (<span style=\"color: #00d7ff; text-decoration-color: #00d7ff\">None</span>, <span style=\"color: #00af00; text-decoration-color: #00af00\">72</span>)        │          <span style=\"color: #00af00; text-decoration-color: #00af00\">0</span> │ flatten_1[<span style=\"color: #00af00; text-decoration-color: #00af00\">0</span>][<span style=\"color: #00af00; text-decoration-color: #00af00\">0</span>],  │\n",
              "│ (<span style=\"color: #0087ff; text-decoration-color: #0087ff\">Concatenate</span>)       │                   │            │ dense_5[<span style=\"color: #00af00; text-decoration-color: #00af00\">0</span>][<span style=\"color: #00af00; text-decoration-color: #00af00\">0</span>],    │\n",
              "│                     │                   │            │ dense_6[<span style=\"color: #00af00; text-decoration-color: #00af00\">0</span>][<span style=\"color: #00af00; text-decoration-color: #00af00\">0</span>]     │\n",
              "├─────────────────────┼───────────────────┼────────────┼───────────────────┤\n",
              "│ dense_7 (<span style=\"color: #0087ff; text-decoration-color: #0087ff\">Dense</span>)     │ (<span style=\"color: #00d7ff; text-decoration-color: #00d7ff\">None</span>, <span style=\"color: #00af00; text-decoration-color: #00af00\">64</span>)        │      <span style=\"color: #00af00; text-decoration-color: #00af00\">4,672</span> │ concatenate_1[<span style=\"color: #00af00; text-decoration-color: #00af00\">0</span>]… │\n",
              "├─────────────────────┼───────────────────┼────────────┼───────────────────┤\n",
              "│ dense_8 (<span style=\"color: #0087ff; text-decoration-color: #0087ff\">Dense</span>)     │ (<span style=\"color: #00d7ff; text-decoration-color: #00d7ff\">None</span>, <span style=\"color: #00af00; text-decoration-color: #00af00\">32</span>)        │      <span style=\"color: #00af00; text-decoration-color: #00af00\">2,080</span> │ dense_7[<span style=\"color: #00af00; text-decoration-color: #00af00\">0</span>][<span style=\"color: #00af00; text-decoration-color: #00af00\">0</span>]     │\n",
              "├─────────────────────┼───────────────────┼────────────┼───────────────────┤\n",
              "│ dense_9 (<span style=\"color: #0087ff; text-decoration-color: #0087ff\">Dense</span>)     │ (<span style=\"color: #00d7ff; text-decoration-color: #00d7ff\">None</span>, <span style=\"color: #00af00; text-decoration-color: #00af00\">1</span>)         │         <span style=\"color: #00af00; text-decoration-color: #00af00\">33</span> │ dense_8[<span style=\"color: #00af00; text-decoration-color: #00af00\">0</span>][<span style=\"color: #00af00; text-decoration-color: #00af00\">0</span>]     │\n",
              "└─────────────────────┴───────────────────┴────────────┴───────────────────┘\n",
              "</pre>\n"
            ],
            "text/plain": [
              "┏━━━━━━━━━━━━━━━━━━━━━┳━━━━━━━━━━━━━━━━━━━┳━━━━━━━━━━━━┳━━━━━━━━━━━━━━━━━━━┓\n",
              "┃\u001b[1m \u001b[0m\u001b[1mLayer (type)       \u001b[0m\u001b[1m \u001b[0m┃\u001b[1m \u001b[0m\u001b[1mOutput Shape     \u001b[0m\u001b[1m \u001b[0m┃\u001b[1m \u001b[0m\u001b[1m   Param #\u001b[0m\u001b[1m \u001b[0m┃\u001b[1m \u001b[0m\u001b[1mConnected to     \u001b[0m\u001b[1m \u001b[0m┃\n",
              "┡━━━━━━━━━━━━━━━━━━━━━╇━━━━━━━━━━━━━━━━━━━╇━━━━━━━━━━━━╇━━━━━━━━━━━━━━━━━━━┩\n",
              "│ user_input          │ (\u001b[38;5;45mNone\u001b[0m, \u001b[38;5;34m1\u001b[0m)         │          \u001b[38;5;34m0\u001b[0m │ -                 │\n",
              "│ (\u001b[38;5;33mInputLayer\u001b[0m)        │                   │            │                   │\n",
              "├─────────────────────┼───────────────────┼────────────┼───────────────────┤\n",
              "│ embedding_1         │ (\u001b[38;5;45mNone\u001b[0m, \u001b[38;5;34m1\u001b[0m, \u001b[38;5;34m8\u001b[0m)      │     \u001b[38;5;34m14,888\u001b[0m │ user_input[\u001b[38;5;34m0\u001b[0m][\u001b[38;5;34m0\u001b[0m]  │\n",
              "│ (\u001b[38;5;33mEmbedding\u001b[0m)         │                   │            │                   │\n",
              "├─────────────────────┼───────────────────┼────────────┼───────────────────┤\n",
              "│ numerical_input     │ (\u001b[38;5;45mNone\u001b[0m, \u001b[38;5;34m15\u001b[0m)        │          \u001b[38;5;34m0\u001b[0m │ -                 │\n",
              "│ (\u001b[38;5;33mInputLayer\u001b[0m)        │                   │            │                   │\n",
              "├─────────────────────┼───────────────────┼────────────┼───────────────────┤\n",
              "│ embedding_input     │ (\u001b[38;5;45mNone\u001b[0m, \u001b[38;5;34m768\u001b[0m)       │          \u001b[38;5;34m0\u001b[0m │ -                 │\n",
              "│ (\u001b[38;5;33mInputLayer\u001b[0m)        │                   │            │                   │\n",
              "├─────────────────────┼───────────────────┼────────────┼───────────────────┤\n",
              "│ flatten_1 (\u001b[38;5;33mFlatten\u001b[0m) │ (\u001b[38;5;45mNone\u001b[0m, \u001b[38;5;34m8\u001b[0m)         │          \u001b[38;5;34m0\u001b[0m │ embedding_1[\u001b[38;5;34m0\u001b[0m][\u001b[38;5;34m0\u001b[0m] │\n",
              "├─────────────────────┼───────────────────┼────────────┼───────────────────┤\n",
              "│ dense_5 (\u001b[38;5;33mDense\u001b[0m)     │ (\u001b[38;5;45mNone\u001b[0m, \u001b[38;5;34m32\u001b[0m)        │        \u001b[38;5;34m512\u001b[0m │ numerical_input[\u001b[38;5;34m…\u001b[0m │\n",
              "├─────────────────────┼───────────────────┼────────────┼───────────────────┤\n",
              "│ dense_6 (\u001b[38;5;33mDense\u001b[0m)     │ (\u001b[38;5;45mNone\u001b[0m, \u001b[38;5;34m32\u001b[0m)        │     \u001b[38;5;34m24,608\u001b[0m │ embedding_input[\u001b[38;5;34m…\u001b[0m │\n",
              "├─────────────────────┼───────────────────┼────────────┼───────────────────┤\n",
              "│ concatenate_1       │ (\u001b[38;5;45mNone\u001b[0m, \u001b[38;5;34m72\u001b[0m)        │          \u001b[38;5;34m0\u001b[0m │ flatten_1[\u001b[38;5;34m0\u001b[0m][\u001b[38;5;34m0\u001b[0m],  │\n",
              "│ (\u001b[38;5;33mConcatenate\u001b[0m)       │                   │            │ dense_5[\u001b[38;5;34m0\u001b[0m][\u001b[38;5;34m0\u001b[0m],    │\n",
              "│                     │                   │            │ dense_6[\u001b[38;5;34m0\u001b[0m][\u001b[38;5;34m0\u001b[0m]     │\n",
              "├─────────────────────┼───────────────────┼────────────┼───────────────────┤\n",
              "│ dense_7 (\u001b[38;5;33mDense\u001b[0m)     │ (\u001b[38;5;45mNone\u001b[0m, \u001b[38;5;34m64\u001b[0m)        │      \u001b[38;5;34m4,672\u001b[0m │ concatenate_1[\u001b[38;5;34m0\u001b[0m]… │\n",
              "├─────────────────────┼───────────────────┼────────────┼───────────────────┤\n",
              "│ dense_8 (\u001b[38;5;33mDense\u001b[0m)     │ (\u001b[38;5;45mNone\u001b[0m, \u001b[38;5;34m32\u001b[0m)        │      \u001b[38;5;34m2,080\u001b[0m │ dense_7[\u001b[38;5;34m0\u001b[0m][\u001b[38;5;34m0\u001b[0m]     │\n",
              "├─────────────────────┼───────────────────┼────────────┼───────────────────┤\n",
              "│ dense_9 (\u001b[38;5;33mDense\u001b[0m)     │ (\u001b[38;5;45mNone\u001b[0m, \u001b[38;5;34m1\u001b[0m)         │         \u001b[38;5;34m33\u001b[0m │ dense_8[\u001b[38;5;34m0\u001b[0m][\u001b[38;5;34m0\u001b[0m]     │\n",
              "└─────────────────────┴───────────────────┴────────────┴───────────────────┘\n"
            ]
          },
          "metadata": {},
          "output_type": "display_data"
        },
        {
          "data": {
            "text/html": [
              "<pre style=\"white-space:pre;overflow-x:auto;line-height:normal;font-family:Menlo,'DejaVu Sans Mono',consolas,'Courier New',monospace\"><span style=\"font-weight: bold\"> Total params: </span><span style=\"color: #00af00; text-decoration-color: #00af00\">46,793</span> (182.79 KB)\n",
              "</pre>\n"
            ],
            "text/plain": [
              "\u001b[1m Total params: \u001b[0m\u001b[38;5;34m46,793\u001b[0m (182.79 KB)\n"
            ]
          },
          "metadata": {},
          "output_type": "display_data"
        },
        {
          "data": {
            "text/html": [
              "<pre style=\"white-space:pre;overflow-x:auto;line-height:normal;font-family:Menlo,'DejaVu Sans Mono',consolas,'Courier New',monospace\"><span style=\"font-weight: bold\"> Trainable params: </span><span style=\"color: #00af00; text-decoration-color: #00af00\">46,793</span> (182.79 KB)\n",
              "</pre>\n"
            ],
            "text/plain": [
              "\u001b[1m Trainable params: \u001b[0m\u001b[38;5;34m46,793\u001b[0m (182.79 KB)\n"
            ]
          },
          "metadata": {},
          "output_type": "display_data"
        },
        {
          "data": {
            "text/html": [
              "<pre style=\"white-space:pre;overflow-x:auto;line-height:normal;font-family:Menlo,'DejaVu Sans Mono',consolas,'Courier New',monospace\"><span style=\"font-weight: bold\"> Non-trainable params: </span><span style=\"color: #00af00; text-decoration-color: #00af00\">0</span> (0.00 B)\n",
              "</pre>\n"
            ],
            "text/plain": [
              "\u001b[1m Non-trainable params: \u001b[0m\u001b[38;5;34m0\u001b[0m (0.00 B)\n"
            ]
          },
          "metadata": {},
          "output_type": "display_data"
        }
      ],
      "source": [
        "# Load and reconstruct the neural network model\n",
        "model = create_nn_model(\n",
        "    user_vocab_size=preprocessors[\"user_vocab_size\"],\n",
        "    numerical_feature_size=len(preprocessors[\"numerical_features\"]),\n",
        "    embedding_dim=embed_dim,\n",
        ")\n",
        "model.load_weights(paths['model_weights_path'])\n",
        "print(\"✅ Model loaded successfully.\")\n",
        "\n",
        "# Display model summary\n",
        "model.summary()"
      ]
    },
    {
      "cell_type": "markdown",
      "metadata": {},
      "source": [
        "## 4. Load and Prepare Student Response Data\n",
        "\n",
        "Now we load the raw student response data and filter it to focus on the holdout question set."
      ]
    },
    {
      "cell_type": "code",
      "execution_count": 23,
      "metadata": {},
      "outputs": [
        {
          "name": "stdout",
          "output_type": "stream",
          "text": [
            "🔄 Loading and preparing data...\n",
            "Loaded 269,171 student responses for 9,769 questions\n",
            "from 1,875 unique students\n"
          ]
        }
      ],
      "source": [
        "# Load raw data\n",
        "print(\"🔄 Loading and preparing data...\")\n",
        "answers_df = pd.read_csv(paths['answers_file'])\n",
        "questions_df = pd.read_csv(paths['questions_file'])\n",
        "\n",
        "# Load question features\n",
        "if os.path.exists(paths['qfeat_path']):\n",
        "    qfeat_df = pd.read_csv(paths['qfeat_path'])\n",
        "else:\n",
        "    raise FileNotFoundError(f\"Question features file not found: {paths['qfeat_path']}. Please ensure the pipeline saved it.\")\n",
        "\n",
        "# Display data summary\n",
        "print(f\"Loaded {len(answers_df):,} student responses for {answers_df[QUESTION_ID_COL].nunique():,} questions\")\n",
        "print(f\"from {answers_df[USER_ID_COL].nunique():,} unique students\")"
      ]
    },
    {
      "cell_type": "code",
      "execution_count": 24,
      "metadata": {},
      "outputs": [
        {
          "name": "stdout",
          "output_type": "stream",
          "text": [
            "📊 Holdout set: 449 questions, 26,119 answers\n",
            "from 1,712 unique students\n"
          ]
        }
      ],
      "source": [
        "# Merge all datasets for complete information\n",
        "merged_df = (\n",
        "    answers_df.merge(qfeat_df, on=QUESTION_ID_COL)\n",
        "    .merge(original_difficulty_df[[QUESTION_ID_COL, IRT_DIFFICULTY_COL]], on=QUESTION_ID_COL, how='left')\n",
        ")\n",
        "\n",
        "# Filter data to focus only on holdout questions\n",
        "holdout_answers_df = answers_df[answers_df[QUESTION_ID_COL].isin(holdout_ids)].copy()\n",
        "holdout_merged_df = merged_df[merged_df[QUESTION_ID_COL].isin(holdout_ids)].copy()\n",
        "\n",
        "# Print holdout set statistics\n",
        "print(f\"📊 Holdout set: {len(holdout_ids):,} questions, {len(holdout_answers_df):,} answers\")\n",
        "print(f\"from {holdout_answers_df[USER_ID_COL].nunique():,} unique students\")"
      ]
    },
    {
      "cell_type": "markdown",
      "metadata": {},
      "source": [
        "## 5. Calculate Ground Truth Difficulty\n",
        "\n",
        "We calculate the \"ground truth\" difficulty parameters using the complete set of holdout answers. This will be our reference point for comparing both synthetic predictions and partial real data samples."
      ]
    },
    {
      "cell_type": "code",
      "execution_count": 25,
      "metadata": {},
      "outputs": [
        {
          "name": "stdout",
          "output_type": "stream",
          "text": [
            "📊 Calculating ground truth difficulty using complete holdout answer set...\n"
          ]
        },
        {
          "name": "stderr",
          "output_type": "stream",
          "text": [
            "Training IRT 2PL (PyTorch): 100%|██████████| 200/200 [00:00<00:00, 559.43it/s, loss=0.4095, bce=0.4095]\n"
          ]
        },
        {
          "name": "stdout",
          "output_type": "stream",
          "text": [
            "✅ Ground truth parameters (2PL) calculated.\n",
            "\n",
            "Ground Truth Difficulty (2PL) Statistics:\n",
            "count    449.000000\n",
            "mean      -0.201900\n",
            "std        0.546499\n",
            "min       -1.316498\n",
            "25%       -0.626078\n",
            "50%       -0.237778\n",
            "75%        0.161401\n",
            "max        1.544539\n",
            "Name: difficulty, dtype: float64\n",
            "\n",
            "Ground Truth Discrimination (2PL) Statistics:\n",
            "count    449.000000\n",
            "mean       3.318702\n",
            "std        2.292796\n",
            "min        0.124659\n",
            "25%        1.797241\n",
            "50%        2.824241\n",
            "75%        3.948199\n",
            "max       14.086531\n",
            "Name: discrimination, dtype: float64\n"
          ]
        }
      ],
      "source": [
        "# Validate holdout data sufficiency\n",
        "if holdout_answers_df.empty or holdout_answers_df[USER_ID_COL].nunique() < 2 or holdout_answers_df[QUESTION_ID_COL].nunique() < 2:\n",
        "    raise ValueError(\"Insufficient data in holdout answers to calculate reliable ground truth IRT.\")\n",
        "\n",
        "# Calculate ground truth difficulty using 1PL IRT model on all holdout answers\n",
        "print(\"📊 Calculating ground truth difficulty using complete holdout answer set...\")\n",
        "holdout_params_true_df = estimate_irt_2pl_params(\n",
        "    response_df=holdout_answers_df,\n",
        "    user_col=USER_ID_COL,\n",
        "    question_col=QUESTION_ID_COL,\n",
        "    correctness_col=CORRECTNESS_COL\n",
        ")\n",
        "print(\"✅ Ground truth parameters (2PL) calculated.\")\n",
        "\n",
        "# Use the 'difficulty' column as the ground truth for error calculation\n",
        "holdout_difficulty_true_df = holdout_params_true_df[[QUESTION_ID_COL, IRT_DIFFICULTY_COL]].copy()\n",
        "\n",
        "# Display summary statistics of ground truth difficulties\n",
        "print(\"\\nGround Truth Difficulty (2PL) Statistics:\")\n",
        "print(holdout_difficulty_true_df[IRT_DIFFICULTY_COL].describe())\n",
        "# Optionally display discrimination stats too\n",
        "if 'discrimination' in holdout_params_true_df.columns:\n",
        "        print(\"\\nGround Truth Discrimination (2PL) Statistics:\")\n",
        "        print(holdout_params_true_df['discrimination'].describe())"
      ]
    },
    {
      "cell_type": "markdown",
      "metadata": {},
      "source": [
        "## 6. Calculate Difficulty from Synthetic Predictions\n",
        "\n",
        "Now we use our neural network model to generate synthetic predictions for all user × question combinations in the holdout set, then derive difficulty parameters from these predictions."
      ]
    },
    {
      "cell_type": "code",
      "execution_count": 26,
      "metadata": {},
      "outputs": [
        {
          "name": "stdout",
          "output_type": "stream",
          "text": [
            "🤖 Calculating difficulty from synthetic predictions...\n"
          ]
        },
        {
          "name": "stderr",
          "output_type": "stream",
          "text": [
            "/opt/homebrew/anaconda3/lib/python3.12/site-packages/sklearn/utils/validation.py:2739: UserWarning: X does not have valid feature names, but StandardScaler was fitted with feature names\n",
            "  warnings.warn(\n"
          ]
        },
        {
          "name": "stdout",
          "output_type": "stream",
          "text": [
            "Estimating 2PL parameters from binarized predictions...\n"
          ]
        },
        {
          "name": "stderr",
          "output_type": "stream",
          "text": [
            "Training IRT 2PL (PyTorch): 100%|██████████| 200/200 [00:01<00:00, 123.19it/s, loss=0.0776, bce=0.0776]\n"
          ]
        },
        {
          "name": "stdout",
          "output_type": "stream",
          "text": [
            "📉 Synthetic Model Error (1 - Pearson Corr): 0.0502\n"
          ]
        },
        {
          "data": {
            "image/png": "[encoded data removed]",
            "text/plain": [
              "<Figure size 800x800 with 1 Axes>"
            ]
          },
          "metadata": {},
          "output_type": "display_data"
        }
      ],
      "source": [
        "print(\"🤖 Calculating difficulty from synthetic predictions...\")\n",
        "\n",
        "# Generate a probability matrix containing predicted correctness probabilities\n",
        "# for all user × question combinations in the holdout set\n",
        "prob_mat = prediction_matrix(\n",
        "    data_df=holdout_merged_df,\n",
        "    q_ids=holdout_ids,\n",
        "    preprocessors=preprocessors,\n",
        "    model=model,\n",
        "    combined_embeddings=combined_emb,\n",
        "    user_col=USER_ID_COL,\n",
        "    question_col=QUESTION_ID_COL,\n",
        ")\n",
        "\n",
        "# Derive parameters from the predicted probabilities (using 2PL)\n",
        "synthetic_params_df = difficulty_from_predictions(prob_mat)\n",
        "\n",
        "# Calculate the error between synthetic and ground truth difficulties\n",
        "synthetic_error = calculate_error(\n",
        "    holdout_difficulty_true_df, # DataFrame with ground truth difficulty\n",
        "    synthetic_params_df,        # DataFrame with synthetic difficulty & discrimination\n",
        "    QUESTION_ID_COL,\n",
        "    IRT_DIFFICULTY_COL          # Specify we are comparing the 'difficulty' column\n",
        ")\n",
        "print(f\"📉 Synthetic Model Error (1 - Pearson Corr): {synthetic_error:.4f}\")\n",
        "\n",
        "# Update scatter plot comparison logic\n",
        "comparison_df = holdout_difficulty_true_df.merge( # Use difficulty-only ground truth df\n",
        "    synthetic_params_df,        # Use full synthetic params df\n",
        "    on=QUESTION_ID_COL,\n",
        "    suffixes=('_true', '_synthetic') # Suffixes need to match calculate_error\n",
        ")\n",
        "\n",
        "plt.figure(figsize=(8, 8))\n",
        "plt.scatter(\n",
        "    comparison_df[f\"{IRT_DIFFICULTY_COL}_true\"], # Correct name\n",
        "    comparison_df[f\"{IRT_DIFFICULTY_COL}_synthetic\"], # Correct name\n",
        "    alpha=0.6\n",
        ")\n",
        "plt.xlabel('Ground Truth IRT Difficulty')\n",
        "plt.ylabel('Synthetic IRT Difficulty')\n",
        "plt.title('Synthetic vs. Ground Truth Difficulty')\n",
        "plt.grid(True, linestyle='--', alpha=0.7)\n",
        "\n",
        "# Add diagonal reference line\n",
        "min_val = min(comparison_df[f\"{IRT_DIFFICULTY_COL}_true\"].min(), \n",
        "              comparison_df[f\"{IRT_DIFFICULTY_COL}_synthetic\"].min())\n",
        "max_val = max(comparison_df[f\"{IRT_DIFFICULTY_COL}_true\"].max(), \n",
        "              comparison_df[f\"{IRT_DIFFICULTY_COL}_synthetic\"].max())\n",
        "plt.plot([min_val, max_val], [min_val, max_val], 'r--')\n",
        "\n",
        "plt.tight_layout()\n",
        "plt.show()"
      ]
    },
    {
      "cell_type": "markdown",
      "metadata": {},
      "source": [
        "## 7. Simulate Traditional IRT with Varying Real Data\n",
        "\n",
        "We now run a simulation to see how IRT difficulty estimates change as we vary the amount of real student data used. For each sample size, we:\n",
        "\n",
        "1. Sample a subset of the holdout answers\n",
        "2. Fit an IRT model to estimate difficulty parameters\n",
        "3. Calculate error relative to ground truth\n",
        "4. Repeat multiple times for statistical stability"
      ]
    },
    {
      "cell_type": "code",
      "execution_count": 27,
      "metadata": {},
      "outputs": [
        {
          "name": "stdout",
          "output_type": "stream",
          "text": [
            "📈 Simulating traditional IRT with varying data sizes...\n",
            "Sample sizes (num answers): [261, 1305, 2611, 5223, 7835, 10447, 13059, 15671, 18283, 20895, 23507, 26119]\n",
            "  Testing with 261 answers (10 reps)..."
          ]
        },
        {
          "name": "stderr",
          "output_type": "stream",
          "text": [
            "Training IRT 2PL (PyTorch): 100%|██████████| 200/200 [00:00<00:00, 917.74it/s, loss=0.0072, bce=0.0072] \n",
            "Training IRT 2PL (PyTorch): 100%|██████████| 200/200 [00:00<00:00, 1058.07it/s, loss=0.0056, bce=0.0056]\n",
            "Training IRT 2PL (PyTorch): 100%|██████████| 200/200 [00:00<00:00, 1368.12it/s, loss=0.0138, bce=0.0138]\n",
            "Training IRT 2PL (PyTorch): 100%|██████████| 200/200 [00:00<00:00, 862.38it/s, loss=0.0041, bce=0.0041]\n",
            "Training IRT 2PL (PyTorch): 100%|██████████| 200/200 [00:00<00:00, 963.96it/s, loss=0.0103, bce=0.0103] \n",
            "Training IRT 2PL (PyTorch): 100%|██████████| 200/200 [00:00<00:00, 1254.72it/s, loss=0.0054, bce=0.0054]\n",
            "Training IRT 2PL (PyTorch): 100%|██████████| 200/200 [00:00<00:00, 911.51it/s, loss=0.0062, bce=0.0062] \n",
            "Training IRT 2PL (PyTorch): 100%|██████████| 200/200 [00:00<00:00, 1420.39it/s, loss=0.0043, bce=0.0043]\n",
            "Training IRT 2PL (PyTorch): 100%|██████████| 200/200 [00:00<00:00, 961.17it/s, loss=0.0069, bce=0.0069] \n",
            "Training IRT 2PL (PyTorch): 100%|██████████| 200/200 [00:00<00:00, 990.46it/s, loss=0.0077, bce=0.0077] \n"
          ]
        },
        {
          "name": "stdout",
          "output_type": "stream",
          "text": [
            " Avg Error (1-Corr): 0.6609\n",
            "  Testing with 1,305 answers (10 reps)..."
          ]
        },
        {
          "name": "stderr",
          "output_type": "stream",
          "text": [
            "Training IRT 2PL (PyTorch): 100%|██████████| 200/200 [00:00<00:00, 1006.73it/s, loss=0.0435, bce=0.0435]\n",
            "Training IRT 2PL (PyTorch): 100%|██████████| 200/200 [00:00<00:00, 1350.49it/s, loss=0.0444, bce=0.0444]\n",
            "Training IRT 2PL (PyTorch): 100%|██████████| 200/200 [00:00<00:00, 1218.29it/s, loss=0.0552, bce=0.0552]\n",
            "Training IRT 2PL (PyTorch): 100%|██████████| 200/200 [00:00<00:00, 962.19it/s, loss=0.0375, bce=0.0375] \n",
            "Training IRT 2PL (PyTorch): 100%|██████████| 200/200 [00:00<00:00, 977.80it/s, loss=0.0312, bce=0.0312] \n",
            "Training IRT 2PL (PyTorch): 100%|██████████| 200/200 [00:00<00:00, 1068.77it/s, loss=0.0598, bce=0.0598]\n",
            "Training IRT 2PL (PyTorch): 100%|██████████| 200/200 [00:00<00:00, 1379.38it/s, loss=0.0458, bce=0.0458]\n",
            "Training IRT 2PL (PyTorch): 100%|██████████| 200/200 [00:00<00:00, 1000.44it/s, loss=0.0454, bce=0.0454]\n",
            "Training IRT 2PL (PyTorch): 100%|██████████| 200/200 [00:00<00:00, 1006.34it/s, loss=0.0636, bce=0.0636]\n",
            "Training IRT 2PL (PyTorch): 100%|██████████| 200/200 [00:00<00:00, 1004.93it/s, loss=0.0538, bce=0.0538]\n"
          ]
        },
        {
          "name": "stdout",
          "output_type": "stream",
          "text": [
            " Avg Error (1-Corr): 0.5608\n",
            "  Testing with 2,611 answers (10 reps)..."
          ]
        },
        {
          "name": "stderr",
          "output_type": "stream",
          "text": [
            "Training IRT 2PL (PyTorch): 100%|██████████| 200/200 [00:00<00:00, 963.56it/s, loss=0.1272, bce=0.1272] \n",
            "Training IRT 2PL (PyTorch): 100%|██████████| 200/200 [00:00<00:00, 1281.86it/s, loss=0.1393, bce=0.1393]\n",
            "Training IRT 2PL (PyTorch): 100%|██████████| 200/200 [00:00<00:00, 918.37it/s, loss=0.1399, bce=0.1399]\n",
            "Training IRT 2PL (PyTorch): 100%|██████████| 200/200 [00:00<00:00, 897.65it/s, loss=0.1263, bce=0.1263] \n",
            "Training IRT 2PL (PyTorch): 100%|██████████| 200/200 [00:00<00:00, 1010.16it/s, loss=0.1258, bce=0.1258]\n",
            "Training IRT 2PL (PyTorch): 100%|██████████| 200/200 [00:00<00:00, 973.79it/s, loss=0.1363, bce=0.1363] \n",
            "Training IRT 2PL (PyTorch): 100%|██████████| 200/200 [00:00<00:00, 837.18it/s, loss=0.1253, bce=0.1253]\n",
            "Training IRT 2PL (PyTorch): 100%|██████████| 200/200 [00:00<00:00, 838.95it/s, loss=0.1205, bce=0.1205] \n",
            "Training IRT 2PL (PyTorch): 100%|██████████| 200/200 [00:00<00:00, 1073.06it/s, loss=0.1333, bce=0.1333]\n",
            "Training IRT 2PL (PyTorch): 100%|██████████| 200/200 [00:00<00:00, 888.50it/s, loss=0.1323, bce=0.1323]\n"
          ]
        },
        {
          "name": "stdout",
          "output_type": "stream",
          "text": [
            " Avg Error (1-Corr): 0.4646\n",
            "  Testing with 5,223 answers (10 reps)..."
          ]
        },
        {
          "name": "stderr",
          "output_type": "stream",
          "text": [
            "Training IRT 2PL (PyTorch): 100%|██████████| 200/200 [00:00<00:00, 856.58it/s, loss=0.2442, bce=0.2442]\n",
            "Training IRT 2PL (PyTorch): 100%|██████████| 200/200 [00:00<00:00, 877.97it/s, loss=0.2457, bce=0.2457] \n",
            "Training IRT 2PL (PyTorch): 100%|██████████| 200/200 [00:00<00:00, 985.40it/s, loss=0.2380, bce=0.2380] \n",
            "Training IRT 2PL (PyTorch): 100%|██████████| 200/200 [00:00<00:00, 1145.67it/s, loss=0.2425, bce=0.2425]\n",
            "Training IRT 2PL (PyTorch): 100%|██████████| 200/200 [00:00<00:00, 879.77it/s, loss=0.2415, bce=0.2415]\n",
            "Training IRT 2PL (PyTorch): 100%|██████████| 200/200 [00:00<00:00, 883.63it/s, loss=0.2434, bce=0.2434]\n",
            "Training IRT 2PL (PyTorch): 100%|██████████| 200/200 [00:00<00:00, 842.45it/s, loss=0.2392, bce=0.2392] \n",
            "Training IRT 2PL (PyTorch): 100%|██████████| 200/200 [00:00<00:00, 1123.29it/s, loss=0.2397, bce=0.2397]\n",
            "Training IRT 2PL (PyTorch): 100%|██████████| 200/200 [00:00<00:00, 876.78it/s, loss=0.2489, bce=0.2489]\n",
            "Training IRT 2PL (PyTorch): 100%|██████████| 200/200 [00:00<00:00, 881.00it/s, loss=0.2408, bce=0.2408]\n"
          ]
        },
        {
          "name": "stdout",
          "output_type": "stream",
          "text": [
            " Avg Error (1-Corr): 0.3539\n",
            "  Testing with 7,835 answers (10 reps)..."
          ]
        },
        {
          "name": "stderr",
          "output_type": "stream",
          "text": [
            "Training IRT 2PL (PyTorch): 100%|██████████| 200/200 [00:00<00:00, 844.99it/s, loss=0.3067, bce=0.3067] \n",
            "Training IRT 2PL (PyTorch): 100%|██████████| 200/200 [00:00<00:00, 880.69it/s, loss=0.3069, bce=0.3069] \n",
            "Training IRT 2PL (PyTorch): 100%|██████████| 200/200 [00:00<00:00, 1140.69it/s, loss=0.3004, bce=0.3004]\n",
            "Training IRT 2PL (PyTorch): 100%|██████████| 200/200 [00:00<00:00, 795.95it/s, loss=0.3065, bce=0.3065]\n",
            "Training IRT 2PL (PyTorch): 100%|██████████| 200/200 [00:00<00:00, 711.52it/s, loss=0.3004, bce=0.3004]\n",
            "Training IRT 2PL (PyTorch): 100%|██████████| 200/200 [00:00<00:00, 680.90it/s, loss=0.3072, bce=0.3072]\n",
            "Training IRT 2PL (PyTorch): 100%|██████████| 200/200 [00:00<00:00, 1059.15it/s, loss=0.3031, bce=0.3031]\n",
            "Training IRT 2PL (PyTorch): 100%|██████████| 200/200 [00:00<00:00, 765.40it/s, loss=0.2929, bce=0.2929]\n",
            "Training IRT 2PL (PyTorch): 100%|██████████| 200/200 [00:00<00:00, 759.72it/s, loss=0.3101, bce=0.3101]\n",
            "Training IRT 2PL (PyTorch): 100%|██████████| 200/200 [00:00<00:00, 822.62it/s, loss=0.2982, bce=0.2982] \n"
          ]
        },
        {
          "name": "stdout",
          "output_type": "stream",
          "text": [
            " Avg Error (1-Corr): 0.2728\n",
            "  Testing with 10,447 answers (10 reps)..."
          ]
        },
        {
          "name": "stderr",
          "output_type": "stream",
          "text": [
            "Training IRT 2PL (PyTorch): 100%|██████████| 200/200 [00:00<00:00, 805.93it/s, loss=0.3380, bce=0.3380] \n",
            "Training IRT 2PL (PyTorch): 100%|██████████| 200/200 [00:00<00:00, 1101.96it/s, loss=0.3430, bce=0.3430]\n",
            "Training IRT 2PL (PyTorch): 100%|██████████| 200/200 [00:00<00:00, 758.98it/s, loss=0.3346, bce=0.3346]\n",
            "Training IRT 2PL (PyTorch): 100%|██████████| 200/200 [00:00<00:00, 814.30it/s, loss=0.3454, bce=0.3454]\n",
            "Training IRT 2PL (PyTorch): 100%|██████████| 200/200 [00:00<00:00, 833.71it/s, loss=0.3388, bce=0.3388] \n",
            "Training IRT 2PL (PyTorch): 100%|██████████| 200/200 [00:00<00:00, 1012.30it/s, loss=0.3381, bce=0.3381]\n",
            "Training IRT 2PL (PyTorch): 100%|██████████| 200/200 [00:00<00:00, 828.82it/s, loss=0.3373, bce=0.3373]\n",
            "Training IRT 2PL (PyTorch): 100%|██████████| 200/200 [00:00<00:00, 813.34it/s, loss=0.3347, bce=0.3347]\n",
            "Training IRT 2PL (PyTorch): 100%|██████████| 200/200 [00:00<00:00, 827.36it/s, loss=0.3445, bce=0.3445] \n",
            "Training IRT 2PL (PyTorch): 100%|██████████| 200/200 [00:00<00:00, 734.88it/s, loss=0.3330, bce=0.3330]\n"
          ]
        },
        {
          "name": "stdout",
          "output_type": "stream",
          "text": [
            " Avg Error (1-Corr): 0.2036\n",
            "  Testing with 13,059 answers (10 reps)..."
          ]
        },
        {
          "name": "stderr",
          "output_type": "stream",
          "text": [
            "Training IRT 2PL (PyTorch): 100%|██████████| 200/200 [00:00<00:00, 962.42it/s, loss=0.3616, bce=0.3616]\n",
            "Training IRT 2PL (PyTorch): 100%|██████████| 200/200 [00:00<00:00, 729.18it/s, loss=0.3649, bce=0.3649]\n",
            "Training IRT 2PL (PyTorch): 100%|██████████| 200/200 [00:00<00:00, 674.93it/s, loss=0.3624, bce=0.3624]\n",
            "Training IRT 2PL (PyTorch): 100%|██████████| 200/200 [00:00<00:00, 681.94it/s, loss=0.3634, bce=0.3634]\n",
            "Training IRT 2PL (PyTorch): 100%|██████████| 200/200 [00:00<00:00, 936.84it/s, loss=0.3613, bce=0.3613]\n",
            "Training IRT 2PL (PyTorch): 100%|██████████| 200/200 [00:00<00:00, 768.60it/s, loss=0.3584, bce=0.3584]\n",
            "Training IRT 2PL (PyTorch): 100%|██████████| 200/200 [00:00<00:00, 798.04it/s, loss=0.3592, bce=0.3592]\n",
            "Training IRT 2PL (PyTorch): 100%|██████████| 200/200 [00:00<00:00, 801.09it/s, loss=0.3593, bce=0.3593] \n",
            "Training IRT 2PL (PyTorch): 100%|██████████| 200/200 [00:00<00:00, 794.80it/s, loss=0.3620, bce=0.3620] \n",
            "Training IRT 2PL (PyTorch): 100%|██████████| 200/200 [00:00<00:00, 999.07it/s, loss=0.3638, bce=0.3638] \n"
          ]
        },
        {
          "name": "stdout",
          "output_type": "stream",
          "text": [
            " Avg Error (1-Corr): 0.1548\n",
            "  Testing with 15,671 answers (10 reps)..."
          ]
        },
        {
          "name": "stderr",
          "output_type": "stream",
          "text": [
            "Training IRT 2PL (PyTorch): 100%|██████████| 200/200 [00:00<00:00, 753.26it/s, loss=0.3802, bce=0.3802]\n",
            "Training IRT 2PL (PyTorch): 100%|██████████| 200/200 [00:00<00:00, 738.53it/s, loss=0.3810, bce=0.3810]\n",
            "Training IRT 2PL (PyTorch): 100%|██████████| 200/200 [00:00<00:00, 770.21it/s, loss=0.3784, bce=0.3784] \n",
            "Training IRT 2PL (PyTorch): 100%|██████████| 200/200 [00:00<00:00, 1010.59it/s, loss=0.3774, bce=0.3774]\n",
            "Training IRT 2PL (PyTorch): 100%|██████████| 200/200 [00:00<00:00, 735.09it/s, loss=0.3767, bce=0.3767]\n",
            "Training IRT 2PL (PyTorch): 100%|██████████| 200/200 [00:00<00:00, 691.41it/s, loss=0.3741, bce=0.3741]\n",
            "Training IRT 2PL (PyTorch): 100%|██████████| 200/200 [00:00<00:00, 787.52it/s, loss=0.3757, bce=0.3757] \n",
            "Training IRT 2PL (PyTorch): 100%|██████████| 200/200 [00:00<00:00, 780.00it/s, loss=0.3784, bce=0.3784] \n",
            "Training IRT 2PL (PyTorch): 100%|██████████| 200/200 [00:00<00:00, 1015.43it/s, loss=0.3751, bce=0.3751]\n",
            "Training IRT 2PL (PyTorch): 100%|██████████| 200/200 [00:00<00:00, 677.14it/s, loss=0.3778, bce=0.3778]\n"
          ]
        },
        {
          "name": "stdout",
          "output_type": "stream",
          "text": [
            " Avg Error (1-Corr): 0.1201\n",
            "  Testing with 18,283 answers (10 reps)..."
          ]
        },
        {
          "name": "stderr",
          "output_type": "stream",
          "text": [
            "Training IRT 2PL (PyTorch): 100%|██████████| 200/200 [00:00<00:00, 715.21it/s, loss=0.3900, bce=0.3900]\n",
            "Training IRT 2PL (PyTorch): 100%|██████████| 200/200 [00:00<00:00, 690.48it/s, loss=0.3915, bce=0.3915]\n",
            "Training IRT 2PL (PyTorch): 100%|██████████| 200/200 [00:00<00:00, 764.85it/s, loss=0.3895, bce=0.3895]\n",
            "Training IRT 2PL (PyTorch): 100%|██████████| 200/200 [00:00<00:00, 985.27it/s, loss=0.3861, bce=0.3861]\n",
            "Training IRT 2PL (PyTorch): 100%|██████████| 200/200 [00:00<00:00, 752.92it/s, loss=0.3853, bce=0.3853]\n",
            "Training IRT 2PL (PyTorch): 100%|██████████| 200/200 [00:00<00:00, 738.32it/s, loss=0.3869, bce=0.3869]\n",
            "Training IRT 2PL (PyTorch): 100%|██████████| 200/200 [00:00<00:00, 718.59it/s, loss=0.3867, bce=0.3867]\n",
            "Training IRT 2PL (PyTorch): 100%|██████████| 200/200 [00:00<00:00, 768.51it/s, loss=0.3900, bce=0.3900]\n",
            "Training IRT 2PL (PyTorch): 100%|██████████| 200/200 [00:00<00:00, 938.57it/s, loss=0.3858, bce=0.3858]\n",
            "Training IRT 2PL (PyTorch): 100%|██████████| 200/200 [00:00<00:00, 745.47it/s, loss=0.3883, bce=0.3883]\n"
          ]
        },
        {
          "name": "stdout",
          "output_type": "stream",
          "text": [
            " Avg Error (1-Corr): 0.0859\n",
            "  Testing with 20,895 answers (10 reps)..."
          ]
        },
        {
          "name": "stderr",
          "output_type": "stream",
          "text": [
            "Training IRT 2PL (PyTorch): 100%|██████████| 200/200 [00:00<00:00, 727.23it/s, loss=0.3991, bce=0.3991]\n",
            "Training IRT 2PL (PyTorch): 100%|██████████| 200/200 [00:00<00:00, 731.52it/s, loss=0.3984, bce=0.3984]\n",
            "Training IRT 2PL (PyTorch): 100%|██████████| 200/200 [00:00<00:00, 747.56it/s, loss=0.3980, bce=0.3980]\n",
            "Training IRT 2PL (PyTorch): 100%|██████████| 200/200 [00:00<00:00, 898.19it/s, loss=0.3955, bce=0.3955]\n",
            "Training IRT 2PL (PyTorch): 100%|██████████| 200/200 [00:00<00:00, 644.69it/s, loss=0.3967, bce=0.3967]\n",
            "Training IRT 2PL (PyTorch): 100%|██████████| 200/200 [00:00<00:00, 730.21it/s, loss=0.3977, bce=0.3977]\n",
            "Training IRT 2PL (PyTorch): 100%|██████████| 200/200 [00:00<00:00, 755.11it/s, loss=0.3972, bce=0.3972]\n",
            "Training IRT 2PL (PyTorch): 100%|██████████| 200/200 [00:00<00:00, 776.05it/s, loss=0.4015, bce=0.4015]\n",
            "Training IRT 2PL (PyTorch): 100%|██████████| 200/200 [00:00<00:00, 896.94it/s, loss=0.3944, bce=0.3944]\n",
            "Training IRT 2PL (PyTorch): 100%|██████████| 200/200 [00:00<00:00, 722.82it/s, loss=0.3973, bce=0.3973]\n"
          ]
        },
        {
          "name": "stdout",
          "output_type": "stream",
          "text": [
            " Avg Error (1-Corr): 0.0570\n",
            "  Testing with 23,507 answers (10 reps)..."
          ]
        },
        {
          "name": "stderr",
          "output_type": "stream",
          "text": [
            "Training IRT 2PL (PyTorch): 100%|██████████| 200/200 [00:00<00:00, 628.31it/s, loss=0.4041, bce=0.4041]\n",
            "Training IRT 2PL (PyTorch): 100%|██████████| 200/200 [00:00<00:00, 725.14it/s, loss=0.4049, bce=0.4049]\n",
            "Training IRT 2PL (PyTorch): 100%|██████████| 200/200 [00:00<00:00, 794.50it/s, loss=0.4051, bce=0.4051]\n",
            "Training IRT 2PL (PyTorch): 100%|██████████| 200/200 [00:00<00:00, 890.09it/s, loss=0.4036, bce=0.4036]\n",
            "Training IRT 2PL (PyTorch): 100%|██████████| 200/200 [00:00<00:00, 743.33it/s, loss=0.4031, bce=0.4031]\n",
            "Training IRT 2PL (PyTorch): 100%|██████████| 200/200 [00:00<00:00, 658.94it/s, loss=0.4041, bce=0.4041]\n",
            "Training IRT 2PL (PyTorch): 100%|██████████| 200/200 [00:00<00:00, 704.49it/s, loss=0.4029, bce=0.4029]\n",
            "Training IRT 2PL (PyTorch): 100%|██████████| 200/200 [00:00<00:00, 824.57it/s, loss=0.4063, bce=0.4063]\n",
            "Training IRT 2PL (PyTorch): 100%|██████████| 200/200 [00:00<00:00, 850.84it/s, loss=0.4037, bce=0.4037]\n",
            "Training IRT 2PL (PyTorch): 100%|██████████| 200/200 [00:00<00:00, 726.26it/s, loss=0.4044, bce=0.4044]\n"
          ]
        },
        {
          "name": "stdout",
          "output_type": "stream",
          "text": [
            " Avg Error (1-Corr): 0.0300\n",
            "  Testing with 26,119 answers (10 reps)..."
          ]
        },
        {
          "name": "stderr",
          "output_type": "stream",
          "text": [
            "Training IRT 2PL (PyTorch): 100%|██████████| 200/200 [00:00<00:00, 668.20it/s, loss=0.4095, bce=0.4095]\n",
            "Training IRT 2PL (PyTorch): 100%|██████████| 200/200 [00:00<00:00, 694.78it/s, loss=0.4096, bce=0.4096]\n",
            "Training IRT 2PL (PyTorch): 100%|██████████| 200/200 [00:00<00:00, 714.93it/s, loss=0.4094, bce=0.4094]\n",
            "Training IRT 2PL (PyTorch): 100%|██████████| 200/200 [00:00<00:00, 865.34it/s, loss=0.4097, bce=0.4097]\n",
            "Training IRT 2PL (PyTorch): 100%|██████████| 200/200 [00:00<00:00, 687.62it/s, loss=0.4096, bce=0.4096]\n",
            "Training IRT 2PL (PyTorch): 100%|██████████| 200/200 [00:00<00:00, 626.24it/s, loss=0.4097, bce=0.4097]\n",
            "Training IRT 2PL (PyTorch): 100%|██████████| 200/200 [00:00<00:00, 638.94it/s, loss=0.4096, bce=0.4096]\n",
            "Training IRT 2PL (PyTorch): 100%|██████████| 200/200 [00:00<00:00, 622.78it/s, loss=0.4096, bce=0.4096]\n",
            "Training IRT 2PL (PyTorch): 100%|██████████| 200/200 [00:00<00:00, 753.13it/s, loss=0.4095, bce=0.4095]\n",
            "Training IRT 2PL (PyTorch): 100%|██████████| 200/200 [00:00<00:00, 628.00it/s, loss=0.4093, bce=0.4093]\n"
          ]
        },
        {
          "name": "stdout",
          "output_type": "stream",
          "text": [
            " Avg Error (1-Corr): 0.0055\n",
            "\n",
            "Results Summary:\n"
          ]
        },
        {
          "data": {
            "text/html": [
              "<div>\n",
              "<style scoped>\n",
              "    .dataframe tbody tr th:only-of-type {\n",
              "        vertical-align: middle;\n",
              "    }\n",
              "\n",
              "    .dataframe tbody tr th {\n",
              "        vertical-align: top;\n",
              "    }\n",
              "\n",
              "    .dataframe thead th {\n",
              "        text-align: right;\n",
              "    }\n",
              "</style>\n",
              "<table border=\"1\" class=\"dataframe\">\n",
              "  <thead>\n",
              "    <tr style=\"text-align: right;\">\n",
              "      <th></th>\n",
              "      <th>Sample Size</th>\n",
              "      <th>Error (1-Corr)</th>\n",
              "    </tr>\n",
              "  </thead>\n",
              "  <tbody>\n",
              "    <tr>\n",
              "      <th>0</th>\n",
              "      <td>261</td>\n",
              "      <td>0.660918</td>\n",
              "    </tr>\n",
              "    <tr>\n",
              "      <th>1</th>\n",
              "      <td>1305</td>\n",
              "      <td>0.560828</td>\n",
              "    </tr>\n",
              "    <tr>\n",
              "      <th>2</th>\n",
              "      <td>2611</td>\n",
              "      <td>0.464620</td>\n",
              "    </tr>\n",
              "    <tr>\n",
              "      <th>3</th>\n",
              "      <td>5223</td>\n",
              "      <td>0.353867</td>\n",
              "    </tr>\n",
              "    <tr>\n",
              "      <th>4</th>\n",
              "      <td>7835</td>\n",
              "      <td>0.272772</td>\n",
              "    </tr>\n",
              "    <tr>\n",
              "      <th>5</th>\n",
              "      <td>10447</td>\n",
              "      <td>0.203576</td>\n",
              "    </tr>\n",
              "    <tr>\n",
              "      <th>6</th>\n",
              "      <td>13059</td>\n",
              "      <td>0.154779</td>\n",
              "    </tr>\n",
              "    <tr>\n",
              "      <th>7</th>\n",
              "      <td>15671</td>\n",
              "      <td>0.120080</td>\n",
              "    </tr>\n",
              "    <tr>\n",
              "      <th>8</th>\n",
              "      <td>18283</td>\n",
              "      <td>0.085921</td>\n",
              "    </tr>\n",
              "    <tr>\n",
              "      <th>9</th>\n",
              "      <td>20895</td>\n",
              "      <td>0.056972</td>\n",
              "    </tr>\n",
              "    <tr>\n",
              "      <th>10</th>\n",
              "      <td>23507</td>\n",
              "      <td>0.029964</td>\n",
              "    </tr>\n",
              "    <tr>\n",
              "      <th>11</th>\n",
              "      <td>26119</td>\n",
              "      <td>0.005479</td>\n",
              "    </tr>\n",
              "  </tbody>\n",
              "</table>\n",
              "</div>"
            ],
            "text/plain": [
              "    Sample Size  Error (1-Corr)\n",
              "0           261        0.660918\n",
              "1          1305        0.560828\n",
              "2          2611        0.464620\n",
              "3          5223        0.353867\n",
              "4          7835        0.272772\n",
              "5         10447        0.203576\n",
              "6         13059        0.154779\n",
              "7         15671        0.120080\n",
              "8         18283        0.085921\n",
              "9         20895        0.056972\n",
              "10        23507        0.029964\n",
              "11        26119        0.005479"
            ]
          },
          "execution_count": 27,
          "metadata": {},
          "output_type": "execute_result"
        }
      ],
      "source": [
        "print(\"📈 Simulating traditional IRT with varying data sizes...\")\n",
        "\n",
        "# Initialize dictionary to store errors for each sample size\n",
        "real_data_errors = {}\n",
        "\n",
        "# Calculate actual sample sizes based on percentages\n",
        "max_holdout_answers = len(holdout_answers_df)\n",
        "actual_sample_sizes = sorted(list(set([int(pct * max_holdout_answers) for pct in SAMPLE_SIZES_PCT if int(pct * max_holdout_answers) > 0])))\n",
        "\n",
        "# Ensure we include the maximum size\n",
        "if max_holdout_answers not in actual_sample_sizes:\n",
        "    actual_sample_sizes.append(max_holdout_answers)\n",
        "\n",
        "print(f\"Sample sizes (num answers): {actual_sample_sizes}\")\n",
        "\n",
        "# Loop through each sample size\n",
        "for n_answers in actual_sample_sizes:\n",
        "    print(f\"  Testing with {n_answers:,} answers ({NUM_REPETITIONS} reps)...\", end=\"\")\n",
        "    \n",
        "    # Initialize list to store errors for repetitions at this sample size\n",
        "    rep_errors = []\n",
        "    \n",
        "    # Repeat multiple times for statistical stability\n",
        "    for rep in range(NUM_REPETITIONS):\n",
        "        # Sample answers (use full set if sample size equals or exceeds available data)\n",
        "        if n_answers >= len(holdout_answers_df):\n",
        "            sample_answers_df = holdout_answers_df\n",
        "        else:\n",
        "            sample_answers_df = holdout_answers_df.sample(n=n_answers, random_state=rep)\n",
        "        \n",
        "        # Skip if the sample doesn't have enough variety for IRT\n",
        "        if sample_answers_df[USER_ID_COL].nunique() < 2 or sample_answers_df[QUESTION_ID_COL].nunique() < 2:\n",
        "            continue\n",
        "            \n",
        "        try:\n",
        "            # Estimate difficulty using this sample\n",
        "            estimated_params_df = estimate_irt_2pl_params(\n",
        "                response_df=sample_answers_df,\n",
        "                user_col=USER_ID_COL,\n",
        "                question_col=QUESTION_ID_COL,\n",
        "                correctness_col=CORRECTNESS_COL,\n",
        "            )\n",
        "            \n",
        "            # Calculate error compared to ground truth\n",
        "            error = calculate_error(\n",
        "                holdout_difficulty_true_df,\n",
        "                estimated_params_df,\n",
        "                QUESTION_ID_COL,\n",
        "                IRT_DIFFICULTY_COL\n",
        "            )\n",
        "            \n",
        "            # Store valid error values\n",
        "            if not pd.isna(error):\n",
        "                rep_errors.append(error)\n",
        "                \n",
        "        except Exception as e:\n",
        "            print(f\"\\nError during IRT estimation or Error Calc for N={n_answers}, Rep {rep+1}: {e}\")\n",
        "    \n",
        "    # Calculate average error across repetitions\n",
        "    if rep_errors:\n",
        "        avg_error = np.mean(rep_errors)\n",
        "        real_data_errors[n_answers] = avg_error\n",
        "        print(f\" Avg Error (1-Corr): {avg_error:.4f}\")\n",
        "    else:\n",
        "        print(\" No valid errors calculated for this sample size.\")\n",
        "        real_data_errors[n_answers] = np.nan\n",
        "\n",
        "# Display results as a table\n",
        "error_df = pd.DataFrame({\n",
        "    'Sample Size': real_data_errors.keys(),\n",
        "    'Error (1-Corr)': real_data_errors.values()\n",
        "}).sort_values('Sample Size')\n",
        "\n",
        "print(\"\\nResults Summary:\")\n",
        "error_df"
      ]
    },
    {
      "cell_type": "markdown",
      "metadata": {},
      "source": [
        "## 8. Plot Results and Interpret\n",
        "\n",
        "Now we visualize the results by plotting error vs. sample size, highlighting the synthetic model's performance, and determining the number of real responses that would be equivalent to using our model."
      ]
    },
    {
      "cell_type": "code",
      "execution_count": 28,
      "metadata": {},
      "outputs": [
        {
          "name": "stdout",
          "output_type": "stream",
          "text": [
            "📊 Plotting efficiency comparison results...\n",
            "💾 Plot saved to ../results/20250429_122648/efficiency_evaluation_correlation.png\n"
          ]
        },
        {
          "data": {
            "image/png": "[encoded data removed]",
            "text/plain": [
              "<Figure size 1000x600 with 1 Axes>"
            ]
          },
          "metadata": {},
          "output_type": "display_data"
        }
      ],
      "source": [
        "print(\"📊 Plotting efficiency comparison results...\")\n",
        "\n",
        "# Filter out invalid error values\n",
        "valid_errors = {k: v for k, v in real_data_errors.items() if not pd.isna(v)}\n",
        "if not valid_errors:\n",
        "    raise ValueError(\"No valid error values were calculated from real data samples. Cannot plot.\")\n",
        "\n",
        "# Extract data points for plotting\n",
        "x_vals = list(valid_errors.keys())\n",
        "y_vals = list(valid_errors.values())\n",
        "\n",
        "# Set up the plot with a modern style\n",
        "plt.style.use('seaborn-v0_8-whitegrid') \n",
        "plt.figure(figsize=(10, 6))\n",
        "\n",
        "# Plot the real data simulation results\n",
        "plt.plot(x_vals, y_vals, marker='o', linestyle='-', \n",
        "         label=\"Traditional IRT (Real Data)\", color='#3498db', markersize=6)\n",
        "\n",
        "# Plot the synthetic model error as a horizontal line\n",
        "plt.axhline(y=synthetic_error, color='#e74c3c', linestyle='--', linewidth=1.5, \n",
        "            label=f\"Synthetic Model Error ({synthetic_error:.4f})\")\n",
        "\n",
        "# Calculate the intersection point (where synthetic model equals real data)\n",
        "if synthetic_error <= min(y_vals):\n",
        "    intersection_x = max(x_vals)\n",
        "    intersection_text = f\"Synthetic model outperforms all tested real data samples\"\n",
        "elif synthetic_error >= max(y_vals):\n",
        "    intersection_x = min(x_vals)\n",
        "    intersection_text = f\"Synthetic model underperforms all tested real data samples\"\n",
        "else:\n",
        "    # Interpolate to find where the synthetic error intersects the real data curve\n",
        "    sorted_indices = np.argsort(y_vals)\n",
        "    sorted_y = np.array(y_vals)[sorted_indices]\n",
        "    sorted_x = np.array(x_vals)[sorted_indices]\n",
        "    intersection_x = np.interp(synthetic_error, sorted_y, sorted_x)\n",
        "    intersection_text = f\"Equivalent to {intersection_x:,.0f} real student answers\"\n",
        "\n",
        "# Plot the intersection line\n",
        "plt.axvline(x=intersection_x, color='#2ecc71', linestyle=':', linewidth=1.5, \n",
        "            label=f\"Equiv. Real Answers: ~{intersection_x:,.0f}\")\n",
        "\n",
        "# Add styling and labels\n",
        "plt.xlabel(\"Number of Real Student Answers Used (Holdout Set)\", fontsize=12)\n",
        "plt.ylabel(\"IRT Difficulty Estimation Error (1 - Pearson Correlation)\", fontsize=12)\n",
        "plt.title(\"Efficiency Comparison: Synthetic vs. Real Data for IRT Estimation\", \n",
        "          fontsize=14, fontweight='bold')\n",
        "\n",
        "# Set x-axis to log scale for better visualization of the full range\n",
        "plt.xscale('log')\n",
        "\n",
        "# Set y-axis limits with padding\n",
        "plot_min_y = min(y_vals + [synthetic_error])\n",
        "y_bottom = min(-0.02, plot_min_y - 0.05)  # Ensure 0 is visible, add padding\n",
        "plt.ylim(bottom=y_bottom, top=1.05)  # Set top limit to 1.05\n",
        "\n",
        "# Customize grid for better readability\n",
        "plt.grid(True, which='major', axis='y', linestyle='--', linewidth=0.5, color='gray')\n",
        "plt.grid(False, which='major', axis='x')  # Turn off vertical grid lines\n",
        "\n",
        "# Add legend\n",
        "plt.legend(fontsize=10)\n",
        "\n",
        "# Remove top and right spines for a cleaner look\n",
        "ax = plt.gca()\n",
        "ax.spines['top'].set_visible(False)\n",
        "ax.spines['right'].set_visible(False)\n",
        "\n",
        "# Adjust tick parameters\n",
        "plt.tick_params(axis='both', which='major', labelsize=10)\n",
        "\n",
        "# Add annotation for the intersection point\n",
        "plt.annotate(intersection_text, xy=(intersection_x, synthetic_error), \n",
        "             xytext=(intersection_x*1.2, synthetic_error+0.05),\n",
        "             arrowprops=dict(facecolor='black', shrink=0.05, width=1, headwidth=8),\n",
        "             fontsize=10)\n",
        "\n",
        "# Ensure tight layout\n",
        "plt.tight_layout()\n",
        "\n",
        "# Save and display the plot\n",
        "plt.savefig(paths['plot_save_path'], dpi=300)\n",
        "print(f\"💾 Plot saved to {paths['plot_save_path']}\")\n",
        "plt.show()"
      ]
    },
    {
      "cell_type": "markdown",
      "metadata": {},
      "source": [
        "## 9. Results Summary and Interpretation\n",
        "\n",
        "Finally, we summarize our findings and interpret what they mean for using synthetic data in educational assessment."
      ]
    },
    {
      "cell_type": "code",
      "execution_count": 29,
      "metadata": {},
      "outputs": [
        {
          "name": "stdout",
          "output_type": "stream",
          "text": [
            "\n",
            "--- 📋 Results Summary ---\n",
            "Synthetic Model Error (1 - Pearson Corr): 0.0502\n",
            "\n",
            "Avg Error (1 - Pearson Corr) using Real Data Samples:\n"
          ]
        },
        {
          "data": {
            "text/html": [
              "<style type=\"text/css\">\n",
              "</style>\n",
              "<table id=\"T_ab1c0\">\n",
              "  <thead>\n",
              "    <tr>\n",
              "      <th class=\"blank level0\" >&nbsp;</th>\n",
              "      <th id=\"T_ab1c0_level0_col0\" class=\"col_heading level0 col0\" >Sample Size</th>\n",
              "      <th id=\"T_ab1c0_level0_col1\" class=\"col_heading level0 col1\" >Error (1-Corr)</th>\n",
              "      <th id=\"T_ab1c0_level0_col2\" class=\"col_heading level0 col2\" >Sample %</th>\n",
              "    </tr>\n",
              "  </thead>\n",
              "  <tbody>\n",
              "    <tr>\n",
              "      <th id=\"T_ab1c0_level0_row0\" class=\"row_heading level0 row0\" >0</th>\n",
              "      <td id=\"T_ab1c0_row0_col0\" class=\"data row0 col0\" >261</td>\n",
              "      <td id=\"T_ab1c0_row0_col1\" class=\"data row0 col1\" >0.6609</td>\n",
              "      <td id=\"T_ab1c0_row0_col2\" class=\"data row0 col2\" >1.0%</td>\n",
              "    </tr>\n",
              "    <tr>\n",
              "      <th id=\"T_ab1c0_level0_row1\" class=\"row_heading level0 row1\" >1</th>\n",
              "      <td id=\"T_ab1c0_row1_col0\" class=\"data row1 col0\" >1,305</td>\n",
              "      <td id=\"T_ab1c0_row1_col1\" class=\"data row1 col1\" >0.5608</td>\n",
              "      <td id=\"T_ab1c0_row1_col2\" class=\"data row1 col2\" >5.0%</td>\n",
              "    </tr>\n",
              "    <tr>\n",
              "      <th id=\"T_ab1c0_level0_row2\" class=\"row_heading level0 row2\" >2</th>\n",
              "      <td id=\"T_ab1c0_row2_col0\" class=\"data row2 col0\" >2,611</td>\n",
              "      <td id=\"T_ab1c0_row2_col1\" class=\"data row2 col1\" >0.4646</td>\n",
              "      <td id=\"T_ab1c0_row2_col2\" class=\"data row2 col2\" >10.0%</td>\n",
              "    </tr>\n",
              "    <tr>\n",
              "      <th id=\"T_ab1c0_level0_row3\" class=\"row_heading level0 row3\" >3</th>\n",
              "      <td id=\"T_ab1c0_row3_col0\" class=\"data row3 col0\" >5,223</td>\n",
              "      <td id=\"T_ab1c0_row3_col1\" class=\"data row3 col1\" >0.3539</td>\n",
              "      <td id=\"T_ab1c0_row3_col2\" class=\"data row3 col2\" >20.0%</td>\n",
              "    </tr>\n",
              "    <tr>\n",
              "      <th id=\"T_ab1c0_level0_row4\" class=\"row_heading level0 row4\" >4</th>\n",
              "      <td id=\"T_ab1c0_row4_col0\" class=\"data row4 col0\" >7,835</td>\n",
              "      <td id=\"T_ab1c0_row4_col1\" class=\"data row4 col1\" >0.2728</td>\n",
              "      <td id=\"T_ab1c0_row4_col2\" class=\"data row4 col2\" >30.0%</td>\n",
              "    </tr>\n",
              "    <tr>\n",
              "      <th id=\"T_ab1c0_level0_row5\" class=\"row_heading level0 row5\" >5</th>\n",
              "      <td id=\"T_ab1c0_row5_col0\" class=\"data row5 col0\" >10,447</td>\n",
              "      <td id=\"T_ab1c0_row5_col1\" class=\"data row5 col1\" >0.2036</td>\n",
              "      <td id=\"T_ab1c0_row5_col2\" class=\"data row5 col2\" >40.0%</td>\n",
              "    </tr>\n",
              "    <tr>\n",
              "      <th id=\"T_ab1c0_level0_row6\" class=\"row_heading level0 row6\" >6</th>\n",
              "      <td id=\"T_ab1c0_row6_col0\" class=\"data row6 col0\" >13,059</td>\n",
              "      <td id=\"T_ab1c0_row6_col1\" class=\"data row6 col1\" >0.1548</td>\n",
              "      <td id=\"T_ab1c0_row6_col2\" class=\"data row6 col2\" >50.0%</td>\n",
              "    </tr>\n",
              "    <tr>\n",
              "      <th id=\"T_ab1c0_level0_row7\" class=\"row_heading level0 row7\" >7</th>\n",
              "      <td id=\"T_ab1c0_row7_col0\" class=\"data row7 col0\" >15,671</td>\n",
              "      <td id=\"T_ab1c0_row7_col1\" class=\"data row7 col1\" >0.1201</td>\n",
              "      <td id=\"T_ab1c0_row7_col2\" class=\"data row7 col2\" >60.0%</td>\n",
              "    </tr>\n",
              "    <tr>\n",
              "      <th id=\"T_ab1c0_level0_row8\" class=\"row_heading level0 row8\" >8</th>\n",
              "      <td id=\"T_ab1c0_row8_col0\" class=\"data row8 col0\" >18,283</td>\n",
              "      <td id=\"T_ab1c0_row8_col1\" class=\"data row8 col1\" >0.0859</td>\n",
              "      <td id=\"T_ab1c0_row8_col2\" class=\"data row8 col2\" >70.0%</td>\n",
              "    </tr>\n",
              "    <tr>\n",
              "      <th id=\"T_ab1c0_level0_row9\" class=\"row_heading level0 row9\" >9</th>\n",
              "      <td id=\"T_ab1c0_row9_col0\" class=\"data row9 col0\" >20,895</td>\n",
              "      <td id=\"T_ab1c0_row9_col1\" class=\"data row9 col1\" >0.0570</td>\n",
              "      <td id=\"T_ab1c0_row9_col2\" class=\"data row9 col2\" >80.0%</td>\n",
              "    </tr>\n",
              "    <tr>\n",
              "      <th id=\"T_ab1c0_level0_row10\" class=\"row_heading level0 row10\" >10</th>\n",
              "      <td id=\"T_ab1c0_row10_col0\" class=\"data row10 col0\" >23,507</td>\n",
              "      <td id=\"T_ab1c0_row10_col1\" class=\"data row10 col1\" >0.0300</td>\n",
              "      <td id=\"T_ab1c0_row10_col2\" class=\"data row10 col2\" >90.0%</td>\n",
              "    </tr>\n",
              "    <tr>\n",
              "      <th id=\"T_ab1c0_level0_row11\" class=\"row_heading level0 row11\" >11</th>\n",
              "      <td id=\"T_ab1c0_row11_col0\" class=\"data row11 col0\" >26,119</td>\n",
              "      <td id=\"T_ab1c0_row11_col1\" class=\"data row11 col1\" >0.0055</td>\n",
              "      <td id=\"T_ab1c0_row11_col2\" class=\"data row11 col2\" >100.0%</td>\n",
              "    </tr>\n",
              "  </tbody>\n",
              "</table>\n"
            ],
            "text/plain": [
              "<pandas.io.formats.style.Styler at 0x3ae9b8ec0>"
            ]
          },
          "metadata": {},
          "output_type": "display_data"
        }
      ],
      "source": [
        "print(\"\\n--- 📋 Results Summary ---\")\n",
        "print(f\"Synthetic Model Error (1 - Pearson Corr): {synthetic_error:.4f}\")\n",
        "print(\"\\nAvg Error (1 - Pearson Corr) using Real Data Samples:\")\n",
        "\n",
        "# Create a nicely formatted summary table\n",
        "summary_df = pd.DataFrame({\n",
        "    'Sample Size': list(real_data_errors.keys()),\n",
        "    'Error (1-Corr)': list(real_data_errors.values()),\n",
        "    'Sample %': [n/max_holdout_answers*100 for n in real_data_errors.keys()]\n",
        "}).sort_values('Sample Size')\n",
        "\n",
        "# Format the table for display\n",
        "display(summary_df.style.format({\n",
        "    'Sample Size': '{:,.0f}',\n",
        "    'Error (1-Corr)': '{:.4f}',\n",
        "    'Sample %': '{:.1f}%'\n",
        "}))"
      ]
    },
    {
      "cell_type": "markdown",
      "metadata": {},
      "source": [
        "### Interpretation\n",
        "\n",
        "The results of this analysis demonstrate the efficiency of using synthetic student data generated by our neural network model for IRT difficulty estimation. Here's what we found:\n",
        "\n",
        "1. **Synthetic data efficiency**: The synthetic model's accuracy (in terms of difficulty correlation) is roughly equivalent to using approximately {intersection_x:,.0f} real student answers for IRT estimation.\n",
        "\n",
        "2. **Data collection implications**: This suggests we could potentially reduce the number of required student responses by leveraging our neural model's predictions, leading to more efficient assessment development.\n",
        "\n",
        "3. **Error characteristics**: The synthetic model achieves an error level of {synthetic_error:.4f} (where 0 represents perfect correlation with ground truth). This compares to error levels ranging from {min(y_vals):.4f} to {max(y_vals):.4f} when using varying amounts of real data.\n",
        "\n",
        "4. **Practical applications**: These findings suggest that our synthetic data approach could be particularly valuable in scenarios where collecting large amounts of student response data is challenging, such as:\n",
        "   - New assessment development\n",
        "   - Question pretesting\n",
        "   - Low-resource educational contexts\n",
        "   - Rapid curriculum updates\n",
        "\n",
        "5. **Limitations**: While promising, the synthetic approach still has limitations:\n",
        "   - It relies on patterns learned from existing data\n",
        "   - It may not fully capture novel question types or formats\n",
        "   - It should complement rather than entirely replace real student data\n",
        "\n",
        "Overall, these results suggest that our neural network-based approach to difficulty prediction offers significant efficiency gains while maintaining acceptable accuracy levels for IRT parameter estimation."
      ]
    }
  ],
  "metadata": {
    "kernelspec": {
      "display_name": "base",
      "language": "python",
      "name": "python3"
    },
    "language_info": {
      "codemirror_mode": {
        "name": "ipython",
        "version": 3
      },
      "file_extension": ".py",
      "mimetype": "text/x-python",
      "name": "python",
      "nbconvert_exporter": "python",
      "pygments_lexer": "ipython3",
      "version": "3.12.2"
    }
  },
  "nbformat": 4,
  "nbformat_minor": 4
}
