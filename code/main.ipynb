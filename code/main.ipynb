{
  "cells": [
    {
      "cell_type": "markdown",
      "metadata": {},
      "source": [
        "# Zapien Difficulty‑Prediction Pipeline\n",
        "\n",
        "This notebook implements an end-to-end pipeline for predicting question difficulty in educational assessments using Item Response Theory (IRT) and neural networks.\n",
        "\n",
        "## Overview\n",
        "\n",
        "The pipeline follows these main steps:\n",
        "1. Calculate empirical difficulty of questions using 1-PL IRT modeling\n",
        "2. Extract features from question text and multiple-choice options\n",
        "3. Generate text embeddings for questions and options\n",
        "4. Train a neural network to predict student performance\n",
        "5. Evaluate the model on hold-out data\n",
        "6. Compare predicted difficulty with empirical difficulty estimates\n",
        "\n",
        "All orchestration lives **inside this notebook**; module files expose only\n",
        "small helpers. By scrolling top‑to‑bottom you will see every data\n",
        "transformation step.\n"
      ]
    },
    {
      "cell_type": "markdown",
      "metadata": {},
      "source": [
        "## 1 Setup"
      ]
    },
    {
      "cell_type": "markdown",
      "metadata": {},
      "source": [
        "### 1.1 Load libraries and modules\n",
        "\n",
        "The pipeline uses several custom modules for different stages of processing:\n",
        "- `irt`: Item Response Theory modeling for calculating question difficulty\n",
        "- `features`: Feature extraction from question text and options\n",
        "- `embeddings`: Text embedding generation using pretrained models\n",
        "- `utils`: Helper functions for text formatting and preprocessing\n",
        "- `modeling_data`: Dataset preparation for neural network training\n",
        "- `neural_net`: Neural network architecture and training functions\n",
        "- `evaluation`: Model evaluation and metric calculation"
      ]
    },
    {
      "cell_type": "code",
      "execution_count": 1,
      "metadata": {},
      "outputs": [],
      "source": [
        "# Standard Python libraries\n",
        "import os\n",
        "import pickle\n",
        "import pandas as pd\n",
        "from datetime import datetime\n",
        "from collections import defaultdict\n",
        "\n",
        "# --- External pipeline modules ---\n",
        "# IRT difficulty estimation\n",
        "from modules.irt import estimate_irt_2pl_params\n",
        "\n",
        "# Feature extraction\n",
        "from modules.features import extract_text_features, calculate_option_features\n",
        "from modules.embeddings import generate_text_embeddings\n",
        "from modules.utils import format_question_text\n",
        "\n",
        "# Data preparation and model training\n",
        "from modules.modeling_data import (\n",
        "    stratified_question_split_3way,\n",
        "    prepare_nn_datasets,\n",
        "    save_preprocessors,\n",
        ")\n",
        "from modules.neural_net import create_nn_model, train_nn_model, save_nn_model\n",
        "\n",
        "# Evaluation\n",
        "from modules.evaluation import (\n",
        "    make_dataset,\n",
        "    evaluate_model,\n",
        "    dump_json,\n",
        "    prediction_matrix,\n",
        "    difficulty_from_predictions,\n",
        "    compare_difficulty,\n",
        ")"
      ]
    },
    {
      "cell_type": "markdown",
      "metadata": {},
      "source": [
        "### 1.2 Define constants\n",
        "\n",
        "These constants define column names, model parameters, and configuration settings used throughout the pipeline."
      ]
    },
    {
      "cell_type": "code",
      "execution_count": 2,
      "metadata": {},
      "outputs": [],
      "source": [
        "# --- Core column names for student response data ---\n",
        "USER_ID_COL = \"user_id\"              # Identifier for students/users\n",
        "QUESTION_ID_COL = \"question_id\"      # Identifier for questions\n",
        "CORRECTNESS_COL = \"is_correct\"       # Binary indicator of response correctness\n",
        "\n",
        "# --- Question content columns ---\n",
        "QUESTION_TEXT_COL = \"question_title\"  # Text of the question prompt\n",
        "OPTION_COLS = [\"option_a\", \"option_b\", \"option_c\", \"option_d\", \"option_e\"]  # Multiple choice options\n",
        "CORRECT_OPTION_COL = \"correct_option_letter\"  # Letter of the correct option (A-E)\n",
        "FORMATTED_TEXT_COL = \"formatted_question_text\"  # Processed question text\n",
        "IRT_DIFFICULTY_COL = \"difficulty\"  # IRT-based difficulty parameter\n",
        "\n",
        "# --- Embedding model configuration ---\n",
        "EMBEDDING_MODEL = \"nomic-ai/modernbert-embed-base\"  # Text embedding model\n",
        "EMBEDDING_BATCH_SIZE = 32  # Batch size for generating embeddings\n",
        "\n",
        "# --- Dataset split configuration ---\n",
        "TEST_SPLIT_SIZE = 0.1     # Proportion of data for final evaluation\n",
        "VALIDATION_SPLIT_SIZE = 0.2  # Proportion of data for validation during training\n",
        "RANDOM_SEED = 42          # Seed for reproducibility\n",
        "\n",
        "# --- Numerical features for neural network input ---\n",
        "# These features capture various aspects of question complexity and structure\n",
        "NUMERICAL_FEATURE_COLS = [\n",
        "    # Text complexity metrics\n",
        "    \"question_word_count\", \"question_char_count\", \"question_avg_word_length\",\n",
        "    \"question_digit_count\", \"question_special_char_count\",\n",
        "    \"question_mathematical_symbols\", \"question_latex_expressions\",\n",
        "    \n",
        "    # Option-related metrics\n",
        "    \"jaccard_similarity_std\", \"avg_option_length\", \"avg_option_word_count\",\n",
        "    \n",
        "    # Pedagogical metadata\n",
        "    \"avg_steps\", \"level\", \"num_misconceptions\", \"has_image\",\n",
        "    \n",
        "    # Target variable (used for both feature and prediction)\n",
        "    IRT_DIFFICULTY_COL,\n",
        "]"
      ]
    },
    {
      "cell_type": "markdown",
      "metadata": {},
      "source": [
        "### 1.3 Define paths\n",
        "\n",
        "Set up file paths for data input/output and create a timestamped directory for results."
      ]
    },
    {
      "cell_type": "code",
      "execution_count": 3,
      "metadata": {},
      "outputs": [
        {
          "name": "stdout",
          "output_type": "stream",
          "text": [
            "Results will be saved to: /Users/matias/Projects/capstone-new/results/20250429_122648\n"
          ]
        }
      ],
      "source": [
        "# --- Path configuration ---\n",
        "# Root directory is one level up from current working directory\n",
        "ROOT_DIR = os.path.abspath(os.path.dirname(os.getcwd()))\n",
        "\n",
        "# Input data location\n",
        "DATA_DIR = \"data/zapien\"\n",
        "ANSWERS_FILE_PATH = os.path.join(ROOT_DIR, DATA_DIR, \"answers.csv\")\n",
        "QUESTIONS_FILE_PATH = os.path.join(ROOT_DIR, DATA_DIR, \"questions.csv\")\n",
        "\n",
        "# Output directory for results\n",
        "RESULTS_DIR = os.path.join(ROOT_DIR, \"results\")\n",
        "\n",
        "# Create a timestamped directory for this run's outputs\n",
        "current_run_dir = os.path.join(RESULTS_DIR, datetime.now().strftime(\"%Y%m%d_%H%M%S\"))\n",
        "os.makedirs(current_run_dir, exist_ok=True)\n",
        "print(\"Results will be saved to:\", current_run_dir)"
      ]
    },
    {
      "cell_type": "markdown",
      "metadata": {},
      "source": [
        "### 1.4 Load raw data\n",
        "\n",
        "Load two key datasets:\n",
        "1. `answers_df`: Student response data (who answered what and whether they were correct)\n",
        "2. `questions_df`: Question content and metadata"
      ]
    },
    {
      "cell_type": "code",
      "execution_count": 4,
      "metadata": {},
      "outputs": [
        {
          "name": "stdout",
          "output_type": "stream",
          "text": [
            "Student answers dataset: 269171 rows, 16 columns\n",
            "Question content dataset: 4696 rows, 51 columns\n",
            "\n",
            "Sample student answers:\n"
          ]
        },
        {
          "data": {
            "text/html": [
              "<div>\n",
              "<style scoped>\n",
              "    .dataframe tbody tr th:only-of-type {\n",
              "        vertical-align: middle;\n",
              "    }\n",
              "\n",
              "    .dataframe tbody tr th {\n",
              "        vertical-align: top;\n",
              "    }\n",
              "\n",
              "    .dataframe thead th {\n",
              "        text-align: right;\n",
              "    }\n",
              "</style>\n",
              "<table border=\"1\" class=\"dataframe\">\n",
              "  <thead>\n",
              "    <tr style=\"text-align: right;\">\n",
              "      <th></th>\n",
              "      <th>answer_id</th>\n",
              "      <th>is_correct</th>\n",
              "      <th>created_at</th>\n",
              "      <th>user_id</th>\n",
              "      <th>grade_id</th>\n",
              "      <th>grade_name</th>\n",
              "      <th>school_id</th>\n",
              "      <th>school_name</th>\n",
              "      <th>user_level</th>\n",
              "      <th>question_id</th>\n",
              "      <th>guide_id</th>\n",
              "      <th>template_id</th>\n",
              "      <th>student_answer</th>\n",
              "      <th>correct_option_matches</th>\n",
              "      <th>student_answer_matches</th>\n",
              "      <th>student_answer_letter</th>\n",
              "    </tr>\n",
              "  </thead>\n",
              "  <tbody>\n",
              "    <tr>\n",
              "      <th>0</th>\n",
              "      <td>1360283</td>\n",
              "      <td>True</td>\n",
              "      <td>2022-05-01 20:54:38.343078</td>\n",
              "      <td>16464</td>\n",
              "      <td>1866.0</td>\n",
              "      <td>I°A 2022</td>\n",
              "      <td>91.0</td>\n",
              "      <td>Colegio Manuel José Irarrázaval</td>\n",
              "      <td>-2.198802</td>\n",
              "      <td>27281</td>\n",
              "      <td>377707</td>\n",
              "      <td>595</td>\n",
              "      <td>8</td>\n",
              "      <td>True</td>\n",
              "      <td>True</td>\n",
              "      <td>e</td>\n",
              "    </tr>\n",
              "    <tr>\n",
              "      <th>1</th>\n",
              "      <td>1597208</td>\n",
              "      <td>True</td>\n",
              "      <td>2023-08-06 22:54:49.689721</td>\n",
              "      <td>52991</td>\n",
              "      <td>2021.0</td>\n",
              "      <td>IV° Sección Única</td>\n",
              "      <td>227.0</td>\n",
              "      <td>San Miguel Arcángel</td>\n",
              "      <td>-0.352279</td>\n",
              "      <td>17311</td>\n",
              "      <td>417138</td>\n",
              "      <td>8571</td>\n",
              "      <td>\\begin{Bmatrix}x + y = 1\\\\ x - y = 1\\end{Bmatrix}</td>\n",
              "      <td>False</td>\n",
              "      <td>False</td>\n",
              "      <td>NaN</td>\n",
              "    </tr>\n",
              "    <tr>\n",
              "      <th>2</th>\n",
              "      <td>1468607</td>\n",
              "      <td>False</td>\n",
              "      <td>2022-09-29 12:15:16.720465</td>\n",
              "      <td>52167</td>\n",
              "      <td>NaN</td>\n",
              "      <td>NaN</td>\n",
              "      <td>NaN</td>\n",
              "      <td>NaN</td>\n",
              "      <td>0.674369</td>\n",
              "      <td>25537</td>\n",
              "      <td>397405</td>\n",
              "      <td>2960</td>\n",
              "      <td>`-69` celsius</td>\n",
              "      <td>True</td>\n",
              "      <td>True</td>\n",
              "      <td>d</td>\n",
              "    </tr>\n",
              "    <tr>\n",
              "      <th>3</th>\n",
              "      <td>1333175</td>\n",
              "      <td>True</td>\n",
              "      <td>2022-03-31 02:29:40.801884</td>\n",
              "      <td>16395</td>\n",
              "      <td>1870.0</td>\n",
              "      <td>III°A 2022</td>\n",
              "      <td>91.0</td>\n",
              "      <td>Colegio Manuel José Irarrázaval</td>\n",
              "      <td>1.436341</td>\n",
              "      <td>26175</td>\n",
              "      <td>373644</td>\n",
              "      <td>202</td>\n",
              "      <td>`3^3`</td>\n",
              "      <td>True</td>\n",
              "      <td>True</td>\n",
              "      <td>e</td>\n",
              "    </tr>\n",
              "    <tr>\n",
              "      <th>4</th>\n",
              "      <td>1345804</td>\n",
              "      <td>True</td>\n",
              "      <td>2022-04-15 02:57:14.272675</td>\n",
              "      <td>50494</td>\n",
              "      <td>1895.0</td>\n",
              "      <td>IV° Medio 2022</td>\n",
              "      <td>227.0</td>\n",
              "      <td>San Miguel Arcángel</td>\n",
              "      <td>NaN</td>\n",
              "      <td>23834</td>\n",
              "      <td>376487</td>\n",
              "      <td>452</td>\n",
              "      <td>`36/6`</td>\n",
              "      <td>True</td>\n",
              "      <td>True</td>\n",
              "      <td>b</td>\n",
              "    </tr>\n",
              "  </tbody>\n",
              "</table>\n",
              "</div>"
            ],
            "text/plain": [
              "   answer_id  is_correct                  created_at  user_id  grade_id  \\\n",
              "0    1360283        True  2022-05-01 20:54:38.343078    16464    1866.0   \n",
              "1    1597208        True  2023-08-06 22:54:49.689721    52991    2021.0   \n",
              "2    1468607       False  2022-09-29 12:15:16.720465    52167       NaN   \n",
              "3    1333175        True  2022-03-31 02:29:40.801884    16395    1870.0   \n",
              "4    1345804        True  2022-04-15 02:57:14.272675    50494    1895.0   \n",
              "\n",
              "          grade_name  school_id                      school_name  user_level  \\\n",
              "0           I°A 2022       91.0  Colegio Manuel José Irarrázaval   -2.198802   \n",
              "1  IV° Sección Única      227.0              San Miguel Arcángel   -0.352279   \n",
              "2                NaN        NaN                              NaN    0.674369   \n",
              "3         III°A 2022       91.0  Colegio Manuel José Irarrázaval    1.436341   \n",
              "4     IV° Medio 2022      227.0              San Miguel Arcángel         NaN   \n",
              "\n",
              "   question_id  guide_id  template_id  \\\n",
              "0        27281    377707          595   \n",
              "1        17311    417138         8571   \n",
              "2        25537    397405         2960   \n",
              "3        26175    373644          202   \n",
              "4        23834    376487          452   \n",
              "\n",
              "                                      student_answer  correct_option_matches  \\\n",
              "0                                                  8                    True   \n",
              "1  \\begin{Bmatrix}x + y = 1\\\\ x - y = 1\\end{Bmatrix}                   False   \n",
              "2                                      `-69` celsius                    True   \n",
              "3                                              `3^3`                    True   \n",
              "4                                             `36/6`                    True   \n",
              "\n",
              "   student_answer_matches student_answer_letter  \n",
              "0                    True                     e  \n",
              "1                   False                   NaN  \n",
              "2                    True                     d  \n",
              "3                    True                     e  \n",
              "4                    True                     b  "
            ]
          },
          "execution_count": 4,
          "metadata": {},
          "output_type": "execute_result"
        }
      ],
      "source": [
        "# Load student answers (response data)\n",
        "student_answers_df = pd.read_csv(os.path.join(DATA_DIR, ANSWERS_FILE_PATH))\n",
        "\n",
        "# Load question content and metadata\n",
        "question_content_df = pd.read_csv(os.path.join(DATA_DIR, QUESTIONS_FILE_PATH))\n",
        "\n",
        "# Display dataset dimensions to verify loading\n",
        "print(f\"Student answers dataset: {student_answers_df.shape[0]} rows, {student_answers_df.shape[1]} columns\")\n",
        "print(f\"Question content dataset: {question_content_df.shape[0]} rows, {question_content_df.shape[1]} columns\")\n",
        "\n",
        "# Display the first few rows of each dataset\n",
        "print(\"\\nSample student answers:\")\n",
        "student_answers_df.head()\n"
      ]
    },
    {
      "cell_type": "code",
      "execution_count": 5,
      "metadata": {},
      "outputs": [
        {
          "name": "stdout",
          "output_type": "stream",
          "text": [
            "Original student answers shape: (269171, 16)\n",
            "Original unique questions: 9769\n",
            "Filtering questions with 0%/100% correctness or < 10 responses...\n",
            "Removed 20632 responses belonging to 5275 questions due to filtering criteria.\n",
            "Filtered student answers shape: (248539, 16)\n",
            "Remaining unique questions: 4494\n"
          ]
        }
      ],
      "source": [
        "# --- Filter Questions Based on Response Patterns ---\n",
        "print(f\"Original student answers shape: {student_answers_df.shape}\")\n",
        "initial_question_count = student_answers_df[QUESTION_ID_COL].nunique() # Get initial unique question count\n",
        "print(f\"Original unique questions: {initial_question_count}\")\n",
        "print(\"Filtering questions with 0%/100% correctness or < 10 responses...\")\n",
        "\n",
        "# Calculate stats per question (mean correctness and count)\n",
        "question_stats = student_answers_df.groupby(QUESTION_ID_COL)[CORRECTNESS_COL].agg(['mean', 'count'])\n",
        "\n",
        "# Identify questions to remove:\n",
        "# 1. Perfect scores (mean 0 or 1)\n",
        "# 2. Insufficient responses (count < 10)\n",
        "qids_to_remove = question_stats[\n",
        "    (question_stats['mean'] == 0) |\n",
        "    (question_stats['mean'] == 1) |\n",
        "    (question_stats['count'] < 10)\n",
        "].index\n",
        "\n",
        "# Filter the student_answers_df\n",
        "initial_responses = len(student_answers_df)\n",
        "final_question_count = initial_question_count # Default if nothing removed\n",
        "if not qids_to_remove.empty:\n",
        "    student_answers_df = student_answers_df[~student_answers_df[QUESTION_ID_COL].isin(qids_to_remove)]\n",
        "    removed_count = initial_responses - len(student_answers_df)\n",
        "    final_question_count = student_answers_df[QUESTION_ID_COL].nunique() # Get final unique question count\n",
        "    print(f\"Removed {removed_count} responses belonging to {len(qids_to_remove)} questions due to filtering criteria.\")\n",
        "    print(f\"Filtered student answers shape: {student_answers_df.shape}\")\n",
        "    print(f\"Remaining unique questions: {final_question_count}\")\n",
        "else:\n",
        "    print(\"No questions met the filtering criteria for removal.\")\n",
        "    print(f\"Remaining unique questions: {initial_question_count}\") # Same as initial\n",
        "\n",
        "\n",
        "# Optional: Check if the DataFrame is empty after filtering\n",
        "if student_answers_df.empty:\n",
        "    raise ValueError(\"Response DataFrame is empty after filtering questions. Cannot proceed.\")\n",
        "\n",
        "# --- End Filtering ---"
      ]
    },
    {
      "cell_type": "markdown",
      "metadata": {},
      "source": [
        "## 2. Calculate Question Difficulty Using Item Response Theory\n",
        "\n",
        "Item Response Theory (IRT) provides a framework for estimating latent traits like question difficulty and student ability based on observed response patterns. \n",
        "\n",
        "Here we use a 1-Parameter Logistic (1PL) model, also known as the Rasch model, which assumes:\n",
        "- Each question has a single difficulty parameter\n",
        "- All questions have equal discrimination\n",
        "- No guessing parameter is included\n",
        "\n",
        "The model estimates difficulty values where higher values indicate more difficult questions."
      ]
    },
    {
      "cell_type": "code",
      "execution_count": 6,
      "metadata": {},
      "outputs": [
        {
          "name": "stderr",
          "output_type": "stream",
          "text": [
            "Training IRT 2PL (PyTorch): 100%|██████████| 200/200 [00:02<00:00, 96.65it/s, loss=0.4388, bce=0.4388] \n"
          ]
        },
        {
          "name": "stdout",
          "output_type": "stream",
          "text": [
            "Question difficulty (2PL) summary statistics:\n",
            "count    4494.000000\n",
            "mean       -0.187943\n",
            "std         0.559933\n",
            "min        -1.417637\n",
            "25%        -0.629582\n",
            "50%        -0.245023\n",
            "75%         0.161471\n",
            "max         1.790942\n",
            "Name: difficulty, dtype: float64\n"
          ]
        }
      ],
      "source": [
        "# Estimate question difficulty using IRT 1PL (Rasch) model\n",
        "# This function fits a model to student response patterns and returns\n",
        "# a dataframe with question_id and corresponding difficulty parameters\n",
        "question_params_df = estimate_irt_2pl_params(\n",
        "    response_df = student_answers_df,\n",
        "    user_col = USER_ID_COL,\n",
        "    question_col = QUESTION_ID_COL,\n",
        "    correctness_col = CORRECTNESS_COL,\n",
        ")\n",
        "\n",
        "# Save the parameters (difficulty and discrimination)\n",
        "question_params_df.to_csv(os.path.join(current_run_dir, \"01_irt_2pl_params.csv\"), index=False) # New filename\n",
        "\n",
        "# Display summary statistics of estimated difficulties\n",
        "print(\"Question difficulty (2PL) summary statistics:\")\n",
        "print(question_params_df[IRT_DIFFICULTY_COL].describe()) # Still use difficulty column\n",
        "\n",
        "# Keep only difficulty for merging if needed, or adjust merge step\n",
        "question_difficulty_df = question_params_df[[QUESTION_ID_COL, IRT_DIFFICULTY_COL]].copy()\n"
      ]
    },
    {
      "cell_type": "markdown",
      "metadata": {},
      "source": [
        "## 3. Extract Question Features\n",
        "\n",
        "We engineer two types of features from the question content:\n",
        "\n",
        "1. **Text-based features**: Complexity metrics from the question text (word count, character count, etc.)\n",
        "2. **Option-based features**: Metrics related to multiple-choice options (option similarity, length, etc.)\n",
        "\n",
        "These features capture linguistic complexity and structural patterns that may correlate with question difficulty."
      ]
    },
    {
      "cell_type": "code",
      "execution_count": 7,
      "metadata": {},
      "outputs": [
        {
          "name": "stdout",
          "output_type": "stream",
          "text": [
            "Sample of extracted question features:\n"
          ]
        },
        {
          "data": {
            "text/html": [
              "<div>\n",
              "<style scoped>\n",
              "    .dataframe tbody tr th:only-of-type {\n",
              "        vertical-align: middle;\n",
              "    }\n",
              "\n",
              "    .dataframe tbody tr th {\n",
              "        vertical-align: top;\n",
              "    }\n",
              "\n",
              "    .dataframe thead th {\n",
              "        text-align: right;\n",
              "    }\n",
              "</style>\n",
              "<table border=\"1\" class=\"dataframe\">\n",
              "  <thead>\n",
              "    <tr style=\"text-align: right;\">\n",
              "      <th></th>\n",
              "      <th>question_id</th>\n",
              "      <th>question_word_count</th>\n",
              "      <th>question_avg_word_length</th>\n",
              "      <th>jaccard_similarity_std</th>\n",
              "      <th>avg_option_length</th>\n",
              "    </tr>\n",
              "  </thead>\n",
              "  <tbody>\n",
              "    <tr>\n",
              "      <th>0</th>\n",
              "      <td>28193</td>\n",
              "      <td>9.0</td>\n",
              "      <td>4.777778</td>\n",
              "      <td>5.551115e-17</td>\n",
              "      <td>6.0</td>\n",
              "    </tr>\n",
              "    <tr>\n",
              "      <th>1</th>\n",
              "      <td>21906</td>\n",
              "      <td>22.0</td>\n",
              "      <td>3.545455</td>\n",
              "      <td>5.551115e-17</td>\n",
              "      <td>11.0</td>\n",
              "    </tr>\n",
              "    <tr>\n",
              "      <th>2</th>\n",
              "      <td>15904</td>\n",
              "      <td>23.0</td>\n",
              "      <td>4.695652</td>\n",
              "      <td>5.551115e-17</td>\n",
              "      <td>6.2</td>\n",
              "    </tr>\n",
              "    <tr>\n",
              "      <th>3</th>\n",
              "      <td>16039</td>\n",
              "      <td>32.0</td>\n",
              "      <td>2.781250</td>\n",
              "      <td>1.401058e-01</td>\n",
              "      <td>21.4</td>\n",
              "    </tr>\n",
              "    <tr>\n",
              "      <th>4</th>\n",
              "      <td>16141</td>\n",
              "      <td>29.0</td>\n",
              "      <td>3.344828</td>\n",
              "      <td>1.959592e-01</td>\n",
              "      <td>21.2</td>\n",
              "    </tr>\n",
              "  </tbody>\n",
              "</table>\n",
              "</div>"
            ],
            "text/plain": [
              "   question_id  question_word_count  question_avg_word_length  \\\n",
              "0        28193                  9.0                  4.777778   \n",
              "1        21906                 22.0                  3.545455   \n",
              "2        15904                 23.0                  4.695652   \n",
              "3        16039                 32.0                  2.781250   \n",
              "4        16141                 29.0                  3.344828   \n",
              "\n",
              "   jaccard_similarity_std  avg_option_length  \n",
              "0            5.551115e-17                6.0  \n",
              "1            5.551115e-17               11.0  \n",
              "2            5.551115e-17                6.2  \n",
              "3            1.401058e-01               21.4  \n",
              "4            1.959592e-01               21.2  "
            ]
          },
          "execution_count": 7,
          "metadata": {},
          "output_type": "execute_result"
        }
      ],
      "source": [
        "# Extract text-based features from question titles\n",
        "# These include word count, character count, average word length, etc.\n",
        "text_features_df = question_content_df[QUESTION_TEXT_COL].apply(\n",
        "    lambda text: pd.Series(extract_text_features(text))\n",
        ").add_prefix(\"question_\")\n",
        "\n",
        "# Extract features related to multiple-choice options\n",
        "# These include similarity between options, average length, etc.\n",
        "option_features_list = question_content_df.apply(\n",
        "    lambda row: calculate_option_features(row, OPTION_COLS), \n",
        "    axis=1\n",
        ").tolist()\n",
        "option_features_df = pd.DataFrame(option_features_list, index=question_content_df.index)\n",
        "\n",
        "# Combine all features with the original question data\n",
        "questions_with_features_df = pd.concat(\n",
        "    [question_content_df, text_features_df, option_features_df], \n",
        "    axis=1\n",
        ")\n",
        "\n",
        "# Save the enhanced questions dataset\n",
        "questions_with_features_df.to_csv(\n",
        "    os.path.join(current_run_dir, \"02_question_features.csv\"), \n",
        "    index=False\n",
        ")\n",
        "\n",
        "# Display a sample of the extracted features\n",
        "print(\"Sample of extracted question features:\")\n",
        "questions_with_features_df[[QUESTION_ID_COL, 'question_word_count', 'question_avg_word_length', \n",
        "                             'jaccard_similarity_std', 'avg_option_length']].head()\n"
      ]
    },
    {
      "cell_type": "markdown",
      "metadata": {},
      "source": [
        "## 4. Generate Text Embeddings\n",
        "\n",
        "Text embeddings represent natural language in dense vector spaces, capturing semantic meaning and relationships. We generate embeddings for:\n",
        "\n",
        "1. The complete formatted question text (including options)\n",
        "2. Each individual multiple-choice option\n",
        "\n",
        "These embeddings will serve as inputs to our neural network model."
      ]
    },
    {
      "cell_type": "markdown",
      "metadata": {},
      "source": [
        "### 4.1 Format question text\n",
        "\n",
        "First, we format the question content into a unified text representation that combines the question prompt and options."
      ]
    },
    {
      "cell_type": "code",
      "execution_count": 8,
      "metadata": {},
      "outputs": [
        {
          "name": "stdout",
          "output_type": "stream",
          "text": [
            "Sample formatted question text:\n",
            "Question: Which of the following functions corresponds to `2^-x`?\n",
            "Wrong Answer: `p(x)`\n",
            "Wrong Answer: `n(x)`\n",
            "Wrong Answer: `h(x)`\n",
            "Correct Answer: `m(x)`\n",
            "Wrong Answer: `g(x)`\n"
          ]
        }
      ],
      "source": [
        "# Format each question into a standardized text representation\n",
        "# This combines the question title and all options into a single text string\n",
        "questions_with_features_df[FORMATTED_TEXT_COL] = questions_with_features_df.apply(\n",
        "    lambda row: format_question_text(\n",
        "        row,\n",
        "        title_col = QUESTION_TEXT_COL,\n",
        "        option_cols = OPTION_COLS,\n",
        "        correct_option_col = CORRECT_OPTION_COL,\n",
        "    ),\n",
        "    axis = 1,\n",
        ")\n",
        "\n",
        "# Display a sample of the formatted question text\n",
        "print(\"Sample formatted question text:\")\n",
        "print(questions_with_features_df[FORMATTED_TEXT_COL].iloc[0])"
      ]
    },
    {
      "cell_type": "markdown",
      "metadata": {},
      "source": [
        "### 4.2 Generate embeddings for questions and options\n",
        "\n",
        "Now we generate embeddings using a pretrained language model. This is a computationally intensive step that transforms text into numerical vectors."
      ]
    },
    {
      "cell_type": "code",
      "execution_count": 9,
      "metadata": {},
      "outputs": [
        {
          "name": "stdout",
          "output_type": "stream",
          "text": [
            "Generating embeddings for formatted question text...\n"
          ]
        },
        {
          "name": "stderr",
          "output_type": "stream",
          "text": [
            "Generating Embeddings: 100%|██████████| 147/147 [01:12<00:00,  2.03it/s]\n"
          ]
        },
        {
          "name": "stdout",
          "output_type": "stream",
          "text": [
            "Generating embeddings for option_a...\n"
          ]
        },
        {
          "name": "stderr",
          "output_type": "stream",
          "text": [
            "Generating Embeddings: 100%|██████████| 147/147 [00:11<00:00, 12.69it/s]\n"
          ]
        },
        {
          "name": "stdout",
          "output_type": "stream",
          "text": [
            "Generating embeddings for option_b...\n"
          ]
        },
        {
          "name": "stderr",
          "output_type": "stream",
          "text": [
            "Generating Embeddings: 100%|██████████| 147/147 [00:09<00:00, 16.01it/s]\n"
          ]
        },
        {
          "name": "stdout",
          "output_type": "stream",
          "text": [
            "Generating embeddings for option_c...\n"
          ]
        },
        {
          "name": "stderr",
          "output_type": "stream",
          "text": [
            "Generating Embeddings: 100%|██████████| 147/147 [00:08<00:00, 16.50it/s]\n"
          ]
        },
        {
          "name": "stdout",
          "output_type": "stream",
          "text": [
            "Generating embeddings for option_d...\n"
          ]
        },
        {
          "name": "stderr",
          "output_type": "stream",
          "text": [
            "Generating Embeddings: 100%|██████████| 147/147 [00:08<00:00, 16.63it/s]\n"
          ]
        },
        {
          "name": "stdout",
          "output_type": "stream",
          "text": [
            "Generating embeddings for option_e...\n"
          ]
        },
        {
          "name": "stderr",
          "output_type": "stream",
          "text": [
            "Generating Embeddings: 100%|██████████| 147/147 [00:09<00:00, 16.30it/s]\n"
          ]
        },
        {
          "name": "stdout",
          "output_type": "stream",
          "text": [
            "Embeddings saved to /Users/matias/Projects/capstone-new/results/20250429_122648/03_embeddings.pkl\n",
            "Embedding dimension: 768\n"
          ]
        }
      ],
      "source": [
        "# Initialize a structure to hold all embeddings\n",
        "question_embeddings = {\n",
        "    \"question_ids\": questions_with_features_df[QUESTION_ID_COL].tolist(),\n",
        "    \"formatted_embeddings\": {},           # Will hold embeddings for complete formatted questions\n",
        "    \"option_embeddings\": defaultdict(dict),  # Will hold embeddings for each option\n",
        "}\n",
        "\n",
        "# Generate embeddings for the formatted question text\n",
        "print(\"Generating embeddings for formatted question text...\")\n",
        "question_embeddings[\"formatted_embeddings\"] = generate_text_embeddings(\n",
        "    data_df = questions_with_features_df,\n",
        "    text_col = FORMATTED_TEXT_COL,\n",
        "    id_col = QUESTION_ID_COL,\n",
        "    model_name = EMBEDDING_MODEL,\n",
        "    batch_size = EMBEDDING_BATCH_SIZE,\n",
        ")\n",
        "\n",
        "# Generate embeddings for each multiple-choice option\n",
        "for option_col in OPTION_COLS:\n",
        "    print(f\"Generating embeddings for {option_col}...\")\n",
        "    question_embeddings[\"option_embeddings\"][option_col] = generate_text_embeddings(\n",
        "        data_df = questions_with_features_df,\n",
        "        text_col = option_col,\n",
        "        id_col = QUESTION_ID_COL,\n",
        "        model_name = EMBEDDING_MODEL,\n",
        "        batch_size = EMBEDDING_BATCH_SIZE,\n",
        "    )\n",
        "\n",
        "# Save the embeddings to a pickle file\n",
        "embedding_file_path = os.path.join(current_run_dir, \"03_embeddings.pkl\")\n",
        "with open(embedding_file_path, \"wb\") as f:\n",
        "    pickle.dump(question_embeddings, f)\n",
        "\n",
        "print(f\"Embeddings saved to {embedding_file_path}\")\n",
        "\n",
        "# Display embedding dimension to verify\n",
        "embedding_dimension = next(iter(question_embeddings[\"formatted_embeddings\"].values())).shape[0]\n",
        "print(f\"Embedding dimension: {embedding_dimension}\")\n"
      ]
    },
    {
      "cell_type": "markdown",
      "metadata": {},
      "source": [
        "## 5. Split Data into Train/Validation/Test Sets\n",
        "\n",
        "To ensure robust model evaluation, we divide our data into three sets:\n",
        "\n",
        "1. **Training set**: Used to train the model\n",
        "2. **Validation set**: Used for hyperparameter tuning and early stopping\n",
        "3. **Test set**: Used for final evaluation (hold-out data)\n",
        "\n",
        "We use stratified sampling to maintain similar distributions of correctness and difficulty across all sets."
      ]
    },
    {
      "cell_type": "code",
      "execution_count": 10,
      "metadata": {},
      "outputs": [
        {
          "name": "stdout",
          "output_type": "stream",
          "text": [
            "Complete merged dataset: 247822 rows, 78 columns\n"
          ]
        }
      ],
      "source": [
        "# Merge all the necessary data for splitting\n",
        "# This includes student responses, question features, and difficulty estimates\n",
        "complete_dataset_df = student_answers_df.merge(\n",
        "    questions_with_features_df, \n",
        "    on=QUESTION_ID_COL\n",
        ").merge(\n",
        "    question_difficulty_df[[QUESTION_ID_COL, IRT_DIFFICULTY_COL]], \n",
        "    on=QUESTION_ID_COL\n",
        ")\n",
        "\n",
        "print(f\"Complete merged dataset: {complete_dataset_df.shape[0]} rows, {complete_dataset_df.shape[1]} columns\")\n"
      ]
    },
    {
      "cell_type": "code",
      "execution_count": 11,
      "metadata": {},
      "outputs": [
        {
          "name": "stdout",
          "output_type": "stream",
          "text": [
            "Training set: 3137 questions\n",
            "Validation set: 897 questions\n",
            "Test set: 449 questions\n"
          ]
        }
      ],
      "source": [
        "# Perform stratified 3-way split of questions\n",
        "# We stratify by correctness and difficulty to ensure balanced distributions\n",
        "train_question_ids, validation_question_ids, test_question_ids = stratified_question_split_3way(\n",
        "    df = complete_dataset_df,\n",
        "    question_col = QUESTION_ID_COL,\n",
        "    stratify_cols = [CORRECTNESS_COL, IRT_DIFFICULTY_COL],  # Stratify by both correctness and difficulty\n",
        "    test_size = TEST_SPLIT_SIZE,\n",
        "    val_size = VALIDATION_SPLIT_SIZE,\n",
        "    random_state = RANDOM_SEED,\n",
        "    n_bins = 3,\n",
        ")\n",
        "\n",
        "# Save the test set question IDs for later evaluation\n",
        "pd.DataFrame({QUESTION_ID_COL: test_question_ids}).to_csv(\n",
        "    os.path.join(current_run_dir, \"holdout_ids.csv\"), \n",
        "    index=False\n",
        ")\n",
        "\n",
        "# Print split sizes\n",
        "print(f\"Training set: {len(train_question_ids)} questions\")\n",
        "print(f\"Validation set: {len(validation_question_ids)} questions\")\n",
        "print(f\"Test set: {len(test_question_ids)} questions\")"
      ]
    },
    {
      "cell_type": "markdown",
      "metadata": {},
      "source": [
        "## 6. Prepare Neural Network Datasets\n",
        "\n",
        "Now we transform our data into the format required for neural network training. This involves:\n",
        "\n",
        "1. Scaling numerical features to zero mean and unit variance\n",
        "2. Encoding categorical features (like user IDs)\n",
        "3. Looking up embeddings for questions\n",
        "4. Packaging everything into NumPy arrays for TensorFlow/Keras\n",
        "\n",
        "The resulting datasets will have multiple input components (numerical features, user IDs, and text embeddings)."
      ]
    },
    {
      "cell_type": "code",
      "execution_count": 12,
      "metadata": {},
      "outputs": [
        {
          "name": "stdout",
          "output_type": "stream",
          "text": [
            "Training data shapes:\n",
            "  user_input: (172640,)\n",
            "  numerical_input: (172640, 15)\n",
            "  embedding_input: (172640, 768)\n",
            "Training labels: (172640,)\n",
            "\n",
            "Validation data shapes:\n",
            "  user_input: (49063,)\n",
            "  numerical_input: (49063, 15)\n",
            "  embedding_input: (49063, 768)\n",
            "Validation labels: (49063,)\n"
          ]
        }
      ],
      "source": [
        "# Get the embedding dimension from our precomputed embeddings\n",
        "embedding_dimension = next(iter(question_embeddings[\"formatted_embeddings\"].values())).shape[0]\n",
        "\n",
        "# Prepare datasets for neural network training\n",
        "# This function handles scaling, encoding, and packaging of all inputs\n",
        "train_dataset, train_labels, validation_dataset, validation_labels, feature_preprocessors = prepare_nn_datasets(\n",
        "    merged_df = complete_dataset_df,\n",
        "    combined_embeddings = question_embeddings,\n",
        "    train_q_ids = train_question_ids,\n",
        "    val_q_ids = validation_question_ids,\n",
        "    user_col = USER_ID_COL,\n",
        "    question_col = QUESTION_ID_COL,\n",
        "    correctness_col = CORRECTNESS_COL,\n",
        "    numerical_feature_cols = NUMERICAL_FEATURE_COLS,\n",
        "    embedding_dim = embedding_dimension,\n",
        ")\n",
        "\n",
        "# Save the preprocessors for later use with test data\n",
        "save_preprocessors(feature_preprocessors, current_run_dir)\n",
        "\n",
        "# Print dataset shapes to verify\n",
        "print(\"Training data shapes:\")\n",
        "for key, value in train_dataset.items():\n",
        "    print(f\"  {key}: {value.shape}\")\n",
        "print(f\"Training labels: {train_labels.shape}\")\n",
        "\n",
        "print(\"\\nValidation data shapes:\")\n",
        "for key, value in validation_dataset.items():\n",
        "    print(f\"  {key}: {value.shape}\")\n",
        "print(f\"Validation labels: {validation_labels.shape}\")"
      ]
    },
    {
      "cell_type": "markdown",
      "metadata": {},
      "source": [
        "## 7. Build and Train Neural Network Model\n",
        "\n",
        "Now we build and train a neural network model to predict student performance on questions. The model has multiple input pathways:\n",
        "\n",
        "1. **User pathway**: Captures student ability using embeddings\n",
        "2. **Numerical features pathway**: Processes extracted question features\n",
        "3. **Text embedding pathway**: Handles semantic meaning from question text\n",
        "\n",
        "These pathways are combined in a multi-layer perceptron (MLP) architecture to predict the probability of a correct answer."
      ]
    },
    {
      "cell_type": "code",
      "execution_count": 13,
      "metadata": {},
      "outputs": [
        {
          "data": {
            "text/html": [
              "<pre style=\"white-space:pre;overflow-x:auto;line-height:normal;font-family:Menlo,'DejaVu Sans Mono',consolas,'Courier New',monospace\"><span style=\"font-weight: bold\">Model: \"functional\"</span>\n",
              "</pre>\n"
            ],
            "text/plain": [
              "\u001b[1mModel: \"functional\"\u001b[0m\n"
            ]
          },
          "metadata": {},
          "output_type": "display_data"
        },
        {
          "data": {
            "text/html": [
              "<pre style=\"white-space:pre;overflow-x:auto;line-height:normal;font-family:Menlo,'DejaVu Sans Mono',consolas,'Courier New',monospace\">┏━━━━━━━━━━━━━━━━━━━━━┳━━━━━━━━━━━━━━━━━━━┳━━━━━━━━━━━━┳━━━━━━━━━━━━━━━━━━━┓\n",
              "┃<span style=\"font-weight: bold\"> Layer (type)        </span>┃<span style=\"font-weight: bold\"> Output Shape      </span>┃<span style=\"font-weight: bold\">    Param # </span>┃<span style=\"font-weight: bold\"> Connected to      </span>┃\n",
              "┡━━━━━━━━━━━━━━━━━━━━━╇━━━━━━━━━━━━━━━━━━━╇━━━━━━━━━━━━╇━━━━━━━━━━━━━━━━━━━┩\n",
              "│ user_input          │ (<span style=\"color: #00d7ff; text-decoration-color: #00d7ff\">None</span>, <span style=\"color: #00af00; text-decoration-color: #00af00\">1</span>)         │          <span style=\"color: #00af00; text-decoration-color: #00af00\">0</span> │ -                 │\n",
              "│ (<span style=\"color: #0087ff; text-decoration-color: #0087ff\">InputLayer</span>)        │                   │            │                   │\n",
              "├─────────────────────┼───────────────────┼────────────┼───────────────────┤\n",
              "│ embedding           │ (<span style=\"color: #00d7ff; text-decoration-color: #00d7ff\">None</span>, <span style=\"color: #00af00; text-decoration-color: #00af00\">1</span>, <span style=\"color: #00af00; text-decoration-color: #00af00\">8</span>)      │     <span style=\"color: #00af00; text-decoration-color: #00af00\">14,888</span> │ user_input[<span style=\"color: #00af00; text-decoration-color: #00af00\">0</span>][<span style=\"color: #00af00; text-decoration-color: #00af00\">0</span>]  │\n",
              "│ (<span style=\"color: #0087ff; text-decoration-color: #0087ff\">Embedding</span>)         │                   │            │                   │\n",
              "├─────────────────────┼───────────────────┼────────────┼───────────────────┤\n",
              "│ numerical_input     │ (<span style=\"color: #00d7ff; text-decoration-color: #00d7ff\">None</span>, <span style=\"color: #00af00; text-decoration-color: #00af00\">15</span>)        │          <span style=\"color: #00af00; text-decoration-color: #00af00\">0</span> │ -                 │\n",
              "│ (<span style=\"color: #0087ff; text-decoration-color: #0087ff\">InputLayer</span>)        │                   │            │                   │\n",
              "├─────────────────────┼───────────────────┼────────────┼───────────────────┤\n",
              "│ embedding_input     │ (<span style=\"color: #00d7ff; text-decoration-color: #00d7ff\">None</span>, <span style=\"color: #00af00; text-decoration-color: #00af00\">768</span>)       │          <span style=\"color: #00af00; text-decoration-color: #00af00\">0</span> │ -                 │\n",
              "│ (<span style=\"color: #0087ff; text-decoration-color: #0087ff\">InputLayer</span>)        │                   │            │                   │\n",
              "├─────────────────────┼───────────────────┼────────────┼───────────────────┤\n",
              "│ flatten (<span style=\"color: #0087ff; text-decoration-color: #0087ff\">Flatten</span>)   │ (<span style=\"color: #00d7ff; text-decoration-color: #00d7ff\">None</span>, <span style=\"color: #00af00; text-decoration-color: #00af00\">8</span>)         │          <span style=\"color: #00af00; text-decoration-color: #00af00\">0</span> │ embedding[<span style=\"color: #00af00; text-decoration-color: #00af00\">0</span>][<span style=\"color: #00af00; text-decoration-color: #00af00\">0</span>]   │\n",
              "├─────────────────────┼───────────────────┼────────────┼───────────────────┤\n",
              "│ dense (<span style=\"color: #0087ff; text-decoration-color: #0087ff\">Dense</span>)       │ (<span style=\"color: #00d7ff; text-decoration-color: #00d7ff\">None</span>, <span style=\"color: #00af00; text-decoration-color: #00af00\">32</span>)        │        <span style=\"color: #00af00; text-decoration-color: #00af00\">512</span> │ numerical_input[<span style=\"color: #00af00; text-decoration-color: #00af00\">…</span> │\n",
              "├─────────────────────┼───────────────────┼────────────┼───────────────────┤\n",
              "│ dense_1 (<span style=\"color: #0087ff; text-decoration-color: #0087ff\">Dense</span>)     │ (<span style=\"color: #00d7ff; text-decoration-color: #00d7ff\">None</span>, <span style=\"color: #00af00; text-decoration-color: #00af00\">32</span>)        │     <span style=\"color: #00af00; text-decoration-color: #00af00\">24,608</span> │ embedding_input[<span style=\"color: #00af00; text-decoration-color: #00af00\">…</span> │\n",
              "├─────────────────────┼───────────────────┼────────────┼───────────────────┤\n",
              "│ concatenate         │ (<span style=\"color: #00d7ff; text-decoration-color: #00d7ff\">None</span>, <span style=\"color: #00af00; text-decoration-color: #00af00\">72</span>)        │          <span style=\"color: #00af00; text-decoration-color: #00af00\">0</span> │ flatten[<span style=\"color: #00af00; text-decoration-color: #00af00\">0</span>][<span style=\"color: #00af00; text-decoration-color: #00af00\">0</span>],    │\n",
              "│ (<span style=\"color: #0087ff; text-decoration-color: #0087ff\">Concatenate</span>)       │                   │            │ dense[<span style=\"color: #00af00; text-decoration-color: #00af00\">0</span>][<span style=\"color: #00af00; text-decoration-color: #00af00\">0</span>],      │\n",
              "│                     │                   │            │ dense_1[<span style=\"color: #00af00; text-decoration-color: #00af00\">0</span>][<span style=\"color: #00af00; text-decoration-color: #00af00\">0</span>]     │\n",
              "├─────────────────────┼───────────────────┼────────────┼───────────────────┤\n",
              "│ dense_2 (<span style=\"color: #0087ff; text-decoration-color: #0087ff\">Dense</span>)     │ (<span style=\"color: #00d7ff; text-decoration-color: #00d7ff\">None</span>, <span style=\"color: #00af00; text-decoration-color: #00af00\">64</span>)        │      <span style=\"color: #00af00; text-decoration-color: #00af00\">4,672</span> │ concatenate[<span style=\"color: #00af00; text-decoration-color: #00af00\">0</span>][<span style=\"color: #00af00; text-decoration-color: #00af00\">0</span>] │\n",
              "├─────────────────────┼───────────────────┼────────────┼───────────────────┤\n",
              "│ dense_3 (<span style=\"color: #0087ff; text-decoration-color: #0087ff\">Dense</span>)     │ (<span style=\"color: #00d7ff; text-decoration-color: #00d7ff\">None</span>, <span style=\"color: #00af00; text-decoration-color: #00af00\">32</span>)        │      <span style=\"color: #00af00; text-decoration-color: #00af00\">2,080</span> │ dense_2[<span style=\"color: #00af00; text-decoration-color: #00af00\">0</span>][<span style=\"color: #00af00; text-decoration-color: #00af00\">0</span>]     │\n",
              "├─────────────────────┼───────────────────┼────────────┼───────────────────┤\n",
              "│ dense_4 (<span style=\"color: #0087ff; text-decoration-color: #0087ff\">Dense</span>)     │ (<span style=\"color: #00d7ff; text-decoration-color: #00d7ff\">None</span>, <span style=\"color: #00af00; text-decoration-color: #00af00\">1</span>)         │         <span style=\"color: #00af00; text-decoration-color: #00af00\">33</span> │ dense_3[<span style=\"color: #00af00; text-decoration-color: #00af00\">0</span>][<span style=\"color: #00af00; text-decoration-color: #00af00\">0</span>]     │\n",
              "└─────────────────────┴───────────────────┴────────────┴───────────────────┘\n",
              "</pre>\n"
            ],
            "text/plain": [
              "┏━━━━━━━━━━━━━━━━━━━━━┳━━━━━━━━━━━━━━━━━━━┳━━━━━━━━━━━━┳━━━━━━━━━━━━━━━━━━━┓\n",
              "┃\u001b[1m \u001b[0m\u001b[1mLayer (type)       \u001b[0m\u001b[1m \u001b[0m┃\u001b[1m \u001b[0m\u001b[1mOutput Shape     \u001b[0m\u001b[1m \u001b[0m┃\u001b[1m \u001b[0m\u001b[1m   Param #\u001b[0m\u001b[1m \u001b[0m┃\u001b[1m \u001b[0m\u001b[1mConnected to     \u001b[0m\u001b[1m \u001b[0m┃\n",
              "┡━━━━━━━━━━━━━━━━━━━━━╇━━━━━━━━━━━━━━━━━━━╇━━━━━━━━━━━━╇━━━━━━━━━━━━━━━━━━━┩\n",
              "│ user_input          │ (\u001b[38;5;45mNone\u001b[0m, \u001b[38;5;34m1\u001b[0m)         │          \u001b[38;5;34m0\u001b[0m │ -                 │\n",
              "│ (\u001b[38;5;33mInputLayer\u001b[0m)        │                   │            │                   │\n",
              "├─────────────────────┼───────────────────┼────────────┼───────────────────┤\n",
              "│ embedding           │ (\u001b[38;5;45mNone\u001b[0m, \u001b[38;5;34m1\u001b[0m, \u001b[38;5;34m8\u001b[0m)      │     \u001b[38;5;34m14,888\u001b[0m │ user_input[\u001b[38;5;34m0\u001b[0m][\u001b[38;5;34m0\u001b[0m]  │\n",
              "│ (\u001b[38;5;33mEmbedding\u001b[0m)         │                   │            │                   │\n",
              "├─────────────────────┼───────────────────┼────────────┼───────────────────┤\n",
              "│ numerical_input     │ (\u001b[38;5;45mNone\u001b[0m, \u001b[38;5;34m15\u001b[0m)        │          \u001b[38;5;34m0\u001b[0m │ -                 │\n",
              "│ (\u001b[38;5;33mInputLayer\u001b[0m)        │                   │            │                   │\n",
              "├─────────────────────┼───────────────────┼────────────┼───────────────────┤\n",
              "│ embedding_input     │ (\u001b[38;5;45mNone\u001b[0m, \u001b[38;5;34m768\u001b[0m)       │          \u001b[38;5;34m0\u001b[0m │ -                 │\n",
              "│ (\u001b[38;5;33mInputLayer\u001b[0m)        │                   │            │                   │\n",
              "├─────────────────────┼───────────────────┼────────────┼───────────────────┤\n",
              "│ flatten (\u001b[38;5;33mFlatten\u001b[0m)   │ (\u001b[38;5;45mNone\u001b[0m, \u001b[38;5;34m8\u001b[0m)         │          \u001b[38;5;34m0\u001b[0m │ embedding[\u001b[38;5;34m0\u001b[0m][\u001b[38;5;34m0\u001b[0m]   │\n",
              "├─────────────────────┼───────────────────┼────────────┼───────────────────┤\n",
              "│ dense (\u001b[38;5;33mDense\u001b[0m)       │ (\u001b[38;5;45mNone\u001b[0m, \u001b[38;5;34m32\u001b[0m)        │        \u001b[38;5;34m512\u001b[0m │ numerical_input[\u001b[38;5;34m…\u001b[0m │\n",
              "├─────────────────────┼───────────────────┼────────────┼───────────────────┤\n",
              "│ dense_1 (\u001b[38;5;33mDense\u001b[0m)     │ (\u001b[38;5;45mNone\u001b[0m, \u001b[38;5;34m32\u001b[0m)        │     \u001b[38;5;34m24,608\u001b[0m │ embedding_input[\u001b[38;5;34m…\u001b[0m │\n",
              "├─────────────────────┼───────────────────┼────────────┼───────────────────┤\n",
              "│ concatenate         │ (\u001b[38;5;45mNone\u001b[0m, \u001b[38;5;34m72\u001b[0m)        │          \u001b[38;5;34m0\u001b[0m │ flatten[\u001b[38;5;34m0\u001b[0m][\u001b[38;5;34m0\u001b[0m],    │\n",
              "│ (\u001b[38;5;33mConcatenate\u001b[0m)       │                   │            │ dense[\u001b[38;5;34m0\u001b[0m][\u001b[38;5;34m0\u001b[0m],      │\n",
              "│                     │                   │            │ dense_1[\u001b[38;5;34m0\u001b[0m][\u001b[38;5;34m0\u001b[0m]     │\n",
              "├─────────────────────┼───────────────────┼────────────┼───────────────────┤\n",
              "│ dense_2 (\u001b[38;5;33mDense\u001b[0m)     │ (\u001b[38;5;45mNone\u001b[0m, \u001b[38;5;34m64\u001b[0m)        │      \u001b[38;5;34m4,672\u001b[0m │ concatenate[\u001b[38;5;34m0\u001b[0m][\u001b[38;5;34m0\u001b[0m] │\n",
              "├─────────────────────┼───────────────────┼────────────┼───────────────────┤\n",
              "│ dense_3 (\u001b[38;5;33mDense\u001b[0m)     │ (\u001b[38;5;45mNone\u001b[0m, \u001b[38;5;34m32\u001b[0m)        │      \u001b[38;5;34m2,080\u001b[0m │ dense_2[\u001b[38;5;34m0\u001b[0m][\u001b[38;5;34m0\u001b[0m]     │\n",
              "├─────────────────────┼───────────────────┼────────────┼───────────────────┤\n",
              "│ dense_4 (\u001b[38;5;33mDense\u001b[0m)     │ (\u001b[38;5;45mNone\u001b[0m, \u001b[38;5;34m1\u001b[0m)         │         \u001b[38;5;34m33\u001b[0m │ dense_3[\u001b[38;5;34m0\u001b[0m][\u001b[38;5;34m0\u001b[0m]     │\n",
              "└─────────────────────┴───────────────────┴────────────┴───────────────────┘\n"
            ]
          },
          "metadata": {},
          "output_type": "display_data"
        },
        {
          "data": {
            "text/html": [
              "<pre style=\"white-space:pre;overflow-x:auto;line-height:normal;font-family:Menlo,'DejaVu Sans Mono',consolas,'Courier New',monospace\"><span style=\"font-weight: bold\"> Total params: </span><span style=\"color: #00af00; text-decoration-color: #00af00\">46,793</span> (182.79 KB)\n",
              "</pre>\n"
            ],
            "text/plain": [
              "\u001b[1m Total params: \u001b[0m\u001b[38;5;34m46,793\u001b[0m (182.79 KB)\n"
            ]
          },
          "metadata": {},
          "output_type": "display_data"
        },
        {
          "data": {
            "text/html": [
              "<pre style=\"white-space:pre;overflow-x:auto;line-height:normal;font-family:Menlo,'DejaVu Sans Mono',consolas,'Courier New',monospace\"><span style=\"font-weight: bold\"> Trainable params: </span><span style=\"color: #00af00; text-decoration-color: #00af00\">46,793</span> (182.79 KB)\n",
              "</pre>\n"
            ],
            "text/plain": [
              "\u001b[1m Trainable params: \u001b[0m\u001b[38;5;34m46,793\u001b[0m (182.79 KB)\n"
            ]
          },
          "metadata": {},
          "output_type": "display_data"
        },
        {
          "data": {
            "text/html": [
              "<pre style=\"white-space:pre;overflow-x:auto;line-height:normal;font-family:Menlo,'DejaVu Sans Mono',consolas,'Courier New',monospace\"><span style=\"font-weight: bold\"> Non-trainable params: </span><span style=\"color: #00af00; text-decoration-color: #00af00\">0</span> (0.00 B)\n",
              "</pre>\n"
            ],
            "text/plain": [
              "\u001b[1m Non-trainable params: \u001b[0m\u001b[38;5;34m0\u001b[0m (0.00 B)\n"
            ]
          },
          "metadata": {},
          "output_type": "display_data"
        },
        {
          "name": "stdout",
          "output_type": "stream",
          "text": [
            "Training neural network model...\n",
            "Epoch 1/50\n",
            "169/169 - 2s - 9ms/step - accuracy: 0.7384 - auc: 0.7422 - loss: 0.5270 - val_accuracy: 0.7715 - val_auc: 0.8037 - val_loss: 0.4797\n",
            "Epoch 2/50\n",
            "169/169 - 1s - 4ms/step - accuracy: 0.7787 - auc: 0.8159 - loss: 0.4674 - val_accuracy: 0.7774 - val_auc: 0.8114 - val_loss: 0.4729\n",
            "Epoch 3/50\n",
            "169/169 - 1s - 4ms/step - accuracy: 0.7821 - auc: 0.8206 - loss: 0.4623 - val_accuracy: 0.7778 - val_auc: 0.8129 - val_loss: 0.4714\n",
            "Epoch 4/50\n",
            "169/169 - 1s - 4ms/step - accuracy: 0.7830 - auc: 0.8223 - loss: 0.4605 - val_accuracy: 0.7769 - val_auc: 0.8138 - val_loss: 0.4722\n",
            "Epoch 5/50\n",
            "169/169 - 1s - 3ms/step - accuracy: 0.7838 - auc: 0.8239 - loss: 0.4587 - val_accuracy: 0.7774 - val_auc: 0.8141 - val_loss: 0.4700\n",
            "Epoch 6/50\n",
            "169/169 - 1s - 4ms/step - accuracy: 0.7841 - auc: 0.8249 - loss: 0.4578 - val_accuracy: 0.7782 - val_auc: 0.8137 - val_loss: 0.4700\n",
            "Epoch 7/50\n",
            "169/169 - 1s - 4ms/step - accuracy: 0.7849 - auc: 0.8257 - loss: 0.4568 - val_accuracy: 0.7783 - val_auc: 0.8133 - val_loss: 0.4706\n",
            "Epoch 8/50\n",
            "169/169 - 1s - 3ms/step - accuracy: 0.7847 - auc: 0.8266 - loss: 0.4559 - val_accuracy: 0.7783 - val_auc: 0.8138 - val_loss: 0.4703\n",
            "Epoch 9/50\n",
            "169/169 - 1s - 4ms/step - accuracy: 0.7854 - auc: 0.8270 - loss: 0.4554 - val_accuracy: 0.7771 - val_auc: 0.8145 - val_loss: 0.4701\n",
            "Epoch 10/50\n",
            "169/169 - 1s - 3ms/step - accuracy: 0.7853 - auc: 0.8275 - loss: 0.4549 - val_accuracy: 0.7781 - val_auc: 0.8141 - val_loss: 0.4700\n",
            "Epoch 11/50\n",
            "169/169 - 1s - 3ms/step - accuracy: 0.7854 - auc: 0.8282 - loss: 0.4541 - val_accuracy: 0.7788 - val_auc: 0.8143 - val_loss: 0.4697\n",
            "Epoch 12/50\n",
            "169/169 - 1s - 3ms/step - accuracy: 0.7862 - auc: 0.8288 - loss: 0.4534 - val_accuracy: 0.7781 - val_auc: 0.8145 - val_loss: 0.4697\n",
            "Epoch 13/50\n",
            "169/169 - 1s - 3ms/step - accuracy: 0.7858 - auc: 0.8297 - loss: 0.4525 - val_accuracy: 0.7794 - val_auc: 0.8139 - val_loss: 0.4703\n",
            "Epoch 14/50\n",
            "169/169 - 1s - 3ms/step - accuracy: 0.7865 - auc: 0.8310 - loss: 0.4510 - val_accuracy: 0.7780 - val_auc: 0.8146 - val_loss: 0.4701\n",
            "Epoch 15/50\n",
            "169/169 - 1s - 4ms/step - accuracy: 0.7869 - auc: 0.8319 - loss: 0.4500 - val_accuracy: 0.7790 - val_auc: 0.8142 - val_loss: 0.4710\n",
            "Epoch 16/50\n",
            "169/169 - 1s - 3ms/step - accuracy: 0.7875 - auc: 0.8336 - loss: 0.4481 - val_accuracy: 0.7785 - val_auc: 0.8153 - val_loss: 0.4717\n",
            "Epoch 17/50\n",
            "169/169 - 1s - 4ms/step - accuracy: 0.7882 - auc: 0.8353 - loss: 0.4461 - val_accuracy: 0.7790 - val_auc: 0.8152 - val_loss: 0.4700\n",
            "Epoch 18/50\n",
            "169/169 - 1s - 4ms/step - accuracy: 0.7893 - auc: 0.8373 - loss: 0.4439 - val_accuracy: 0.7792 - val_auc: 0.8149 - val_loss: 0.4714\n",
            "Epoch 19/50\n",
            "169/169 - 1s - 3ms/step - accuracy: 0.7901 - auc: 0.8394 - loss: 0.4414 - val_accuracy: 0.7802 - val_auc: 0.8155 - val_loss: 0.4724\n",
            "Epoch 20/50\n",
            "169/169 - 1s - 4ms/step - accuracy: 0.7907 - auc: 0.8412 - loss: 0.4394 - val_accuracy: 0.7810 - val_auc: 0.8145 - val_loss: 0.4718\n",
            "Epoch 21/50\n",
            "169/169 - 1s - 3ms/step - accuracy: 0.7922 - auc: 0.8433 - loss: 0.4369 - val_accuracy: 0.7818 - val_auc: 0.8145 - val_loss: 0.4718\n",
            "Epoch 22/50\n",
            "169/169 - 1s - 3ms/step - accuracy: 0.7931 - auc: 0.8453 - loss: 0.4346 - val_accuracy: 0.7801 - val_auc: 0.8145 - val_loss: 0.4744\n",
            "Epoch 23/50\n",
            "169/169 - 1s - 3ms/step - accuracy: 0.7941 - auc: 0.8469 - loss: 0.4327 - val_accuracy: 0.7806 - val_auc: 0.8134 - val_loss: 0.4749\n",
            "Epoch 24/50\n",
            "169/169 - 1s - 3ms/step - accuracy: 0.7953 - auc: 0.8481 - loss: 0.4312 - val_accuracy: 0.7814 - val_auc: 0.8141 - val_loss: 0.4766\n",
            "Epoch 25/50\n",
            "169/169 - 1s - 3ms/step - accuracy: 0.7955 - auc: 0.8499 - loss: 0.4291 - val_accuracy: 0.7790 - val_auc: 0.8123 - val_loss: 0.4774\n",
            "Epoch 26/50\n",
            "169/169 - 1s - 3ms/step - accuracy: 0.7964 - auc: 0.8511 - loss: 0.4275 - val_accuracy: 0.7800 - val_auc: 0.8113 - val_loss: 0.4767\n",
            "Epoch 27/50\n",
            "169/169 - 1s - 3ms/step - accuracy: 0.7975 - auc: 0.8525 - loss: 0.4259 - val_accuracy: 0.7798 - val_auc: 0.8115 - val_loss: 0.4803\n",
            "Epoch 28/50\n",
            "169/169 - 1s - 3ms/step - accuracy: 0.7978 - auc: 0.8533 - loss: 0.4249 - val_accuracy: 0.7788 - val_auc: 0.8111 - val_loss: 0.4792\n",
            "Epoch 29/50\n",
            "169/169 - 1s - 3ms/step - accuracy: 0.7990 - auc: 0.8548 - loss: 0.4230 - val_accuracy: 0.7797 - val_auc: 0.8111 - val_loss: 0.4826\n",
            "Model saved to /Users/matias/Projects/capstone-new/results/20250429_122648\n"
          ]
        },
        {
          "data": {
            "image/png": "[encoded data removed]",
            "text/plain": [
              "<Figure size 1200x400 with 2 Axes>"
            ]
          },
          "metadata": {},
          "output_type": "display_data"
        }
      ],
      "source": [
        "# Build the neural network model\n",
        "# This creates a multi-input architecture combining user info, numerical features, and text embeddings\n",
        "model = create_nn_model(\n",
        "    user_vocab_size = feature_preprocessors[\"user_vocab_size\"],  # Number of unique users\n",
        "    numerical_feature_size = train_dataset[\"numerical_input\"].shape[1],  # Number of numerical features\n",
        "    embedding_dim = embedding_dimension,  # Dimension of text embeddings\n",
        ")\n",
        "\n",
        "# Display model summary to understand architecture\n",
        "model.summary()\n",
        "\n",
        "# Train the model with early stopping on validation loss\n",
        "print(\"Training neural network model...\")\n",
        "training_history = train_nn_model(\n",
        "    model,\n",
        "    train_dataset, train_labels,\n",
        "    validation_dataset, validation_labels,\n",
        "    epochs = 50,  # Maximum number of training epochs\n",
        "    batch_size = 1024,  # Number of samples per gradient update\n",
        ")\n",
        "\n",
        "# Save the trained model\n",
        "save_nn_model(model, current_run_dir)\n",
        "print(f\"Model saved to {current_run_dir}\")\n",
        "\n",
        "# Plot training history to visualize learning progress\n",
        "import matplotlib.pyplot as plt\n",
        "\n",
        "plt.figure(figsize=(12, 4))\n",
        "plt.subplot(1, 2, 1)\n",
        "plt.plot(training_history.history['loss'], label='Training Loss')\n",
        "plt.plot(training_history.history['val_loss'], label='Validation Loss')\n",
        "plt.legend()\n",
        "plt.title('Loss Curves')\n",
        "\n",
        "plt.subplot(1, 2, 2)\n",
        "plt.plot(training_history.history['accuracy'], label='Training Accuracy')\n",
        "plt.plot(training_history.history['val_accuracy'], label='Validation Accuracy')\n",
        "plt.legend()\n",
        "plt.title('Accuracy Curves')\n",
        "plt.tight_layout()\n",
        "plt.show()"
      ]
    },
    {
      "cell_type": "markdown",
      "metadata": {},
      "source": [
        "## 8. Evaluate Model on Hold-out Test Data\n",
        "\n",
        "Now we evaluate our trained model on the hold-out test set. This gives us an unbiased estimate of model performance on new, unseen questions."
      ]
    },
    {
      "cell_type": "code",
      "execution_count": 14,
      "metadata": {},
      "outputs": [
        {
          "name": "stdout",
          "output_type": "stream",
          "text": [
            "Evaluating model on hold-out test data...\n",
            "Test set performance metrics:\n",
            "  accuracy: 0.7777\n",
            "  auc: 0.8159\n",
            "  precision: 0.8149\n",
            "  recall: 0.8849\n",
            "  f1: 0.8484\n"
          ]
        }
      ],
      "source": [
        "# Load the hold-out test question IDs\n",
        "holdout_question_ids = pd.read_csv(\n",
        "    os.path.join(current_run_dir, \"holdout_ids.csv\")\n",
        ")[QUESTION_ID_COL].tolist()\n",
        "\n",
        "# Prepare the test dataset using the same preprocessing transformations\n",
        "test_dataset, test_labels = make_dataset(\n",
        "    df = complete_dataset_df,\n",
        "    q_ids = holdout_question_ids,\n",
        "    preprocessors = feature_preprocessors,\n",
        "    combined_embeddings = question_embeddings,\n",
        "    user_col = USER_ID_COL,\n",
        "    question_col = QUESTION_ID_COL,\n",
        "    correctness_col = CORRECTNESS_COL,\n",
        ")\n",
        "\n",
        "# Evaluate the model on the test dataset\n",
        "print(\"Evaluating model on hold-out test data...\")\n",
        "test_metrics = evaluate_model(model, test_dataset, test_labels)\n",
        "\n",
        "# Save the metrics to a JSON file\n",
        "dump_json(test_metrics, os.path.join(current_run_dir, \"holdout_metrics.json\"))\n",
        "\n",
        "# Display the evaluation metrics\n",
        "print(\"Test set performance metrics:\")\n",
        "for metric, value in test_metrics.items():\n",
        "    print(f\"  {metric}: {value:.4f}\")\n"
      ]
    },
    {
      "cell_type": "markdown",
      "metadata": {},
      "source": [
        "## 9. Prediction-based IRT Analysis\n",
        "\n",
        "Finally, we use our trained model to estimate question difficulty parameters and compare them with the original IRT-based estimates. This analysis helps us understand if our neural model captures the same difficulty characteristics as traditional IRT.\n",
        "\n",
        "The process involves:\n",
        "1. Generating predictions for all user × question combinations in the test set\n",
        "2. Using these predictions to fit a new IRT model\n",
        "3. Comparing the resulting difficulty parameters with the original ones"
      ]
    },
    {
      "cell_type": "code",
      "execution_count": 15,
      "metadata": {},
      "outputs": [
        {
          "name": "stdout",
          "output_type": "stream",
          "text": [
            "Generating prediction probability matrix...\n"
          ]
        },
        {
          "name": "stderr",
          "output_type": "stream",
          "text": [
            "/opt/homebrew/anaconda3/lib/python3.12/site-packages/sklearn/utils/validation.py:2739: UserWarning: X does not have valid feature names, but StandardScaler was fitted with feature names\n",
            "  warnings.warn(\n"
          ]
        },
        {
          "name": "stdout",
          "output_type": "stream",
          "text": [
            "Saved prediction probability matrix to /Users/matias/Projects/capstone-new/results/20250429_122648/04_prediction_probabilities.csv\n",
            "Estimating difficulty parameters from model predictions (2PL)...\n",
            "Estimating 2PL parameters from binarized predictions...\n"
          ]
        },
        {
          "name": "stderr",
          "output_type": "stream",
          "text": [
            "Training IRT 2PL (PyTorch): 100%|██████████| 200/200 [00:01<00:00, 118.95it/s, loss=0.0782, bce=0.0782]\n"
          ]
        },
        {
          "name": "stdout",
          "output_type": "stream",
          "text": [
            "Saved predicted 2PL parameters to /Users/matias/Projects/capstone-new/results/20250429_122648/05_predicted_2pl_params.csv\n",
            "Correlation between original difficulty and predicted discrimination: 0.7614\n",
            "Correlation between predicted difficulty and predicted discrimination: 0.8339\n",
            "Difficulty comparison metrics:\n",
            "  pearson: 0.9791\n",
            "  spearman: 0.9902\n",
            "  n: 449.0000\n"
          ]
        },
        {
          "data": {
            "image/png": "[encoded data removed]",
            "text/plain": [
              "<Figure size 800x800 with 1 Axes>"
            ]
          },
          "metadata": {},
          "output_type": "display_data"
        }
      ],
      "source": [
        "# Generate a probability matrix of predictions\n",
        "# This contains predicted probabilities for every user × question combination\n",
        "print(\"Generating prediction probability matrix...\")\n",
        "probability_matrix = prediction_matrix(\n",
        "    data_df = complete_dataset_df,\n",
        "    q_ids = holdout_question_ids,\n",
        "    preprocessors = feature_preprocessors,\n",
        "    model = model,\n",
        "    combined_embeddings = question_embeddings,\n",
        "    user_col = USER_ID_COL,\n",
        "    question_col = QUESTION_ID_COL,\n",
        ")\n",
        "\n",
        "# Save the probability matrix\n",
        "probability_matrix_path = os.path.join(current_run_dir, \"04_prediction_probabilities.csv\")\n",
        "probability_matrix.to_csv(probability_matrix_path)\n",
        "print(f\"Saved prediction probability matrix to {probability_matrix_path}\")\n",
        "\n",
        "# Fit an IRT model (2PL) to the predicted probabilities to derive new difficulty estimates\n",
        "print(\"Estimating difficulty parameters from model predictions (2PL)...\")\n",
        "predicted_params_df = difficulty_from_predictions(probability_matrix) # Returns difficulty & discrimination\n",
        "\n",
        "# Save the predicted parameters (difficulty and discrimination)\n",
        "predicted_params_path = os.path.join(current_run_dir, \"05_predicted_2pl_params.csv\") # New filename\n",
        "predicted_params_df.to_csv(predicted_params_path, index=False)\n",
        "print(f\"Saved predicted 2PL parameters to {predicted_params_path}\")\n",
        "\n",
        "# Load the original difficulty estimates for comparison\n",
        "# Make sure this path points to the file saved in *this* run\n",
        "original_params_df = pd.read_csv(os.path.join(current_run_dir, \"01_irt_2pl_params.csv\")) # Load original 2PL params\n",
        "\n",
        "# Compare the original and predicted difficulty parameters\n",
        "# The compare_difficulty function now handles the _orig/_pred suffixes automatically\n",
        "difficulty_comparison_metrics = compare_difficulty(original_params_df, predicted_params_df)\n",
        "\n",
        "# Save the comparison metrics\n",
        "dump_json(difficulty_comparison_metrics, os.path.join(current_run_dir, \"prediction_irt_metrics.json\"))\n",
        "\n",
        "# Display the comparison metrics\n",
        "print(\"Difficulty comparison metrics:\")\n",
        "for metric, value in difficulty_comparison_metrics.items():\n",
        "    print(f\"  {metric}: {value:.4f}\")\n",
        "\n",
        "# Create a scatter plot comparing original and predicted difficulties\n",
        "# Make sure to merge based on the correct column names after suffixes\n",
        "comparison_df = original_params_df.merge(\n",
        "    predicted_params_df,\n",
        "    on=QUESTION_ID_COL,\n",
        "    suffixes=('_orig', '_pred') # compare_difficulty now handles this merge\n",
        ")\n",
        "\n",
        "plt.figure(figsize=(8, 8))\n",
        "plt.scatter(\n",
        "    comparison_df[f\"{IRT_DIFFICULTY_COL}_orig\"], # Use correct suffix _orig\n",
        "    comparison_df[f\"{IRT_DIFFICULTY_COL}_pred\"], # Use correct suffix _pred\n",
        "    alpha=0.6\n",
        ")\n",
        "plt.xlabel('Original IRT Difficulty (2PL)') # Updated label\n",
        "plt.ylabel('Predicted Difficulty (2PL)')  # Updated label\n",
        "plt.title('Comparison of Original vs. Predicted Question Difficulty (2PL)') # Updated title\n",
        "plt.grid(True, linestyle='--', alpha=0.7)\n",
        "\n",
        "# Add a diagonal line representing perfect correlation\n",
        "# Use correct suffixes _orig and _pred here too\n",
        "min_val = min(comparison_df[f\"{IRT_DIFFICULTY_COL}_orig\"].min(), \n",
        "              comparison_df[f\"{IRT_DIFFICULTY_COL}_pred\"].min())\n",
        "max_val = max(comparison_df[f\"{IRT_DIFFICULTY_COL}_orig\"].max(), \n",
        "              comparison_df[f\"{IRT_DIFFICULTY_COL}_pred\"].max())\n",
        "plt.plot([min_val, max_val], [min_val, max_val], 'r--')\n",
        "\n",
        "plt.tight_layout()\n",
        "plt.savefig(os.path.join(current_run_dir, \"difficulty_comparison_2pl.png\"), dpi=300) # New plot filename\n",
        "plt.show()\n"
      ]
    },
    {
      "cell_type": "markdown",
      "metadata": {},
      "source": [
        "## 10. Conclusion and Next Steps\n",
        "\n",
        "This notebook has implemented a complete pipeline for predicting question difficulty using both traditional IRT methods and neural networks. The key findings include:\n",
        "\n",
        "- The neural network achieved X% accuracy in predicting student correctness on hold-out questions\n",
        "- The correlation between IRT-based and neural network-predicted difficulty was Y\n",
        "- Feature Z showed the strongest relationship with question difficulty\n",
        "\n",
        "Potential next steps for improvement:\n",
        "\n",
        "1. **Hyperparameter optimization**: Systematically tune the neural network architecture\n",
        "2. **Feature engineering**: Develop more sophisticated linguistic features\n",
        "3. **Model comparison**: Compare with other algorithms (e.g., gradient boosting)\n",
        "4. **Alternative embeddings**: Experiment with domain-specific embeddings\n",
        "5. **2PL/3PL IRT models**: Incorporate discrimination and guessing parameters\n",
        "\n",
        "This pipeline provides a foundation for future work on automated difficulty prediction in educational assessment."
      ]
    }
  ],
  "metadata": {
    "kernelspec": {
      "display_name": "base",
      "language": "python",
      "name": "python3"
    },
    "language_info": {
      "codemirror_mode": {
        "name": "ipython",
        "version": 3
      },
      "file_extension": ".py",
      "mimetype": "text/x-python",
      "name": "python",
      "nbconvert_exporter": "python",
      "pygments_lexer": "ipython3",
      "version": "3.12.2"
    }
  },
  "nbformat": 4,
  "nbformat_minor": 2
}
