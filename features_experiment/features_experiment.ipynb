{
 "cells": [
  {
   "cell_type": "code",
   "execution_count": 2,
   "metadata": {},
   "outputs": [
    {
     "name": "stdout",
     "output_type": "stream",
     "text": [
      "[INFO] Environment variables loaded and libraries imported.\n"
     ]
    }
   ],
   "source": [
    "# 1) Imports and Environment Setup\n",
    "\n",
    "from dotenv import load_dotenv  # For loading environment variables from a .env file\n",
    "import os\n",
    "import pandas as pd\n",
    "import matplotlib.pyplot as plt\n",
    "\n",
    "# Load environment variables\n",
    "load_dotenv()\n",
    "\n",
    "print(\"[INFO] Environment variables loaded and libraries imported.\")"
   ]
  },
  {
   "cell_type": "code",
   "execution_count": 3,
   "metadata": {},
   "outputs": [],
   "source": [
    "questions = pd.read_csv(\"questions_with_distractors.csv\")\n",
    "questions_images = pd.read_csv(\"questions_with_images.csv\")"
   ]
  },
  {
   "cell_type": "code",
   "execution_count": 4,
   "metadata": {},
   "outputs": [
    {
     "name": "stdout",
     "output_type": "stream",
     "text": [
      "Total questions: 9769\n",
      "Questions with images: 1518\n",
      "\n",
      "Sample of questions with has_image column:\n",
      "   question_id  has_image\n",
      "0        28193      False\n",
      "1        21093      False\n",
      "2        21906      False\n",
      "3        15904      False\n",
      "4        16039       True\n"
     ]
    }
   ],
   "source": [
    "# Add a column to questions df indicating if the question has an image\n",
    "questions_images_list = questions_images['question_id'].tolist()\n",
    "questions['has_image'] = questions['question_id'].isin(questions_images_list)\n",
    "\n",
    "# Display the first few rows to verify\n",
    "print(f\"Total questions: {len(questions)}\")\n",
    "print(f\"Questions with images: {questions['has_image'].sum()}\")\n",
    "print(\"\\nSample of questions with has_image column:\")\n",
    "print(questions[['question_id', 'has_image']].head())\n"
   ]
  },
  {
   "cell_type": "code",
   "execution_count": 6,
   "metadata": {},
   "outputs": [
    {
     "name": "stdout",
     "output_type": "stream",
     "text": [
      "\n",
      "Sample of questions with total_count column:\n",
      "   question_id  count_a  count_b  count_c  count_d  count_e  total_count\n",
      "0        28193        0        2        3        5        0           10\n",
      "1        21093        0        0        0        0        3            3\n",
      "2        21906        2        9       12        5       31           59\n",
      "3        15904        6        0        4        3        0           13\n",
      "4        16039       12        9       12        5        0           38\n"
     ]
    }
   ],
   "source": [
    "# Add a total_count column that sums all the individual option counts\n",
    "questions['total_count'] = questions['count_a'] + questions['count_b'] + questions['count_c'] + questions['count_d'] + questions['count_e']\n",
    "\n",
    "# Display the first few rows to verify\n",
    "print(\"\\nSample of questions with total_count column:\")\n",
    "print(questions[['question_id', 'count_a', 'count_b', 'count_c', 'count_d', 'count_e', 'total_count']].head())\n"
   ]
  },
  {
   "cell_type": "code",
   "execution_count": 7,
   "metadata": {},
   "outputs": [
    {
     "name": "stdout",
     "output_type": "stream",
     "text": [
      "Original number of questions: 9769\n",
      "Number of questions with at least 10 responses: 4696\n",
      "Number of questions removed: 5073\n",
      "\n",
      "Sample of filtered questions:\n",
      "   question_id  total_count\n",
      "0        28193           10\n",
      "2        21906           59\n",
      "3        15904           13\n",
      "4        16039           38\n",
      "5        16141           28\n"
     ]
    }
   ],
   "source": [
    "# Filter out questions with less than 10 total responses\n",
    "filtered_questions = questions[questions['total_count'] >= 10]\n",
    "\n",
    "# Display information about the filtering\n",
    "print(f\"Original number of questions: {len(questions)}\")\n",
    "print(f\"Number of questions with at least 10 responses: {len(filtered_questions)}\")\n",
    "print(f\"Number of questions removed: {len(questions) - len(filtered_questions)}\")\n",
    "\n",
    "# Replace the original dataframe with the filtered one\n",
    "questions = filtered_questions\n",
    "\n",
    "# Display the first few rows to verify\n",
    "print(\"\\nSample of filtered questions:\")\n",
    "print(questions[['question_id', 'total_count']].head())\n"
   ]
  },
  {
   "cell_type": "code",
   "execution_count": 8,
   "metadata": {},
   "outputs": [],
   "source": [
    "questions.to_csv(\"questions_filtered.csv\", index=False)"
   ]
  }
 ],
 "metadata": {
  "kernelspec": {
   "display_name": "full",
   "language": "python",
   "name": "python3"
  },
  "language_info": {
   "codemirror_mode": {
    "name": "ipython",
    "version": 3
   },
   "file_extension": ".py",
   "mimetype": "text/x-python",
   "name": "python",
   "nbconvert_exporter": "python",
   "pygments_lexer": "ipython3",
   "version": "3.11.11"
  }
 },
 "nbformat": 4,
 "nbformat_minor": 2
}
