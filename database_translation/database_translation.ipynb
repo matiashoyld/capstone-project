{
 "cells": [
  {
   "cell_type": "code",
   "execution_count": 1,
   "metadata": {},
   "outputs": [],
   "source": [
    "import pandas as pd\n",
    "import os\n",
    "import json\n",
    "\n",
    "\n",
    "from dotenv import load_dotenv\n",
    "from openai import OpenAI\n",
    "\n",
    "load_dotenv()\n",
    "\n",
    "client = OpenAI(api_key=os.getenv(\"OPENAI_API_KEY\"))"
   ]
  },
  {
   "cell_type": "code",
   "execution_count": 2,
   "metadata": {},
   "outputs": [],
   "source": [
    "df = pd.read_csv('../data/new/master_with_options_without_skipped.csv')\n"
   ]
  },
  {
   "cell_type": "code",
   "execution_count": null,
   "metadata": {},
   "outputs": [],
   "source": [
    "df.head()"
   ]
  },
  {
   "cell_type": "code",
   "execution_count": 3,
   "metadata": {},
   "outputs": [],
   "source": [
    "unique_questions = df.drop_duplicates(subset=['question_id'])\n"
   ]
  },
  {
   "cell_type": "code",
   "execution_count": 4,
   "metadata": {},
   "outputs": [],
   "source": [
    "columns_to_keep = [\n",
    "    'question_id', 'options', 'question_title', 'correct_option', 'solution', 'hint',\n",
    "    'difficulty', 'topic_id', 'topic_name', 'subject_id', 'subject_name', 'axis_id',\n",
    "    'axis_name', 'guide_id', 'template_id', 'student_answer',\n",
    "    'option_a', 'option_b', 'option_c', 'option_d', 'option_e'\n",
    "]\n",
    "\n",
    "unique_questions = unique_questions[columns_to_keep]\n"
   ]
  },
  {
   "cell_type": "code",
   "execution_count": null,
   "metadata": {},
   "outputs": [],
   "source": [
    "# Create dataframes with unique topic, subject and axis data\n",
    "topics_df = unique_questions[['topic_id', 'topic_name']].drop_duplicates()\n",
    "subjects_df = unique_questions[['subject_id', 'subject_name']].drop_duplicates()\n",
    "axes_df = unique_questions[['axis_id', 'axis_name']].drop_duplicates()\n",
    "\n",
    "print(f\"Number of unique topics: {len(topics_df)}\")\n",
    "print(f\"Number of unique subjects: {len(subjects_df)}\")\n",
    "print(f\"Number of unique axes: {len(axes_df)}\")"
   ]
  },
  {
   "cell_type": "code",
   "execution_count": 6,
   "metadata": {},
   "outputs": [],
   "source": [
    "def translate_to_english(text: str, json_mode: bool = False) -> str:\n",
    "    \"\"\"\n",
    "    Translates Spanish text to English using GPT-4\n",
    "    \n",
    "    Args:\n",
    "        text (str): Text in Spanish to translate\n",
    "        json_mode (bool): Whether to force JSON response format\n",
    "        \n",
    "    Returns:\n",
    "        str: Translated text in English\n",
    "    \"\"\"\n",
    "    if json_mode:\n",
    "        prompt = f\"\"\"You will receive a JSON in Spanish. Translate only the text values to English, keeping all mathematical expressions, LaTeX code, symbols, numbers, and equations exactly as they are.\n",
    "\n",
    "        Your response must be only the translated JSON, with no additional text.\n",
    "\n",
    "        JSON to translate:\n",
    "        {text}\"\"\"\n",
    "    else:\n",
    "        prompt = f\"\"\"Translate the following Spanish text to English. Keep all mathematical expressions, LaTeX code, symbols, numbers, and equations exactly as they are. Only translate the words.\n",
    "\n",
    "        Your response should contain ONLY the translation, with no additional text or explanations.\n",
    "\n",
    "        Text to translate:\n",
    "        {text}\"\"\"\n",
    "\n",
    "    try:\n",
    "        completion_args = {\n",
    "            \"model\": \"gpt-4o-mini\",\n",
    "            \"messages\": [\n",
    "                {\"role\": \"user\", \"content\": prompt}\n",
    "            ],\n",
    "            \"temperature\": 0\n",
    "        }\n",
    "        \n",
    "        if json_mode:\n",
    "            completion_args[\"response_format\"] = {\"type\": \"json_object\"}\n",
    "            \n",
    "        response = client.chat.completions.create(**completion_args)\n",
    "        \n",
    "        return response.choices[0].message.content.strip()\n",
    "    except Exception as e:\n",
    "        print(f\"Error during translation: {e}\")\n",
    "        return text\n"
   ]
  },
  {
   "cell_type": "code",
   "execution_count": null,
   "metadata": {},
   "outputs": [],
   "source": [
    "# Add English translation columns to all dataframes\n",
    "axes_df['axis_name_en'] = axes_df['axis_name'].apply(translate_to_english)\n",
    "subjects_df['subject_name_en'] = subjects_df['subject_name'].apply(translate_to_english)\n",
    "topics_df['topic_name_en'] = topics_df['topic_name'].apply(translate_to_english)\n",
    "\n",
    "# Display the original and translated names\n",
    "print(\"\\nAxis name translations:\")\n",
    "for _, row in axes_df.iterrows():\n",
    "    print(f\"\\nSpanish: {row['axis_name']}\")\n",
    "    print(f\"English: {row['axis_name_en']}\")\n",
    "\n",
    "print(\"\\nSubject name translations:\")\n",
    "for _, row in subjects_df.iterrows():\n",
    "    print(f\"\\nSpanish: {row['subject_name']}\")\n",
    "    print(f\"English: {row['subject_name_en']}\")\n",
    "\n",
    "print(\"\\nTopic name translations:\")\n",
    "for _, row in topics_df.iterrows():\n",
    "    print(f\"\\nSpanish: {row['topic_name']}\")\n",
    "    print(f\"English: {row['topic_name_en']}\")\n",
    "\n",
    "\n",
    "# Save translated dataframes to CSV files\n",
    "print(\"\\nSaving translations to CSV files...\")\n",
    "\n",
    "axes_df.to_csv('axes_translations.csv', index=False)\n",
    "subjects_df.to_csv('subjects_translations.csv', index=False)\n",
    "topics_df.to_csv('topics_translations.csv', index=False)\n",
    "\n",
    "print(\"Translations saved successfully!\")\n"
   ]
  },
  {
   "cell_type": "code",
   "execution_count": null,
   "metadata": {},
   "outputs": [],
   "source": [
    "# Add English translation columns for questions and options\n",
    "print(\"\\nTranslating questions and options...\")\n",
    "\n",
    "# Initialize new columns if they don't exist\n",
    "if 'question_title_en' not in unique_questions.columns:\n",
    "    unique_questions['question_title_en'] = None\n",
    "    unique_questions['option_a_en'] = None \n",
    "    unique_questions['option_b_en'] = None\n",
    "    unique_questions['option_c_en'] = None\n",
    "    unique_questions['option_d_en'] = None\n",
    "    unique_questions['option_e_en'] = None\n",
    "\n",
    "# Check if there's an existing translation file\n",
    "translation_file = 'questions_translations.csv'\n",
    "\n",
    "if os.path.exists(translation_file):\n",
    "    print(\"Loading existing translations...\")\n",
    "    existing_translations = pd.read_csv(translation_file)\n",
    "    # Update the dataframe with existing translations\n",
    "    unique_questions.update(existing_translations)\n",
    "\n",
    "# Get all untranslated rows\n",
    "untranslated_mask = unique_questions['question_title_en'].isna()\n",
    "untranslated_indices = unique_questions[untranslated_mask].index\n",
    "total_untranslated = len(untranslated_indices)\n",
    "\n",
    "print(f\"Found {total_untranslated} questions that need translation\")\n",
    "\n",
    "# Translate each untranslated row\n",
    "for count, idx in enumerate(untranslated_indices):\n",
    "    print(f\"\\nProcessing question {count+1} of {total_untranslated} (ID: {idx})\")\n",
    "    row = unique_questions.loc[idx]\n",
    "    \n",
    "    # Build JSON with all question parts\n",
    "    question_json = {\n",
    "        \"title\": row['question_title'],\n",
    "        \"options\": {\n",
    "            \"a\": row['option_a'],\n",
    "            \"b\": row['option_b'],\n",
    "            \"c\": row['option_c'],\n",
    "            \"d\": row['option_d'],\n",
    "            \"e\": row['option_e']\n",
    "        }\n",
    "    }\n",
    "    \n",
    "    # Translate entire JSON\n",
    "    translated_json_str = translate_to_english(json.dumps(question_json), json_mode=True)\n",
    "    \n",
    "    try:\n",
    "        # Parse translated JSON\n",
    "        translated_json = json.loads(translated_json_str)\n",
    "        \n",
    "        # Extract translations back to dataframe\n",
    "        unique_questions.at[idx, 'question_title_en'] = translated_json['title']\n",
    "        unique_questions.at[idx, 'option_a_en'] = translated_json['options']['a']\n",
    "        unique_questions.at[idx, 'option_b_en'] = translated_json['options']['b']\n",
    "        unique_questions.at[idx, 'option_c_en'] = translated_json['options']['c']\n",
    "        unique_questions.at[idx, 'option_d_en'] = translated_json['options']['d']\n",
    "        unique_questions.at[idx, 'option_e_en'] = translated_json['options']['e']\n",
    "        \n",
    "        print(\"Translated question and all options\")\n",
    "    except json.JSONDecodeError as e:\n",
    "        print(f\"Error parsing translated JSON for question {idx}: {e}\")\n",
    "        continue\n",
    "\n",
    "    # Save progress every 50 questions\n",
    "    if (count + 1) % 50 == 0:\n",
    "        print(f\"\\nSaving progress after {count + 1} translations...\")\n",
    "        unique_questions.to_csv(translation_file, index=False)\n",
    "\n",
    "# Save final results\n",
    "unique_questions.to_csv(translation_file, index=False)\n",
    "print(\"\\nTranslation complete!\")\n",
    "\n",
    "# Display a few examples of translations\n",
    "print(\"\\nExample translations:\")\n",
    "sample_questions = unique_questions.sample(min(3, len(unique_questions)))\n",
    "for _, row in sample_questions.iterrows():\n",
    "    print(\"\\nQuestion:\")\n",
    "    print(f\"Spanish: {row['question_title']}\")\n",
    "    print(f\"English: {row['question_title_en']}\")\n",
    "    print(\"\\nOptions:\")\n",
    "    print(f\"A - Spanish: {row['option_a']}\")\n",
    "    print(f\"A - English: {row['option_a_en']}\")\n",
    "    print(f\"B - Spanish: {row['option_b']}\")\n",
    "    print(f\"B - English: {row['option_b_en']}\")\n",
    "    print(f\"C - Spanish: {row['option_c']}\")\n",
    "    print(f\"C - English: {row['option_c_en']}\")\n",
    "    print(f\"D - Spanish: {row['option_d']}\")\n",
    "    print(f\"D - English: {row['option_d_en']}\")\n",
    "    print(f\"E - Spanish: {row['option_e']}\")\n",
    "    print(f\"E - English: {row['option_e_en']}\")\n"
   ]
  },
  {
   "cell_type": "code",
   "execution_count": 3,
   "metadata": {},
   "outputs": [
    {
     "name": "stdout",
     "output_type": "stream",
     "text": [
      "Merged translations for axes, subjects and topics\n"
     ]
    }
   ],
   "source": [
    "# Read the translation files\n",
    "axes_translation = pd.read_csv('axes_translations.csv')\n",
    "subjects_translation = pd.read_csv('subjects_translations.csv') \n",
    "topics_translation = pd.read_csv('topics_translations.csv')\n",
    "\n",
    "# Since the translation files already have _en columns, we can merge directly\n",
    "df = df.merge(axes_translation[['axis_id', 'axis_name_en']], on='axis_id', how='left')\n",
    "df = df.merge(subjects_translation[['subject_id', 'subject_name_en']], on='subject_id', how='left')\n",
    "df = df.merge(topics_translation[['topic_id', 'topic_name_en']], on='topic_id', how='left')\n",
    "\n",
    "# Replace original name columns with English translations\n",
    "df['axis_name'] = df['axis_name_en']\n",
    "df['subject_name'] = df['subject_name_en']\n",
    "df['topic_name'] = df['topic_name_en']\n",
    "\n",
    "# Drop the English columns after replacing\n",
    "df = df.drop(['axis_name_en', 'subject_name_en', 'topic_name_en'], axis=1)\n",
    "\n",
    "print(\"Merged translations for axes, subjects and topics\")\n",
    "\n"
   ]
  },
  {
   "cell_type": "code",
   "execution_count": 4,
   "metadata": {},
   "outputs": [
    {
     "name": "stdout",
     "output_type": "stream",
     "text": [
      "Merged translations for questions and options\n"
     ]
    }
   ],
   "source": [
    "# Read the question translations\n",
    "question_translations = pd.read_csv('questions_translations.csv')\n",
    "\n",
    "# Replace Spanish columns with English translations\n",
    "df = df.merge(question_translations[['question_id', 'question_title_en', 'option_a_en', 'option_b_en', \n",
    "                                   'option_c_en', 'option_d_en', 'option_e_en']], \n",
    "              on='question_id', how='left')\n",
    "\n",
    "# Replace original columns with English translations\n",
    "df['question_title'] = df['question_title_en']\n",
    "df['option_a'] = df['option_a_en'] \n",
    "df['option_b'] = df['option_b_en']\n",
    "df['option_c'] = df['option_c_en']\n",
    "df['option_d'] = df['option_d_en']\n",
    "df['option_e'] = df['option_e_en']\n",
    "\n",
    "# Drop the English columns after replacing\n",
    "df = df.drop(['question_title_en', 'option_a_en', 'option_b_en', \n",
    "              'option_c_en', 'option_d_en', 'option_e_en'], axis=1)\n",
    "\n",
    "print(\"Merged translations for questions and options\")\n"
   ]
  },
  {
   "cell_type": "code",
   "execution_count": 5,
   "metadata": {},
   "outputs": [
    {
     "name": "stdout",
     "output_type": "stream",
     "text": [
      "\n",
      "Number of empty cells in each column:\n",
      "question_title: 128\n",
      "option_a: 128\n",
      "option_b: 128\n",
      "option_c: 128\n",
      "option_d: 244\n",
      "option_e: 137\n"
     ]
    }
   ],
   "source": [
    "# Check number of empty cells in question and option columns\n",
    "empty_counts = {\n",
    "    'question_title': df['question_title'].isna().sum(),\n",
    "    'option_a': df['option_a'].isna().sum(),\n",
    "    'option_b': df['option_b'].isna().sum(), \n",
    "    'option_c': df['option_c'].isna().sum(),\n",
    "    'option_d': df['option_d'].isna().sum(),\n",
    "    'option_e': df['option_e'].isna().sum()\n",
    "}\n",
    "\n",
    "print(\"\\nNumber of empty cells in each column:\")\n",
    "for col, count in empty_counts.items():\n",
    "    print(f\"{col}: {count}\")\n"
   ]
  },
  {
   "cell_type": "code",
   "execution_count": 7,
   "metadata": {},
   "outputs": [
    {
     "name": "stdout",
     "output_type": "stream",
     "text": [
      "Removed 0 rows with empty cells\n"
     ]
    }
   ],
   "source": [
    "# Remove rows with empty cells in question or option columns\n",
    "initial_rows = len(df)\n",
    "df = df.dropna(subset=['question_title', 'option_a', 'option_b', 'option_c', 'option_d', 'option_e'])\n",
    "\n",
    "print(f\"Removed {initial_rows - len(df)} rows with empty cells\")\n"
   ]
  },
  {
   "cell_type": "code",
   "execution_count": 8,
   "metadata": {},
   "outputs": [
    {
     "name": "stdout",
     "output_type": "stream",
     "text": [
      "Saved translated data to translated_data.csv\n"
     ]
    }
   ],
   "source": [
    "# Save the translated dataframe to CSV\n",
    "df.to_csv('../data/new/master_translated.csv', index=False)\n",
    "print(\"Saved translated data to translated_data.csv\")\n",
    "\n"
   ]
  },
  {
   "cell_type": "code",
   "execution_count": null,
   "metadata": {},
   "outputs": [],
   "source": [
    "# Check unique question IDs in both dataframes\n",
    "print(\"Question IDs in main df:\", df['question_id'].nunique())\n",
    "print(\"Question IDs in translations:\", question_translations['question_id'].nunique())\n",
    "\n",
    "# Check for any question IDs that don't have translations\n",
    "missing_translations = df[~df['question_id'].isin(question_translations['question_id'])]\n",
    "print(\"\\nNumber of questions without translations:\", len(missing_translations))"
   ]
  }
 ],
 "metadata": {
  "kernelspec": {
   "display_name": "base",
   "language": "python",
   "name": "python3"
  },
  "language_info": {
   "codemirror_mode": {
    "name": "ipython",
    "version": 3
   },
   "file_extension": ".py",
   "mimetype": "text/x-python",
   "name": "python",
   "nbconvert_exporter": "python",
   "pygments_lexer": "ipython3",
   "version": "3.12.2"
  }
 },
 "nbformat": 4,
 "nbformat_minor": 2
}
